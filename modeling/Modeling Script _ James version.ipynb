{
 "cells": [
  {
   "cell_type": "markdown",
   "metadata": {},
   "source": [
    "# Modeling: Predicting successful Kickstarter Campaigns "
   ]
  },
  {
   "cell_type": "markdown",
   "metadata": {},
   "source": [
    "## Import libraries"
   ]
  },
  {
   "cell_type": "code",
   "execution_count": 1,
   "metadata": {},
   "outputs": [
    {
     "name": "stderr",
     "output_type": "stream",
     "text": [
      "/anaconda3/lib/python3.7/site-packages/sklearn/ensemble/weight_boosting.py:29: DeprecationWarning: numpy.core.umath_tests is an internal NumPy module and should not be imported. It will be removed in a future NumPy release.\n",
      "  from numpy.core.umath_tests import inner1d\n"
     ]
    }
   ],
   "source": [
    "import pandas as pd\n",
    "import matplotlib.pyplot as plt\n",
    "import numpy as np\n",
    "import numpy as np\n",
    "from numpy import array\n",
    "from numpy import argmax\n",
    "import pandas as pd\n",
    "import os\n",
    "from datetime import datetime\n",
    "import time\n",
    "from sklearn import preprocessing\n",
    "from sklearn.ensemble import RandomForestClassifier\n",
    "from sklearn.metrics import accuracy_score\n",
    "from sklearn.metrics import confusion_matrix\n",
    "from sklearn.metrics import roc_auc_score\n",
    "from sklearn.metrics import classification_report\n",
    "from sklearn.neighbors import KNeighborsClassifier \n",
    "from sklearn.model_selection import train_test_split\n",
    "from sklearn import preprocessing\n",
    "from sklearn.preprocessing import OneHotEncoder, LabelEncoder\n",
    "from sklearn.model_selection import cross_val_score\n",
    "from sklearn.metrics import classification_report\n",
    "from sklearn import metrics"
   ]
  },
  {
   "cell_type": "code",
   "execution_count": 2,
   "metadata": {},
   "outputs": [],
   "source": [
    "ks = pd.read_csv(\"/Users/JamesW/Desktop/Github Repository/dataforgood/data/ks-projects-201801.csv\")"
   ]
  },
  {
   "cell_type": "markdown",
   "metadata": {},
   "source": [
    "## Create New Variables "
   ]
  },
  {
   "cell_type": "code",
   "execution_count": 3,
   "metadata": {},
   "outputs": [],
   "source": [
    "ks[\"success\"] = np.where(ks['state'] == 'successful', True, False)\n",
    "ks['launched'] = pd.to_datetime(ks['launched'])\n",
    "ks['deadline'] = pd.to_datetime(ks['deadline'])\n",
    "ks['campaign_length']= (ks.deadline -ks.launched).astype(str).str.slice(0,2).astype(int)\n",
    "ks['SeasonOfLaunch'] = pd.cut(\n",
    "    (ks.launched.dt.dayofyear + 11) % 366,\n",
    "    [0, 91, 183, 275, 366],\n",
    "    labels=['Winter', 'Spring', 'Summer', 'Fall']\n",
    ")\n",
    "ks['TimeOfDayOfLaunch'] = pd.cut(\n",
    "    (ks.launched.dt.hour),\n",
    "    [-1 ,5, 10, 17, 24],\n",
    "    labels=['Late Night','Morning', 'Afternoon', 'Evening']\n",
    ")\n",
    "ks['year'] = ks.launched.dt.year\n",
    "ks['hourofday'] = ks.launched.dt.hour\n",
    "ks['length_chars'] = ks.name.str.len()\n",
    "ks['word_count'] = ks['name'].str.split().str.len()\n",
    "ks['contains_!'] = pd.get_dummies(ks.name.str.contains('!'), drop_first=True)\n",
    "ks['contains_title'] = pd.get_dummies(ks.name.str.istitle(), drop_first=True)"
   ]
  },
  {
   "cell_type": "markdown",
   "metadata": {},
   "source": [
    "## Clean and subset data set for prediction "
   ]
  },
  {
   "cell_type": "code",
   "execution_count": 4,
   "metadata": {},
   "outputs": [],
   "source": [
    "ks = ks.reset_index(drop=True)\n",
    "ks.dropna(inplace = True) # REMOVE NAS\n",
    "features = ks.drop(['success'],axis=1) # remove prediction column\n",
    "# drop features we can not use in prediction \n",
    "features = features.drop(['pledged','ID','name','deadline','launched','backers',\n",
    "                          'usd pledged', 'usd_pledged_real','state'],axis=1)"
   ]
  },
  {
   "cell_type": "markdown",
   "metadata": {},
   "source": [
    "We must remove variables like pledged, state, and backers, as they would not be know until after the campaign has finished. "
   ]
  },
  {
   "cell_type": "code",
   "execution_count": 5,
   "metadata": {},
   "outputs": [
    {
     "data": {
      "text/html": [
       "<div>\n",
       "<style scoped>\n",
       "    .dataframe tbody tr th:only-of-type {\n",
       "        vertical-align: middle;\n",
       "    }\n",
       "\n",
       "    .dataframe tbody tr th {\n",
       "        vertical-align: top;\n",
       "    }\n",
       "\n",
       "    .dataframe thead th {\n",
       "        text-align: right;\n",
       "    }\n",
       "</style>\n",
       "<table border=\"1\" class=\"dataframe\">\n",
       "  <thead>\n",
       "    <tr style=\"text-align: right;\">\n",
       "      <th></th>\n",
       "      <th>category</th>\n",
       "      <th>main_category</th>\n",
       "      <th>currency</th>\n",
       "      <th>goal</th>\n",
       "      <th>country</th>\n",
       "      <th>usd_goal_real</th>\n",
       "      <th>campaign_length</th>\n",
       "      <th>SeasonOfLaunch</th>\n",
       "      <th>TimeOfDayOfLaunch</th>\n",
       "      <th>year</th>\n",
       "      <th>hourofday</th>\n",
       "      <th>length_chars</th>\n",
       "      <th>word_count</th>\n",
       "      <th>contains_!</th>\n",
       "      <th>contains_title</th>\n",
       "    </tr>\n",
       "  </thead>\n",
       "  <tbody>\n",
       "    <tr>\n",
       "      <th>0</th>\n",
       "      <td>Poetry</td>\n",
       "      <td>Publishing</td>\n",
       "      <td>GBP</td>\n",
       "      <td>1000.0</td>\n",
       "      <td>GB</td>\n",
       "      <td>1533.95</td>\n",
       "      <td>58</td>\n",
       "      <td>Summer</td>\n",
       "      <td>Afternoon</td>\n",
       "      <td>2015</td>\n",
       "      <td>12</td>\n",
       "      <td>31.0</td>\n",
       "      <td>6.0</td>\n",
       "      <td>0</td>\n",
       "      <td>0</td>\n",
       "    </tr>\n",
       "    <tr>\n",
       "      <th>1</th>\n",
       "      <td>Narrative Film</td>\n",
       "      <td>Film &amp; Video</td>\n",
       "      <td>USD</td>\n",
       "      <td>30000.0</td>\n",
       "      <td>US</td>\n",
       "      <td>30000.00</td>\n",
       "      <td>59</td>\n",
       "      <td>Summer</td>\n",
       "      <td>Late Night</td>\n",
       "      <td>2017</td>\n",
       "      <td>4</td>\n",
       "      <td>45.0</td>\n",
       "      <td>8.0</td>\n",
       "      <td>0</td>\n",
       "      <td>0</td>\n",
       "    </tr>\n",
       "    <tr>\n",
       "      <th>2</th>\n",
       "      <td>Narrative Film</td>\n",
       "      <td>Film &amp; Video</td>\n",
       "      <td>USD</td>\n",
       "      <td>45000.0</td>\n",
       "      <td>US</td>\n",
       "      <td>45000.00</td>\n",
       "      <td>44</td>\n",
       "      <td>Winter</td>\n",
       "      <td>Late Night</td>\n",
       "      <td>2013</td>\n",
       "      <td>0</td>\n",
       "      <td>14.0</td>\n",
       "      <td>3.0</td>\n",
       "      <td>0</td>\n",
       "      <td>0</td>\n",
       "    </tr>\n",
       "  </tbody>\n",
       "</table>\n",
       "</div>"
      ],
      "text/plain": [
       "         category main_category currency     goal country  usd_goal_real  \\\n",
       "0          Poetry    Publishing      GBP   1000.0      GB        1533.95   \n",
       "1  Narrative Film  Film & Video      USD  30000.0      US       30000.00   \n",
       "2  Narrative Film  Film & Video      USD  45000.0      US       45000.00   \n",
       "\n",
       "   campaign_length SeasonOfLaunch TimeOfDayOfLaunch  year  hourofday  \\\n",
       "0               58         Summer         Afternoon  2015         12   \n",
       "1               59         Summer        Late Night  2017          4   \n",
       "2               44         Winter        Late Night  2013          0   \n",
       "\n",
       "   length_chars  word_count  contains_!  contains_title  \n",
       "0          31.0         6.0           0               0  \n",
       "1          45.0         8.0           0               0  \n",
       "2          14.0         3.0           0               0  "
      ]
     },
     "execution_count": 5,
     "metadata": {},
     "output_type": "execute_result"
    }
   ],
   "source": [
    "features.head(3)"
   ]
  },
  {
   "cell_type": "markdown",
   "metadata": {},
   "source": [
    "## Encode Varaibles for prediction purposes "
   ]
  },
  {
   "cell_type": "code",
   "execution_count": 6,
   "metadata": {},
   "outputs": [
    {
     "data": {
      "text/html": [
       "<div>\n",
       "<style scoped>\n",
       "    .dataframe tbody tr th:only-of-type {\n",
       "        vertical-align: middle;\n",
       "    }\n",
       "\n",
       "    .dataframe tbody tr th {\n",
       "        vertical-align: top;\n",
       "    }\n",
       "\n",
       "    .dataframe thead th {\n",
       "        text-align: right;\n",
       "    }\n",
       "</style>\n",
       "<table border=\"1\" class=\"dataframe\">\n",
       "  <thead>\n",
       "    <tr style=\"text-align: right;\">\n",
       "      <th></th>\n",
       "      <th>category</th>\n",
       "      <th>main_category</th>\n",
       "      <th>currency</th>\n",
       "      <th>goal</th>\n",
       "      <th>country</th>\n",
       "      <th>usd_goal_real</th>\n",
       "      <th>campaign_length</th>\n",
       "      <th>SeasonOfLaunch</th>\n",
       "      <th>TimeOfDayOfLaunch</th>\n",
       "      <th>year</th>\n",
       "      <th>hourofday</th>\n",
       "      <th>length_chars</th>\n",
       "      <th>word_count</th>\n",
       "      <th>contains_!</th>\n",
       "      <th>contains_title</th>\n",
       "    </tr>\n",
       "  </thead>\n",
       "  <tbody>\n",
       "    <tr>\n",
       "      <th>0</th>\n",
       "      <td>108</td>\n",
       "      <td>12</td>\n",
       "      <td>5</td>\n",
       "      <td>1000.0</td>\n",
       "      <td>9</td>\n",
       "      <td>1533.95</td>\n",
       "      <td>58</td>\n",
       "      <td>2</td>\n",
       "      <td>0</td>\n",
       "      <td>2015</td>\n",
       "      <td>12</td>\n",
       "      <td>30</td>\n",
       "      <td>5</td>\n",
       "      <td>0</td>\n",
       "      <td>0</td>\n",
       "    </tr>\n",
       "    <tr>\n",
       "      <th>1</th>\n",
       "      <td>93</td>\n",
       "      <td>6</td>\n",
       "      <td>13</td>\n",
       "      <td>30000.0</td>\n",
       "      <td>21</td>\n",
       "      <td>30000.00</td>\n",
       "      <td>59</td>\n",
       "      <td>2</td>\n",
       "      <td>2</td>\n",
       "      <td>2017</td>\n",
       "      <td>4</td>\n",
       "      <td>44</td>\n",
       "      <td>7</td>\n",
       "      <td>0</td>\n",
       "      <td>0</td>\n",
       "    </tr>\n",
       "    <tr>\n",
       "      <th>2</th>\n",
       "      <td>93</td>\n",
       "      <td>6</td>\n",
       "      <td>13</td>\n",
       "      <td>45000.0</td>\n",
       "      <td>21</td>\n",
       "      <td>45000.00</td>\n",
       "      <td>44</td>\n",
       "      <td>3</td>\n",
       "      <td>2</td>\n",
       "      <td>2013</td>\n",
       "      <td>0</td>\n",
       "      <td>13</td>\n",
       "      <td>2</td>\n",
       "      <td>0</td>\n",
       "      <td>0</td>\n",
       "    </tr>\n",
       "  </tbody>\n",
       "</table>\n",
       "</div>"
      ],
      "text/plain": [
       "   category  main_category  currency     goal  country  usd_goal_real  \\\n",
       "0       108             12         5   1000.0        9        1533.95   \n",
       "1        93              6        13  30000.0       21       30000.00   \n",
       "2        93              6        13  45000.0       21       45000.00   \n",
       "\n",
       "   campaign_length  SeasonOfLaunch  TimeOfDayOfLaunch  year  hourofday  \\\n",
       "0               58               2                  0  2015         12   \n",
       "1               59               2                  2  2017          4   \n",
       "2               44               3                  2  2013          0   \n",
       "\n",
       "   length_chars  word_count  contains_!  contains_title  \n",
       "0            30           5           0               0  \n",
       "1            44           7           0               0  \n",
       "2            13           2           0               0  "
      ]
     },
     "execution_count": 6,
     "metadata": {},
     "output_type": "execute_result"
    }
   ],
   "source": [
    "label_encoder = LabelEncoder()\n",
    "features[\"main_category\"] = label_encoder.fit_transform(array(features[\"main_category\"]))\n",
    "features[\"category\"] = label_encoder.fit_transform(array(features[\"category\"]))\n",
    "features[\"currency\"] = label_encoder.fit_transform(array(features[\"currency\"]))\n",
    "features[\"country\"] = label_encoder.fit_transform(array(features[\"country\"]))\n",
    "features[\"SeasonOfLaunch\"] = label_encoder.fit_transform(array(features[\"SeasonOfLaunch\"]))\n",
    "features[\"TimeOfDayOfLaunch\"] = label_encoder.fit_transform(array(features[\"TimeOfDayOfLaunch\"]))\n",
    "features[\"length_chars\"] = label_encoder.fit_transform(array(features[\"length_chars\"]))\n",
    "features[\"contains_!\"] = label_encoder.fit_transform(array(features[\"contains_!\"]))\n",
    "features[\"contains_title\"] = label_encoder.fit_transform(array(features[\"contains_title\"]))\n",
    "features[\"word_count\"] = label_encoder.fit_transform(array(features[\"word_count\"]))\n",
    "# Saving feature names for later use\n",
    "feature_list = list(features.columns)\n",
    "features.head(3)"
   ]
  },
  {
   "cell_type": "markdown",
   "metadata": {},
   "source": [
    "## Split data into test and training sets \n",
    "###  70% training and 30% test"
   ]
  },
  {
   "cell_type": "code",
   "execution_count": 7,
   "metadata": {},
   "outputs": [],
   "source": [
    "X_train,X_test,Y_train,Y_test = train_test_split(features,ks.success, test_size=0.3, random_state = 22)"
   ]
  },
  {
   "cell_type": "markdown",
   "metadata": {},
   "source": [
    "## Build Random Forrest Classifier\n",
    "After multiple attempts with models, we decided upon using a Random Forrest to predict success. "
   ]
  },
  {
   "cell_type": "code",
   "execution_count": 8,
   "metadata": {},
   "outputs": [],
   "source": [
    "rf = RandomForestClassifier(n_estimators = 100)"
   ]
  },
  {
   "cell_type": "code",
   "execution_count": 9,
   "metadata": {},
   "outputs": [
    {
     "data": {
      "text/plain": [
       "RandomForestClassifier(bootstrap=True, class_weight=None, criterion='gini',\n",
       "            max_depth=None, max_features='auto', max_leaf_nodes=None,\n",
       "            min_impurity_decrease=0.0, min_impurity_split=None,\n",
       "            min_samples_leaf=1, min_samples_split=2,\n",
       "            min_weight_fraction_leaf=0.0, n_estimators=100, n_jobs=1,\n",
       "            oob_score=False, random_state=None, verbose=0,\n",
       "            warm_start=False)"
      ]
     },
     "execution_count": 9,
     "metadata": {},
     "output_type": "execute_result"
    }
   ],
   "source": [
    "rf.fit(X_train, Y_train)"
   ]
  },
  {
   "cell_type": "code",
   "execution_count": 10,
   "metadata": {},
   "outputs": [],
   "source": [
    "Y_pred=rf.predict(X_test)"
   ]
  },
  {
   "cell_type": "markdown",
   "metadata": {},
   "source": [
    "## Model Accuracy, how often is the classifier correct?"
   ]
  },
  {
   "cell_type": "code",
   "execution_count": 11,
   "metadata": {},
   "outputs": [
    {
     "name": "stdout",
     "output_type": "stream",
     "text": [
      "Accuracy: 0.6939898985400095\n"
     ]
    }
   ],
   "source": [
    "print(\"Accuracy:\",metrics.accuracy_score(Y_test, Y_pred))"
   ]
  },
  {
   "cell_type": "markdown",
   "metadata": {},
   "source": [
    "## Feature Importance\n",
    "Our models originally had a few more feature variables that did little to help with prediction. This final model demonstrates a middle ground where we used features that had at least a 1% importance value for prediction. \n"
   ]
  },
  {
   "cell_type": "code",
   "execution_count": 12,
   "metadata": {},
   "outputs": [
    {
     "data": {
      "text/plain": [
       "length_chars         0.124634\n",
       "usd_goal_real        0.120392\n",
       "category             0.114312\n",
       "goal                 0.104782\n",
       "campaign_length      0.092728\n",
       "hourofday            0.090886\n",
       "main_category        0.075141\n",
       "word_count           0.070560\n",
       "year                 0.065774\n",
       "SeasonOfLaunch       0.053699\n",
       "TimeOfDayOfLaunch    0.026425\n",
       "contains_title       0.021301\n",
       "country              0.014582\n",
       "currency             0.013415\n",
       "contains_!           0.011369\n",
       "dtype: float64"
      ]
     },
     "execution_count": 12,
     "metadata": {},
     "output_type": "execute_result"
    }
   ],
   "source": [
    "feature_imp = pd.Series(rf.feature_importances_,index=features.columns).sort_values(ascending=False)\n",
    "feature_imp"
   ]
  },
  {
   "cell_type": "code",
   "execution_count": 13,
   "metadata": {},
   "outputs": [
    {
     "name": "stderr",
     "output_type": "stream",
     "text": [
      "No handles with labels found to put in legend.\n"
     ]
    },
    {
     "data": {
      "image/png": "[encoded data removed]",
      "text/plain": [
       "<Figure size 432x288 with 1 Axes>"
      ]
     },
     "metadata": {
      "needs_background": "light"
     },
     "output_type": "display_data"
    }
   ],
   "source": [
    "import matplotlib.pyplot as plt\n",
    "import seaborn as sns\n",
    "%matplotlib inline\n",
    "sns.barplot(x=feature_imp, y=feature_imp.index)\n",
    "plt.xlabel('Feature Importance Score')\n",
    "plt.ylabel('Features')\n",
    "plt.title(\"Visualizing Important Features\")\n",
    "plt.legend()\n",
    "plt.show()"
   ]
  },
  {
   "cell_type": "markdown",
   "metadata": {},
   "source": [
    "## Cross Validation and Model Assessment "
   ]
  },
  {
   "cell_type": "code",
   "execution_count": 14,
   "metadata": {},
   "outputs": [
    {
     "name": "stdout",
     "output_type": "stream",
     "text": [
      "[0.69821758 0.69645386 0.69470871 0.69770176 0.69412079 0.69444148\n",
      " 0.69422769 0.69163549 0.69398717 0.69698022]\n",
      "\n",
      "Average: 0.6952474754905366\n"
     ]
    }
   ],
   "source": [
    "scores = cross_val_score(rf, features, ks.success, cv=10)\n",
    "print(scores)\n",
    "print()\n",
    "print('Average:', np.mean(scores))"
   ]
  },
  {
   "cell_type": "markdown",
   "metadata": {},
   "source": [
    "Average fold of 68% "
   ]
  },
  {
   "cell_type": "code",
   "execution_count": 15,
   "metadata": {},
   "outputs": [
    {
     "name": "stdout",
     "output_type": "stream",
     "text": [
      "[[61682 10521]\n",
      " [23832 16226]]\n"
     ]
    }
   ],
   "source": [
    "print(confusion_matrix(Y_test, Y_pred))"
   ]
  },
  {
   "cell_type": "code",
   "execution_count": 16,
   "metadata": {},
   "outputs": [
    {
     "name": "stdout",
     "output_type": "stream",
     "text": [
      "             precision    recall  f1-score   support\n",
      "\n",
      "      False       0.72      0.85      0.78     72203\n",
      "       True       0.61      0.41      0.49     40058\n",
      "\n",
      "avg / total       0.68      0.69      0.68    112261\n",
      "\n"
     ]
    }
   ],
   "source": [
    "print(classification_report(Y_test, Y_pred))"
   ]
  },
  {
   "cell_type": "markdown",
   "metadata": {},
   "source": [
    "## Our model has a great rate of predicting failing kickstarters (85%), and a poor rate of predicting successful kickstarters (41%) \n",
    "### This means that it is easy to help kickstarters know whether or not they will fail at the start, but not if they will succeed in the long run. Its up to chance and a good product!  "
   ]
  },
  {
   "cell_type": "code",
   "execution_count": null,
   "metadata": {},
   "outputs": [],
   "source": []
  }
 ],
 "metadata": {
  "kernelspec": {
   "display_name": "Python 3",
   "language": "python",
   "name": "python3"
  },
  "language_info": {
   "codemirror_mode": {
    "name": "ipython",
    "version": 3
   },
   "file_extension": ".py",
   "mimetype": "text/x-python",
   "name": "python",
   "nbconvert_exporter": "python",
   "pygments_lexer": "ipython3",
   "version": "3.7.0"
  }
 },
 "nbformat": 4,
 "nbformat_minor": 2
}
