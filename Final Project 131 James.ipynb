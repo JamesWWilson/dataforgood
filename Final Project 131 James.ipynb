{
 "cells": [
  {
   "cell_type": "markdown",
   "metadata": {},
   "source": [
    "# 131 Final Project - Kickstarter Investigation "
   ]
  },
  {
   "cell_type": "markdown",
   "metadata": {},
   "source": [
    "## Set Up"
   ]
  },
  {
   "cell_type": "code",
   "execution_count": 1,
   "metadata": {},
   "outputs": [],
   "source": [
    "import pandas as pd\n",
    "import numpy as np\n",
    "import matplotlib.pyplot as plt\n",
    "import seaborn as sns\n",
    "import datetime as dt\n",
    "from collections import Counter"
   ]
  },
  {
   "cell_type": "markdown",
   "metadata": {},
   "source": [
    "## Read and Investigate the data"
   ]
  },
  {
   "cell_type": "code",
   "execution_count": 2,
   "metadata": {},
   "outputs": [
    {
     "data": {
      "text/html": [
       "<div>\n",
       "<style scoped>\n",
       "    .dataframe tbody tr th:only-of-type {\n",
       "        vertical-align: middle;\n",
       "    }\n",
       "\n",
       "    .dataframe tbody tr th {\n",
       "        vertical-align: top;\n",
       "    }\n",
       "\n",
       "    .dataframe thead th {\n",
       "        text-align: right;\n",
       "    }\n",
       "</style>\n",
       "<table border=\"1\" class=\"dataframe\">\n",
       "  <thead>\n",
       "    <tr style=\"text-align: right;\">\n",
       "      <th></th>\n",
       "      <th>ID</th>\n",
       "      <th>name</th>\n",
       "      <th>category</th>\n",
       "      <th>main_category</th>\n",
       "      <th>currency</th>\n",
       "      <th>deadline</th>\n",
       "      <th>goal</th>\n",
       "      <th>launched</th>\n",
       "      <th>pledged</th>\n",
       "      <th>state</th>\n",
       "      <th>backers</th>\n",
       "      <th>country</th>\n",
       "      <th>usd pledged</th>\n",
       "      <th>usd_pledged_real</th>\n",
       "      <th>usd_goal_real</th>\n",
       "    </tr>\n",
       "  </thead>\n",
       "  <tbody>\n",
       "    <tr>\n",
       "      <th>0</th>\n",
       "      <td>1000002330</td>\n",
       "      <td>The Songs of Adelaide &amp; Abullah</td>\n",
       "      <td>Poetry</td>\n",
       "      <td>Publishing</td>\n",
       "      <td>GBP</td>\n",
       "      <td>2015-10-09</td>\n",
       "      <td>1000.0</td>\n",
       "      <td>2015-08-11 12:12:28</td>\n",
       "      <td>0.0</td>\n",
       "      <td>failed</td>\n",
       "      <td>0</td>\n",
       "      <td>GB</td>\n",
       "      <td>0.0</td>\n",
       "      <td>0.0</td>\n",
       "      <td>1533.95</td>\n",
       "    </tr>\n",
       "    <tr>\n",
       "      <th>1</th>\n",
       "      <td>1000003930</td>\n",
       "      <td>Greeting From Earth: ZGAC Arts Capsule For ET</td>\n",
       "      <td>Narrative Film</td>\n",
       "      <td>Film &amp; Video</td>\n",
       "      <td>USD</td>\n",
       "      <td>2017-11-01</td>\n",
       "      <td>30000.0</td>\n",
       "      <td>2017-09-02 04:43:57</td>\n",
       "      <td>2421.0</td>\n",
       "      <td>failed</td>\n",
       "      <td>15</td>\n",
       "      <td>US</td>\n",
       "      <td>100.0</td>\n",
       "      <td>2421.0</td>\n",
       "      <td>30000.00</td>\n",
       "    </tr>\n",
       "    <tr>\n",
       "      <th>2</th>\n",
       "      <td>1000004038</td>\n",
       "      <td>Where is Hank?</td>\n",
       "      <td>Narrative Film</td>\n",
       "      <td>Film &amp; Video</td>\n",
       "      <td>USD</td>\n",
       "      <td>2013-02-26</td>\n",
       "      <td>45000.0</td>\n",
       "      <td>2013-01-12 00:20:50</td>\n",
       "      <td>220.0</td>\n",
       "      <td>failed</td>\n",
       "      <td>3</td>\n",
       "      <td>US</td>\n",
       "      <td>220.0</td>\n",
       "      <td>220.0</td>\n",
       "      <td>45000.00</td>\n",
       "    </tr>\n",
       "    <tr>\n",
       "      <th>3</th>\n",
       "      <td>1000007540</td>\n",
       "      <td>ToshiCapital Rekordz Needs Help to Complete Album</td>\n",
       "      <td>Music</td>\n",
       "      <td>Music</td>\n",
       "      <td>USD</td>\n",
       "      <td>2012-04-16</td>\n",
       "      <td>5000.0</td>\n",
       "      <td>2012-03-17 03:24:11</td>\n",
       "      <td>1.0</td>\n",
       "      <td>failed</td>\n",
       "      <td>1</td>\n",
       "      <td>US</td>\n",
       "      <td>1.0</td>\n",
       "      <td>1.0</td>\n",
       "      <td>5000.00</td>\n",
       "    </tr>\n",
       "    <tr>\n",
       "      <th>4</th>\n",
       "      <td>1000011046</td>\n",
       "      <td>Community Film Project: The Art of Neighborhoo...</td>\n",
       "      <td>Film &amp; Video</td>\n",
       "      <td>Film &amp; Video</td>\n",
       "      <td>USD</td>\n",
       "      <td>2015-08-29</td>\n",
       "      <td>19500.0</td>\n",
       "      <td>2015-07-04 08:35:03</td>\n",
       "      <td>1283.0</td>\n",
       "      <td>canceled</td>\n",
       "      <td>14</td>\n",
       "      <td>US</td>\n",
       "      <td>1283.0</td>\n",
       "      <td>1283.0</td>\n",
       "      <td>19500.00</td>\n",
       "    </tr>\n",
       "  </tbody>\n",
       "</table>\n",
       "</div>"
      ],
      "text/plain": [
       "           ID                                               name  \\\n",
       "0  1000002330                    The Songs of Adelaide & Abullah   \n",
       "1  1000003930      Greeting From Earth: ZGAC Arts Capsule For ET   \n",
       "2  1000004038                                     Where is Hank?   \n",
       "3  1000007540  ToshiCapital Rekordz Needs Help to Complete Album   \n",
       "4  1000011046  Community Film Project: The Art of Neighborhoo...   \n",
       "\n",
       "         category main_category currency    deadline     goal  \\\n",
       "0          Poetry    Publishing      GBP  2015-10-09   1000.0   \n",
       "1  Narrative Film  Film & Video      USD  2017-11-01  30000.0   \n",
       "2  Narrative Film  Film & Video      USD  2013-02-26  45000.0   \n",
       "3           Music         Music      USD  2012-04-16   5000.0   \n",
       "4    Film & Video  Film & Video      USD  2015-08-29  19500.0   \n",
       "\n",
       "              launched  pledged     state  backers country  usd pledged  \\\n",
       "0  2015-08-11 12:12:28      0.0    failed        0      GB          0.0   \n",
       "1  2017-09-02 04:43:57   2421.0    failed       15      US        100.0   \n",
       "2  2013-01-12 00:20:50    220.0    failed        3      US        220.0   \n",
       "3  2012-03-17 03:24:11      1.0    failed        1      US          1.0   \n",
       "4  2015-07-04 08:35:03   1283.0  canceled       14      US       1283.0   \n",
       "\n",
       "   usd_pledged_real  usd_goal_real  \n",
       "0               0.0        1533.95  \n",
       "1            2421.0       30000.00  \n",
       "2             220.0       45000.00  \n",
       "3               1.0        5000.00  \n",
       "4            1283.0       19500.00  "
      ]
     },
     "execution_count": 2,
     "metadata": {},
     "output_type": "execute_result"
    }
   ],
   "source": [
    "ks = pd.read_csv(\"kickstarter.csv\")\n",
    "ks.head()"
   ]
  },
  {
   "cell_type": "code",
   "execution_count": 3,
   "metadata": {},
   "outputs": [
    {
     "data": {
      "text/html": [
       "<div>\n",
       "<style scoped>\n",
       "    .dataframe tbody tr th:only-of-type {\n",
       "        vertical-align: middle;\n",
       "    }\n",
       "\n",
       "    .dataframe tbody tr th {\n",
       "        vertical-align: top;\n",
       "    }\n",
       "\n",
       "    .dataframe thead th {\n",
       "        text-align: right;\n",
       "    }\n",
       "</style>\n",
       "<table border=\"1\" class=\"dataframe\">\n",
       "  <thead>\n",
       "    <tr style=\"text-align: right;\">\n",
       "      <th></th>\n",
       "      <th>ID</th>\n",
       "      <th>goal</th>\n",
       "      <th>pledged</th>\n",
       "      <th>backers</th>\n",
       "      <th>usd pledged</th>\n",
       "      <th>usd_pledged_real</th>\n",
       "      <th>usd_goal_real</th>\n",
       "    </tr>\n",
       "  </thead>\n",
       "  <tbody>\n",
       "    <tr>\n",
       "      <th>count</th>\n",
       "      <td>3.786610e+05</td>\n",
       "      <td>3.786610e+05</td>\n",
       "      <td>3.786610e+05</td>\n",
       "      <td>378661.000000</td>\n",
       "      <td>3.748640e+05</td>\n",
       "      <td>3.786610e+05</td>\n",
       "      <td>3.786610e+05</td>\n",
       "    </tr>\n",
       "    <tr>\n",
       "      <th>mean</th>\n",
       "      <td>1.074731e+09</td>\n",
       "      <td>4.908079e+04</td>\n",
       "      <td>9.682979e+03</td>\n",
       "      <td>105.617476</td>\n",
       "      <td>7.036729e+03</td>\n",
       "      <td>9.058924e+03</td>\n",
       "      <td>4.545440e+04</td>\n",
       "    </tr>\n",
       "    <tr>\n",
       "      <th>std</th>\n",
       "      <td>6.190862e+08</td>\n",
       "      <td>1.183391e+06</td>\n",
       "      <td>9.563601e+04</td>\n",
       "      <td>907.185035</td>\n",
       "      <td>7.863975e+04</td>\n",
       "      <td>9.097334e+04</td>\n",
       "      <td>1.152950e+06</td>\n",
       "    </tr>\n",
       "    <tr>\n",
       "      <th>min</th>\n",
       "      <td>5.971000e+03</td>\n",
       "      <td>1.000000e-02</td>\n",
       "      <td>0.000000e+00</td>\n",
       "      <td>0.000000</td>\n",
       "      <td>0.000000e+00</td>\n",
       "      <td>0.000000e+00</td>\n",
       "      <td>1.000000e-02</td>\n",
       "    </tr>\n",
       "    <tr>\n",
       "      <th>25%</th>\n",
       "      <td>5.382635e+08</td>\n",
       "      <td>2.000000e+03</td>\n",
       "      <td>3.000000e+01</td>\n",
       "      <td>2.000000</td>\n",
       "      <td>1.698000e+01</td>\n",
       "      <td>3.100000e+01</td>\n",
       "      <td>2.000000e+03</td>\n",
       "    </tr>\n",
       "    <tr>\n",
       "      <th>50%</th>\n",
       "      <td>1.075276e+09</td>\n",
       "      <td>5.200000e+03</td>\n",
       "      <td>6.200000e+02</td>\n",
       "      <td>12.000000</td>\n",
       "      <td>3.947200e+02</td>\n",
       "      <td>6.243300e+02</td>\n",
       "      <td>5.500000e+03</td>\n",
       "    </tr>\n",
       "    <tr>\n",
       "      <th>75%</th>\n",
       "      <td>1.610149e+09</td>\n",
       "      <td>1.600000e+04</td>\n",
       "      <td>4.076000e+03</td>\n",
       "      <td>56.000000</td>\n",
       "      <td>3.034090e+03</td>\n",
       "      <td>4.050000e+03</td>\n",
       "      <td>1.550000e+04</td>\n",
       "    </tr>\n",
       "    <tr>\n",
       "      <th>max</th>\n",
       "      <td>2.147476e+09</td>\n",
       "      <td>1.000000e+08</td>\n",
       "      <td>2.033899e+07</td>\n",
       "      <td>219382.000000</td>\n",
       "      <td>2.033899e+07</td>\n",
       "      <td>2.033899e+07</td>\n",
       "      <td>1.663614e+08</td>\n",
       "    </tr>\n",
       "  </tbody>\n",
       "</table>\n",
       "</div>"
      ],
      "text/plain": [
       "                 ID          goal       pledged        backers   usd pledged  \\\n",
       "count  3.786610e+05  3.786610e+05  3.786610e+05  378661.000000  3.748640e+05   \n",
       "mean   1.074731e+09  4.908079e+04  9.682979e+03     105.617476  7.036729e+03   \n",
       "std    6.190862e+08  1.183391e+06  9.563601e+04     907.185035  7.863975e+04   \n",
       "min    5.971000e+03  1.000000e-02  0.000000e+00       0.000000  0.000000e+00   \n",
       "25%    5.382635e+08  2.000000e+03  3.000000e+01       2.000000  1.698000e+01   \n",
       "50%    1.075276e+09  5.200000e+03  6.200000e+02      12.000000  3.947200e+02   \n",
       "75%    1.610149e+09  1.600000e+04  4.076000e+03      56.000000  3.034090e+03   \n",
       "max    2.147476e+09  1.000000e+08  2.033899e+07  219382.000000  2.033899e+07   \n",
       "\n",
       "       usd_pledged_real  usd_goal_real  \n",
       "count      3.786610e+05   3.786610e+05  \n",
       "mean       9.058924e+03   4.545440e+04  \n",
       "std        9.097334e+04   1.152950e+06  \n",
       "min        0.000000e+00   1.000000e-02  \n",
       "25%        3.100000e+01   2.000000e+03  \n",
       "50%        6.243300e+02   5.500000e+03  \n",
       "75%        4.050000e+03   1.550000e+04  \n",
       "max        2.033899e+07   1.663614e+08  "
      ]
     },
     "execution_count": 3,
     "metadata": {},
     "output_type": "execute_result"
    }
   ],
   "source": [
    "ks.describe()"
   ]
  },
  {
   "cell_type": "code",
   "execution_count": 4,
   "metadata": {
    "scrolled": true
   },
   "outputs": [
    {
     "name": "stdout",
     "output_type": "stream",
     "text": [
      "<class 'pandas.core.frame.DataFrame'>\n",
      "RangeIndex: 378661 entries, 0 to 378660\n",
      "Data columns (total 15 columns):\n",
      "ID                  378661 non-null int64\n",
      "name                378657 non-null object\n",
      "category            378661 non-null object\n",
      "main_category       378661 non-null object\n",
      "currency            378661 non-null object\n",
      "deadline            378661 non-null object\n",
      "goal                378661 non-null float64\n",
      "launched            378661 non-null object\n",
      "pledged             378661 non-null float64\n",
      "state               378661 non-null object\n",
      "backers             378661 non-null int64\n",
      "country             378661 non-null object\n",
      "usd pledged         374864 non-null float64\n",
      "usd_pledged_real    378661 non-null float64\n",
      "usd_goal_real       378661 non-null float64\n",
      "dtypes: float64(5), int64(2), object(8)\n",
      "memory usage: 43.3+ MB\n"
     ]
    }
   ],
   "source": [
    "ks.info()\n",
    "\n",
    "# Predict: state \n",
    "\n",
    "# Prediction Variables: Name / Category / Main_category / Currency / \n",
    "#                       deadline / goal / launched / country \n",
    "\n",
    "# Variables to make: length_of_campaign / title_score / goal_amount_tier / launch_time_of_day /\n",
    "#                    launch_year / launch_month / launch_day \n",
    "\n",
    "# Descriptive Variables: pledged / backers / usd pledged / usd_pledged_real / usd_goal_real"
   ]
  },
  {
   "cell_type": "code",
   "execution_count": 5,
   "metadata": {},
   "outputs": [],
   "source": [
    "# Categoires and counts for them \n",
    "count_categories = ks.category.value_counts()\n",
    "#count_categories\n"
   ]
  },
  {
   "cell_type": "code",
   "execution_count": 6,
   "metadata": {},
   "outputs": [
    {
     "data": {
      "text/plain": [
       "159"
      ]
     },
     "execution_count": 6,
     "metadata": {},
     "output_type": "execute_result"
    }
   ],
   "source": [
    "ks.category.unique() \n",
    "ks.category.nunique() #159 unique "
   ]
  },
  {
   "cell_type": "code",
   "execution_count": 7,
   "metadata": {},
   "outputs": [
    {
     "data": {
      "text/plain": [
       "array(['Publishing', 'Film & Video', 'Music', 'Food', 'Design', 'Crafts',\n",
       "       'Games', 'Comics', 'Fashion', 'Theater', 'Art', 'Photography',\n",
       "       'Technology', 'Dance', 'Journalism'], dtype=object)"
      ]
     },
     "execution_count": 7,
     "metadata": {},
     "output_type": "execute_result"
    }
   ],
   "source": [
    "ks.main_category.unique()"
   ]
  },
  {
   "cell_type": "code",
   "execution_count": 8,
   "metadata": {},
   "outputs": [
    {
     "data": {
      "text/plain": [
       "15"
      ]
     },
     "execution_count": 8,
     "metadata": {},
     "output_type": "execute_result"
    }
   ],
   "source": [
    "ks.main_category.nunique()"
   ]
  },
  {
   "cell_type": "code",
   "execution_count": 9,
   "metadata": {},
   "outputs": [
    {
     "data": {
      "text/plain": [
       "Film & Video    63585\n",
       "Music           51918\n",
       "Publishing      39874\n",
       "Games           35231\n",
       "Technology      32569\n",
       "Design          30070\n",
       "Art             28153\n",
       "Food            24602\n",
       "Fashion         22816\n",
       "Theater         10913\n",
       "Comics          10819\n",
       "Photography     10779\n",
       "Crafts           8809\n",
       "Journalism       4755\n",
       "Dance            3768\n",
       "Name: main_category, dtype: int64"
      ]
     },
     "execution_count": 9,
     "metadata": {},
     "output_type": "execute_result"
    }
   ],
   "source": [
    "# main_category counts\n",
    "ks.main_category.value_counts()\n",
    "\n",
    "# what subcateogries there are ?? "
   ]
  },
  {
   "cell_type": "code",
   "execution_count": 10,
   "metadata": {},
   "outputs": [
    {
     "data": {
      "text/plain": [
       "USD    295365\n",
       "GBP     34132\n",
       "EUR     17405\n",
       "CAD     14962\n",
       "AUD      7950\n",
       "SEK      1788\n",
       "MXN      1752\n",
       "NZD      1475\n",
       "DKK      1129\n",
       "CHF       768\n",
       "NOK       722\n",
       "HKD       618\n",
       "SGD       555\n",
       "JPY        40\n",
       "Name: currency, dtype: int64"
      ]
     },
     "execution_count": 10,
     "metadata": {},
     "output_type": "execute_result"
    }
   ],
   "source": [
    "#currency\n",
    "count_currency = ks.currency.value_counts()\n",
    "count_currency"
   ]
  },
  {
   "cell_type": "code",
   "execution_count": 11,
   "metadata": {
    "scrolled": true
   },
   "outputs": [
    {
     "data": {
      "text/plain": [
       "US      292627\n",
       "GB       33672\n",
       "CA       14756\n",
       "AU        7839\n",
       "DE        4171\n",
       "N,0\"      3797\n",
       "FR        2939\n",
       "IT        2878\n",
       "NL        2868\n",
       "ES        2276\n",
       "SE        1757\n",
       "MX        1752\n",
       "NZ        1447\n",
       "DK        1113\n",
       "IE         811\n",
       "CH         761\n",
       "NO         708\n",
       "HK         618\n",
       "BE         617\n",
       "AT         597\n",
       "SG         555\n",
       "LU          62\n",
       "JP          40\n",
       "Name: country, dtype: int64"
      ]
     },
     "execution_count": 11,
     "metadata": {},
     "output_type": "execute_result"
    }
   ],
   "source": [
    "# Categoires and counts for them \n",
    "count_country = ks.country.value_counts()\n",
    "count_country\n",
    "\n",
    "# error in N,O'"
   ]
  },
  {
   "cell_type": "code",
   "execution_count": 12,
   "metadata": {},
   "outputs": [
    {
     "data": {
      "text/html": [
       "<div>\n",
       "<style scoped>\n",
       "    .dataframe tbody tr th:only-of-type {\n",
       "        vertical-align: middle;\n",
       "    }\n",
       "\n",
       "    .dataframe tbody tr th {\n",
       "        vertical-align: top;\n",
       "    }\n",
       "\n",
       "    .dataframe thead th {\n",
       "        text-align: right;\n",
       "    }\n",
       "</style>\n",
       "<table border=\"1\" class=\"dataframe\">\n",
       "  <thead>\n",
       "    <tr style=\"text-align: right;\">\n",
       "      <th></th>\n",
       "      <th>usd_goal_real</th>\n",
       "      <th>usd_pledged_real</th>\n",
       "      <th>backers</th>\n",
       "    </tr>\n",
       "    <tr>\n",
       "      <th>state</th>\n",
       "      <th></th>\n",
       "      <th></th>\n",
       "      <th></th>\n",
       "    </tr>\n",
       "  </thead>\n",
       "  <tbody>\n",
       "    <tr>\n",
       "      <th>canceled</th>\n",
       "      <td>10000.000</td>\n",
       "      <td>87.00</td>\n",
       "      <td>3</td>\n",
       "    </tr>\n",
       "    <tr>\n",
       "      <th>failed</th>\n",
       "      <td>7500.000</td>\n",
       "      <td>100.00</td>\n",
       "      <td>3</td>\n",
       "    </tr>\n",
       "    <tr>\n",
       "      <th>live</th>\n",
       "      <td>6547.090</td>\n",
       "      <td>259.16</td>\n",
       "      <td>5</td>\n",
       "    </tr>\n",
       "    <tr>\n",
       "      <th>successful</th>\n",
       "      <td>3837.740</td>\n",
       "      <td>5107.25</td>\n",
       "      <td>71</td>\n",
       "    </tr>\n",
       "    <tr>\n",
       "      <th>suspended</th>\n",
       "      <td>5000.000</td>\n",
       "      <td>37.00</td>\n",
       "      <td>2</td>\n",
       "    </tr>\n",
       "    <tr>\n",
       "      <th>undefined</th>\n",
       "      <td>3530.425</td>\n",
       "      <td>580.00</td>\n",
       "      <td>0</td>\n",
       "    </tr>\n",
       "  </tbody>\n",
       "</table>\n",
       "</div>"
      ],
      "text/plain": [
       "            usd_goal_real  usd_pledged_real  backers\n",
       "state                                               \n",
       "canceled        10000.000             87.00        3\n",
       "failed           7500.000            100.00        3\n",
       "live             6547.090            259.16        5\n",
       "successful       3837.740           5107.25       71\n",
       "suspended        5000.000             37.00        2\n",
       "undefined        3530.425            580.00        0"
      ]
     },
     "execution_count": 12,
     "metadata": {},
     "output_type": "execute_result"
    }
   ],
   "source": [
    "US_ks = ks[ks['country'] == \"US\"]\n",
    "US_ks.groupby([\"state\"])[\"goal\", \"pledged\",\"backers\"].mean()\n",
    "\n",
    "# usd \n",
    "US_ks.groupby([\"state\"])[\"usd_goal_real\", \"usd_pledged_real\",\"backers\"].mean()\n",
    "\n",
    "US_ks.groupby([\"state\"])[\"usd_goal_real\", \"usd_pledged_real\",\"backers\"].median()\n",
    "\n",
    "ks.groupby([\"state\"])[\"usd_goal_real\", \"usd_pledged_real\",\"backers\"].median()\n"
   ]
  },
  {
   "cell_type": "code",
   "execution_count": 13,
   "metadata": {},
   "outputs": [
    {
     "data": {
      "text/html": [
       "<div>\n",
       "<style scoped>\n",
       "    .dataframe tbody tr th:only-of-type {\n",
       "        vertical-align: middle;\n",
       "    }\n",
       "\n",
       "    .dataframe tbody tr th {\n",
       "        vertical-align: top;\n",
       "    }\n",
       "\n",
       "    .dataframe thead th {\n",
       "        text-align: right;\n",
       "    }\n",
       "</style>\n",
       "<table border=\"1\" class=\"dataframe\">\n",
       "  <thead>\n",
       "    <tr style=\"text-align: right;\">\n",
       "      <th></th>\n",
       "      <th>usd_goal_real</th>\n",
       "      <th>usd_pledged_real</th>\n",
       "      <th>backers</th>\n",
       "    </tr>\n",
       "    <tr>\n",
       "      <th>state</th>\n",
       "      <th></th>\n",
       "      <th></th>\n",
       "      <th></th>\n",
       "    </tr>\n",
       "  </thead>\n",
       "  <tbody>\n",
       "    <tr>\n",
       "      <th>canceled</th>\n",
       "      <td>10000.0</td>\n",
       "      <td>100.0</td>\n",
       "      <td>3</td>\n",
       "    </tr>\n",
       "    <tr>\n",
       "      <th>failed</th>\n",
       "      <td>7500.0</td>\n",
       "      <td>106.0</td>\n",
       "      <td>3</td>\n",
       "    </tr>\n",
       "    <tr>\n",
       "      <th>live</th>\n",
       "      <td>6500.0</td>\n",
       "      <td>220.0</td>\n",
       "      <td>4</td>\n",
       "    </tr>\n",
       "    <tr>\n",
       "      <th>successful</th>\n",
       "      <td>4000.0</td>\n",
       "      <td>5185.0</td>\n",
       "      <td>71</td>\n",
       "    </tr>\n",
       "    <tr>\n",
       "      <th>suspended</th>\n",
       "      <td>5000.0</td>\n",
       "      <td>30.5</td>\n",
       "      <td>2</td>\n",
       "    </tr>\n",
       "  </tbody>\n",
       "</table>\n",
       "</div>"
      ],
      "text/plain": [
       "            usd_goal_real  usd_pledged_real  backers\n",
       "state                                               \n",
       "canceled          10000.0             100.0        3\n",
       "failed             7500.0             106.0        3\n",
       "live               6500.0             220.0        4\n",
       "successful         4000.0            5185.0       71\n",
       "suspended          5000.0              30.5        2"
      ]
     },
     "execution_count": 13,
     "metadata": {},
     "output_type": "execute_result"
    }
   ],
   "source": [
    "US_ks.groupby([\"state\"])[\"usd_goal_real\", \"usd_pledged_real\",\"backers\"].median()"
   ]
  },
  {
   "cell_type": "code",
   "execution_count": 14,
   "metadata": {},
   "outputs": [
    {
     "data": {
      "text/plain": [
       "failed        197719\n",
       "successful    133956\n",
       "canceled       38779\n",
       "undefined       3562\n",
       "live            2799\n",
       "suspended       1846\n",
       "Name: state, dtype: int64"
      ]
     },
     "execution_count": 14,
     "metadata": {},
     "output_type": "execute_result"
    }
   ],
   "source": [
    "ks.state.value_counts()"
   ]
  },
  {
   "cell_type": "code",
   "execution_count": 15,
   "metadata": {},
   "outputs": [
    {
     "data": {
      "text/html": [
       "<div>\n",
       "<style scoped>\n",
       "    .dataframe tbody tr th:only-of-type {\n",
       "        vertical-align: middle;\n",
       "    }\n",
       "\n",
       "    .dataframe tbody tr th {\n",
       "        vertical-align: top;\n",
       "    }\n",
       "\n",
       "    .dataframe thead th {\n",
       "        text-align: right;\n",
       "    }\n",
       "</style>\n",
       "<table border=\"1\" class=\"dataframe\">\n",
       "  <thead>\n",
       "    <tr style=\"text-align: right;\">\n",
       "      <th>col_0</th>\n",
       "      <th>count</th>\n",
       "    </tr>\n",
       "    <tr>\n",
       "      <th>state</th>\n",
       "      <th></th>\n",
       "    </tr>\n",
       "  </thead>\n",
       "  <tbody>\n",
       "    <tr>\n",
       "      <th>canceled</th>\n",
       "      <td>0.102411</td>\n",
       "    </tr>\n",
       "    <tr>\n",
       "      <th>failed</th>\n",
       "      <td>0.522153</td>\n",
       "    </tr>\n",
       "    <tr>\n",
       "      <th>live</th>\n",
       "      <td>0.007392</td>\n",
       "    </tr>\n",
       "    <tr>\n",
       "      <th>successful</th>\n",
       "      <td>0.353762</td>\n",
       "    </tr>\n",
       "    <tr>\n",
       "      <th>suspended</th>\n",
       "      <td>0.004875</td>\n",
       "    </tr>\n",
       "    <tr>\n",
       "      <th>undefined</th>\n",
       "      <td>0.009407</td>\n",
       "    </tr>\n",
       "  </tbody>\n",
       "</table>\n",
       "</div>"
      ],
      "text/plain": [
       "col_0          count\n",
       "state               \n",
       "canceled    0.102411\n",
       "failed      0.522153\n",
       "live        0.007392\n",
       "successful  0.353762\n",
       "suspended   0.004875\n",
       "undefined   0.009407"
      ]
     },
     "execution_count": 15,
     "metadata": {},
     "output_type": "execute_result"
    }
   ],
   "source": [
    "# US Success rate \n",
    "ks_state = pd.crosstab(index=ks[\"state\"],  # Make a crosstab\n",
    "                              columns=\"count\")      # Name the count column\n",
    "ks_state\n",
    "ks_state/ks_state.sum()\n",
    "# Around 52% of kickstartes fail, 37% are successful, 10% are canceled, \n",
    "# and about 1% are live right now or suspended for the time being"
   ]
  },
  {
   "cell_type": "code",
   "execution_count": 16,
   "metadata": {},
   "outputs": [
    {
     "data": {
      "text/html": [
       "<div>\n",
       "<style scoped>\n",
       "    .dataframe tbody tr th:only-of-type {\n",
       "        vertical-align: middle;\n",
       "    }\n",
       "\n",
       "    .dataframe tbody tr th {\n",
       "        vertical-align: top;\n",
       "    }\n",
       "\n",
       "    .dataframe thead th {\n",
       "        text-align: right;\n",
       "    }\n",
       "</style>\n",
       "<table border=\"1\" class=\"dataframe\">\n",
       "  <thead>\n",
       "    <tr style=\"text-align: right;\">\n",
       "      <th>col_0</th>\n",
       "      <th>count</th>\n",
       "    </tr>\n",
       "    <tr>\n",
       "      <th>state</th>\n",
       "      <th></th>\n",
       "    </tr>\n",
       "  </thead>\n",
       "  <tbody>\n",
       "    <tr>\n",
       "      <th>canceled</th>\n",
       "      <td>0.096748</td>\n",
       "    </tr>\n",
       "    <tr>\n",
       "      <th>failed</th>\n",
       "      <td>0.519641</td>\n",
       "    </tr>\n",
       "    <tr>\n",
       "      <th>live</th>\n",
       "      <td>0.005946</td>\n",
       "    </tr>\n",
       "    <tr>\n",
       "      <th>successful</th>\n",
       "      <td>0.373510</td>\n",
       "    </tr>\n",
       "    <tr>\n",
       "      <th>suspended</th>\n",
       "      <td>0.004155</td>\n",
       "    </tr>\n",
       "  </tbody>\n",
       "</table>\n",
       "</div>"
      ],
      "text/plain": [
       "col_0          count\n",
       "state               \n",
       "canceled    0.096748\n",
       "failed      0.519641\n",
       "live        0.005946\n",
       "successful  0.373510\n",
       "suspended   0.004155"
      ]
     },
     "execution_count": 16,
     "metadata": {},
     "output_type": "execute_result"
    }
   ],
   "source": [
    "# US Success rate \n",
    "ks_state_us = pd.crosstab(index=US_ks[\"state\"],  # Make a crosstab\n",
    "                              columns=\"count\")      # Name the count column\n",
    "ks_state_us\n",
    "ks_state_us/ks_state_us.sum()\n",
    "# In the US, around 52% of kickstartes fail, 37% are successful, 10% are canceled, \n",
    "# and about 1% are live right now or suspended for the time being\n"
   ]
  },
  {
   "cell_type": "markdown",
   "metadata": {},
   "source": [
    "# Initial Investigations ----\n"
   ]
  },
  {
   "cell_type": "markdown",
   "metadata": {},
   "source": [
    "\n",
    "## How does the timeline influence funding? When does most of the money flow in? \n",
    "\n",
    "### See Matt's Script\n"
   ]
  },
  {
   "cell_type": "markdown",
   "metadata": {},
   "source": [
    "## What variables are the best at prediciting if a kickstarted will succeed or not?\n",
    "   \n",
    "## How accurate can we get with our prediction\n",
    "    \n",
    "### TO DO IN  Modeling Section "
   ]
  },
  {
   "cell_type": "markdown",
   "metadata": {},
   "source": [
    "## Which regions have the best success with kickstarters\n",
    "\n",
    "### See Paulina's Script \n"
   ]
  },
  {
   "cell_type": "code",
   "execution_count": 17,
   "metadata": {},
   "outputs": [],
   "source": [
    "country_states = pd.DataFrame(ks.groupby([\"country\",\"state\"]).state.count())\n",
    "sum_of_states_per_country = country_states.groupby([\"country\"]).state.sum()\n",
    "country_state_rates = pd.DataFrame(country_states.state / sum_of_states_per_country)\n",
    "country_state_rates = country_state_rates.unstack()\n",
    "#country_state_rates\n"
   ]
  },
  {
   "cell_type": "code",
   "execution_count": 18,
   "metadata": {
    "scrolled": true
   },
   "outputs": [],
   "source": [
    "#country_state_rates.state.successful.sort_values(ascending=False)\n",
    "    # is GDP an influencer of success of kickstarters \n",
    "#country_state_rates.state.failed.sort_values(ascending=False)\n",
    "    # failure rates vary from 67% to 40% \n",
    "    # why is japan so low ? \n"
   ]
  },
  {
   "cell_type": "markdown",
   "metadata": {},
   "source": [
    "## What type of projects succeed the most / fail the most on kickstarter?"
   ]
  },
  {
   "cell_type": "code",
   "execution_count": 19,
   "metadata": {},
   "outputs": [],
   "source": [
    "category_states = pd.DataFrame(ks.groupby([\"main_category\",\"state\"]).state.count())\n",
    "#category_states"
   ]
  },
  {
   "cell_type": "code",
   "execution_count": 20,
   "metadata": {},
   "outputs": [
    {
     "data": {
      "text/plain": [
       "main_category\n",
       "Film & Video    16.792065\n",
       "Music           13.710945\n",
       "Publishing      10.530263\n",
       "Games            9.304101\n",
       "Technology       8.601097\n",
       "Design           7.941140\n",
       "Art              7.434882\n",
       "Food             6.497104\n",
       "Fashion          6.025442\n",
       "Theater          2.881997\n",
       "Comics           2.857173\n",
       "Photography      2.846610\n",
       "Crafts           2.326355\n",
       "Journalism       1.255741\n",
       "Dance            0.995085\n",
       "Name: state, dtype: float64"
      ]
     },
     "execution_count": 20,
     "metadata": {},
     "output_type": "execute_result"
    }
   ],
   "source": [
    "sum_of_states_per_category = category_states.groupby([\"main_category\"]).state.sum()\n",
    "percent_of_kickstarters = (sum_of_states_per_category.sort_values(ascending=False) / len(ks)) * 100\n",
    "percent_of_kickstarters\n",
    "# Percentages of kickstarters that fall into these main_categories "
   ]
  },
  {
   "cell_type": "code",
   "execution_count": 21,
   "metadata": {},
   "outputs": [
    {
     "data": {
      "text/html": [
       "<div>\n",
       "<style scoped>\n",
       "    .dataframe tbody tr th:only-of-type {\n",
       "        vertical-align: middle;\n",
       "    }\n",
       "\n",
       "    .dataframe tbody tr th {\n",
       "        vertical-align: top;\n",
       "    }\n",
       "\n",
       "    .dataframe thead tr th {\n",
       "        text-align: left;\n",
       "    }\n",
       "\n",
       "    .dataframe thead tr:last-of-type th {\n",
       "        text-align: right;\n",
       "    }\n",
       "</style>\n",
       "<table border=\"1\" class=\"dataframe\">\n",
       "  <thead>\n",
       "    <tr>\n",
       "      <th></th>\n",
       "      <th colspan=\"6\" halign=\"left\">state</th>\n",
       "    </tr>\n",
       "    <tr>\n",
       "      <th>state</th>\n",
       "      <th>canceled</th>\n",
       "      <th>failed</th>\n",
       "      <th>live</th>\n",
       "      <th>successful</th>\n",
       "      <th>suspended</th>\n",
       "      <th>undefined</th>\n",
       "    </tr>\n",
       "    <tr>\n",
       "      <th>main_category</th>\n",
       "      <th></th>\n",
       "      <th></th>\n",
       "      <th></th>\n",
       "      <th></th>\n",
       "      <th></th>\n",
       "      <th></th>\n",
       "    </tr>\n",
       "  </thead>\n",
       "  <tbody>\n",
       "    <tr>\n",
       "      <th>Art</th>\n",
       "      <td>0.078926</td>\n",
       "      <td>0.501936</td>\n",
       "      <td>0.006891</td>\n",
       "      <td>0.408837</td>\n",
       "      <td>0.003410</td>\n",
       "      <td>NaN</td>\n",
       "    </tr>\n",
       "    <tr>\n",
       "      <th>Comics</th>\n",
       "      <td>0.077826</td>\n",
       "      <td>0.373047</td>\n",
       "      <td>0.007025</td>\n",
       "      <td>0.539976</td>\n",
       "      <td>0.002126</td>\n",
       "      <td>NaN</td>\n",
       "    </tr>\n",
       "    <tr>\n",
       "      <th>Crafts</th>\n",
       "      <td>0.095698</td>\n",
       "      <td>0.647406</td>\n",
       "      <td>0.008628</td>\n",
       "      <td>0.240095</td>\n",
       "      <td>0.008173</td>\n",
       "      <td>NaN</td>\n",
       "    </tr>\n",
       "    <tr>\n",
       "      <th>Dance</th>\n",
       "      <td>0.043259</td>\n",
       "      <td>0.327760</td>\n",
       "      <td>0.004777</td>\n",
       "      <td>0.620488</td>\n",
       "      <td>0.003450</td>\n",
       "      <td>0.000265</td>\n",
       "    </tr>\n",
       "    <tr>\n",
       "      <th>Design</th>\n",
       "      <td>0.138078</td>\n",
       "      <td>0.492650</td>\n",
       "      <td>0.010143</td>\n",
       "      <td>0.350848</td>\n",
       "      <td>0.008214</td>\n",
       "      <td>0.000067</td>\n",
       "    </tr>\n",
       "    <tr>\n",
       "      <th>Fashion</th>\n",
       "      <td>0.116147</td>\n",
       "      <td>0.621581</td>\n",
       "      <td>0.010957</td>\n",
       "      <td>0.245135</td>\n",
       "      <td>0.006048</td>\n",
       "      <td>0.000131</td>\n",
       "    </tr>\n",
       "    <tr>\n",
       "      <th>Film &amp; Video</th>\n",
       "      <td>0.090509</td>\n",
       "      <td>0.517481</td>\n",
       "      <td>0.005221</td>\n",
       "      <td>0.371518</td>\n",
       "      <td>0.001840</td>\n",
       "      <td>0.013431</td>\n",
       "    </tr>\n",
       "    <tr>\n",
       "      <th>Food</th>\n",
       "      <td>0.089871</td>\n",
       "      <td>0.649094</td>\n",
       "      <td>0.007479</td>\n",
       "      <td>0.247338</td>\n",
       "      <td>0.006219</td>\n",
       "      <td>NaN</td>\n",
       "    </tr>\n",
       "    <tr>\n",
       "      <th>Games</th>\n",
       "      <td>0.176038</td>\n",
       "      <td>0.454231</td>\n",
       "      <td>0.008146</td>\n",
       "      <td>0.355312</td>\n",
       "      <td>0.006245</td>\n",
       "      <td>0.000028</td>\n",
       "    </tr>\n",
       "    <tr>\n",
       "      <th>Journalism</th>\n",
       "      <td>0.109989</td>\n",
       "      <td>0.659727</td>\n",
       "      <td>0.006519</td>\n",
       "      <td>0.212829</td>\n",
       "      <td>0.010936</td>\n",
       "      <td>NaN</td>\n",
       "    </tr>\n",
       "    <tr>\n",
       "      <th>Music</th>\n",
       "      <td>0.063658</td>\n",
       "      <td>0.418968</td>\n",
       "      <td>0.005412</td>\n",
       "      <td>0.466062</td>\n",
       "      <td>0.002870</td>\n",
       "      <td>0.043029</td>\n",
       "    </tr>\n",
       "    <tr>\n",
       "      <th>Photography</th>\n",
       "      <td>0.091474</td>\n",
       "      <td>0.592263</td>\n",
       "      <td>0.004453</td>\n",
       "      <td>0.306615</td>\n",
       "      <td>0.005103</td>\n",
       "      <td>0.000093</td>\n",
       "    </tr>\n",
       "    <tr>\n",
       "      <th>Publishing</th>\n",
       "      <td>0.090335</td>\n",
       "      <td>0.580453</td>\n",
       "      <td>0.007499</td>\n",
       "      <td>0.308472</td>\n",
       "      <td>0.001655</td>\n",
       "      <td>0.011586</td>\n",
       "    </tr>\n",
       "    <tr>\n",
       "      <th>Technology</th>\n",
       "      <td>0.144770</td>\n",
       "      <td>0.632995</td>\n",
       "      <td>0.011575</td>\n",
       "      <td>0.197550</td>\n",
       "      <td>0.013019</td>\n",
       "      <td>0.000092</td>\n",
       "    </tr>\n",
       "    <tr>\n",
       "      <th>Theater</th>\n",
       "      <td>0.055713</td>\n",
       "      <td>0.339778</td>\n",
       "      <td>0.003757</td>\n",
       "      <td>0.598735</td>\n",
       "      <td>0.001924</td>\n",
       "      <td>0.000092</td>\n",
       "    </tr>\n",
       "  </tbody>\n",
       "</table>\n",
       "</div>"
      ],
      "text/plain": [
       "                  state                                                   \n",
       "state          canceled    failed      live successful suspended undefined\n",
       "main_category                                                             \n",
       "Art            0.078926  0.501936  0.006891   0.408837  0.003410       NaN\n",
       "Comics         0.077826  0.373047  0.007025   0.539976  0.002126       NaN\n",
       "Crafts         0.095698  0.647406  0.008628   0.240095  0.008173       NaN\n",
       "Dance          0.043259  0.327760  0.004777   0.620488  0.003450  0.000265\n",
       "Design         0.138078  0.492650  0.010143   0.350848  0.008214  0.000067\n",
       "Fashion        0.116147  0.621581  0.010957   0.245135  0.006048  0.000131\n",
       "Film & Video   0.090509  0.517481  0.005221   0.371518  0.001840  0.013431\n",
       "Food           0.089871  0.649094  0.007479   0.247338  0.006219       NaN\n",
       "Games          0.176038  0.454231  0.008146   0.355312  0.006245  0.000028\n",
       "Journalism     0.109989  0.659727  0.006519   0.212829  0.010936       NaN\n",
       "Music          0.063658  0.418968  0.005412   0.466062  0.002870  0.043029\n",
       "Photography    0.091474  0.592263  0.004453   0.306615  0.005103  0.000093\n",
       "Publishing     0.090335  0.580453  0.007499   0.308472  0.001655  0.011586\n",
       "Technology     0.144770  0.632995  0.011575   0.197550  0.013019  0.000092\n",
       "Theater        0.055713  0.339778  0.003757   0.598735  0.001924  0.000092"
      ]
     },
     "execution_count": 21,
     "metadata": {},
     "output_type": "execute_result"
    }
   ],
   "source": [
    "category_state_rates = pd.DataFrame(category_states.state / sum_of_states_per_category)\n",
    "category_state_rates = category_state_rates.unstack()\n",
    "category_state_rates # overall demographics for projects"
   ]
  },
  {
   "cell_type": "code",
   "execution_count": 22,
   "metadata": {},
   "outputs": [
    {
     "data": {
      "text/plain": [
       "main_category\n",
       "Dance           0.620488\n",
       "Theater         0.598735\n",
       "Comics          0.539976\n",
       "Music           0.466062\n",
       "Art             0.408837\n",
       "Film & Video    0.371518\n",
       "Games           0.355312\n",
       "Design          0.350848\n",
       "Publishing      0.308472\n",
       "Photography     0.306615\n",
       "Food            0.247338\n",
       "Fashion         0.245135\n",
       "Crafts          0.240095\n",
       "Journalism      0.212829\n",
       "Technology      0.197550\n",
       "Name: successful, dtype: float64"
      ]
     },
     "execution_count": 22,
     "metadata": {},
     "output_type": "execute_result"
    }
   ],
   "source": [
    "cat_s_rate = category_state_rates.state.successful.sort_values(ascending=False)\n",
    "    # Dance, theater, and comics often do well (> 50% chance of success)\n",
    "    # Tech, Journalism, and Crafts don't do well at all (20% success)\n",
    "    # however, part of this is due to the sizes of these categories \n",
    "cat_s_rate "
   ]
  },
  {
   "cell_type": "code",
   "execution_count": 23,
   "metadata": {},
   "outputs": [
    {
     "data": {
      "text/plain": [
       "main_category\n",
       "Music           24197.0\n",
       "Film & Video    23623.0\n",
       "Games           12518.0\n",
       "Publishing      12300.0\n",
       "Art             11510.0\n",
       "Design          10550.0\n",
       "Theater          6534.0\n",
       "Technology       6434.0\n",
       "Food             6085.0\n",
       "Comics           5842.0\n",
       "Fashion          5593.0\n",
       "Photography      3305.0\n",
       "Dance            2338.0\n",
       "Crafts           2115.0\n",
       "Journalism       1012.0\n",
       "dtype: float64"
      ]
     },
     "execution_count": 23,
     "metadata": {},
     "output_type": "execute_result"
    }
   ],
   "source": [
    "((category_state_rates.state.successful) * (sum_of_states_per_category / len(ks)) * 100).sort_values(ascending=False)\n",
    "\n",
    "# of categories, Music, Film & Video, Games, and Publishing do the best when fixed for the volume of their category \n",
    "((category_state_rates.state.successful) * (sum_of_states_per_category)).sort_values(ascending=False)\n",
    "\n",
    "# as a proportion of all kickstarters in their category, Music, Film & Video, and Games still hold out strong "
   ]
  },
  {
   "cell_type": "code",
   "execution_count": 24,
   "metadata": {},
   "outputs": [
    {
     "data": {
      "text/plain": [
       "main_category\n",
       "Journalism      0.659727\n",
       "Food            0.649094\n",
       "Crafts          0.647406\n",
       "Technology      0.632995\n",
       "Fashion         0.621581\n",
       "Photography     0.592263\n",
       "Publishing      0.580453\n",
       "Film & Video    0.517481\n",
       "Art             0.501936\n",
       "Design          0.492650\n",
       "Games           0.454231\n",
       "Music           0.418968\n",
       "Comics          0.373047\n",
       "Theater         0.339778\n",
       "Dance           0.327760\n",
       "Name: failed, dtype: float64"
      ]
     },
     "execution_count": 24,
     "metadata": {},
     "output_type": "execute_result"
    }
   ],
   "source": [
    "category_state_rates.state.failed.sort_values(ascending=False)\n",
    "    # Journalism , Food, and Crafts do bad\n",
    "    "
   ]
  },
  {
   "cell_type": "code",
   "execution_count": 25,
   "metadata": {},
   "outputs": [
    {
     "data": {
      "text/plain": [
       "main_category\n",
       "Film & Video    63585\n",
       "Music           51918\n",
       "Publishing      39874\n",
       "Games           35231\n",
       "Technology      32569\n",
       "Design          30070\n",
       "Art             28153\n",
       "Food            24602\n",
       "Fashion         22816\n",
       "Theater         10913\n",
       "Comics          10819\n",
       "Photography     10779\n",
       "Crafts           8809\n",
       "Journalism       4755\n",
       "Dance            3768\n",
       "Name: state, dtype: int64"
      ]
     },
     "execution_count": 25,
     "metadata": {},
     "output_type": "execute_result"
    }
   ],
   "source": [
    "sum_of_states_per_category.sort_values(ascending=False)\n",
    "    # Film & Video , music, publishing, and games and tech are popular and more succesptible to failure rates "
   ]
  },
  {
   "cell_type": "code",
   "execution_count": 26,
   "metadata": {},
   "outputs": [
    {
     "data": {
      "text/plain": [
       "main_category\n",
       "Technology      102288.542839\n",
       "Journalism       86003.395014\n",
       "Film & Video     82625.292254\n",
       "Food             49039.620804\n",
       "Games            44923.741408\n",
       "Design           41871.388591\n",
       "Art              39198.575879\n",
       "Theater          27088.321275\n",
       "Publishing       24798.240254\n",
       "Fashion          22412.409361\n",
       "Comics           19571.430669\n",
       "Music            15372.161844\n",
       "Photography      12266.843699\n",
       "Crafts           10434.466228\n",
       "Dance             9588.328548\n",
       "Name: usd_goal_real, dtype: float64"
      ]
     },
     "execution_count": 26,
     "metadata": {},
     "output_type": "execute_result"
    }
   ],
   "source": [
    "cat_goal_means = ks.groupby(['main_category']).usd_goal_real.mean().sort_values(ascending=False)\n",
    "cat_goal_means\n"
   ]
  },
  {
   "cell_type": "code",
   "execution_count": 27,
   "metadata": {},
   "outputs": [
    {
     "data": {
      "text/plain": [
       "main_category\n",
       "Technology      20000.00\n",
       "Food            10000.00\n",
       "Design          10000.00\n",
       "Games            8000.00\n",
       "Film & Video     6597.87\n",
       "Fashion          5938.52\n",
       "Publishing       5000.00\n",
       "Journalism       5000.00\n",
       "Photography      4000.00\n",
       "Music            4000.00\n",
       "Comics           3500.00\n",
       "Theater          3300.00\n",
       "Dance            3300.00\n",
       "Art              3000.00\n",
       "Crafts           2345.00\n",
       "Name: usd_goal_real, dtype: float64"
      ]
     },
     "execution_count": 27,
     "metadata": {},
     "output_type": "execute_result"
    }
   ],
   "source": [
    "cat_goal_medians = ks.groupby(['main_category']).usd_goal_real.median().sort_values(ascending=False)\n",
    "cat_goal_medians\n",
    "#pd.concat([cat_s_rate, cat_goal_medians])\n",
    "#cat_s_rate.append(cat_goal_medians)\n",
    "\n",
    "# does the median goal predict the success of the project ?"
   ]
  },
  {
   "cell_type": "code",
   "execution_count": 28,
   "metadata": {},
   "outputs": [
    {
     "data": {
      "text/plain": [
       "main_category\n",
       "Art             [Public Art, Illustration, Art, Painting, Perf...\n",
       "Comics          [Comic Books, Comics, Anthologies, Graphic Nov...\n",
       "Crafts          [Crafts, DIY, Weaving, Stationery, Knitting, E...\n",
       "Dance           [Dance, Performances, Spaces, Workshops, Resid...\n",
       "Design          [Product Design, Design, Architecture, Graphic...\n",
       "Fashion         [Fashion, Childrenswear, Accessories, Ready-to...\n",
       "Film & Video    [Narrative Film, Film & Video, Documentary, We...\n",
       "Food            [Restaurants, Food, Drinks, Food Trucks, Cookb...\n",
       "Games           [Games, Tabletop Games, Video Games, Mobile Ga...\n",
       "Journalism          [Audio, Print, Journalism, Video, Web, Photo]\n",
       "Music           [Music, Indie Rock, Pop, Rock, Jazz, Electroni...\n",
       "Photography     [Photography, People, Photobooks, Fine Art, An...\n",
       "Publishing      [Poetry, Nonfiction, Art Books, Fiction, Publi...\n",
       "Technology      [Hardware, Software, Gadgets, Web, Apps, Techn...\n",
       "Theater         [Theater, Festivals, Experimental, Plays, Musi...\n",
       "Name: category, dtype: object"
      ]
     },
     "execution_count": 28,
     "metadata": {},
     "output_type": "execute_result"
    }
   ],
   "source": [
    "ks.groupby([\"main_category\"]).category.unique()"
   ]
  },
  {
   "cell_type": "code",
   "execution_count": 29,
   "metadata": {},
   "outputs": [
    {
     "data": {
      "text/plain": [
       "main_category\n",
       "Film & Video    20\n",
       "Music           19\n",
       "Publishing      18\n",
       "Technology      16\n",
       "Crafts          15\n",
       "Food            13\n",
       "Art             13\n",
       "Fashion          9\n",
       "Theater          8\n",
       "Games            8\n",
       "Photography      7\n",
       "Design           7\n",
       "Journalism       6\n",
       "Comics           6\n",
       "Dance            5\n",
       "Name: category, dtype: int64"
      ]
     },
     "execution_count": 29,
     "metadata": {},
     "output_type": "execute_result"
    }
   ],
   "source": [
    "# number of sub categories per group \n",
    "ks.groupby([\"main_category\"]).category.nunique().sort_values(ascending=False)\n"
   ]
  },
  {
   "cell_type": "markdown",
   "metadata": {},
   "source": [
    "## Can your project name influence your success? (length/ contents / etc. ) \n",
    "### See Hannah's Script "
   ]
  },
  {
   "cell_type": "code",
   "execution_count": 30,
   "metadata": {},
   "outputs": [],
   "source": [
    "# Name Length \n",
    "#ks[\"name_length\"] = ks['name'].str.len()\n",
    "#ks[\"name_length\"].mean()\n",
    "#ks[\"name_length\"].median()\n",
    "\n",
    "#pd.DataFrame(ks.groupby([\"state\"]).name_length.mean())\n",
    "\n",
    "# Word Count \n",
    "#title_words = ks['name'].str.split()\n",
    "#ks[\"title_word_count\"] = title_words.str.len()\n",
    "#ks[\"title_word_count\"].mean()\n",
    "#ks[\"title_word_count\"].median()\n",
    "#pd.DataFrame(ks.groupby([\"state\"]).title_word_count.mean())\n",
    "\n",
    "#title_words\n",
    "\n",
    "# Text Analysis \n",
    "\n",
    "\n",
    "\n"
   ]
  },
  {
   "cell_type": "markdown",
   "metadata": {},
   "source": [
    "## What sort of funding scheme makes for a successful kickstarter (small amounts from many or large amounts from a few)\n",
    "   "
   ]
  },
  {
   "cell_type": "code",
   "execution_count": 31,
   "metadata": {},
   "outputs": [
    {
     "data": {
      "text/html": [
       "<div>\n",
       "<style scoped>\n",
       "    .dataframe tbody tr th:only-of-type {\n",
       "        vertical-align: middle;\n",
       "    }\n",
       "\n",
       "    .dataframe tbody tr th {\n",
       "        vertical-align: top;\n",
       "    }\n",
       "\n",
       "    .dataframe thead th {\n",
       "        text-align: right;\n",
       "    }\n",
       "</style>\n",
       "<table border=\"1\" class=\"dataframe\">\n",
       "  <thead>\n",
       "    <tr style=\"text-align: right;\">\n",
       "      <th></th>\n",
       "      <th>usd_goal_real</th>\n",
       "      <th>usd_pledged_real</th>\n",
       "      <th>backers</th>\n",
       "      <th>average_backed_amount</th>\n",
       "      <th>pledge_goal_diff</th>\n",
       "    </tr>\n",
       "    <tr>\n",
       "      <th>state</th>\n",
       "      <th></th>\n",
       "      <th></th>\n",
       "      <th></th>\n",
       "      <th></th>\n",
       "      <th></th>\n",
       "    </tr>\n",
       "  </thead>\n",
       "  <tbody>\n",
       "    <tr>\n",
       "      <th>canceled</th>\n",
       "      <td>10000.000</td>\n",
       "      <td>87.00</td>\n",
       "      <td>3</td>\n",
       "      <td>43.631753</td>\n",
       "      <td>-9051.000</td>\n",
       "    </tr>\n",
       "    <tr>\n",
       "      <th>failed</th>\n",
       "      <td>7500.000</td>\n",
       "      <td>100.00</td>\n",
       "      <td>3</td>\n",
       "      <td>35.000000</td>\n",
       "      <td>-6435.560</td>\n",
       "    </tr>\n",
       "    <tr>\n",
       "      <th>live</th>\n",
       "      <td>6547.090</td>\n",
       "      <td>259.16</td>\n",
       "      <td>5</td>\n",
       "      <td>45.401833</td>\n",
       "      <td>-4295.540</td>\n",
       "    </tr>\n",
       "    <tr>\n",
       "      <th>successful</th>\n",
       "      <td>3837.740</td>\n",
       "      <td>5107.25</td>\n",
       "      <td>71</td>\n",
       "      <td>63.347307</td>\n",
       "      <td>545.845</td>\n",
       "    </tr>\n",
       "    <tr>\n",
       "      <th>suspended</th>\n",
       "      <td>5000.000</td>\n",
       "      <td>37.00</td>\n",
       "      <td>2</td>\n",
       "      <td>38.322500</td>\n",
       "      <td>-2934.455</td>\n",
       "    </tr>\n",
       "    <tr>\n",
       "      <th>undefined</th>\n",
       "      <td>3530.425</td>\n",
       "      <td>580.00</td>\n",
       "      <td>0</td>\n",
       "      <td>inf</td>\n",
       "      <td>-1223.490</td>\n",
       "    </tr>\n",
       "  </tbody>\n",
       "</table>\n",
       "</div>"
      ],
      "text/plain": [
       "            usd_goal_real  usd_pledged_real  backers  average_backed_amount  \\\n",
       "state                                                                         \n",
       "canceled        10000.000             87.00        3              43.631753   \n",
       "failed           7500.000            100.00        3              35.000000   \n",
       "live             6547.090            259.16        5              45.401833   \n",
       "successful       3837.740           5107.25       71              63.347307   \n",
       "suspended        5000.000             37.00        2              38.322500   \n",
       "undefined        3530.425            580.00        0                    inf   \n",
       "\n",
       "            pledge_goal_diff  \n",
       "state                         \n",
       "canceled           -9051.000  \n",
       "failed             -6435.560  \n",
       "live               -4295.540  \n",
       "successful           545.845  \n",
       "suspended          -2934.455  \n",
       "undefined          -1223.490  "
      ]
     },
     "execution_count": 31,
     "metadata": {},
     "output_type": "execute_result"
    }
   ],
   "source": [
    "ks[\"average_backed_amount\"] = (ks.usd_pledged_real / ks.backers)\n",
    "ks[\"pledge_goal_diff\"] = (ks.usd_pledged_real - ks.usd_goal_real) # by how much are failing kickstarters missing their goals \n",
    "\n",
    "# means \n",
    "ks.groupby([\"state\"])[\"usd_goal_real\", \"usd_pledged_real\",\"backers\",\"average_backed_amount\",\"pledge_goal_diff\"].mean()\n",
    "#medians <- use this one \n",
    "ks.groupby([\"state\"])[\"usd_goal_real\", \"usd_pledged_real\",\"backers\",\"average_backed_amount\",\"pledge_goal_diff\"].median()\n",
    "    # successful kickstarters have...\n",
    "        # MANY backers \n",
    "        # smaller goal than failed projects by over $3500 \n",
    "        # usually are good enough to make over goal, typically because of demand for product \n",
    "    # canceled and suspended projects have high goals that get no traction and can't continue\n",
    "    # failed projects are similar to canceled projects but have smaller goals and slightly more pledged \n",
    "    \n"
   ]
  },
  {
   "cell_type": "code",
   "execution_count": 33,
   "metadata": {},
   "outputs": [
    {
     "data": {
      "text/plain": [
       "array([[ 1.       , -0.0230518],\n",
       "       [-0.0230518,  1.       ]])"
      ]
     },
     "execution_count": 33,
     "metadata": {},
     "output_type": "execute_result"
    }
   ],
   "source": [
    "ks[\"success\"] = np.where(ks['state'] == 'successful', True, False)\n",
    "success = pd.to_numeric(ks[\"success\"])\n",
    "num_backers = pd.to_numeric(ks['backers'])\n",
    "\n",
    "backers_corr = np.corrcoef(num_backers, success)\n",
    "backers_corr # not the best predictor of success but still decent \n",
    "\n",
    "usd_goal_real = pd.to_numeric(ks[\"usd_goal_real\"])\n",
    "goal_corr = np.corrcoef(usd_goal_real, success)\n",
    "goal_corr # not good indicator of success in these confines \n",
    "\n",
    "\n",
    "\n"
   ]
  },
  {
   "cell_type": "code",
   "execution_count": null,
   "metadata": {},
   "outputs": [],
   "source": []
  }
 ],
 "metadata": {
  "kernelspec": {
   "display_name": "Python 3",
   "language": "python",
   "name": "python3"
  },
  "language_info": {
   "codemirror_mode": {
    "name": "ipython",
    "version": 3
   },
   "file_extension": ".py",
   "mimetype": "text/x-python",
   "name": "python",
   "nbconvert_exporter": "python",
   "pygments_lexer": "ipython3",
   "version": "3.7.0"
  }
 },
 "nbformat": 4,
 "nbformat_minor": 2
}
