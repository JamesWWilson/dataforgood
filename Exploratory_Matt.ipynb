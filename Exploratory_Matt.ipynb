{
 "cells": [
  {
   "cell_type": "code",
   "execution_count": 1,
   "metadata": {
    "collapsed": true
   },
   "outputs": [],
   "source": [
    "import pandas as pd\n",
    "import numpy as np\n",
    "import matplotlib.pyplot as plt"
   ]
  },
  {
   "cell_type": "code",
   "execution_count": 2,
   "metadata": {
    "collapsed": true
   },
   "outputs": [],
   "source": [
    "ks = pd.read_csv(\"ks-projects-201801.csv\")\n"
   ]
  },
  {
   "cell_type": "code",
   "execution_count": 279,
   "metadata": {},
   "outputs": [
    {
     "data": {
      "text/html": [
       "<div>\n",
       "<style>\n",
       "    .dataframe thead tr:only-child th {\n",
       "        text-align: right;\n",
       "    }\n",
       "\n",
       "    .dataframe thead th {\n",
       "        text-align: left;\n",
       "    }\n",
       "\n",
       "    .dataframe tbody tr th {\n",
       "        vertical-align: top;\n",
       "    }\n",
       "</style>\n",
       "<table border=\"1\" class=\"dataframe\">\n",
       "  <thead>\n",
       "    <tr style=\"text-align: right;\">\n",
       "      <th></th>\n",
       "      <th>ID</th>\n",
       "      <th>name</th>\n",
       "      <th>category</th>\n",
       "      <th>main_category</th>\n",
       "      <th>currency</th>\n",
       "      <th>deadline</th>\n",
       "      <th>goal</th>\n",
       "      <th>launched</th>\n",
       "      <th>pledged</th>\n",
       "      <th>state</th>\n",
       "      <th>backers</th>\n",
       "      <th>country</th>\n",
       "      <th>usd pledged</th>\n",
       "      <th>usd_pledged_real</th>\n",
       "      <th>usd_goal_real</th>\n",
       "      <th>campaign_length</th>\n",
       "      <th>season</th>\n",
       "      <th>TimeOfDayOfLaunch</th>\n",
       "      <th>SeasonOfLaunch</th>\n",
       "    </tr>\n",
       "  </thead>\n",
       "  <tbody>\n",
       "    <tr>\n",
       "      <th>0</th>\n",
       "      <td>1000002330</td>\n",
       "      <td>The Songs of Adelaide &amp; Abullah</td>\n",
       "      <td>Poetry</td>\n",
       "      <td>Publishing</td>\n",
       "      <td>GBP</td>\n",
       "      <td>2015-10-09</td>\n",
       "      <td>1000.0</td>\n",
       "      <td>2015-08-11 12:12:28</td>\n",
       "      <td>0.0</td>\n",
       "      <td>failed</td>\n",
       "      <td>0</td>\n",
       "      <td>GB</td>\n",
       "      <td>0.0</td>\n",
       "      <td>0.0</td>\n",
       "      <td>1533.95</td>\n",
       "      <td>58</td>\n",
       "      <td>Summer</td>\n",
       "      <td>Afternoon</td>\n",
       "      <td>Summer</td>\n",
       "    </tr>\n",
       "    <tr>\n",
       "      <th>1</th>\n",
       "      <td>1000003930</td>\n",
       "      <td>Greeting From Earth: ZGAC Arts Capsule For ET</td>\n",
       "      <td>Narrative Film</td>\n",
       "      <td>Film &amp; Video</td>\n",
       "      <td>USD</td>\n",
       "      <td>2017-11-01</td>\n",
       "      <td>30000.0</td>\n",
       "      <td>2017-09-02 04:43:57</td>\n",
       "      <td>2421.0</td>\n",
       "      <td>failed</td>\n",
       "      <td>15</td>\n",
       "      <td>US</td>\n",
       "      <td>100.0</td>\n",
       "      <td>2421.0</td>\n",
       "      <td>30000.00</td>\n",
       "      <td>59</td>\n",
       "      <td>Summer</td>\n",
       "      <td>Late Night</td>\n",
       "      <td>Summer</td>\n",
       "    </tr>\n",
       "    <tr>\n",
       "      <th>2</th>\n",
       "      <td>1000004038</td>\n",
       "      <td>Where is Hank?</td>\n",
       "      <td>Narrative Film</td>\n",
       "      <td>Film &amp; Video</td>\n",
       "      <td>USD</td>\n",
       "      <td>2013-02-26</td>\n",
       "      <td>45000.0</td>\n",
       "      <td>2013-01-12 00:20:50</td>\n",
       "      <td>220.0</td>\n",
       "      <td>failed</td>\n",
       "      <td>3</td>\n",
       "      <td>US</td>\n",
       "      <td>220.0</td>\n",
       "      <td>220.0</td>\n",
       "      <td>45000.00</td>\n",
       "      <td>44</td>\n",
       "      <td>Winter</td>\n",
       "      <td>Late Night</td>\n",
       "      <td>Winter</td>\n",
       "    </tr>\n",
       "    <tr>\n",
       "      <th>3</th>\n",
       "      <td>1000007540</td>\n",
       "      <td>ToshiCapital Rekordz Needs Help to Complete Album</td>\n",
       "      <td>Music</td>\n",
       "      <td>Music</td>\n",
       "      <td>USD</td>\n",
       "      <td>2012-04-16</td>\n",
       "      <td>5000.0</td>\n",
       "      <td>2012-03-17 03:24:11</td>\n",
       "      <td>1.0</td>\n",
       "      <td>failed</td>\n",
       "      <td>1</td>\n",
       "      <td>US</td>\n",
       "      <td>1.0</td>\n",
       "      <td>1.0</td>\n",
       "      <td>5000.00</td>\n",
       "      <td>29</td>\n",
       "      <td>Winter</td>\n",
       "      <td>Late Night</td>\n",
       "      <td>Winter</td>\n",
       "    </tr>\n",
       "    <tr>\n",
       "      <th>4</th>\n",
       "      <td>1000011046</td>\n",
       "      <td>Community Film Project: The Art of Neighborhoo...</td>\n",
       "      <td>Film &amp; Video</td>\n",
       "      <td>Film &amp; Video</td>\n",
       "      <td>USD</td>\n",
       "      <td>2015-08-29</td>\n",
       "      <td>19500.0</td>\n",
       "      <td>2015-07-04 08:35:03</td>\n",
       "      <td>1283.0</td>\n",
       "      <td>canceled</td>\n",
       "      <td>14</td>\n",
       "      <td>US</td>\n",
       "      <td>1283.0</td>\n",
       "      <td>1283.0</td>\n",
       "      <td>19500.00</td>\n",
       "      <td>55</td>\n",
       "      <td>Summer</td>\n",
       "      <td>Morning</td>\n",
       "      <td>Summer</td>\n",
       "    </tr>\n",
       "  </tbody>\n",
       "</table>\n",
       "</div>"
      ],
      "text/plain": [
       "           ID                                               name  \\\n",
       "0  1000002330                    The Songs of Adelaide & Abullah   \n",
       "1  1000003930      Greeting From Earth: ZGAC Arts Capsule For ET   \n",
       "2  1000004038                                     Where is Hank?   \n",
       "3  1000007540  ToshiCapital Rekordz Needs Help to Complete Album   \n",
       "4  1000011046  Community Film Project: The Art of Neighborhoo...   \n",
       "\n",
       "         category main_category currency   deadline     goal  \\\n",
       "0          Poetry    Publishing      GBP 2015-10-09   1000.0   \n",
       "1  Narrative Film  Film & Video      USD 2017-11-01  30000.0   \n",
       "2  Narrative Film  Film & Video      USD 2013-02-26  45000.0   \n",
       "3           Music         Music      USD 2012-04-16   5000.0   \n",
       "4    Film & Video  Film & Video      USD 2015-08-29  19500.0   \n",
       "\n",
       "             launched  pledged     state  backers country  usd pledged  \\\n",
       "0 2015-08-11 12:12:28      0.0    failed        0      GB          0.0   \n",
       "1 2017-09-02 04:43:57   2421.0    failed       15      US        100.0   \n",
       "2 2013-01-12 00:20:50    220.0    failed        3      US        220.0   \n",
       "3 2012-03-17 03:24:11      1.0    failed        1      US          1.0   \n",
       "4 2015-07-04 08:35:03   1283.0  canceled       14      US       1283.0   \n",
       "\n",
       "   usd_pledged_real  usd_goal_real  campaign_length  season TimeOfDayOfLaunch  \\\n",
       "0               0.0        1533.95               58  Summer         Afternoon   \n",
       "1            2421.0       30000.00               59  Summer        Late Night   \n",
       "2             220.0       45000.00               44  Winter        Late Night   \n",
       "3               1.0        5000.00               29  Winter        Late Night   \n",
       "4            1283.0       19500.00               55  Summer           Morning   \n",
       "\n",
       "  SeasonOfLaunch  \n",
       "0         Summer  \n",
       "1         Summer  \n",
       "2         Winter  \n",
       "3         Winter  \n",
       "4         Summer  "
      ]
     },
     "execution_count": 279,
     "metadata": {},
     "output_type": "execute_result"
    }
   ],
   "source": [
    "ks.head()"
   ]
  },
  {
   "cell_type": "code",
   "execution_count": 49,
   "metadata": {},
   "outputs": [
    {
     "name": "stdout",
     "output_type": "stream",
     "text": [
      "<class 'pandas.core.frame.DataFrame'>\n",
      "RangeIndex: 378661 entries, 0 to 378660\n",
      "Data columns (total 16 columns):\n",
      "ID                  378661 non-null int64\n",
      "name                378657 non-null object\n",
      "category            378661 non-null object\n",
      "main_category       378661 non-null object\n",
      "currency            378661 non-null object\n",
      "deadline            378661 non-null datetime64[ns]\n",
      "goal                378661 non-null float64\n",
      "launched            378661 non-null datetime64[ns]\n",
      "pledged             378661 non-null float64\n",
      "state               378661 non-null object\n",
      "backers             378661 non-null int64\n",
      "country             378661 non-null object\n",
      "usd pledged         374864 non-null float64\n",
      "usd_pledged_real    378661 non-null float64\n",
      "usd_goal_real       378661 non-null float64\n",
      "campaign_length     378661 non-null int64\n",
      "dtypes: datetime64[ns](2), float64(5), int64(3), object(6)\n",
      "memory usage: 46.2+ MB\n"
     ]
    }
   ],
   "source": [
    "ks.info()"
   ]
  },
  {
   "cell_type": "code",
   "execution_count": 51,
   "metadata": {},
   "outputs": [],
   "source": [
    "ks['launched'] = pd.to_datetime(ks['launched'])"
   ]
  },
  {
   "cell_type": "code",
   "execution_count": 13,
   "metadata": {},
   "outputs": [],
   "source": [
    "ks['deadline'] = pd.to_datetime(ks['deadline'])"
   ]
  },
  {
   "cell_type": "code",
   "execution_count": 46,
   "metadata": {
    "collapsed": true
   },
   "outputs": [],
   "source": [
    "ks['campaign_length']= (ks.deadline - ks.launched).astype(str).str.slice(0,2).astype(int)"
   ]
  },
  {
   "cell_type": "code",
   "execution_count": 59,
   "metadata": {
    "scrolled": false
   },
   "outputs": [
    {
     "data": {
      "image/png": "[encoded data removed]",
      "text/plain": [
       "<matplotlib.figure.Figure at 0x133f254a8>"
      ]
     },
     "metadata": {},
     "output_type": "display_data"
    }
   ],
   "source": [
    "plt.hist(ks.campaign_length, bins = 15, color = 'c')\n",
    "plt.axvline(ks.campaign_length.median(), color='red', linestyle='dashed', linewidth=1)\n",
    "plt.xlabel('Length of Kickstarter Campaign')\n",
    "plt.ylabel('Count')\n",
    "plt.show()"
   ]
  },
  {
   "cell_type": "code",
   "execution_count": 146,
   "metadata": {},
   "outputs": [
    {
     "data": {
      "text/plain": [
       "main_category\n",
       "Art             13.338905\n",
       "Comics          12.142851\n",
       "Crafts          11.213663\n",
       "Dance           13.067910\n",
       "Design          10.897575\n",
       "Fashion         10.943326\n",
       "Film & Video    14.433437\n",
       "Food            12.058595\n",
       "Games           10.808805\n",
       "Journalism      14.337122\n",
       "Music           13.882049\n",
       "Photography     13.852310\n",
       "Publishing      12.353095\n",
       "Technology      11.819242\n",
       "Theater         14.221852\n",
       "Name: campaign_length, dtype: float64"
      ]
     },
     "execution_count": 146,
     "metadata": {},
     "output_type": "execute_result"
    }
   ],
   "source": [
    "ks.groupby(['main_category']).campaign_length.mean()\n",
    "ks.groupby(['main_category']).campaign_length.std()\n",
    "          "
   ]
  },
  {
   "cell_type": "code",
   "execution_count": 241,
   "metadata": {},
   "outputs": [],
   "source": [
    "ks['SeasonOfLaunch'] = pd.cut(\n",
    "    (ks.launched.dt.dayofyear + 11) % 366,\n",
    "    [0, 91, 183, 275, 366],\n",
    "    labels=['Winter', 'Spring', 'Summer', 'Fall']\n",
    ")"
   ]
  },
  {
   "cell_type": "code",
   "execution_count": 205,
   "metadata": {},
   "outputs": [
    {
     "data": {
      "image/png": "[encoded data removed]",
      "text/plain": [
       "<matplotlib.figure.Figure at 0x1311f7470>"
      ]
     },
     "metadata": {},
     "output_type": "display_data"
    }
   ],
   "source": [
    "ks.season.value_counts(dropna=True)\n",
    "values = [92820,98734,100248,86191]\n",
    "def make_autopct(values):\n",
    "    def my_autopct(pct):\n",
    "        total = sum(values)\n",
    "        val = int(round(pct*total/100.0))\n",
    "        return '{p:.2f}%  ({v:d})'.format(p=pct,v=val)\n",
    "    return my_autopct\n",
    "\n",
    "\n",
    "plt.pie([750,707,515,550], labels = ['Fall','Spring','Summer', 'Winter'], autopct=make_autopct(values), )\n",
    "plt.axis('equal')\n",
    "plt.title('Kickstarter Campaign Launch Season')\n",
    "plt.show()"
   ]
  },
  {
   "cell_type": "code",
   "execution_count": 242,
   "metadata": {},
   "outputs": [],
   "source": [
    "ks['TimeOfDayOfLaunch'] = pd.cut(\n",
    "    (ks.launched.dt.hour),\n",
    "    [-1 ,5, 10, 17, 24],\n",
    "    labels=['Late Night','Morning', 'Afternoon', 'Evening']\n",
    ")"
   ]
  },
  {
   "cell_type": "code",
   "execution_count": 266,
   "metadata": {
    "collapsed": true
   },
   "outputs": [],
   "source": [
    "def prop_successful(x_list):\n",
    "    print(x_list.value_counts().astype(int)[1])\n",
    "    return;\n",
    "    "
   ]
  },
  {
   "cell_type": "markdown",
   "metadata": {},
   "source": [
    "time of day hour plot limited to US, mean pledged and count of projects\n",
    "\n",
    "time of launch in the day by cateogry (any stand out values?)\n",
    "\n",
    "Top 2-5% kickstarters a seperate analysis\n",
    "\n",
    "quantile regression "
   ]
  },
  {
   "cell_type": "code",
   "execution_count": 290,
   "metadata": {},
   "outputs": [
    {
     "data": {
      "text/plain": [
       "TimeOfDayOfLaunch\n",
       "Afternoon     7000.0\n",
       "Evening       5000.0\n",
       "Late Night    5000.0\n",
       "Morning       6000.0\n",
       "Name: usd_goal_real, dtype: float64"
      ]
     },
     "execution_count": 290,
     "metadata": {},
     "output_type": "execute_result"
    }
   ],
   "source": [
    "ks.groupby(['TimeOfDayOfLaunch']).usd_goal_real.median()"
   ]
  },
  {
   "cell_type": "code",
   "execution_count": 291,
   "metadata": {},
   "outputs": [
    {
     "data": {
      "text/plain": [
       "TimeOfDayOfLaunch\n",
       "Afternoon     1215.0\n",
       "Evening        500.0\n",
       "Late Night     454.0\n",
       "Morning        775.0\n",
       "Name: usd_pledged_real, dtype: float64"
      ]
     },
     "execution_count": 291,
     "metadata": {},
     "output_type": "execute_result"
    }
   ],
   "source": [
    "ks.groupby(['TimeOfDayOfLaunch']).usd_pledged_real.median()\n"
   ]
  },
  {
   "cell_type": "code",
   "execution_count": 338,
   "metadata": {},
   "outputs": [
    {
     "data": {
      "text/plain": [
       "0         12\n",
       "1          4\n",
       "2          0\n",
       "3          3\n",
       "4          8\n",
       "5         13\n",
       "6         18\n",
       "7         20\n",
       "8         18\n",
       "9         21\n",
       "10        18\n",
       "11         6\n",
       "12        17\n",
       "13        23\n",
       "14        19\n",
       "15         2\n",
       "16        22\n",
       "17        21\n",
       "18        14\n",
       "19        17\n",
       "20         7\n",
       "21         1\n",
       "22        10\n",
       "23        19\n",
       "24        17\n",
       "25        23\n",
       "26        20\n",
       "27        18\n",
       "28        16\n",
       "29        17\n",
       "          ..\n",
       "378631    19\n",
       "378632    23\n",
       "378633    17\n",
       "378634     2\n",
       "378635    22\n",
       "378636    17\n",
       "378637     6\n",
       "378638     2\n",
       "378639    13\n",
       "378640    21\n",
       "378641    18\n",
       "378642    11\n",
       "378643    20\n",
       "378644     7\n",
       "378645    22\n",
       "378646    21\n",
       "378647    17\n",
       "378648    16\n",
       "378649     2\n",
       "378650    15\n",
       "378651     1\n",
       "378652    21\n",
       "378653     4\n",
       "378654    22\n",
       "378655     3\n",
       "378656     2\n",
       "378657     3\n",
       "378658    19\n",
       "378659    18\n",
       "378660     9\n",
       "Name: launched, Length: 378661, dtype: int64"
      ]
     },
     "execution_count": 338,
     "metadata": {},
     "output_type": "execute_result"
    }
   ],
   "source": [
    "ks.groupby(['launched.dt.hour'])."
   ]
  },
  {
   "cell_type": "code",
   "execution_count": 287,
   "metadata": {},
   "outputs": [
    {
     "data": {
      "text/plain": [
       "year\n",
       "1970        0.000000\n",
       "2009     2141.084357\n",
       "2010     2800.482267\n",
       "2011     3954.438151\n",
       "2012     7833.156323\n",
       "2013    10669.566477\n",
       "2014     7744.495587\n",
       "2015     8894.549461\n",
       "2016    11488.352415\n",
       "2017    11954.014957\n",
       "2018      509.861210\n",
       "Name: usd_pledged_real, dtype: float64"
      ]
     },
     "execution_count": 287,
     "metadata": {},
     "output_type": "execute_result"
    }
   ],
   "source": [
    "ks['year'] = ks.launched.dt.year\n",
    "ks.groupby(['year']).usd_pledged_real.mean()"
   ]
  },
  {
   "cell_type": "code",
   "execution_count": 316,
   "metadata": {},
   "outputs": [],
   "source": [
    "ks_top = ks.sort_values('usd_pledged_real', ascending = False).iloc[1:60000,]"
   ]
  },
  {
   "cell_type": "code",
   "execution_count": 319,
   "metadata": {},
   "outputs": [
    {
     "data": {
      "text/plain": [
       "year\n",
       "2009    11015.000\n",
       "2010    11263.000\n",
       "2011    13234.050\n",
       "2012    15715.000\n",
       "2013    17337.050\n",
       "2014    17861.500\n",
       "2015    18919.160\n",
       "2016    19430.975\n",
       "2017    19894.450\n",
       "2018    10847.000\n",
       "Name: usd_pledged_real, dtype: float64"
      ]
     },
     "execution_count": 319,
     "metadata": {},
     "output_type": "execute_result"
    }
   ],
   "source": [
    "ks_top.groupby(['year']).usd_pledged_real.median()"
   ]
  },
  {
   "cell_type": "code",
   "execution_count": 328,
   "metadata": {},
   "outputs": [
    {
     "data": {
      "text/plain": [
       "TimeOfDayOfLaunch\n",
       "Afternoon     20234.00\n",
       "Evening       16750.00\n",
       "Late Night    15614.00\n",
       "Morning       18019.28\n",
       "Name: usd_pledged_real, dtype: float64"
      ]
     },
     "execution_count": 328,
     "metadata": {},
     "output_type": "execute_result"
    }
   ],
   "source": [
    "ks_top.groupby(['TimeOfDayOfLaunch']).usd_pledged_real.median()\n"
   ]
  },
  {
   "cell_type": "code",
   "execution_count": 329,
   "metadata": {},
   "outputs": [
    {
     "data": {
      "image/png": "[encoded data removed]",
      "text/plain": [
       "<matplotlib.figure.Figure at 0x13a3c6390>"
      ]
     },
     "metadata": {},
     "output_type": "display_data"
    }
   ],
   "source": [
    "plt.hist(ks_top.campaign_length, bins = 15, color = 'c')\n",
    "plt.axvline(ks_top.campaign_length.median(), color='red', linestyle='dashed', linewidth=1)\n",
    "plt.xlabel('Length of Kickstarter Campaign for top 2%')\n",
    "plt.ylabel('Count')\n",
    "plt.show()"
   ]
  },
  {
   "cell_type": "code",
   "execution_count": 336,
   "metadata": {},
   "outputs": [
    {
     "data": {
      "text/plain": [
       "main_category\n",
       "Art             29\n",
       "Comics          29\n",
       "Crafts          29\n",
       "Dance           29\n",
       "Design          29\n",
       "Fashion         29\n",
       "Film & Video    29\n",
       "Food            29\n",
       "Games           29\n",
       "Journalism      29\n",
       "Music           29\n",
       "Photography     29\n",
       "Publishing      29\n",
       "Technology      29\n",
       "Theater         29\n",
       "Name: campaign_length, dtype: int64"
      ]
     },
     "execution_count": 336,
     "metadata": {},
     "output_type": "execute_result"
    }
   ],
   "source": [
    "ks.groupby(['']).campaign_length.median()"
   ]
  },
  {
   "cell_type": "code",
   "execution_count": 344,
   "metadata": {},
   "outputs": [
    {
     "data": {
      "text/plain": [
       "0         12\n",
       "14        19\n",
       "26        20\n",
       "28        16\n",
       "30        18\n",
       "67        12\n",
       "69        19\n",
       "75        17\n",
       "80        19\n",
       "129        5\n",
       "131       12\n",
       "141       15\n",
       "142        1\n",
       "143       19\n",
       "147        1\n",
       "148       22\n",
       "151       12\n",
       "155       18\n",
       "156       22\n",
       "167       21\n",
       "180       10\n",
       "185       13\n",
       "187       13\n",
       "197       16\n",
       "198       17\n",
       "199       20\n",
       "210       16\n",
       "235       23\n",
       "246       16\n",
       "258       10\n",
       "          ..\n",
       "378321    10\n",
       "378335    18\n",
       "378344    12\n",
       "378348    12\n",
       "378359    22\n",
       "378360     2\n",
       "378363    10\n",
       "378364     9\n",
       "378383    16\n",
       "378389    17\n",
       "378403    23\n",
       "378405    15\n",
       "378410    11\n",
       "378414    11\n",
       "378421    13\n",
       "378455    13\n",
       "378471     1\n",
       "378498    14\n",
       "378506     0\n",
       "378523    19\n",
       "378526     7\n",
       "378529    11\n",
       "378530    20\n",
       "378543    15\n",
       "378558     7\n",
       "378566    13\n",
       "378586    22\n",
       "378597    10\n",
       "378628     1\n",
       "378645    22\n",
       "Name: launched, Length: 33672, dtype: int64"
      ]
     },
     "execution_count": 344,
     "metadata": {},
     "output_type": "execute_result"
    }
   ],
   "source": [
    "plt.plot(x=ks.launched.dt.hour[ks.country == 'GB'], y="
   ]
  },
  {
   "cell_type": "code",
   "execution_count": 357,
   "metadata": {},
   "outputs": [
    {
     "data": {
      "text/html": [
       "<div>\n",
       "<style>\n",
       "    .dataframe thead tr:only-child th {\n",
       "        text-align: right;\n",
       "    }\n",
       "\n",
       "    .dataframe thead th {\n",
       "        text-align: left;\n",
       "    }\n",
       "\n",
       "    .dataframe tbody tr th {\n",
       "        vertical-align: top;\n",
       "    }\n",
       "</style>\n",
       "<table border=\"1\" class=\"dataframe\">\n",
       "  <thead>\n",
       "    <tr style=\"text-align: right;\">\n",
       "      <th></th>\n",
       "      <th>ID</th>\n",
       "      <th>name</th>\n",
       "      <th>category</th>\n",
       "      <th>main_category</th>\n",
       "      <th>currency</th>\n",
       "      <th>deadline</th>\n",
       "      <th>goal</th>\n",
       "      <th>launched</th>\n",
       "      <th>pledged</th>\n",
       "      <th>state</th>\n",
       "      <th>...</th>\n",
       "      <th>country</th>\n",
       "      <th>usd pledged</th>\n",
       "      <th>usd_pledged_real</th>\n",
       "      <th>usd_goal_real</th>\n",
       "      <th>campaign_length</th>\n",
       "      <th>season</th>\n",
       "      <th>TimeOfDayOfLaunch</th>\n",
       "      <th>SeasonOfLaunch</th>\n",
       "      <th>year</th>\n",
       "      <th>hourofday</th>\n",
       "    </tr>\n",
       "  </thead>\n",
       "  <tbody>\n",
       "    <tr>\n",
       "      <th>0</th>\n",
       "      <td>1000002330</td>\n",
       "      <td>The Songs of Adelaide &amp; Abullah</td>\n",
       "      <td>Poetry</td>\n",
       "      <td>Publishing</td>\n",
       "      <td>GBP</td>\n",
       "      <td>2015-10-09</td>\n",
       "      <td>1000.0</td>\n",
       "      <td>2015-08-11 12:12:28</td>\n",
       "      <td>0.0</td>\n",
       "      <td>failed</td>\n",
       "      <td>...</td>\n",
       "      <td>GB</td>\n",
       "      <td>0.0</td>\n",
       "      <td>0.0</td>\n",
       "      <td>1533.95</td>\n",
       "      <td>58</td>\n",
       "      <td>Summer</td>\n",
       "      <td>Afternoon</td>\n",
       "      <td>Summer</td>\n",
       "      <td>2015</td>\n",
       "      <td>12</td>\n",
       "    </tr>\n",
       "    <tr>\n",
       "      <th>1</th>\n",
       "      <td>1000003930</td>\n",
       "      <td>Greeting From Earth: ZGAC Arts Capsule For ET</td>\n",
       "      <td>Narrative Film</td>\n",
       "      <td>Film &amp; Video</td>\n",
       "      <td>USD</td>\n",
       "      <td>2017-11-01</td>\n",
       "      <td>30000.0</td>\n",
       "      <td>2017-09-02 04:43:57</td>\n",
       "      <td>2421.0</td>\n",
       "      <td>failed</td>\n",
       "      <td>...</td>\n",
       "      <td>US</td>\n",
       "      <td>100.0</td>\n",
       "      <td>2421.0</td>\n",
       "      <td>30000.00</td>\n",
       "      <td>59</td>\n",
       "      <td>Summer</td>\n",
       "      <td>Late Night</td>\n",
       "      <td>Summer</td>\n",
       "      <td>2017</td>\n",
       "      <td>4</td>\n",
       "    </tr>\n",
       "    <tr>\n",
       "      <th>2</th>\n",
       "      <td>1000004038</td>\n",
       "      <td>Where is Hank?</td>\n",
       "      <td>Narrative Film</td>\n",
       "      <td>Film &amp; Video</td>\n",
       "      <td>USD</td>\n",
       "      <td>2013-02-26</td>\n",
       "      <td>45000.0</td>\n",
       "      <td>2013-01-12 00:20:50</td>\n",
       "      <td>220.0</td>\n",
       "      <td>failed</td>\n",
       "      <td>...</td>\n",
       "      <td>US</td>\n",
       "      <td>220.0</td>\n",
       "      <td>220.0</td>\n",
       "      <td>45000.00</td>\n",
       "      <td>44</td>\n",
       "      <td>Winter</td>\n",
       "      <td>Late Night</td>\n",
       "      <td>Winter</td>\n",
       "      <td>2013</td>\n",
       "      <td>0</td>\n",
       "    </tr>\n",
       "    <tr>\n",
       "      <th>3</th>\n",
       "      <td>1000007540</td>\n",
       "      <td>ToshiCapital Rekordz Needs Help to Complete Album</td>\n",
       "      <td>Music</td>\n",
       "      <td>Music</td>\n",
       "      <td>USD</td>\n",
       "      <td>2012-04-16</td>\n",
       "      <td>5000.0</td>\n",
       "      <td>2012-03-17 03:24:11</td>\n",
       "      <td>1.0</td>\n",
       "      <td>failed</td>\n",
       "      <td>...</td>\n",
       "      <td>US</td>\n",
       "      <td>1.0</td>\n",
       "      <td>1.0</td>\n",
       "      <td>5000.00</td>\n",
       "      <td>29</td>\n",
       "      <td>Winter</td>\n",
       "      <td>Late Night</td>\n",
       "      <td>Winter</td>\n",
       "      <td>2012</td>\n",
       "      <td>3</td>\n",
       "    </tr>\n",
       "    <tr>\n",
       "      <th>4</th>\n",
       "      <td>1000011046</td>\n",
       "      <td>Community Film Project: The Art of Neighborhoo...</td>\n",
       "      <td>Film &amp; Video</td>\n",
       "      <td>Film &amp; Video</td>\n",
       "      <td>USD</td>\n",
       "      <td>2015-08-29</td>\n",
       "      <td>19500.0</td>\n",
       "      <td>2015-07-04 08:35:03</td>\n",
       "      <td>1283.0</td>\n",
       "      <td>canceled</td>\n",
       "      <td>...</td>\n",
       "      <td>US</td>\n",
       "      <td>1283.0</td>\n",
       "      <td>1283.0</td>\n",
       "      <td>19500.00</td>\n",
       "      <td>55</td>\n",
       "      <td>Summer</td>\n",
       "      <td>Morning</td>\n",
       "      <td>Summer</td>\n",
       "      <td>2015</td>\n",
       "      <td>8</td>\n",
       "    </tr>\n",
       "  </tbody>\n",
       "</table>\n",
       "<p>5 rows × 21 columns</p>\n",
       "</div>"
      ],
      "text/plain": [
       "           ID                                               name  \\\n",
       "0  1000002330                    The Songs of Adelaide & Abullah   \n",
       "1  1000003930      Greeting From Earth: ZGAC Arts Capsule For ET   \n",
       "2  1000004038                                     Where is Hank?   \n",
       "3  1000007540  ToshiCapital Rekordz Needs Help to Complete Album   \n",
       "4  1000011046  Community Film Project: The Art of Neighborhoo...   \n",
       "\n",
       "         category main_category currency   deadline     goal  \\\n",
       "0          Poetry    Publishing      GBP 2015-10-09   1000.0   \n",
       "1  Narrative Film  Film & Video      USD 2017-11-01  30000.0   \n",
       "2  Narrative Film  Film & Video      USD 2013-02-26  45000.0   \n",
       "3           Music         Music      USD 2012-04-16   5000.0   \n",
       "4    Film & Video  Film & Video      USD 2015-08-29  19500.0   \n",
       "\n",
       "             launched  pledged     state    ...      country usd pledged  \\\n",
       "0 2015-08-11 12:12:28      0.0    failed    ...           GB         0.0   \n",
       "1 2017-09-02 04:43:57   2421.0    failed    ...           US       100.0   \n",
       "2 2013-01-12 00:20:50    220.0    failed    ...           US       220.0   \n",
       "3 2012-03-17 03:24:11      1.0    failed    ...           US         1.0   \n",
       "4 2015-07-04 08:35:03   1283.0  canceled    ...           US      1283.0   \n",
       "\n",
       "   usd_pledged_real  usd_goal_real  campaign_length  season TimeOfDayOfLaunch  \\\n",
       "0               0.0        1533.95               58  Summer         Afternoon   \n",
       "1            2421.0       30000.00               59  Summer        Late Night   \n",
       "2             220.0       45000.00               44  Winter        Late Night   \n",
       "3               1.0        5000.00               29  Winter        Late Night   \n",
       "4            1283.0       19500.00               55  Summer           Morning   \n",
       "\n",
       "  SeasonOfLaunch  year  hourofday  \n",
       "0         Summer  2015         12  \n",
       "1         Summer  2017          4  \n",
       "2         Winter  2013          0  \n",
       "3         Winter  2012          3  \n",
       "4         Summer  2015          8  \n",
       "\n",
       "[5 rows x 21 columns]"
      ]
     },
     "execution_count": 357,
     "metadata": {},
     "output_type": "execute_result"
    }
   ],
   "source": [
    "ks.head()"
   ]
  },
  {
   "cell_type": "code",
   "execution_count": 356,
   "metadata": {},
   "outputs": [
    {
     "data": {
      "text/plain": [
       "0         12\n",
       "1          4\n",
       "2          0\n",
       "3          3\n",
       "4          8\n",
       "5         13\n",
       "6         18\n",
       "7         20\n",
       "8         18\n",
       "9         21\n",
       "10        18\n",
       "11         6\n",
       "12        17\n",
       "13        23\n",
       "14        19\n",
       "15         2\n",
       "16        22\n",
       "17        21\n",
       "18        14\n",
       "19        17\n",
       "20         7\n",
       "21         1\n",
       "22        10\n",
       "23        19\n",
       "24        17\n",
       "25        23\n",
       "26        20\n",
       "27        18\n",
       "28        16\n",
       "29        17\n",
       "          ..\n",
       "378631    19\n",
       "378632    23\n",
       "378633    17\n",
       "378634     2\n",
       "378635    22\n",
       "378636    17\n",
       "378637     6\n",
       "378638     2\n",
       "378639    13\n",
       "378640    21\n",
       "378641    18\n",
       "378642    11\n",
       "378643    20\n",
       "378644     7\n",
       "378645    22\n",
       "378646    21\n",
       "378647    17\n",
       "378648    16\n",
       "378649     2\n",
       "378650    15\n",
       "378651     1\n",
       "378652    21\n",
       "378653     4\n",
       "378654    22\n",
       "378655     3\n",
       "378656     2\n",
       "378657     3\n",
       "378658    19\n",
       "378659    18\n",
       "378660     9\n",
       "Name: hourofday, Length: 378661, dtype: int64"
      ]
     },
     "execution_count": 356,
     "metadata": {},
     "output_type": "execute_result"
    }
   ],
   "source": [
    "ks['hourofday'] = ks.launched.dt.hour"
   ]
  },
  {
   "cell_type": "code",
   "execution_count": 358,
   "metadata": {},
   "outputs": [
    {
     "data": {
      "text/plain": [
       "hourofday\n",
       "0      209.935\n",
       "1      427.050\n",
       "2      243.570\n",
       "3      150.690\n",
       "4      145.025\n",
       "5      101.870\n",
       "6      355.720\n",
       "7     1323.920\n",
       "8      922.140\n",
       "9     1466.585\n",
       "10    1178.160\n",
       "11    1086.610\n",
       "12     933.310\n",
       "13    1009.480\n",
       "14     872.540\n",
       "15     635.350\n",
       "16     416.290\n",
       "17     438.935\n",
       "18     451.290\n",
       "19     394.360\n",
       "20     284.090\n",
       "21     348.130\n",
       "22     304.450\n",
       "23     219.235\n",
       "Name: usd_pledged_real, dtype: float64"
      ]
     },
     "execution_count": 358,
     "metadata": {},
     "output_type": "execute_result"
    }
   ],
   "source": [
    "ks.loc[ks.country == 'GB',:].groupby(['hourofday']).usd_pledged_real.median()"
   ]
  },
  {
   "cell_type": "code",
   "execution_count": 359,
   "metadata": {},
   "outputs": [
    {
     "data": {
      "text/plain": [
       "hourofday\n",
       "0      500.000\n",
       "1      504.000\n",
       "2      520.000\n",
       "3      511.000\n",
       "4      521.000\n",
       "5      551.000\n",
       "6      899.000\n",
       "7      706.000\n",
       "8      700.500\n",
       "9     1350.000\n",
       "10     640.000\n",
       "11    1026.000\n",
       "12    1620.500\n",
       "13    2200.000\n",
       "14    2287.215\n",
       "15    2244.500\n",
       "16    1615.000\n",
       "17    1105.000\n",
       "18     903.000\n",
       "19     681.000\n",
       "20     575.000\n",
       "21     530.000\n",
       "22     485.000\n",
       "23     481.000\n",
       "Name: usd_pledged_real, dtype: float64"
      ]
     },
     "execution_count": 359,
     "metadata": {},
     "output_type": "execute_result"
    }
   ],
   "source": [
    "ks.loc[ks.country == 'US',:].groupby(['hourofday']).usd_pledged_real.median()"
   ]
  },
  {
   "cell_type": "code",
   "execution_count": 360,
   "metadata": {},
   "outputs": [
    {
     "data": {
      "text/plain": [
       "hourofday\n",
       "0      164.330\n",
       "1       16.210\n",
       "2       55.175\n",
       "3       44.280\n",
       "4     4355.045\n",
       "5     1326.885\n",
       "6        0.630\n",
       "7      453.325\n",
       "8       48.370\n",
       "9      807.885\n",
       "10     666.845\n",
       "11     197.400\n",
       "12     487.750\n",
       "13     135.795\n",
       "14      61.445\n",
       "15     371.380\n",
       "16      30.315\n",
       "17     128.160\n",
       "18     106.015\n",
       "19      29.470\n",
       "20     141.660\n",
       "21     106.985\n",
       "22      48.730\n",
       "23      72.680\n",
       "Name: usd_pledged_real, dtype: float64"
      ]
     },
     "execution_count": 360,
     "metadata": {},
     "output_type": "execute_result"
    }
   ],
   "source": [
    "ks.loc[ks.country == 'NO',:].groupby(['hourofday']).usd_pledged_real.median()"
   ]
  },
  {
   "cell_type": "code",
   "execution_count": null,
   "metadata": {
    "collapsed": true
   },
   "outputs": [],
   "source": []
  }
 ],
 "metadata": {
  "kernelspec": {
   "display_name": "Python 3",
   "language": "python",
   "name": "python3"
  },
  "language_info": {
   "codemirror_mode": {
    "name": "ipython",
    "version": 3
   },
   "file_extension": ".py",
   "mimetype": "text/x-python",
   "name": "python",
   "nbconvert_exporter": "python",
   "pygments_lexer": "ipython3",
   "version": "3.6.1"
  }
 },
 "nbformat": 4,
 "nbformat_minor": 2
}
