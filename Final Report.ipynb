{
 "cells": [
  {
   "cell_type": "markdown",
   "metadata": {},
   "source": [
    "# KICKSTARTER DATA ANALYSIS - Paulina Hernandez, Hannah Ross, Matthew Waismann, and James Wilson"
   ]
  },
  {
   "cell_type": "markdown",
   "metadata": {},
   "source": [
    "## Background Information"
   ]
  },
  {
   "cell_type": "markdown",
   "metadata": {},
   "source": [
    "Kickstarter is an online crowdfunding campaign platform for creative project makers seeking pledger support to pursue projects for categories like film, music, books, technology, and design. With\ta\tmission\tto help\tbring\tcreative projects\tto\tlife,\tKickstarter has\tattracted\tover\t13\tmillion\tbacker dollars\tto\tsuccessfully\tfund\t134,\t767\tprojects. Many recognizable products and companies that we know today began as Kickstarter projects; the most famous of which includes Occulus, a virtual reality company acquired by Facebook in 2014 for  2 Billion dollars (after raising $2.4 million on Kickstarter). Unlike other crowdfunding campaigns like gofundme.com, Kickstarter is unique because if the fundraising goal for a campaign is not met, then all pledged donations to the campaign will be returned to the donors. Kickstarter differentiates itself from other crowdfunding sites in this regard because it doesn't allow projects that fundraise for charity. Rather, projects must create something to share with others. While nonprofits can launch projects, the project can’t merely promise to raise funds to donate. Furthermore differentiating Kickstarter from other crowdfunding platforms is how Kickstarter has stricter regulations about what its platform can and can not be used for. While gofundme.com will let people raise funds for almost anything, Kickstarter has stricter regulations about what constitutes an allowed project; for example, projects can not fundraise for charity, nor can they involve prohibited items, offer equity to backers, or use photorealistic renderings of prototypes. \n",
    "\n",
    "*** there are x many cats 159 \n",
    "*** there are x many main cats 15\n",
    "\n",
    "\n",
    "\n",
    "\n",
    "If the creators do reach their goal amount, then and only then, will Kickstarter take 5 percent of the funds raised which gets used to support necessary operations for sustaining the platform. \n",
    "\n",
    "Kickstarter campaigns involve primarily two parties: the creators, and the backers. The creators are the party who is seeking financial support in order to execute their specified goal. This goal may be anything from a creative endeavor like a documentary film, to a business endeavor like a technology start up. The ability to provide a service that captures the needs and excitement of backers is key to the creators ability to gain backer support. Successful campaigns are thought to have both large numbers of pledgers and large pledge amounts. The creators are responsible for declaring a set goal amount that is needed in order to fund their ideas. Unless the creators are able to raise their goal amount within their specified time frame, Kickstarter returns all the pledged money to the campaign’s backers. In exchange for backer pledges, the Kickstarter campaign creators may choose to repay backers with interest on their pledge, or free products, but they may not repay their backers with equity.\n",
    "\n",
    "The backers are individuals who pledge donation amounts to campaigns in order to help the projects reach fruition.  In return for their pledges, backers receive reward promises that are determined by the terms of the Kickstarter campaigns’s creators. Kickstart is inherently risky because crowdfunding sights can not promise that the projects funded will come to fruition. The backers may have someone take their money without any guarantee that they will get their money back. Similarly, creators may ultimately realize that they need more money than they initially projected so despite receiving the funds that they asked for, they will not be able to meet the promises they made for refunding their backers. \n",
    "\n",
    "\n",
    "Our data set is compiled from Kaggle, and it contains Kickstarter projects since its founding in 2009. In our data set, each observational unit is a Kickstarter campaign project. Each Kickstarter project has 15 variables associated with it. Each project has a unique ID, which is its internal Kickstarter ID, and a name which is the name of the project that the campaign creators have made. This project name is a title that creators are advised to make such that it contains a clear goal for what the projects intends to do and/or provide. There are 15 levels to the Main Category variable which is a large umbrella broad category that a project belongs to like Publishing, Food, Art, and Fashion. Category is a more narrow variable with 159 levels which describes the niche category that a project belongs to like Comic Books, Art Books, and Drinks. Currency is the currency used to support the project. Since projects are supported in various currencies, all pledged donations are converted to USD currency for comparison purposes. Deadline is the date that the campaign ends on. It is by this date that aggregate pledges must meet or exceed a projects set goal amount in order for the project to be a 'success'; otherwise, the project is a 'failure' all pledges are returned to donors and the creators do not get any of the pledged funds. If the project is terminated before it reaches its deadline date, then the project's status is defined as 'canceled'. Each campaign’s Goal is the fundraising goal reflecting the amount of money that a creator has determined that they need to complete their project. This is the amount of money that a project must obtain by the deadline in order to be successful. Launched is another variable the date that the creator’s launched the Kickstarter campaign on the platform. Pledged is the amount pledged by the ‘crowd’, and state is the current condition the project is in. If the pledged value for a project meets or exceeds the projects goal amount, then the project is a success. If the pledged amount is less than the goal amount, then the project has failed. In addition to failed and successful, there are also possible states like canceled, undefined, live, and suspended. Live conveys that the project is currently still in progress, and suspended projects which get canceled by Kickstarter for fraudulent or otherwise unacceptable behavior. Each observation also has a backers feature which records the number of backers that a project has. This is the number of unique pledges that a campaign receives. Country is the country in which the campaign is created in. We expect that the country that a project is created in should align with the currency that the campaign's pledges are in. We found an exception to this where 9 percent of pledges are in Great Britain Pound currency, yet only 8 percent of pledges are from Great Britain country. This is because there are countries outside of the United Kingdom that use the Pound. USD pledged is the amount of money pledged in US dollars, goal amount USD is the project’s goal amount converted to USD. Goal is in the currency in which the projects received pledges in, e.g.: a project in Great Britains actual goal amount would be in Great Britain's currency, however, USD Goal real is the projects goal amount converted into USD currency. We expect that for campaigns in the US that goal amount and USD goal real amounts are the same. However, for countries that use currencies other than USD, we expect that its goal amount and its USD goal real amount are different.\n",
    "\n",
    "USD pledged is different than USD pledged real because of how the conversions were calculated. USD pledged is the US dollar conversion amount of the pledged column as converted by Kickstarter. USD pledged real is the conversion in US dollars of the pledged column as converted with Fixer.io API. \n",
    "\n",
    "\n",
    "In addition to these variables, we also derived our own for exploratory and modeling purposes. One of the variables that we created was Season denoting the season (Fall, Winter, Spring, Summer). We expected that campains would be more successful in Winter due to the giving and philanthropic holiday season. We also derived time of day from the initial launch variable in order to see how the timing of a campaign's launch influenced its success. This variable had levels of mid-day, evening, late night, and morning. We suspected that campaigns launched on Kickstarter in the Morning would have more success because they would be checked by more people who check the site in throughout the day. From the launch variable and the deadline variable, we derived a campaign length variable that conveys how long the campaign is. Kickstarter's maximum length limit is 60 days, however Kickstarter advises creators to limit their campaign length to 30 days. For modeling purposes, we derived a year of launch variable from launch date to see if the year of a project's launch can be indicitaive of the projects success, maybe due to lurking economic conditions in each year.\n",
    "\n",
    "We derived an hour of day variable from the launch feature which describes the hour in which the campaign was launched. Also for modeling purposes, we created boolean variables for whether or not the project name contains an exclamation point, and whether or not the project name contained title capitalization. We expect that projects with exclamation points would be more successful due to the jarring psychological influence of exclamation points, and the prevalence of exclamation points in spam to get viewer attention. Lastly, we created a word count variable for the number of words in the project name, and a length of characters variable counting the number of characters in project names. Certainly there is additional information about Kickstarter campaigns that we would like to have access to, however we could not consider due to limitations in our dataset. For example, we were curious to see if including a video on a campaign page influences the success rate of the project, but we did not have access to this such information.\n",
    "\n",
    "Due to extensive previous research that has been done investigating Kickstarter's relationship with startup culture, we expected technology as a category to be an important feature of successful campaigns, but this, as we'll show, was not the case. This such previous research has confirmed that Kickstarter is used both for one time projects like art installations, and also for ongoing projects like fashion and innovative gadgets. Among all the projects on Kickstarter, more than two-thirds fall into the one-time activities category. These projects enjoy a higher rate of success compared to ongoing ventures. However, they account for a much smaller share of total funding pledged on the platform. On average, ongoing ventures raised nearly twice as much as one-time activities. We were curious about hte implications of Kickstarter data to explai economic conditions in various countries, and according to  a Brookings Metropolitan Policy Program analysis, Kickstarter funding is strongly related to venture capital investment. \n",
    "\n",
    "Kickstarter's website boasts a 36.59 percent success rate of its projects, with a third of its total backers being repeat backers. In our modeling analysis, we hope to use a Random Forest model to predict whether or not a Kickstarter project will be succesfull given only the information that creators would know at the time of launching (eg: not including the number of backers, and the amount of money pledged).  \n"
   ]
  },
  {
   "cell_type": "markdown",
   "metadata": {},
   "source": [
    "# DATA EXPLORATION"
   ]
  },
  {
   "cell_type": "code",
   "execution_count": 221,
   "metadata": {
    "collapsed": true
   },
   "outputs": [],
   "source": [
    "import pandas as pd\n",
    "import numpy as np\n",
    "import seaborn as sns\n",
    "import datetime as dt\n",
    "from collections import Counter\n",
    "import matplotlib.pyplot as plt\n",
    "%matplotlib inline\n",
    "import math as math\n",
    "from collections import Counter\n",
    "from numpy import array\n",
    "from numpy import argmax\n",
    "from sklearn import preprocessing\n",
    "from sklearn.ensemble import RandomForestClassifier\n",
    "from sklearn.metrics import accuracy_score\n",
    "from sklearn.metrics import confusion_matrix\n",
    "from sklearn.metrics import roc_auc_score\n",
    "from sklearn.metrics import classification_report\n",
    "from sklearn.neighbors import KNeighborsClassifier \n",
    "from sklearn.model_selection import train_test_split\n",
    "from sklearn import preprocessing\n",
    "from sklearn.preprocessing import OneHotEncoder, LabelEncoder\n",
    "from sklearn.model_selection import cross_val_score\n",
    "from sklearn.metrics import classification_report\n",
    "from sklearn import metrics"
   ]
  },
  {
   "cell_type": "markdown",
   "metadata": {},
   "source": [
    "## Reading in the data"
   ]
  },
  {
   "cell_type": "code",
   "execution_count": 108,
   "metadata": {},
   "outputs": [
    {
     "data": {
      "text/html": [
       "<div>\n",
       "<style>\n",
       "    .dataframe thead tr:only-child th {\n",
       "        text-align: right;\n",
       "    }\n",
       "\n",
       "    .dataframe thead th {\n",
       "        text-align: left;\n",
       "    }\n",
       "\n",
       "    .dataframe tbody tr th {\n",
       "        vertical-align: top;\n",
       "    }\n",
       "</style>\n",
       "<table border=\"1\" class=\"dataframe\">\n",
       "  <thead>\n",
       "    <tr style=\"text-align: right;\">\n",
       "      <th></th>\n",
       "      <th>ID</th>\n",
       "      <th>name</th>\n",
       "      <th>category</th>\n",
       "      <th>main_category</th>\n",
       "      <th>currency</th>\n",
       "      <th>deadline</th>\n",
       "      <th>goal</th>\n",
       "      <th>launched</th>\n",
       "      <th>pledged</th>\n",
       "      <th>state</th>\n",
       "      <th>backers</th>\n",
       "      <th>country</th>\n",
       "      <th>usd pledged</th>\n",
       "      <th>usd_pledged_real</th>\n",
       "      <th>usd_goal_real</th>\n",
       "    </tr>\n",
       "  </thead>\n",
       "  <tbody>\n",
       "    <tr>\n",
       "      <th>0</th>\n",
       "      <td>1000002330</td>\n",
       "      <td>The Songs of Adelaide &amp; Abullah</td>\n",
       "      <td>Poetry</td>\n",
       "      <td>Publishing</td>\n",
       "      <td>GBP</td>\n",
       "      <td>2015-10-09</td>\n",
       "      <td>1000.0</td>\n",
       "      <td>2015-08-11 12:12:28</td>\n",
       "      <td>0.0</td>\n",
       "      <td>failed</td>\n",
       "      <td>0</td>\n",
       "      <td>GB</td>\n",
       "      <td>0.0</td>\n",
       "      <td>0.0</td>\n",
       "      <td>1533.95</td>\n",
       "    </tr>\n",
       "    <tr>\n",
       "      <th>1</th>\n",
       "      <td>1000003930</td>\n",
       "      <td>Greeting From Earth: ZGAC Arts Capsule For ET</td>\n",
       "      <td>Narrative Film</td>\n",
       "      <td>Film &amp; Video</td>\n",
       "      <td>USD</td>\n",
       "      <td>2017-11-01</td>\n",
       "      <td>30000.0</td>\n",
       "      <td>2017-09-02 04:43:57</td>\n",
       "      <td>2421.0</td>\n",
       "      <td>failed</td>\n",
       "      <td>15</td>\n",
       "      <td>US</td>\n",
       "      <td>100.0</td>\n",
       "      <td>2421.0</td>\n",
       "      <td>30000.00</td>\n",
       "    </tr>\n",
       "    <tr>\n",
       "      <th>2</th>\n",
       "      <td>1000004038</td>\n",
       "      <td>Where is Hank?</td>\n",
       "      <td>Narrative Film</td>\n",
       "      <td>Film &amp; Video</td>\n",
       "      <td>USD</td>\n",
       "      <td>2013-02-26</td>\n",
       "      <td>45000.0</td>\n",
       "      <td>2013-01-12 00:20:50</td>\n",
       "      <td>220.0</td>\n",
       "      <td>failed</td>\n",
       "      <td>3</td>\n",
       "      <td>US</td>\n",
       "      <td>220.0</td>\n",
       "      <td>220.0</td>\n",
       "      <td>45000.00</td>\n",
       "    </tr>\n",
       "    <tr>\n",
       "      <th>3</th>\n",
       "      <td>1000007540</td>\n",
       "      <td>ToshiCapital Rekordz Needs Help to Complete Album</td>\n",
       "      <td>Music</td>\n",
       "      <td>Music</td>\n",
       "      <td>USD</td>\n",
       "      <td>2012-04-16</td>\n",
       "      <td>5000.0</td>\n",
       "      <td>2012-03-17 03:24:11</td>\n",
       "      <td>1.0</td>\n",
       "      <td>failed</td>\n",
       "      <td>1</td>\n",
       "      <td>US</td>\n",
       "      <td>1.0</td>\n",
       "      <td>1.0</td>\n",
       "      <td>5000.00</td>\n",
       "    </tr>\n",
       "    <tr>\n",
       "      <th>4</th>\n",
       "      <td>1000011046</td>\n",
       "      <td>Community Film Project: The Art of Neighborhoo...</td>\n",
       "      <td>Film &amp; Video</td>\n",
       "      <td>Film &amp; Video</td>\n",
       "      <td>USD</td>\n",
       "      <td>2015-08-29</td>\n",
       "      <td>19500.0</td>\n",
       "      <td>2015-07-04 08:35:03</td>\n",
       "      <td>1283.0</td>\n",
       "      <td>canceled</td>\n",
       "      <td>14</td>\n",
       "      <td>US</td>\n",
       "      <td>1283.0</td>\n",
       "      <td>1283.0</td>\n",
       "      <td>19500.00</td>\n",
       "    </tr>\n",
       "  </tbody>\n",
       "</table>\n",
       "</div>"
      ],
      "text/plain": [
       "           ID                                               name  \\\n",
       "0  1000002330                    The Songs of Adelaide & Abullah   \n",
       "1  1000003930      Greeting From Earth: ZGAC Arts Capsule For ET   \n",
       "2  1000004038                                     Where is Hank?   \n",
       "3  1000007540  ToshiCapital Rekordz Needs Help to Complete Album   \n",
       "4  1000011046  Community Film Project: The Art of Neighborhoo...   \n",
       "\n",
       "         category main_category currency    deadline     goal  \\\n",
       "0          Poetry    Publishing      GBP  2015-10-09   1000.0   \n",
       "1  Narrative Film  Film & Video      USD  2017-11-01  30000.0   \n",
       "2  Narrative Film  Film & Video      USD  2013-02-26  45000.0   \n",
       "3           Music         Music      USD  2012-04-16   5000.0   \n",
       "4    Film & Video  Film & Video      USD  2015-08-29  19500.0   \n",
       "\n",
       "              launched  pledged     state  backers country  usd pledged  \\\n",
       "0  2015-08-11 12:12:28      0.0    failed        0      GB          0.0   \n",
       "1  2017-09-02 04:43:57   2421.0    failed       15      US        100.0   \n",
       "2  2013-01-12 00:20:50    220.0    failed        3      US        220.0   \n",
       "3  2012-03-17 03:24:11      1.0    failed        1      US          1.0   \n",
       "4  2015-07-04 08:35:03   1283.0  canceled       14      US       1283.0   \n",
       "\n",
       "   usd_pledged_real  usd_goal_real  \n",
       "0               0.0        1533.95  \n",
       "1            2421.0       30000.00  \n",
       "2             220.0       45000.00  \n",
       "3               1.0        5000.00  \n",
       "4            1283.0       19500.00  "
      ]
     },
     "execution_count": 108,
     "metadata": {},
     "output_type": "execute_result"
    }
   ],
   "source": [
    "ks = pd.read_csv(\"~/Desktop/dataforgood/data/ks-projects-201801.csv\")\n",
    "ks.head()"
   ]
  },
  {
   "cell_type": "code",
   "execution_count": 109,
   "metadata": {},
   "outputs": [
    {
     "data": {
      "text/html": [
       "<div>\n",
       "<style>\n",
       "    .dataframe thead tr:only-child th {\n",
       "        text-align: right;\n",
       "    }\n",
       "\n",
       "    .dataframe thead th {\n",
       "        text-align: left;\n",
       "    }\n",
       "\n",
       "    .dataframe tbody tr th {\n",
       "        vertical-align: top;\n",
       "    }\n",
       "</style>\n",
       "<table border=\"1\" class=\"dataframe\">\n",
       "  <thead>\n",
       "    <tr style=\"text-align: right;\">\n",
       "      <th></th>\n",
       "      <th>ID</th>\n",
       "      <th>goal</th>\n",
       "      <th>pledged</th>\n",
       "      <th>backers</th>\n",
       "      <th>usd pledged</th>\n",
       "      <th>usd_pledged_real</th>\n",
       "      <th>usd_goal_real</th>\n",
       "    </tr>\n",
       "  </thead>\n",
       "  <tbody>\n",
       "    <tr>\n",
       "      <th>count</th>\n",
       "      <td>378661</td>\n",
       "      <td>378661</td>\n",
       "      <td>378661</td>\n",
       "      <td>378661</td>\n",
       "      <td>374864</td>\n",
       "      <td>378661</td>\n",
       "      <td>378661</td>\n",
       "    </tr>\n",
       "    <tr>\n",
       "      <th>mean</th>\n",
       "      <td>1074731191</td>\n",
       "      <td>49080</td>\n",
       "      <td>9682</td>\n",
       "      <td>105</td>\n",
       "      <td>7036</td>\n",
       "      <td>9058</td>\n",
       "      <td>45454</td>\n",
       "    </tr>\n",
       "    <tr>\n",
       "      <th>std</th>\n",
       "      <td>619086204</td>\n",
       "      <td>1183391</td>\n",
       "      <td>95636</td>\n",
       "      <td>907</td>\n",
       "      <td>78639</td>\n",
       "      <td>90973</td>\n",
       "      <td>1152950</td>\n",
       "    </tr>\n",
       "    <tr>\n",
       "      <th>min</th>\n",
       "      <td>5971</td>\n",
       "      <td>0</td>\n",
       "      <td>0</td>\n",
       "      <td>0</td>\n",
       "      <td>0</td>\n",
       "      <td>0</td>\n",
       "      <td>0</td>\n",
       "    </tr>\n",
       "    <tr>\n",
       "      <th>25%</th>\n",
       "      <td>538263516</td>\n",
       "      <td>2000</td>\n",
       "      <td>30</td>\n",
       "      <td>2</td>\n",
       "      <td>16</td>\n",
       "      <td>31</td>\n",
       "      <td>2000</td>\n",
       "    </tr>\n",
       "    <tr>\n",
       "      <th>50%</th>\n",
       "      <td>1075275634</td>\n",
       "      <td>5200</td>\n",
       "      <td>620</td>\n",
       "      <td>12</td>\n",
       "      <td>394</td>\n",
       "      <td>624</td>\n",
       "      <td>5500</td>\n",
       "    </tr>\n",
       "    <tr>\n",
       "      <th>75%</th>\n",
       "      <td>1610148624</td>\n",
       "      <td>16000</td>\n",
       "      <td>4076</td>\n",
       "      <td>56</td>\n",
       "      <td>3034</td>\n",
       "      <td>4050</td>\n",
       "      <td>15500</td>\n",
       "    </tr>\n",
       "    <tr>\n",
       "      <th>max</th>\n",
       "      <td>2147476221</td>\n",
       "      <td>100000000</td>\n",
       "      <td>20338986</td>\n",
       "      <td>219382</td>\n",
       "      <td>20338986</td>\n",
       "      <td>20338986</td>\n",
       "      <td>166361390</td>\n",
       "    </tr>\n",
       "  </tbody>\n",
       "</table>\n",
       "</div>"
      ],
      "text/plain": [
       "               ID       goal   pledged  backers  usd pledged  \\\n",
       "count      378661     378661    378661   378661       374864   \n",
       "mean   1074731191      49080      9682      105         7036   \n",
       "std     619086204    1183391     95636      907        78639   \n",
       "min          5971          0         0        0            0   \n",
       "25%     538263516       2000        30        2           16   \n",
       "50%    1075275634       5200       620       12          394   \n",
       "75%    1610148624      16000      4076       56         3034   \n",
       "max    2147476221  100000000  20338986   219382     20338986   \n",
       "\n",
       "       usd_pledged_real  usd_goal_real  \n",
       "count            378661         378661  \n",
       "mean               9058          45454  \n",
       "std               90973        1152950  \n",
       "min                   0              0  \n",
       "25%                  31           2000  \n",
       "50%                 624           5500  \n",
       "75%                4050          15500  \n",
       "max            20338986      166361390  "
      ]
     },
     "execution_count": 109,
     "metadata": {},
     "output_type": "execute_result"
    }
   ],
   "source": [
    "ks.describe().astype(int)"
   ]
  },
  {
   "cell_type": "markdown",
   "metadata": {},
   "source": [
    "#### Looking at all the different countries in the data"
   ]
  },
  {
   "cell_type": "code",
   "execution_count": 110,
   "metadata": {},
   "outputs": [
    {
     "data": {
      "text/plain": [
       "array(['GB', 'US', 'CA', 'AU', 'NO', 'IT', 'DE', 'IE', 'MX', 'ES', 'N,0\"',\n",
       "       'SE', 'FR', 'NL', 'NZ', 'CH', 'AT', 'DK', 'BE', 'HK', 'LU', 'SG',\n",
       "       'JP'], dtype=object)"
      ]
     },
     "execution_count": 110,
     "metadata": {},
     "output_type": "execute_result"
    }
   ],
   "source": [
    "ks.country.unique()"
   ]
  },
  {
   "cell_type": "markdown",
   "metadata": {},
   "source": [
    "#### Total number of kickstarters per country "
   ]
  },
  {
   "cell_type": "code",
   "execution_count": 111,
   "metadata": {},
   "outputs": [
    {
     "data": {
      "text/plain": [
       "US      292627\n",
       "GB       33672\n",
       "CA       14756\n",
       "AU        7839\n",
       "DE        4171\n",
       "N,0\"      3797\n",
       "FR        2939\n",
       "IT        2878\n",
       "NL        2868\n",
       "ES        2276\n",
       "SE        1757\n",
       "MX        1752\n",
       "NZ        1447\n",
       "DK        1113\n",
       "IE         811\n",
       "CH         761\n",
       "NO         708\n",
       "HK         618\n",
       "BE         617\n",
       "AT         597\n",
       "SG         555\n",
       "LU          62\n",
       "JP          40\n",
       "Name: country, dtype: int64"
      ]
     },
     "execution_count": 111,
     "metadata": {},
     "output_type": "execute_result"
    }
   ],
   "source": [
    "ks.country.value_counts()"
   ]
  },
  {
   "cell_type": "markdown",
   "metadata": {},
   "source": [
    "#### Replace NA’s in country with None"
   ]
  },
  {
   "cell_type": "code",
   "execution_count": 112,
   "metadata": {},
   "outputs": [
    {
     "data": {
      "text/plain": [
       "US      292627\n",
       "GB       33672\n",
       "CA       14756\n",
       "AU        7839\n",
       "DE        4171\n",
       "None      3797\n",
       "FR        2939\n",
       "IT        2878\n",
       "NL        2868\n",
       "ES        2276\n",
       "SE        1757\n",
       "MX        1752\n",
       "NZ        1447\n",
       "DK        1113\n",
       "IE         811\n",
       "CH         761\n",
       "NO         708\n",
       "HK         618\n",
       "BE         617\n",
       "AT         597\n",
       "SG         555\n",
       "LU          62\n",
       "JP          40\n",
       "Name: country, dtype: int64"
      ]
     },
     "execution_count": 112,
     "metadata": {},
     "output_type": "execute_result"
    }
   ],
   "source": [
    "replace = ks[~ks.country.str.contains('^[A-Z]{2}$', case=False)].country.unique().tolist()\n",
    "ks.loc[:,'country'] = ks.country.replace(to_replace=replace, value='None')\n",
    "ks.country.value_counts()"
   ]
  },
  {
   "cell_type": "markdown",
   "metadata": {},
   "source": [
    "## Which regions have the best success with kickstarters?"
   ]
  },
  {
   "cell_type": "markdown",
   "metadata": {},
   "source": [
    "#### Total number of kickstarters within each state per country\n"
   ]
  },
  {
   "cell_type": "code",
   "execution_count": 113,
   "metadata": {},
   "outputs": [
    {
     "data": {
      "text/html": [
       "<div>\n",
       "<style>\n",
       "    .dataframe thead tr:only-child th {\n",
       "        text-align: right;\n",
       "    }\n",
       "\n",
       "    .dataframe thead th {\n",
       "        text-align: left;\n",
       "    }\n",
       "\n",
       "    .dataframe tbody tr th {\n",
       "        vertical-align: top;\n",
       "    }\n",
       "</style>\n",
       "<table border=\"1\" class=\"dataframe\">\n",
       "  <thead>\n",
       "    <tr>\n",
       "      <th></th>\n",
       "      <th colspan=\"6\" halign=\"left\">state</th>\n",
       "    </tr>\n",
       "    <tr>\n",
       "      <th>state</th>\n",
       "      <th>canceled</th>\n",
       "      <th>failed</th>\n",
       "      <th>live</th>\n",
       "      <th>successful</th>\n",
       "      <th>suspended</th>\n",
       "      <th>undefined</th>\n",
       "    </tr>\n",
       "    <tr>\n",
       "      <th>country</th>\n",
       "      <th></th>\n",
       "      <th></th>\n",
       "      <th></th>\n",
       "      <th></th>\n",
       "      <th></th>\n",
       "      <th></th>\n",
       "    </tr>\n",
       "  </thead>\n",
       "  <tbody>\n",
       "    <tr>\n",
       "      <th>AT</th>\n",
       "      <td>91.0</td>\n",
       "      <td>378.0</td>\n",
       "      <td>15.0</td>\n",
       "      <td>107.0</td>\n",
       "      <td>6.0</td>\n",
       "      <td>NaN</td>\n",
       "    </tr>\n",
       "    <tr>\n",
       "      <th>AU</th>\n",
       "      <td>1065.0</td>\n",
       "      <td>4606.0</td>\n",
       "      <td>70.0</td>\n",
       "      <td>2010.0</td>\n",
       "      <td>88.0</td>\n",
       "      <td>NaN</td>\n",
       "    </tr>\n",
       "    <tr>\n",
       "      <th>BE</th>\n",
       "      <td>74.0</td>\n",
       "      <td>371.0</td>\n",
       "      <td>12.0</td>\n",
       "      <td>152.0</td>\n",
       "      <td>8.0</td>\n",
       "      <td>NaN</td>\n",
       "    </tr>\n",
       "    <tr>\n",
       "      <th>CA</th>\n",
       "      <td>2138.0</td>\n",
       "      <td>8236.0</td>\n",
       "      <td>132.0</td>\n",
       "      <td>4134.0</td>\n",
       "      <td>116.0</td>\n",
       "      <td>NaN</td>\n",
       "    </tr>\n",
       "    <tr>\n",
       "      <th>CH</th>\n",
       "      <td>84.0</td>\n",
       "      <td>465.0</td>\n",
       "      <td>14.0</td>\n",
       "      <td>187.0</td>\n",
       "      <td>11.0</td>\n",
       "      <td>NaN</td>\n",
       "    </tr>\n",
       "    <tr>\n",
       "      <th>DE</th>\n",
       "      <td>621.0</td>\n",
       "      <td>2499.0</td>\n",
       "      <td>75.0</td>\n",
       "      <td>937.0</td>\n",
       "      <td>39.0</td>\n",
       "      <td>NaN</td>\n",
       "    </tr>\n",
       "    <tr>\n",
       "      <th>DK</th>\n",
       "      <td>157.0</td>\n",
       "      <td>566.0</td>\n",
       "      <td>16.0</td>\n",
       "      <td>360.0</td>\n",
       "      <td>14.0</td>\n",
       "      <td>NaN</td>\n",
       "    </tr>\n",
       "    <tr>\n",
       "      <th>ES</th>\n",
       "      <td>331.0</td>\n",
       "      <td>1381.0</td>\n",
       "      <td>52.0</td>\n",
       "      <td>492.0</td>\n",
       "      <td>20.0</td>\n",
       "      <td>NaN</td>\n",
       "    </tr>\n",
       "    <tr>\n",
       "      <th>FR</th>\n",
       "      <td>353.0</td>\n",
       "      <td>1612.0</td>\n",
       "      <td>52.0</td>\n",
       "      <td>908.0</td>\n",
       "      <td>14.0</td>\n",
       "      <td>NaN</td>\n",
       "    </tr>\n",
       "    <tr>\n",
       "      <th>GB</th>\n",
       "      <td>3761.0</td>\n",
       "      <td>17387.0</td>\n",
       "      <td>279.0</td>\n",
       "      <td>12067.0</td>\n",
       "      <td>178.0</td>\n",
       "      <td>NaN</td>\n",
       "    </tr>\n",
       "    <tr>\n",
       "      <th>HK</th>\n",
       "      <td>87.0</td>\n",
       "      <td>261.0</td>\n",
       "      <td>35.0</td>\n",
       "      <td>216.0</td>\n",
       "      <td>19.0</td>\n",
       "      <td>NaN</td>\n",
       "    </tr>\n",
       "    <tr>\n",
       "      <th>IE</th>\n",
       "      <td>110.0</td>\n",
       "      <td>476.0</td>\n",
       "      <td>11.0</td>\n",
       "      <td>207.0</td>\n",
       "      <td>7.0</td>\n",
       "      <td>NaN</td>\n",
       "    </tr>\n",
       "    <tr>\n",
       "      <th>IT</th>\n",
       "      <td>406.0</td>\n",
       "      <td>1930.0</td>\n",
       "      <td>76.0</td>\n",
       "      <td>439.0</td>\n",
       "      <td>27.0</td>\n",
       "      <td>NaN</td>\n",
       "    </tr>\n",
       "    <tr>\n",
       "      <th>JP</th>\n",
       "      <td>8.0</td>\n",
       "      <td>16.0</td>\n",
       "      <td>9.0</td>\n",
       "      <td>7.0</td>\n",
       "      <td>NaN</td>\n",
       "      <td>NaN</td>\n",
       "    </tr>\n",
       "    <tr>\n",
       "      <th>LU</th>\n",
       "      <td>4.0</td>\n",
       "      <td>38.0</td>\n",
       "      <td>1.0</td>\n",
       "      <td>19.0</td>\n",
       "      <td>NaN</td>\n",
       "      <td>NaN</td>\n",
       "    </tr>\n",
       "    <tr>\n",
       "      <th>MX</th>\n",
       "      <td>221.0</td>\n",
       "      <td>1015.0</td>\n",
       "      <td>107.0</td>\n",
       "      <td>396.0</td>\n",
       "      <td>13.0</td>\n",
       "      <td>NaN</td>\n",
       "    </tr>\n",
       "    <tr>\n",
       "      <th>NL</th>\n",
       "      <td>396.0</td>\n",
       "      <td>1794.0</td>\n",
       "      <td>35.0</td>\n",
       "      <td>617.0</td>\n",
       "      <td>26.0</td>\n",
       "      <td>NaN</td>\n",
       "    </tr>\n",
       "    <tr>\n",
       "      <th>NO</th>\n",
       "      <td>112.0</td>\n",
       "      <td>420.0</td>\n",
       "      <td>8.0</td>\n",
       "      <td>162.0</td>\n",
       "      <td>6.0</td>\n",
       "      <td>NaN</td>\n",
       "    </tr>\n",
       "    <tr>\n",
       "      <th>NZ</th>\n",
       "      <td>151.0</td>\n",
       "      <td>826.0</td>\n",
       "      <td>11.0</td>\n",
       "      <td>448.0</td>\n",
       "      <td>11.0</td>\n",
       "      <td>NaN</td>\n",
       "    </tr>\n",
       "    <tr>\n",
       "      <th>None</th>\n",
       "      <td>22.0</td>\n",
       "      <td>105.0</td>\n",
       "      <td>1.0</td>\n",
       "      <td>105.0</td>\n",
       "      <td>2.0</td>\n",
       "      <td>3562.0</td>\n",
       "    </tr>\n",
       "    <tr>\n",
       "      <th>SE</th>\n",
       "      <td>209.0</td>\n",
       "      <td>1000.0</td>\n",
       "      <td>20.0</td>\n",
       "      <td>509.0</td>\n",
       "      <td>19.0</td>\n",
       "      <td>NaN</td>\n",
       "    </tr>\n",
       "    <tr>\n",
       "      <th>SG</th>\n",
       "      <td>67.0</td>\n",
       "      <td>276.0</td>\n",
       "      <td>28.0</td>\n",
       "      <td>178.0</td>\n",
       "      <td>6.0</td>\n",
       "      <td>NaN</td>\n",
       "    </tr>\n",
       "    <tr>\n",
       "      <th>US</th>\n",
       "      <td>28311.0</td>\n",
       "      <td>152061.0</td>\n",
       "      <td>1740.0</td>\n",
       "      <td>109299.0</td>\n",
       "      <td>1216.0</td>\n",
       "      <td>NaN</td>\n",
       "    </tr>\n",
       "  </tbody>\n",
       "</table>\n",
       "</div>"
      ],
      "text/plain": [
       "           state                                                 \n",
       "state   canceled    failed    live successful suspended undefined\n",
       "country                                                          \n",
       "AT          91.0     378.0    15.0      107.0       6.0       NaN\n",
       "AU        1065.0    4606.0    70.0     2010.0      88.0       NaN\n",
       "BE          74.0     371.0    12.0      152.0       8.0       NaN\n",
       "CA        2138.0    8236.0   132.0     4134.0     116.0       NaN\n",
       "CH          84.0     465.0    14.0      187.0      11.0       NaN\n",
       "DE         621.0    2499.0    75.0      937.0      39.0       NaN\n",
       "DK         157.0     566.0    16.0      360.0      14.0       NaN\n",
       "ES         331.0    1381.0    52.0      492.0      20.0       NaN\n",
       "FR         353.0    1612.0    52.0      908.0      14.0       NaN\n",
       "GB        3761.0   17387.0   279.0    12067.0     178.0       NaN\n",
       "HK          87.0     261.0    35.0      216.0      19.0       NaN\n",
       "IE         110.0     476.0    11.0      207.0       7.0       NaN\n",
       "IT         406.0    1930.0    76.0      439.0      27.0       NaN\n",
       "JP           8.0      16.0     9.0        7.0       NaN       NaN\n",
       "LU           4.0      38.0     1.0       19.0       NaN       NaN\n",
       "MX         221.0    1015.0   107.0      396.0      13.0       NaN\n",
       "NL         396.0    1794.0    35.0      617.0      26.0       NaN\n",
       "NO         112.0     420.0     8.0      162.0       6.0       NaN\n",
       "NZ         151.0     826.0    11.0      448.0      11.0       NaN\n",
       "None        22.0     105.0     1.0      105.0       2.0    3562.0\n",
       "SE         209.0    1000.0    20.0      509.0      19.0       NaN\n",
       "SG          67.0     276.0    28.0      178.0       6.0       NaN\n",
       "US       28311.0  152061.0  1740.0   109299.0    1216.0       NaN"
      ]
     },
     "execution_count": 113,
     "metadata": {},
     "output_type": "execute_result"
    }
   ],
   "source": [
    "states_of_countries = pd.DataFrame(ks.groupby([\"country\",\"state\"]).state.count())\n",
    "states_of_countries.unstack()"
   ]
  },
  {
   "cell_type": "markdown",
   "metadata": {},
   "source": [
    "#### Total number of Kickstarter campaigns per country "
   ]
  },
  {
   "cell_type": "code",
   "execution_count": 114,
   "metadata": {},
   "outputs": [
    {
     "data": {
      "text/plain": [
       "country\n",
       "AT         597\n",
       "AU        7839\n",
       "BE         617\n",
       "CA       14756\n",
       "CH         761\n",
       "DE        4171\n",
       "DK        1113\n",
       "ES        2276\n",
       "FR        2939\n",
       "GB       33672\n",
       "HK         618\n",
       "IE         811\n",
       "IT        2878\n",
       "JP          40\n",
       "LU          62\n",
       "MX        1752\n",
       "NL        2868\n",
       "NO         708\n",
       "NZ        1447\n",
       "None      3797\n",
       "SE        1757\n",
       "SG         555\n",
       "US      292627\n",
       "Name: state, dtype: int64"
      ]
     },
     "execution_count": 114,
     "metadata": {},
     "output_type": "execute_result"
    }
   ],
   "source": [
    "total_states_per_country = states_of_countries.groupby([\"country\"]).state.sum()\n",
    "total_states_per_country"
   ]
  },
  {
   "cell_type": "markdown",
   "metadata": {},
   "source": [
    "#### Percentages of successful kickstaters by country (descending)"
   ]
  },
  {
   "cell_type": "code",
   "execution_count": 115,
   "metadata": {},
   "outputs": [
    {
     "data": {
      "text/plain": [
       "country\n",
       "US      0.373510\n",
       "GB      0.358369\n",
       "HK      0.349515\n",
       "DK      0.323450\n",
       "SG      0.320721\n",
       "NZ      0.309606\n",
       "FR      0.308949\n",
       "LU      0.306452\n",
       "SE      0.289698\n",
       "CA      0.280157\n",
       "AU      0.256410\n",
       "IE      0.255240\n",
       "BE      0.246353\n",
       "CH      0.245729\n",
       "NO      0.228814\n",
       "MX      0.226027\n",
       "DE      0.224646\n",
       "ES      0.216169\n",
       "NL      0.215132\n",
       "AT      0.179229\n",
       "JP      0.175000\n",
       "IT      0.152536\n",
       "None    0.027653\n",
       "Name: successful, dtype: float64"
      ]
     },
     "execution_count": 115,
     "metadata": {},
     "output_type": "execute_result"
    }
   ],
   "source": [
    "rate_eachstate_country = pd.DataFrame(states_of_countries.state / total_states_per_country)\n",
    "rate_eachstate_country = rate_eachstate_country.unstack()\n",
    "rate_eachstate_country.state.successful.sort_values(ascending=False)"
   ]
  },
  {
   "cell_type": "markdown",
   "metadata": {},
   "source": [
    "#### We find that the US has the best success with Kickstarter with about 37% campaigns succeeding. Closely following is the United Kingdom with 35.8% and Hong Kong with 34.95%."
   ]
  },
  {
   "cell_type": "markdown",
   "metadata": {},
   "source": [
    "#### Median Pledge Amount per project per Country (all currencies adjusted to USD)"
   ]
  },
  {
   "cell_type": "code",
   "execution_count": 116,
   "metadata": {},
   "outputs": [
    {
     "data": {
      "text/plain": [
       "country\n",
       "HK      2312.120\n",
       "SG       843.630\n",
       "JP       748.570\n",
       "US       725.000\n",
       "LU       670.765\n",
       "None     616.000\n",
       "FR       540.860\n",
       "GB       506.195\n",
       "DK       372.510\n",
       "CH       371.870\n",
       "NZ       360.960\n",
       "SE       326.160\n",
       "CA       302.820\n",
       "DE       286.410\n",
       "AT       228.240\n",
       "BE       226.430\n",
       "AU       221.730\n",
       "IE       217.900\n",
       "NL       165.510\n",
       "ES       157.305\n",
       "IT       112.115\n",
       "NO       109.045\n",
       "MX        84.650\n",
       "Name: usd_pledged_real, dtype: float64"
      ]
     },
     "execution_count": 116,
     "metadata": {},
     "output_type": "execute_result"
    }
   ],
   "source": [
    "ks.groupby([\"country\"]).usd_pledged_real.median().sort_values(ascending=False)"
   ]
  },
  {
   "cell_type": "markdown",
   "metadata": {},
   "source": [
    "#### Interestingly, Hong Kong (CH) has the highest median real pledge amount by a lot. Mexico has the lowest average real pledge amount."
   ]
  },
  {
   "cell_type": "markdown",
   "metadata": {},
   "source": [
    "## Relationship between goal and success/failure:\n"
   ]
  },
  {
   "cell_type": "markdown",
   "metadata": {},
   "source": [
    "#### Average goal for kickstarter within each state per country "
   ]
  },
  {
   "cell_type": "code",
   "execution_count": 117,
   "metadata": {},
   "outputs": [
    {
     "data": {
      "text/html": [
       "<div>\n",
       "<style>\n",
       "    .dataframe thead tr:only-child th {\n",
       "        text-align: right;\n",
       "    }\n",
       "\n",
       "    .dataframe thead th {\n",
       "        text-align: left;\n",
       "    }\n",
       "\n",
       "    .dataframe tbody tr th {\n",
       "        vertical-align: top;\n",
       "    }\n",
       "</style>\n",
       "<table border=\"1\" class=\"dataframe\">\n",
       "  <thead>\n",
       "    <tr style=\"text-align: right;\">\n",
       "      <th>state</th>\n",
       "      <th>canceled</th>\n",
       "      <th>failed</th>\n",
       "      <th>live</th>\n",
       "      <th>successful</th>\n",
       "      <th>suspended</th>\n",
       "      <th>undefined</th>\n",
       "    </tr>\n",
       "    <tr>\n",
       "      <th>country</th>\n",
       "      <th></th>\n",
       "      <th></th>\n",
       "      <th></th>\n",
       "      <th></th>\n",
       "      <th></th>\n",
       "      <th></th>\n",
       "    </tr>\n",
       "  </thead>\n",
       "  <tbody>\n",
       "    <tr>\n",
       "      <th>AT</th>\n",
       "      <td>17505.660</td>\n",
       "      <td>11735.420</td>\n",
       "      <td>7524.910</td>\n",
       "      <td>7887.590</td>\n",
       "      <td>24644.240</td>\n",
       "      <td>NaN</td>\n",
       "    </tr>\n",
       "    <tr>\n",
       "      <th>AU</th>\n",
       "      <td>10411.010</td>\n",
       "      <td>7443.250</td>\n",
       "      <td>3936.390</td>\n",
       "      <td>3454.630</td>\n",
       "      <td>3877.225</td>\n",
       "      <td>NaN</td>\n",
       "    </tr>\n",
       "    <tr>\n",
       "      <th>BE</th>\n",
       "      <td>11353.470</td>\n",
       "      <td>8708.810</td>\n",
       "      <td>5443.240</td>\n",
       "      <td>3531.270</td>\n",
       "      <td>2260.200</td>\n",
       "      <td>NaN</td>\n",
       "    </tr>\n",
       "    <tr>\n",
       "      <th>CA</th>\n",
       "      <td>8927.770</td>\n",
       "      <td>7382.375</td>\n",
       "      <td>6550.045</td>\n",
       "      <td>3488.255</td>\n",
       "      <td>6112.705</td>\n",
       "      <td>NaN</td>\n",
       "    </tr>\n",
       "    <tr>\n",
       "      <th>CH</th>\n",
       "      <td>25804.815</td>\n",
       "      <td>16400.540</td>\n",
       "      <td>19473.745</td>\n",
       "      <td>10248.630</td>\n",
       "      <td>10327.590</td>\n",
       "      <td>NaN</td>\n",
       "    </tr>\n",
       "    <tr>\n",
       "      <th>DE</th>\n",
       "      <td>16726.510</td>\n",
       "      <td>11005.940</td>\n",
       "      <td>12136.950</td>\n",
       "      <td>5175.240</td>\n",
       "      <td>11360.020</td>\n",
       "      <td>NaN</td>\n",
       "    </tr>\n",
       "    <tr>\n",
       "      <th>DK</th>\n",
       "      <td>7306.630</td>\n",
       "      <td>7266.885</td>\n",
       "      <td>4073.520</td>\n",
       "      <td>2835.905</td>\n",
       "      <td>1175.810</td>\n",
       "      <td>NaN</td>\n",
       "    </tr>\n",
       "    <tr>\n",
       "      <th>ES</th>\n",
       "      <td>11403.030</td>\n",
       "      <td>8907.790</td>\n",
       "      <td>6068.480</td>\n",
       "      <td>3943.810</td>\n",
       "      <td>2239.085</td>\n",
       "      <td>NaN</td>\n",
       "    </tr>\n",
       "    <tr>\n",
       "      <th>FR</th>\n",
       "      <td>12045.000</td>\n",
       "      <td>11013.940</td>\n",
       "      <td>10923.260</td>\n",
       "      <td>5838.050</td>\n",
       "      <td>9700.605</td>\n",
       "      <td>NaN</td>\n",
       "    </tr>\n",
       "    <tr>\n",
       "      <th>GB</th>\n",
       "      <td>9411.470</td>\n",
       "      <td>6730.270</td>\n",
       "      <td>4773.920</td>\n",
       "      <td>2516.010</td>\n",
       "      <td>5884.635</td>\n",
       "      <td>NaN</td>\n",
       "    </tr>\n",
       "    <tr>\n",
       "      <th>HK</th>\n",
       "      <td>10286.610</td>\n",
       "      <td>10313.130</td>\n",
       "      <td>10224.690</td>\n",
       "      <td>6418.530</td>\n",
       "      <td>6390.430</td>\n",
       "      <td>NaN</td>\n",
       "    </tr>\n",
       "    <tr>\n",
       "      <th>IE</th>\n",
       "      <td>18373.070</td>\n",
       "      <td>7336.025</td>\n",
       "      <td>11247.310</td>\n",
       "      <td>4055.810</td>\n",
       "      <td>1682.260</td>\n",
       "      <td>NaN</td>\n",
       "    </tr>\n",
       "    <tr>\n",
       "      <th>IT</th>\n",
       "      <td>15299.420</td>\n",
       "      <td>11745.585</td>\n",
       "      <td>12136.950</td>\n",
       "      <td>3946.530</td>\n",
       "      <td>11090.040</td>\n",
       "      <td>NaN</td>\n",
       "    </tr>\n",
       "    <tr>\n",
       "      <th>JP</th>\n",
       "      <td>26699.750</td>\n",
       "      <td>8901.565</td>\n",
       "      <td>4499.240</td>\n",
       "      <td>2632.960</td>\n",
       "      <td>NaN</td>\n",
       "      <td>NaN</td>\n",
       "    </tr>\n",
       "    <tr>\n",
       "      <th>LU</th>\n",
       "      <td>16601.930</td>\n",
       "      <td>14712.520</td>\n",
       "      <td>6068.480</td>\n",
       "      <td>2435.410</td>\n",
       "      <td>NaN</td>\n",
       "      <td>NaN</td>\n",
       "    </tr>\n",
       "    <tr>\n",
       "      <th>MX</th>\n",
       "      <td>4806.670</td>\n",
       "      <td>3033.710</td>\n",
       "      <td>3401.000</td>\n",
       "      <td>2416.390</td>\n",
       "      <td>1714.090</td>\n",
       "      <td>NaN</td>\n",
       "    </tr>\n",
       "    <tr>\n",
       "      <th>NL</th>\n",
       "      <td>10843.005</td>\n",
       "      <td>10963.955</td>\n",
       "      <td>9466.820</td>\n",
       "      <td>5642.000</td>\n",
       "      <td>6487.035</td>\n",
       "      <td>NaN</td>\n",
       "    </tr>\n",
       "    <tr>\n",
       "      <th>NO</th>\n",
       "      <td>11513.155</td>\n",
       "      <td>6229.340</td>\n",
       "      <td>9109.985</td>\n",
       "      <td>3365.100</td>\n",
       "      <td>98.950</td>\n",
       "      <td>NaN</td>\n",
       "    </tr>\n",
       "    <tr>\n",
       "      <th>NZ</th>\n",
       "      <td>11649.420</td>\n",
       "      <td>6825.955</td>\n",
       "      <td>5805.090</td>\n",
       "      <td>3068.080</td>\n",
       "      <td>644.750</td>\n",
       "      <td>NaN</td>\n",
       "    </tr>\n",
       "    <tr>\n",
       "      <th>None</th>\n",
       "      <td>5000.000</td>\n",
       "      <td>4578.060</td>\n",
       "      <td>25000.000</td>\n",
       "      <td>3671.780</td>\n",
       "      <td>13980.165</td>\n",
       "      <td>3530.425</td>\n",
       "    </tr>\n",
       "    <tr>\n",
       "      <th>SE</th>\n",
       "      <td>11913.270</td>\n",
       "      <td>6045.950</td>\n",
       "      <td>9564.005</td>\n",
       "      <td>3649.460</td>\n",
       "      <td>4041.550</td>\n",
       "      <td>NaN</td>\n",
       "    </tr>\n",
       "    <tr>\n",
       "      <th>SG</th>\n",
       "      <td>7421.700</td>\n",
       "      <td>6585.700</td>\n",
       "      <td>7536.930</td>\n",
       "      <td>3731.370</td>\n",
       "      <td>2159.480</td>\n",
       "      <td>NaN</td>\n",
       "    </tr>\n",
       "    <tr>\n",
       "      <th>US</th>\n",
       "      <td>10000.000</td>\n",
       "      <td>7500.000</td>\n",
       "      <td>6500.000</td>\n",
       "      <td>4000.000</td>\n",
       "      <td>5000.000</td>\n",
       "      <td>NaN</td>\n",
       "    </tr>\n",
       "  </tbody>\n",
       "</table>\n",
       "</div>"
      ],
      "text/plain": [
       "state     canceled     failed       live  successful  suspended  undefined\n",
       "country                                                                   \n",
       "AT       17505.660  11735.420   7524.910    7887.590  24644.240        NaN\n",
       "AU       10411.010   7443.250   3936.390    3454.630   3877.225        NaN\n",
       "BE       11353.470   8708.810   5443.240    3531.270   2260.200        NaN\n",
       "CA        8927.770   7382.375   6550.045    3488.255   6112.705        NaN\n",
       "CH       25804.815  16400.540  19473.745   10248.630  10327.590        NaN\n",
       "DE       16726.510  11005.940  12136.950    5175.240  11360.020        NaN\n",
       "DK        7306.630   7266.885   4073.520    2835.905   1175.810        NaN\n",
       "ES       11403.030   8907.790   6068.480    3943.810   2239.085        NaN\n",
       "FR       12045.000  11013.940  10923.260    5838.050   9700.605        NaN\n",
       "GB        9411.470   6730.270   4773.920    2516.010   5884.635        NaN\n",
       "HK       10286.610  10313.130  10224.690    6418.530   6390.430        NaN\n",
       "IE       18373.070   7336.025  11247.310    4055.810   1682.260        NaN\n",
       "IT       15299.420  11745.585  12136.950    3946.530  11090.040        NaN\n",
       "JP       26699.750   8901.565   4499.240    2632.960        NaN        NaN\n",
       "LU       16601.930  14712.520   6068.480    2435.410        NaN        NaN\n",
       "MX        4806.670   3033.710   3401.000    2416.390   1714.090        NaN\n",
       "NL       10843.005  10963.955   9466.820    5642.000   6487.035        NaN\n",
       "NO       11513.155   6229.340   9109.985    3365.100     98.950        NaN\n",
       "NZ       11649.420   6825.955   5805.090    3068.080    644.750        NaN\n",
       "None      5000.000   4578.060  25000.000    3671.780  13980.165   3530.425\n",
       "SE       11913.270   6045.950   9564.005    3649.460   4041.550        NaN\n",
       "SG        7421.700   6585.700   7536.930    3731.370   2159.480        NaN\n",
       "US       10000.000   7500.000   6500.000    4000.000   5000.000        NaN"
      ]
     },
     "execution_count": 117,
     "metadata": {},
     "output_type": "execute_result"
    }
   ],
   "source": [
    "ks.groupby(['country','state']).usd_goal_real.median().unstack()"
   ]
  },
  {
   "cell_type": "markdown",
   "metadata": {},
   "source": [
    "#### Average goal for a kickstarter by country"
   ]
  },
  {
   "cell_type": "code",
   "execution_count": 118,
   "metadata": {},
   "outputs": [
    {
     "data": {
      "text/plain": [
       "country\n",
       "CH      15367.440\n",
       "AT      11280.950\n",
       "IT      11131.520\n",
       "DE      10606.030\n",
       "LU      10410.905\n",
       "FR       9521.680\n",
       "NL       9325.560\n",
       "HK       9015.395\n",
       "JP       8823.790\n",
       "BE       7411.970\n",
       "ES       7025.715\n",
       "IE       6721.180\n",
       "AU       6279.300\n",
       "SE       5916.320\n",
       "SG       5898.400\n",
       "NO       5868.335\n",
       "CA       5761.375\n",
       "NZ       5262.760\n",
       "US       5250.000\n",
       "DK       5032.880\n",
       "GB       4745.860\n",
       "None     3583.050\n",
       "MX       2988.835\n",
       "Name: usd_goal_real, dtype: float64"
      ]
     },
     "execution_count": 118,
     "metadata": {},
     "output_type": "execute_result"
    }
   ],
   "source": [
    "country_goal_medians = ks.groupby(['country']).usd_goal_real.median().sort_values(ascending=False)\n",
    "country_goal_medians"
   ]
  },
  {
   "cell_type": "markdown",
   "metadata": {},
   "source": [
    "#### Creating labels needed for future plot"
   ]
  },
  {
   "cell_type": "code",
   "execution_count": 119,
   "metadata": {},
   "outputs": [
    {
     "data": {
      "text/plain": [
       "country\n",
       "CH      0.245729\n",
       "AT      0.179229\n",
       "IT      0.152536\n",
       "DE      0.224646\n",
       "LU      0.306452\n",
       "FR      0.308949\n",
       "NL      0.215132\n",
       "HK      0.349515\n",
       "JP      0.175000\n",
       "BE      0.246353\n",
       "ES      0.216169\n",
       "IE      0.255240\n",
       "AU      0.256410\n",
       "SE      0.289698\n",
       "SG      0.320721\n",
       "NO      0.228814\n",
       "CA      0.280157\n",
       "NZ      0.309606\n",
       "US      0.373510\n",
       "DK      0.323450\n",
       "GB      0.358369\n",
       "None    0.027653\n",
       "MX      0.226027\n",
       "Name: successful, dtype: float64"
      ]
     },
     "execution_count": 119,
     "metadata": {},
     "output_type": "execute_result"
    }
   ],
   "source": [
    "country_labels = [co for co in country_goal_medians.index]\n",
    "[x for x in enumerate(country_labels)]\n",
    "labels = ['{}'.format(co) for co in country_labels]\n",
    "\n",
    "## Percentages of successful kickstaters by country \n",
    "rate_success_by_country = rate_eachstate_country.state.successful\n",
    "rate_success_by_country.index = country_labels\n",
    "rate_success_by_country = rate_eachstate_country.state.successful.reindex(country_labels)\n",
    "rate_success_by_country"
   ]
  },
  {
   "cell_type": "markdown",
   "metadata": {},
   "source": [
    "## Checking the relationship between goal and rate of successful kickstarters by country"
   ]
  },
  {
   "cell_type": "code",
   "execution_count": 120,
   "metadata": {},
   "outputs": [
    {
     "data": {
      "text/plain": [
       "array([[ 1.        , -0.11246297],\n",
       "       [-0.11246297,  1.        ]])"
      ]
     },
     "execution_count": 120,
     "metadata": {},
     "output_type": "execute_result"
    }
   ],
   "source": [
    "np.corrcoef(country_goal_medians,rate_success_by_country)"
   ]
  },
  {
   "cell_type": "markdown",
   "metadata": {},
   "source": [
    "###### Technically, there is a slight negative correaltion between a country's goal amount and its success rate. As its goal amount increases, its success rate drops"
   ]
  },
  {
   "cell_type": "markdown",
   "metadata": {},
   "source": [
    "#### Percentages of failed kickstaters by country "
   ]
  },
  {
   "cell_type": "code",
   "execution_count": 121,
   "metadata": {},
   "outputs": [
    {
     "data": {
      "text/plain": [
       "country\n",
       "CH      0.611038\n",
       "AT      0.633166\n",
       "IT      0.670605\n",
       "DE      0.599137\n",
       "LU      0.612903\n",
       "FR      0.548486\n",
       "NL      0.625523\n",
       "HK      0.422330\n",
       "JP      0.400000\n",
       "BE      0.601297\n",
       "ES      0.606766\n",
       "IE      0.586930\n",
       "AU      0.587575\n",
       "SE      0.569152\n",
       "SG      0.497297\n",
       "NO      0.593220\n",
       "CA      0.558146\n",
       "NZ      0.570836\n",
       "US      0.519641\n",
       "DK      0.508535\n",
       "GB      0.516364\n",
       "None    0.027653\n",
       "MX      0.579338\n",
       "Name: failed, dtype: float64"
      ]
     },
     "execution_count": 121,
     "metadata": {},
     "output_type": "execute_result"
    }
   ],
   "source": [
    "rate_failed_by_country = rate_eachstate_country.state.failed\n",
    "rate_failed_by_country.index = country_labels\n",
    "rate_failed_by_country = rate_eachstate_country.state.failed.reindex(country_labels)\n",
    "rate_failed_by_country"
   ]
  },
  {
   "cell_type": "markdown",
   "metadata": {},
   "source": [
    "#### Checking the correlation between goal and rate of failed kickstarters by country"
   ]
  },
  {
   "cell_type": "code",
   "execution_count": 122,
   "metadata": {},
   "outputs": [
    {
     "data": {
      "text/plain": [
       "array([[ 1.        ,  0.39561629],\n",
       "       [ 0.39561629,  1.        ]])"
      ]
     },
     "execution_count": 122,
     "metadata": {},
     "output_type": "execute_result"
    }
   ],
   "source": [
    "np.corrcoef(country_goal_medians,rate_failed_by_country)"
   ]
  },
  {
   "cell_type": "markdown",
   "metadata": {},
   "source": [
    "#### Interestly, there is a positive correaltion between a country's goal amount and its failure rate. As its goal amount increases, its failure rate increases. We will look into these correlations further with scatter plots:"
   ]
  },
  {
   "cell_type": "markdown",
   "metadata": {},
   "source": [
    "## Scatter plot for correlation between goal and rate of successful kickstarters by country"
   ]
  },
  {
   "cell_type": "code",
   "execution_count": 123,
   "metadata": {},
   "outputs": [
    {
     "data": {
      "image/png": "[encoded data removed]",
      "text/plain": [
       "<matplotlib.figure.Figure at 0x1322648d0>"
      ]
     },
     "metadata": {},
     "output_type": "display_data"
    }
   ],
   "source": [
    "plt.style.use('fivethirtyeight')\n",
    "fig,ax = plt.subplots()\n",
    "\n",
    "ax.scatter(country_goal_medians,rate_success_by_country)\n",
    "plt.xlabel('Avg Project Goal Amount')\n",
    "plt.ylabel('Proportion of Successful Projects')\n",
    "plt.title('Avg Goal Amount vs Success Rate')\n",
    "for i,co in enumerate(country_labels):\n",
    "    ax.annotate(co, (country_goal_medians[i], rate_success_by_country[i]))"
   ]
  },
  {
   "cell_type": "markdown",
   "metadata": {},
   "source": [
    "#### There is no relationship between the goal amount of a country's projects and the overall sucess rate for a country's projects. Switzlerland's average goal amount is an outlier; it's projects have a notebly high average goal amount, however Switzerland does not have a particularly high success rate nor does it have a particularly low success rate. "
   ]
  },
  {
   "cell_type": "markdown",
   "metadata": {},
   "source": [
    "## Scatter plot for correlation between goal and rate of failed kickstarters by country"
   ]
  },
  {
   "cell_type": "code",
   "execution_count": 124,
   "metadata": {},
   "outputs": [
    {
     "data": {
      "image/png": "[encoded data removed]",
      "text/plain": [
       "<matplotlib.figure.Figure at 0x118ef3828>"
      ]
     },
     "metadata": {},
     "output_type": "display_data"
    }
   ],
   "source": [
    "plt.style.use('fivethirtyeight')\n",
    "fig,ax = plt.subplots()\n",
    "ax.scatter(country_goal_medians,rate_failed_by_country)\n",
    "plt.xlabel('Avg Project Goal Amount')\n",
    "plt.ylabel('Proportion of Failed Projects')\n",
    "plt.title('Avg Goal Amount vs Failure Rate')\n",
    "for i,co in enumerate(country_labels):\n",
    "    ax.annotate(co, (country_goal_medians[i], rate_failed_by_country[i]))"
   ]
  },
  {
   "cell_type": "markdown",
   "metadata": {
    "collapsed": true
   },
   "source": [
    "#### There seems to be a relationship between the goal amount projected by country and the overall rate of failure for that country. As the average goal amount increases, there rate for failure increases. This suggests that higher and ambitious goal amounts set by kickstarters in a country can be on a path of failure."
   ]
  },
  {
   "cell_type": "markdown",
   "metadata": {
    "collapsed": true
   },
   "source": [
    "## Currency vs. region\n"
   ]
  },
  {
   "cell_type": "markdown",
   "metadata": {},
   "source": [
    "#### Total pledged amount and Total goal amount per country"
   ]
  },
  {
   "cell_type": "code",
   "execution_count": 125,
   "metadata": {},
   "outputs": [
    {
     "data": {
      "text/html": [
       "<div>\n",
       "<style>\n",
       "    .dataframe thead tr:only-child th {\n",
       "        text-align: right;\n",
       "    }\n",
       "\n",
       "    .dataframe thead th {\n",
       "        text-align: left;\n",
       "    }\n",
       "\n",
       "    .dataframe tbody tr th {\n",
       "        vertical-align: top;\n",
       "    }\n",
       "</style>\n",
       "<table border=\"1\" class=\"dataframe\">\n",
       "  <thead>\n",
       "    <tr style=\"text-align: right;\">\n",
       "      <th></th>\n",
       "      <th>usd_pledged_real</th>\n",
       "      <th>usd_goal_real</th>\n",
       "    </tr>\n",
       "    <tr>\n",
       "      <th>country</th>\n",
       "      <th></th>\n",
       "      <th></th>\n",
       "    </tr>\n",
       "  </thead>\n",
       "  <tbody>\n",
       "    <tr>\n",
       "      <th>AT</th>\n",
       "      <td>9.665789e+06</td>\n",
       "      <td>2.665748e+07</td>\n",
       "    </tr>\n",
       "    <tr>\n",
       "      <th>AU</th>\n",
       "      <td>4.673713e+07</td>\n",
       "      <td>4.555105e+08</td>\n",
       "    </tr>\n",
       "    <tr>\n",
       "      <th>BE</th>\n",
       "      <td>4.181558e+06</td>\n",
       "      <td>2.302780e+07</td>\n",
       "    </tr>\n",
       "    <tr>\n",
       "      <th>CA</th>\n",
       "      <td>9.179336e+07</td>\n",
       "      <td>6.552910e+08</td>\n",
       "    </tr>\n",
       "    <tr>\n",
       "      <th>CH</th>\n",
       "      <td>1.305512e+07</td>\n",
       "      <td>2.064454e+08</td>\n",
       "    </tr>\n",
       "    <tr>\n",
       "      <th>DE</th>\n",
       "      <td>3.977627e+07</td>\n",
       "      <td>3.136943e+08</td>\n",
       "    </tr>\n",
       "    <tr>\n",
       "      <th>DK</th>\n",
       "      <td>7.583262e+06</td>\n",
       "      <td>3.960204e+07</td>\n",
       "    </tr>\n",
       "    <tr>\n",
       "      <th>ES</th>\n",
       "      <td>1.294765e+07</td>\n",
       "      <td>1.196695e+08</td>\n",
       "    </tr>\n",
       "    <tr>\n",
       "      <th>FR</th>\n",
       "      <td>3.435751e+07</td>\n",
       "      <td>2.381982e+08</td>\n",
       "    </tr>\n",
       "    <tr>\n",
       "      <th>GB</th>\n",
       "      <td>2.365873e+08</td>\n",
       "      <td>1.440290e+09</td>\n",
       "    </tr>\n",
       "    <tr>\n",
       "      <th>HK</th>\n",
       "      <td>1.002948e+07</td>\n",
       "      <td>1.474895e+07</td>\n",
       "    </tr>\n",
       "    <tr>\n",
       "      <th>IE</th>\n",
       "      <td>4.187263e+06</td>\n",
       "      <td>3.844625e+07</td>\n",
       "    </tr>\n",
       "    <tr>\n",
       "      <th>IT</th>\n",
       "      <td>1.638603e+07</td>\n",
       "      <td>2.268088e+08</td>\n",
       "    </tr>\n",
       "    <tr>\n",
       "      <th>JP</th>\n",
       "      <td>1.158884e+05</td>\n",
       "      <td>6.638767e+05</td>\n",
       "    </tr>\n",
       "    <tr>\n",
       "      <th>LU</th>\n",
       "      <td>4.686757e+05</td>\n",
       "      <td>2.094555e+06</td>\n",
       "    </tr>\n",
       "    <tr>\n",
       "      <th>MX</th>\n",
       "      <td>2.430029e+06</td>\n",
       "      <td>2.605212e+07</td>\n",
       "    </tr>\n",
       "    <tr>\n",
       "      <th>NL</th>\n",
       "      <td>2.924511e+07</td>\n",
       "      <td>3.140662e+08</td>\n",
       "    </tr>\n",
       "    <tr>\n",
       "      <th>NO</th>\n",
       "      <td>2.668743e+06</td>\n",
       "      <td>4.774773e+07</td>\n",
       "    </tr>\n",
       "    <tr>\n",
       "      <th>NZ</th>\n",
       "      <td>7.821513e+06</td>\n",
       "      <td>3.700340e+07</td>\n",
       "    </tr>\n",
       "    <tr>\n",
       "      <th>None</th>\n",
       "      <td>1.120058e+07</td>\n",
       "      <td>1.935447e+07</td>\n",
       "    </tr>\n",
       "    <tr>\n",
       "      <th>SE</th>\n",
       "      <td>1.341580e+07</td>\n",
       "      <td>7.202677e+07</td>\n",
       "    </tr>\n",
       "    <tr>\n",
       "      <th>SG</th>\n",
       "      <td>5.847556e+06</td>\n",
       "      <td>8.588454e+06</td>\n",
       "    </tr>\n",
       "    <tr>\n",
       "      <th>US</th>\n",
       "      <td>2.829760e+09</td>\n",
       "      <td>1.288582e+10</td>\n",
       "    </tr>\n",
       "  </tbody>\n",
       "</table>\n",
       "</div>"
      ],
      "text/plain": [
       "         usd_pledged_real  usd_goal_real\n",
       "country                                 \n",
       "AT           9.665789e+06   2.665748e+07\n",
       "AU           4.673713e+07   4.555105e+08\n",
       "BE           4.181558e+06   2.302780e+07\n",
       "CA           9.179336e+07   6.552910e+08\n",
       "CH           1.305512e+07   2.064454e+08\n",
       "DE           3.977627e+07   3.136943e+08\n",
       "DK           7.583262e+06   3.960204e+07\n",
       "ES           1.294765e+07   1.196695e+08\n",
       "FR           3.435751e+07   2.381982e+08\n",
       "GB           2.365873e+08   1.440290e+09\n",
       "HK           1.002948e+07   1.474895e+07\n",
       "IE           4.187263e+06   3.844625e+07\n",
       "IT           1.638603e+07   2.268088e+08\n",
       "JP           1.158884e+05   6.638767e+05\n",
       "LU           4.686757e+05   2.094555e+06\n",
       "MX           2.430029e+06   2.605212e+07\n",
       "NL           2.924511e+07   3.140662e+08\n",
       "NO           2.668743e+06   4.774773e+07\n",
       "NZ           7.821513e+06   3.700340e+07\n",
       "None         1.120058e+07   1.935447e+07\n",
       "SE           1.341580e+07   7.202677e+07\n",
       "SG           5.847556e+06   8.588454e+06\n",
       "US           2.829760e+09   1.288582e+10"
      ]
     },
     "execution_count": 125,
     "metadata": {},
     "output_type": "execute_result"
    }
   ],
   "source": [
    "ks.groupby([\"country\"])[\"usd_pledged_real\", \"usd_goal_real\"].sum()"
   ]
  },
  {
   "cell_type": "markdown",
   "metadata": {},
   "source": [
    "#### Average pledged amount and Average goal amount per country"
   ]
  },
  {
   "cell_type": "code",
   "execution_count": 126,
   "metadata": {},
   "outputs": [
    {
     "data": {
      "text/html": [
       "<div>\n",
       "<style>\n",
       "    .dataframe thead tr:only-child th {\n",
       "        text-align: right;\n",
       "    }\n",
       "\n",
       "    .dataframe thead th {\n",
       "        text-align: left;\n",
       "    }\n",
       "\n",
       "    .dataframe tbody tr th {\n",
       "        vertical-align: top;\n",
       "    }\n",
       "</style>\n",
       "<table border=\"1\" class=\"dataframe\">\n",
       "  <thead>\n",
       "    <tr style=\"text-align: right;\">\n",
       "      <th></th>\n",
       "      <th>usd_goal_real</th>\n",
       "      <th>usd_pledged_real</th>\n",
       "    </tr>\n",
       "    <tr>\n",
       "      <th>country</th>\n",
       "      <th></th>\n",
       "      <th></th>\n",
       "    </tr>\n",
       "  </thead>\n",
       "  <tbody>\n",
       "    <tr>\n",
       "      <th>AT</th>\n",
       "      <td>11280.950</td>\n",
       "      <td>228.240</td>\n",
       "    </tr>\n",
       "    <tr>\n",
       "      <th>AU</th>\n",
       "      <td>6279.300</td>\n",
       "      <td>221.730</td>\n",
       "    </tr>\n",
       "    <tr>\n",
       "      <th>BE</th>\n",
       "      <td>7411.970</td>\n",
       "      <td>226.430</td>\n",
       "    </tr>\n",
       "    <tr>\n",
       "      <th>CA</th>\n",
       "      <td>5761.375</td>\n",
       "      <td>302.820</td>\n",
       "    </tr>\n",
       "    <tr>\n",
       "      <th>CH</th>\n",
       "      <td>15367.440</td>\n",
       "      <td>371.870</td>\n",
       "    </tr>\n",
       "    <tr>\n",
       "      <th>DE</th>\n",
       "      <td>10606.030</td>\n",
       "      <td>286.410</td>\n",
       "    </tr>\n",
       "    <tr>\n",
       "      <th>DK</th>\n",
       "      <td>5032.880</td>\n",
       "      <td>372.510</td>\n",
       "    </tr>\n",
       "    <tr>\n",
       "      <th>ES</th>\n",
       "      <td>7025.715</td>\n",
       "      <td>157.305</td>\n",
       "    </tr>\n",
       "    <tr>\n",
       "      <th>FR</th>\n",
       "      <td>9521.680</td>\n",
       "      <td>540.860</td>\n",
       "    </tr>\n",
       "    <tr>\n",
       "      <th>GB</th>\n",
       "      <td>4745.860</td>\n",
       "      <td>506.195</td>\n",
       "    </tr>\n",
       "    <tr>\n",
       "      <th>HK</th>\n",
       "      <td>9015.395</td>\n",
       "      <td>2312.120</td>\n",
       "    </tr>\n",
       "    <tr>\n",
       "      <th>IE</th>\n",
       "      <td>6721.180</td>\n",
       "      <td>217.900</td>\n",
       "    </tr>\n",
       "    <tr>\n",
       "      <th>IT</th>\n",
       "      <td>11131.520</td>\n",
       "      <td>112.115</td>\n",
       "    </tr>\n",
       "    <tr>\n",
       "      <th>JP</th>\n",
       "      <td>8823.790</td>\n",
       "      <td>748.570</td>\n",
       "    </tr>\n",
       "    <tr>\n",
       "      <th>LU</th>\n",
       "      <td>10410.905</td>\n",
       "      <td>670.765</td>\n",
       "    </tr>\n",
       "    <tr>\n",
       "      <th>MX</th>\n",
       "      <td>2988.835</td>\n",
       "      <td>84.650</td>\n",
       "    </tr>\n",
       "    <tr>\n",
       "      <th>NL</th>\n",
       "      <td>9325.560</td>\n",
       "      <td>165.510</td>\n",
       "    </tr>\n",
       "    <tr>\n",
       "      <th>NO</th>\n",
       "      <td>5868.335</td>\n",
       "      <td>109.045</td>\n",
       "    </tr>\n",
       "    <tr>\n",
       "      <th>NZ</th>\n",
       "      <td>5262.760</td>\n",
       "      <td>360.960</td>\n",
       "    </tr>\n",
       "    <tr>\n",
       "      <th>None</th>\n",
       "      <td>3583.050</td>\n",
       "      <td>616.000</td>\n",
       "    </tr>\n",
       "    <tr>\n",
       "      <th>SE</th>\n",
       "      <td>5916.320</td>\n",
       "      <td>326.160</td>\n",
       "    </tr>\n",
       "    <tr>\n",
       "      <th>SG</th>\n",
       "      <td>5898.400</td>\n",
       "      <td>843.630</td>\n",
       "    </tr>\n",
       "    <tr>\n",
       "      <th>US</th>\n",
       "      <td>5250.000</td>\n",
       "      <td>725.000</td>\n",
       "    </tr>\n",
       "  </tbody>\n",
       "</table>\n",
       "</div>"
      ],
      "text/plain": [
       "         usd_goal_real  usd_pledged_real\n",
       "country                                 \n",
       "AT           11280.950           228.240\n",
       "AU            6279.300           221.730\n",
       "BE            7411.970           226.430\n",
       "CA            5761.375           302.820\n",
       "CH           15367.440           371.870\n",
       "DE           10606.030           286.410\n",
       "DK            5032.880           372.510\n",
       "ES            7025.715           157.305\n",
       "FR            9521.680           540.860\n",
       "GB            4745.860           506.195\n",
       "HK            9015.395          2312.120\n",
       "IE            6721.180           217.900\n",
       "IT           11131.520           112.115\n",
       "JP            8823.790           748.570\n",
       "LU           10410.905           670.765\n",
       "MX            2988.835            84.650\n",
       "NL            9325.560           165.510\n",
       "NO            5868.335           109.045\n",
       "NZ            5262.760           360.960\n",
       "None          3583.050           616.000\n",
       "SE            5916.320           326.160\n",
       "SG            5898.400           843.630\n",
       "US            5250.000           725.000"
      ]
     },
     "execution_count": 126,
     "metadata": {},
     "output_type": "execute_result"
    }
   ],
   "source": [
    "ks.groupby([\"country\"])[\"usd_goal_real\",\"usd_pledged_real\"].median()"
   ]
  },
  {
   "cell_type": "markdown",
   "metadata": {},
   "source": [
    "#### Average pledged amount by country greatest to least"
   ]
  },
  {
   "cell_type": "code",
   "execution_count": 127,
   "metadata": {},
   "outputs": [
    {
     "data": {
      "text/plain": [
       "country\n",
       "HK      2312.120\n",
       "SG       843.630\n",
       "JP       748.570\n",
       "US       725.000\n",
       "LU       670.765\n",
       "None     616.000\n",
       "FR       540.860\n",
       "GB       506.195\n",
       "DK       372.510\n",
       "CH       371.870\n",
       "NZ       360.960\n",
       "SE       326.160\n",
       "CA       302.820\n",
       "DE       286.410\n",
       "AT       228.240\n",
       "BE       226.430\n",
       "AU       221.730\n",
       "IE       217.900\n",
       "NL       165.510\n",
       "ES       157.305\n",
       "IT       112.115\n",
       "NO       109.045\n",
       "MX        84.650\n",
       "Name: usd_pledged_real, dtype: float64"
      ]
     },
     "execution_count": 127,
     "metadata": {},
     "output_type": "execute_result"
    }
   ],
   "source": [
    "ks.groupby([\"country\"])[\"usd_pledged_real\"].median().sort_values(ascending=False)"
   ]
  },
  {
   "cell_type": "markdown",
   "metadata": {},
   "source": [
    "#### Average goal amount by country greatest to least"
   ]
  },
  {
   "cell_type": "code",
   "execution_count": 128,
   "metadata": {},
   "outputs": [
    {
     "data": {
      "text/plain": [
       "country\n",
       "CH      15367.440\n",
       "AT      11280.950\n",
       "IT      11131.520\n",
       "DE      10606.030\n",
       "LU      10410.905\n",
       "FR       9521.680\n",
       "NL       9325.560\n",
       "HK       9015.395\n",
       "JP       8823.790\n",
       "BE       7411.970\n",
       "ES       7025.715\n",
       "IE       6721.180\n",
       "AU       6279.300\n",
       "SE       5916.320\n",
       "SG       5898.400\n",
       "NO       5868.335\n",
       "CA       5761.375\n",
       "NZ       5262.760\n",
       "US       5250.000\n",
       "DK       5032.880\n",
       "GB       4745.860\n",
       "None     3583.050\n",
       "MX       2988.835\n",
       "Name: usd_goal_real, dtype: float64"
      ]
     },
     "execution_count": 128,
     "metadata": {},
     "output_type": "execute_result"
    }
   ],
   "source": [
    "ks.groupby([\"country\"])[\"usd_goal_real\"].median().sort_values(ascending=False)"
   ]
  },
  {
   "cell_type": "markdown",
   "metadata": {},
   "source": [
    "#### Total pledge amount by country"
   ]
  },
  {
   "cell_type": "code",
   "execution_count": 129,
   "metadata": {
    "collapsed": true
   },
   "outputs": [],
   "source": [
    "total_country_pledged = ks.groupby([\"country\"])[\"usd_pledged_real\"].sum()"
   ]
  },
  {
   "cell_type": "markdown",
   "metadata": {},
   "source": [
    "#### Average pledge amount for kickstarter per country"
   ]
  },
  {
   "cell_type": "code",
   "execution_count": 130,
   "metadata": {},
   "outputs": [
    {
     "data": {
      "text/plain": [
       "country\n",
       "CH      17155.217096\n",
       "HK      16228.940032\n",
       "AT      16190.600603\n",
       "FR      11690.203409\n",
       "SG      10536.136523\n",
       "NL      10197.038870\n",
       "US       9670.193050\n",
       "DE       9536.387924\n",
       "SE       7635.630569\n",
       "LU       7559.284839\n",
       "GB       7026.233822\n",
       "DK       6813.352713\n",
       "BE       6777.240827\n",
       "CA       6220.748131\n",
       "AU       5962.128806\n",
       "IT       5693.546668\n",
       "ES       5688.775738\n",
       "NZ       5405.330124\n",
       "IE       5163.085709\n",
       "NO       3769.410565\n",
       "None     2949.850598\n",
       "JP       2897.210250\n",
       "MX       1387.002568\n",
       "dtype: float64"
      ]
     },
     "execution_count": 130,
     "metadata": {},
     "output_type": "execute_result"
    }
   ],
   "source": [
    "rate_pledge_country = total_country_pledged / total_states_per_country\n",
    "rate_pledge_country.sort_values(ascending=False)\n"
   ]
  },
  {
   "cell_type": "markdown",
   "metadata": {},
   "source": [
    "#### Total goal amount by country"
   ]
  },
  {
   "cell_type": "code",
   "execution_count": 131,
   "metadata": {},
   "outputs": [
    {
     "data": {
      "text/plain": [
       "country\n",
       "US      1.288582e+10\n",
       "GB      1.440290e+09\n",
       "CA      6.552910e+08\n",
       "AU      4.555105e+08\n",
       "NL      3.140662e+08\n",
       "DE      3.136943e+08\n",
       "FR      2.381982e+08\n",
       "IT      2.268088e+08\n",
       "CH      2.064454e+08\n",
       "ES      1.196695e+08\n",
       "SE      7.202677e+07\n",
       "NO      4.774773e+07\n",
       "DK      3.960204e+07\n",
       "IE      3.844625e+07\n",
       "NZ      3.700340e+07\n",
       "AT      2.665748e+07\n",
       "MX      2.605212e+07\n",
       "BE      2.302780e+07\n",
       "None    1.935447e+07\n",
       "HK      1.474895e+07\n",
       "SG      8.588454e+06\n",
       "LU      2.094555e+06\n",
       "JP      6.638767e+05\n",
       "Name: usd_goal_real, dtype: float64"
      ]
     },
     "execution_count": 131,
     "metadata": {},
     "output_type": "execute_result"
    }
   ],
   "source": [
    "total_country_goal = ks.groupby([\"country\"])[\"usd_goal_real\"].sum()\n",
    "total_country_goal.sort_values(ascending = False)"
   ]
  },
  {
   "cell_type": "markdown",
   "metadata": {},
   "source": [
    "#### Average goal amount of kickstarter per country"
   ]
  },
  {
   "cell_type": "code",
   "execution_count": 132,
   "metadata": {},
   "outputs": [
    {
     "data": {
      "text/plain": [
       "country\n",
       "CH      271281.726675\n",
       "NL      109507.028026\n",
       "FR       81047.372872\n",
       "IT       78807.782960\n",
       "DE       75208.408327\n",
       "NO       67440.295353\n",
       "AU       58108.238300\n",
       "ES       52578.874587\n",
       "IE       47405.978150\n",
       "AT       44652.387655\n",
       "CA       44408.442966\n",
       "US       44034.969705\n",
       "GB       42774.124388\n",
       "SE       40994.175157\n",
       "BE       37322.199433\n",
       "DK       35581.350836\n",
       "LU       33783.152097\n",
       "NZ       25572.492958\n",
       "HK       23865.608835\n",
       "JP       16596.918250\n",
       "SG       15474.692721\n",
       "MX       14869.932825\n",
       "None      5097.306455\n",
       "dtype: float64"
      ]
     },
     "execution_count": 132,
     "metadata": {},
     "output_type": "execute_result"
    }
   ],
   "source": [
    "rate_pledge_country = total_country_goal / total_states_per_country\n",
    "rate_pledge_country.sort_values(ascending=False)"
   ]
  },
  {
   "cell_type": "code",
   "execution_count": null,
   "metadata": {
    "collapsed": true
   },
   "outputs": [],
   "source": []
  },
  {
   "cell_type": "code",
   "execution_count": null,
   "metadata": {
    "collapsed": true
   },
   "outputs": [],
   "source": []
  },
  {
   "cell_type": "code",
   "execution_count": null,
   "metadata": {
    "collapsed": true
   },
   "outputs": [],
   "source": []
  },
  {
   "cell_type": "markdown",
   "metadata": {},
   "source": [
    "## Long term goal: predict state variable"
   ]
  },
  {
   "cell_type": "markdown",
   "metadata": {},
   "source": [
    "Prediction Variables: name / category / main_category / currency / deadline / goal / launched / country \n",
    "\n",
    "Variables we can make: length_of_campaign / title_score / goal_amount_tier / launch_time_of_day / launch_year / launch_month / launch_day \n",
    "\n",
    "Descriptive Variables: pledged / backers / usd pledged / usd_pledged_real / usd_goal_real"
   ]
  },
  {
   "cell_type": "markdown",
   "metadata": {},
   "source": [
    "## Categoires and their respective counts"
   ]
  },
  {
   "cell_type": "code",
   "execution_count": 133,
   "metadata": {},
   "outputs": [
    {
     "data": {
      "text/plain": [
       "Product Design    22314\n",
       "Documentary       16139\n",
       "Music             15727\n",
       "Tabletop Games    14180\n",
       "Shorts            12357\n",
       "Video Games       11830\n",
       "Food              11493\n",
       "Film & Video      10108\n",
       "Fiction            9169\n",
       "Fashion            8554\n",
       "Nonfiction         8318\n",
       "Art                8253\n",
       "Apparel            7166\n",
       "Theater            7057\n",
       "Technology         6930\n",
       "Name: category, dtype: int64"
      ]
     },
     "execution_count": 133,
     "metadata": {},
     "output_type": "execute_result"
    }
   ],
   "source": [
    "count_cats = ks.category.value_counts()\n",
    "count_cats.head(15) "
   ]
  },
  {
   "cell_type": "markdown",
   "metadata": {},
   "source": [
    "People love product design / documentary / and music projects on kickstarters "
   ]
  },
  {
   "cell_type": "code",
   "execution_count": 134,
   "metadata": {},
   "outputs": [
    {
     "data": {
      "text/plain": [
       "Chiptune           0.771429\n",
       "Residencies        0.724638\n",
       "Anthologies        0.664541\n",
       "Dance              0.664083\n",
       "Indie Rock         0.639562\n",
       "Letterpress        0.632653\n",
       "Country & Folk     0.631768\n",
       "Classical Music    0.630310\n",
       "Theater            0.624203\n",
       "Performances       0.615992\n",
       "Jazz               0.596757\n",
       "Comic Books        0.588407\n",
       "Plays              0.583454\n",
       "Typography         0.583333\n",
       "Tabletop Games     0.554725\n",
       "Name: category, dtype: float64"
      ]
     },
     "execution_count": 134,
     "metadata": {},
     "output_type": "execute_result"
    }
   ],
   "source": [
    "count_cats_s = ks.loc[ks[\"state\"] == \"successful\"].category.value_counts()\n",
    "(count_cats_s/count_cats).sort_values(ascending=False).head(15)"
   ]
  },
  {
   "cell_type": "markdown",
   "metadata": {},
   "source": [
    "Product Design , Tabletop Game, and shorts have good amounts of success. \n",
    "A 0.55 success rate for tabletop games! "
   ]
  },
  {
   "cell_type": "code",
   "execution_count": 135,
   "metadata": {},
   "outputs": [
    {
     "data": {
      "text/plain": [
       "Television      0.153695\n",
       "Couture         0.152727\n",
       "Action          0.144595\n",
       "Candles         0.128205\n",
       "Food Trucks     0.123858\n",
       "Software        0.121719\n",
       "Video           0.119159\n",
       "Web             0.085969\n",
       "Mobile Games    0.085523\n",
       "Apps            0.059574\n",
       "Name: category, dtype: float64"
      ]
     },
     "execution_count": 135,
     "metadata": {},
     "output_type": "execute_result"
    }
   ],
   "source": [
    "(count_cats_s/count_cats).sort_values(ascending=False).tail(10)"
   ]
  },
  {
   "cell_type": "markdown",
   "metadata": {},
   "source": [
    "Apps and Mobile Games do terrible on kickstarter "
   ]
  },
  {
   "cell_type": "code",
   "execution_count": 136,
   "metadata": {},
   "outputs": [
    {
     "data": {
      "text/plain": [
       "159"
      ]
     },
     "execution_count": 136,
     "metadata": {},
     "output_type": "execute_result"
    }
   ],
   "source": [
    "ks.category.nunique() #159 unique "
   ]
  },
  {
   "cell_type": "code",
   "execution_count": 137,
   "metadata": {},
   "outputs": [
    {
     "data": {
      "text/plain": [
       "array(['Publishing', 'Film & Video', 'Music', 'Food', 'Design', 'Crafts',\n",
       "       'Games', 'Comics', 'Fashion', 'Theater', 'Art', 'Photography',\n",
       "       'Technology', 'Dance', 'Journalism'], dtype=object)"
      ]
     },
     "execution_count": 137,
     "metadata": {},
     "output_type": "execute_result"
    }
   ],
   "source": [
    "ks.main_category.unique()"
   ]
  },
  {
   "cell_type": "code",
   "execution_count": 138,
   "metadata": {},
   "outputs": [
    {
     "data": {
      "text/plain": [
       "15"
      ]
     },
     "execution_count": 138,
     "metadata": {},
     "output_type": "execute_result"
    }
   ],
   "source": [
    "ks.main_category.nunique()"
   ]
  },
  {
   "cell_type": "markdown",
   "metadata": {},
   "source": [
    "## main_category counts"
   ]
  },
  {
   "cell_type": "code",
   "execution_count": 139,
   "metadata": {},
   "outputs": [
    {
     "data": {
      "image/png": "[encoded data removed]",
      "text/plain": [
       "<matplotlib.figure.Figure at 0x118ec0390>"
      ]
     },
     "metadata": {},
     "output_type": "display_data"
    }
   ],
   "source": [
    "ks.main_category.value_counts()\n",
    "\n",
    "plt.style.use('fivethirtyeight')\n",
    "plt.hist(ks[\"usd_pledged_real\"], color = \"green\", range = (0,25000))\n",
    "plt.xlabel(\"Pledged Amount\")\n",
    "plt.ylabel('Count ')\n",
    "plt.show()"
   ]
  },
  {
   "cell_type": "code",
   "execution_count": 140,
   "metadata": {},
   "outputs": [
    {
     "data": {
      "image/png": "[encoded data removed]",
      "text/plain": [
       "<matplotlib.figure.Figure at 0x118fbb828>"
      ]
     },
     "metadata": {},
     "output_type": "display_data"
    }
   ],
   "source": [
    "plt.style.use('fivethirtyeight')\n",
    "plt.hist(ks[\"usd_goal_real\"], color = \"red\", range = (0,25000))\n",
    "plt.xlabel(\"Goal Amount\")\n",
    "plt.ylabel('Count ')\n",
    "plt.show()"
   ]
  },
  {
   "cell_type": "code",
   "execution_count": 141,
   "metadata": {},
   "outputs": [
    {
     "data": {
      "image/png": "[encoded data removed]",
      "text/plain": [
       "<matplotlib.figure.Figure at 0x1195ac898>"
      ]
     },
     "metadata": {},
     "output_type": "display_data"
    }
   ],
   "source": [
    "plt.style.use('fivethirtyeight')\n",
    "plt.hist(ks[\"backers\"], color = \"blue\", range = (0,250))\n",
    "plt.xlabel(\"Number of Backers\")\n",
    "plt.ylabel('Count')\n",
    "plt.show()"
   ]
  },
  {
   "cell_type": "markdown",
   "metadata": {},
   "source": [
    "Both pledged, goal, amounts are all skewed to the right. \n",
    "We therefore use Median as our average throughout our analysis."
   ]
  },
  {
   "cell_type": "markdown",
   "metadata": {},
   "source": [
    "## Currency investigation"
   ]
  },
  {
   "cell_type": "code",
   "execution_count": 142,
   "metadata": {},
   "outputs": [
    {
     "data": {
      "text/plain": [
       "USD    295365\n",
       "GBP     34132\n",
       "EUR     17405\n",
       "CAD     14962\n",
       "AUD      7950\n",
       "SEK      1788\n",
       "MXN      1752\n",
       "NZD      1475\n",
       "DKK      1129\n",
       "CHF       768\n",
       "NOK       722\n",
       "HKD       618\n",
       "SGD       555\n",
       "JPY        40\n",
       "Name: currency, dtype: int64"
      ]
     },
     "execution_count": 142,
     "metadata": {},
     "output_type": "execute_result"
    }
   ],
   "source": [
    "count_currency = ks.currency.value_counts()\n",
    "count_currency"
   ]
  },
  {
   "cell_type": "markdown",
   "metadata": {},
   "source": [
    "## Categoires and counts for them "
   ]
  },
  {
   "cell_type": "code",
   "execution_count": 143,
   "metadata": {},
   "outputs": [
    {
     "data": {
      "text/plain": [
       "US      292627\n",
       "GB       33672\n",
       "CA       14756\n",
       "AU        7839\n",
       "DE        4171\n",
       "None      3797\n",
       "FR        2939\n",
       "IT        2878\n",
       "NL        2868\n",
       "ES        2276\n",
       "SE        1757\n",
       "MX        1752\n",
       "NZ        1447\n",
       "DK        1113\n",
       "IE         811\n",
       "CH         761\n",
       "NO         708\n",
       "HK         618\n",
       "BE         617\n",
       "AT         597\n",
       "SG         555\n",
       "LU          62\n",
       "JP          40\n",
       "Name: country, dtype: int64"
      ]
     },
     "execution_count": 143,
     "metadata": {},
     "output_type": "execute_result"
    }
   ],
   "source": [
    "count_country = ks.country.value_counts()\n",
    "count_country # error in N'O"
   ]
  },
  {
   "cell_type": "markdown",
   "metadata": {},
   "source": [
    "## US Kickstarters "
   ]
  },
  {
   "cell_type": "code",
   "execution_count": 144,
   "metadata": {},
   "outputs": [
    {
     "data": {
      "text/html": [
       "<div>\n",
       "<style>\n",
       "    .dataframe thead tr:only-child th {\n",
       "        text-align: right;\n",
       "    }\n",
       "\n",
       "    .dataframe thead th {\n",
       "        text-align: left;\n",
       "    }\n",
       "\n",
       "    .dataframe tbody tr th {\n",
       "        vertical-align: top;\n",
       "    }\n",
       "</style>\n",
       "<table border=\"1\" class=\"dataframe\">\n",
       "  <thead>\n",
       "    <tr style=\"text-align: right;\">\n",
       "      <th></th>\n",
       "      <th>goal</th>\n",
       "      <th>pledged</th>\n",
       "      <th>backers</th>\n",
       "    </tr>\n",
       "    <tr>\n",
       "      <th>state</th>\n",
       "      <th></th>\n",
       "      <th></th>\n",
       "      <th></th>\n",
       "    </tr>\n",
       "  </thead>\n",
       "  <tbody>\n",
       "    <tr>\n",
       "      <th>canceled</th>\n",
       "      <td>76293.964894</td>\n",
       "      <td>2317.801194</td>\n",
       "      <td>25.820670</td>\n",
       "    </tr>\n",
       "    <tr>\n",
       "      <th>failed</th>\n",
       "      <td>60664.242108</td>\n",
       "      <td>1331.173917</td>\n",
       "      <td>16.772118</td>\n",
       "    </tr>\n",
       "    <tr>\n",
       "      <th>live</th>\n",
       "      <td>84039.947701</td>\n",
       "      <td>6352.720575</td>\n",
       "      <td>77.495402</td>\n",
       "    </tr>\n",
       "    <tr>\n",
       "      <th>successful</th>\n",
       "      <td>9695.670955</td>\n",
       "      <td>23212.887104</td>\n",
       "      <td>270.177952</td>\n",
       "    </tr>\n",
       "    <tr>\n",
       "      <th>suspended</th>\n",
       "      <td>242796.605263</td>\n",
       "      <td>11119.731497</td>\n",
       "      <td>117.960526</td>\n",
       "    </tr>\n",
       "  </tbody>\n",
       "</table>\n",
       "</div>"
      ],
      "text/plain": [
       "                     goal       pledged     backers\n",
       "state                                              \n",
       "canceled     76293.964894   2317.801194   25.820670\n",
       "failed       60664.242108   1331.173917   16.772118\n",
       "live         84039.947701   6352.720575   77.495402\n",
       "successful    9695.670955  23212.887104  270.177952\n",
       "suspended   242796.605263  11119.731497  117.960526"
      ]
     },
     "execution_count": 144,
     "metadata": {},
     "output_type": "execute_result"
    }
   ],
   "source": [
    "US_ks = ks[ks['country'] == \"US\"]\n",
    "US_ks.groupby([\"state\"])[\"goal\", \"pledged\",\"backers\"].mean()"
   ]
  },
  {
   "cell_type": "markdown",
   "metadata": {},
   "source": [
    "## use 'real' variables "
   ]
  },
  {
   "cell_type": "code",
   "execution_count": 145,
   "metadata": {},
   "outputs": [
    {
     "data": {
      "text/html": [
       "<div>\n",
       "<style>\n",
       "    .dataframe thead tr:only-child th {\n",
       "        text-align: right;\n",
       "    }\n",
       "\n",
       "    .dataframe thead th {\n",
       "        text-align: left;\n",
       "    }\n",
       "\n",
       "    .dataframe tbody tr th {\n",
       "        vertical-align: top;\n",
       "    }\n",
       "</style>\n",
       "<table border=\"1\" class=\"dataframe\">\n",
       "  <thead>\n",
       "    <tr style=\"text-align: right;\">\n",
       "      <th></th>\n",
       "      <th>usd_goal_real</th>\n",
       "      <th>usd_pledged_real</th>\n",
       "      <th>backers</th>\n",
       "    </tr>\n",
       "    <tr>\n",
       "      <th>state</th>\n",
       "      <th></th>\n",
       "      <th></th>\n",
       "      <th></th>\n",
       "    </tr>\n",
       "  </thead>\n",
       "  <tbody>\n",
       "    <tr>\n",
       "      <th>canceled</th>\n",
       "      <td>76293.964894</td>\n",
       "      <td>2317.801194</td>\n",
       "      <td>25.820670</td>\n",
       "    </tr>\n",
       "    <tr>\n",
       "      <th>failed</th>\n",
       "      <td>60664.242108</td>\n",
       "      <td>1331.173917</td>\n",
       "      <td>16.772118</td>\n",
       "    </tr>\n",
       "    <tr>\n",
       "      <th>live</th>\n",
       "      <td>84039.947701</td>\n",
       "      <td>6352.720575</td>\n",
       "      <td>77.495402</td>\n",
       "    </tr>\n",
       "    <tr>\n",
       "      <th>successful</th>\n",
       "      <td>9695.670955</td>\n",
       "      <td>23212.887104</td>\n",
       "      <td>270.177952</td>\n",
       "    </tr>\n",
       "    <tr>\n",
       "      <th>suspended</th>\n",
       "      <td>242796.605263</td>\n",
       "      <td>11119.731497</td>\n",
       "      <td>117.960526</td>\n",
       "    </tr>\n",
       "  </tbody>\n",
       "</table>\n",
       "</div>"
      ],
      "text/plain": [
       "            usd_goal_real  usd_pledged_real     backers\n",
       "state                                                  \n",
       "canceled     76293.964894       2317.801194   25.820670\n",
       "failed       60664.242108       1331.173917   16.772118\n",
       "live         84039.947701       6352.720575   77.495402\n",
       "successful    9695.670955      23212.887104  270.177952\n",
       "suspended   242796.605263      11119.731497  117.960526"
      ]
     },
     "execution_count": 145,
     "metadata": {},
     "output_type": "execute_result"
    }
   ],
   "source": [
    "US_ks.groupby([\"state\"])[\"usd_goal_real\", \"usd_pledged_real\",\"backers\"].mean()"
   ]
  },
  {
   "cell_type": "code",
   "execution_count": 146,
   "metadata": {},
   "outputs": [
    {
     "data": {
      "text/html": [
       "<div>\n",
       "<style>\n",
       "    .dataframe thead tr:only-child th {\n",
       "        text-align: right;\n",
       "    }\n",
       "\n",
       "    .dataframe thead th {\n",
       "        text-align: left;\n",
       "    }\n",
       "\n",
       "    .dataframe tbody tr th {\n",
       "        vertical-align: top;\n",
       "    }\n",
       "</style>\n",
       "<table border=\"1\" class=\"dataframe\">\n",
       "  <thead>\n",
       "    <tr style=\"text-align: right;\">\n",
       "      <th></th>\n",
       "      <th>usd_goal_real</th>\n",
       "      <th>usd_pledged_real</th>\n",
       "      <th>backers</th>\n",
       "    </tr>\n",
       "    <tr>\n",
       "      <th>state</th>\n",
       "      <th></th>\n",
       "      <th></th>\n",
       "      <th></th>\n",
       "    </tr>\n",
       "  </thead>\n",
       "  <tbody>\n",
       "    <tr>\n",
       "      <th>canceled</th>\n",
       "      <td>10000.0</td>\n",
       "      <td>100.0</td>\n",
       "      <td>3</td>\n",
       "    </tr>\n",
       "    <tr>\n",
       "      <th>failed</th>\n",
       "      <td>7500.0</td>\n",
       "      <td>106.0</td>\n",
       "      <td>3</td>\n",
       "    </tr>\n",
       "    <tr>\n",
       "      <th>live</th>\n",
       "      <td>6500.0</td>\n",
       "      <td>220.0</td>\n",
       "      <td>4</td>\n",
       "    </tr>\n",
       "    <tr>\n",
       "      <th>successful</th>\n",
       "      <td>4000.0</td>\n",
       "      <td>5185.0</td>\n",
       "      <td>71</td>\n",
       "    </tr>\n",
       "    <tr>\n",
       "      <th>suspended</th>\n",
       "      <td>5000.0</td>\n",
       "      <td>30.5</td>\n",
       "      <td>2</td>\n",
       "    </tr>\n",
       "  </tbody>\n",
       "</table>\n",
       "</div>"
      ],
      "text/plain": [
       "            usd_goal_real  usd_pledged_real  backers\n",
       "state                                               \n",
       "canceled          10000.0             100.0        3\n",
       "failed             7500.0             106.0        3\n",
       "live               6500.0             220.0        4\n",
       "successful         4000.0            5185.0       71\n",
       "suspended          5000.0              30.5        2"
      ]
     },
     "execution_count": 146,
     "metadata": {},
     "output_type": "execute_result"
    }
   ],
   "source": [
    "US_ks.groupby([\"state\"])[\"usd_goal_real\", \"usd_pledged_real\",\"backers\"].median()"
   ]
  },
  {
   "cell_type": "code",
   "execution_count": 147,
   "metadata": {},
   "outputs": [
    {
     "data": {
      "text/html": [
       "<div>\n",
       "<style>\n",
       "    .dataframe thead tr:only-child th {\n",
       "        text-align: right;\n",
       "    }\n",
       "\n",
       "    .dataframe thead th {\n",
       "        text-align: left;\n",
       "    }\n",
       "\n",
       "    .dataframe tbody tr th {\n",
       "        vertical-align: top;\n",
       "    }\n",
       "</style>\n",
       "<table border=\"1\" class=\"dataframe\">\n",
       "  <thead>\n",
       "    <tr style=\"text-align: right;\">\n",
       "      <th></th>\n",
       "      <th>usd_goal_real</th>\n",
       "      <th>usd_pledged_real</th>\n",
       "      <th>backers</th>\n",
       "    </tr>\n",
       "    <tr>\n",
       "      <th>state</th>\n",
       "      <th></th>\n",
       "      <th></th>\n",
       "      <th></th>\n",
       "    </tr>\n",
       "  </thead>\n",
       "  <tbody>\n",
       "    <tr>\n",
       "      <th>canceled</th>\n",
       "      <td>10000.000</td>\n",
       "      <td>87.00</td>\n",
       "      <td>3</td>\n",
       "    </tr>\n",
       "    <tr>\n",
       "      <th>failed</th>\n",
       "      <td>7500.000</td>\n",
       "      <td>100.00</td>\n",
       "      <td>3</td>\n",
       "    </tr>\n",
       "    <tr>\n",
       "      <th>live</th>\n",
       "      <td>6547.090</td>\n",
       "      <td>259.16</td>\n",
       "      <td>5</td>\n",
       "    </tr>\n",
       "    <tr>\n",
       "      <th>successful</th>\n",
       "      <td>3837.740</td>\n",
       "      <td>5107.25</td>\n",
       "      <td>71</td>\n",
       "    </tr>\n",
       "    <tr>\n",
       "      <th>suspended</th>\n",
       "      <td>5000.000</td>\n",
       "      <td>37.00</td>\n",
       "      <td>2</td>\n",
       "    </tr>\n",
       "    <tr>\n",
       "      <th>undefined</th>\n",
       "      <td>3530.425</td>\n",
       "      <td>580.00</td>\n",
       "      <td>0</td>\n",
       "    </tr>\n",
       "  </tbody>\n",
       "</table>\n",
       "</div>"
      ],
      "text/plain": [
       "            usd_goal_real  usd_pledged_real  backers\n",
       "state                                               \n",
       "canceled        10000.000             87.00        3\n",
       "failed           7500.000            100.00        3\n",
       "live             6547.090            259.16        5\n",
       "successful       3837.740           5107.25       71\n",
       "suspended        5000.000             37.00        2\n",
       "undefined        3530.425            580.00        0"
      ]
     },
     "execution_count": 147,
     "metadata": {},
     "output_type": "execute_result"
    }
   ],
   "source": [
    "ks.groupby([\"state\"])[\"usd_goal_real\", \"usd_pledged_real\",\"backers\"].median()"
   ]
  },
  {
   "cell_type": "code",
   "execution_count": 148,
   "metadata": {},
   "outputs": [
    {
     "data": {
      "text/plain": [
       "failed        197719\n",
       "successful    133956\n",
       "canceled       38779\n",
       "undefined       3562\n",
       "live            2799\n",
       "suspended       1846\n",
       "Name: state, dtype: int64"
      ]
     },
     "execution_count": 148,
     "metadata": {},
     "output_type": "execute_result"
    }
   ],
   "source": [
    "ks.state.value_counts()"
   ]
  },
  {
   "cell_type": "markdown",
   "metadata": {},
   "source": [
    "## Kickstarter Success rate "
   ]
  },
  {
   "cell_type": "code",
   "execution_count": 149,
   "metadata": {
    "collapsed": true
   },
   "outputs": [],
   "source": [
    "ks_state = pd.crosstab(index=ks[\"state\"],  # Make a crosstab\n",
    "                              columns=\"count\")      # Name the count column"
   ]
  },
  {
   "cell_type": "code",
   "execution_count": 150,
   "metadata": {},
   "outputs": [
    {
     "data": {
      "text/html": [
       "<div>\n",
       "<style>\n",
       "    .dataframe thead tr:only-child th {\n",
       "        text-align: right;\n",
       "    }\n",
       "\n",
       "    .dataframe thead th {\n",
       "        text-align: left;\n",
       "    }\n",
       "\n",
       "    .dataframe tbody tr th {\n",
       "        vertical-align: top;\n",
       "    }\n",
       "</style>\n",
       "<table border=\"1\" class=\"dataframe\">\n",
       "  <thead>\n",
       "    <tr style=\"text-align: right;\">\n",
       "      <th>col_0</th>\n",
       "      <th>count</th>\n",
       "    </tr>\n",
       "    <tr>\n",
       "      <th>state</th>\n",
       "      <th></th>\n",
       "    </tr>\n",
       "  </thead>\n",
       "  <tbody>\n",
       "    <tr>\n",
       "      <th>canceled</th>\n",
       "      <td>0.102411</td>\n",
       "    </tr>\n",
       "    <tr>\n",
       "      <th>failed</th>\n",
       "      <td>0.522153</td>\n",
       "    </tr>\n",
       "    <tr>\n",
       "      <th>live</th>\n",
       "      <td>0.007392</td>\n",
       "    </tr>\n",
       "    <tr>\n",
       "      <th>successful</th>\n",
       "      <td>0.353762</td>\n",
       "    </tr>\n",
       "    <tr>\n",
       "      <th>suspended</th>\n",
       "      <td>0.004875</td>\n",
       "    </tr>\n",
       "    <tr>\n",
       "      <th>undefined</th>\n",
       "      <td>0.009407</td>\n",
       "    </tr>\n",
       "  </tbody>\n",
       "</table>\n",
       "</div>"
      ],
      "text/plain": [
       "col_0          count\n",
       "state               \n",
       "canceled    0.102411\n",
       "failed      0.522153\n",
       "live        0.007392\n",
       "successful  0.353762\n",
       "suspended   0.004875\n",
       "undefined   0.009407"
      ]
     },
     "execution_count": 150,
     "metadata": {},
     "output_type": "execute_result"
    }
   ],
   "source": [
    "ks_state/ks_state.sum()"
   ]
  },
  {
   "cell_type": "markdown",
   "metadata": {},
   "source": [
    " Around 52% of kickstartes fail, 37% are successful, 10% are canceled, \n",
    " and about 1% are live right now or suspended for the time being"
   ]
  },
  {
   "cell_type": "markdown",
   "metadata": {},
   "source": [
    "## Investigations Countries "
   ]
  },
  {
   "cell_type": "code",
   "execution_count": 151,
   "metadata": {
    "collapsed": true
   },
   "outputs": [],
   "source": [
    "country_states = pd.DataFrame(ks.groupby([\"country\",\"state\"]).state.count())\n",
    "sum_of_states_per_country = country_states.groupby([\"country\"]).state.sum()\n",
    "country_state_rates = pd.DataFrame(country_states.state / sum_of_states_per_country)\n",
    "country_state_rates = country_state_rates.unstack()\n",
    "#country_state_rates"
   ]
  },
  {
   "cell_type": "code",
   "execution_count": 152,
   "metadata": {},
   "outputs": [
    {
     "data": {
      "text/plain": [
       "country\n",
       "US      0.373510\n",
       "GB      0.358369\n",
       "HK      0.349515\n",
       "DK      0.323450\n",
       "SG      0.320721\n",
       "NZ      0.309606\n",
       "FR      0.308949\n",
       "LU      0.306452\n",
       "SE      0.289698\n",
       "CA      0.280157\n",
       "AU      0.256410\n",
       "IE      0.255240\n",
       "BE      0.246353\n",
       "CH      0.245729\n",
       "NO      0.228814\n",
       "MX      0.226027\n",
       "DE      0.224646\n",
       "ES      0.216169\n",
       "NL      0.215132\n",
       "AT      0.179229\n",
       "JP      0.175000\n",
       "IT      0.152536\n",
       "None    0.027653\n",
       "Name: successful, dtype: float64"
      ]
     },
     "execution_count": 152,
     "metadata": {},
     "output_type": "execute_result"
    }
   ],
   "source": [
    "country_state_rates.state.successful.sort_values(ascending=False)"
   ]
  },
  {
   "cell_type": "code",
   "execution_count": 153,
   "metadata": {},
   "outputs": [
    {
     "data": {
      "text/plain": [
       "country\n",
       "IT      0.670605\n",
       "AT      0.633166\n",
       "NL      0.625523\n",
       "LU      0.612903\n",
       "CH      0.611038\n",
       "ES      0.606766\n",
       "BE      0.601297\n",
       "DE      0.599137\n",
       "NO      0.593220\n",
       "AU      0.587575\n",
       "IE      0.586930\n",
       "MX      0.579338\n",
       "NZ      0.570836\n",
       "SE      0.569152\n",
       "CA      0.558146\n",
       "FR      0.548486\n",
       "US      0.519641\n",
       "GB      0.516364\n",
       "DK      0.508535\n",
       "SG      0.497297\n",
       "HK      0.422330\n",
       "JP      0.400000\n",
       "None    0.027653\n",
       "Name: failed, dtype: float64"
      ]
     },
     "execution_count": 153,
     "metadata": {},
     "output_type": "execute_result"
    }
   ],
   "source": [
    "country_state_rates.state.failed.sort_values(ascending=False)\n",
    "    # failure rates vary from 67% to 40% \n"
   ]
  },
  {
   "cell_type": "markdown",
   "metadata": {},
   "source": [
    "## What type of projects succeed the most / fail the most on kickstarter?"
   ]
  },
  {
   "cell_type": "code",
   "execution_count": 154,
   "metadata": {
    "collapsed": true
   },
   "outputs": [],
   "source": [
    "category_states = pd.DataFrame(ks.groupby([\"main_category\",\"state\"]).state.count())"
   ]
  },
  {
   "cell_type": "markdown",
   "metadata": {},
   "source": [
    "## Percentages of kickstarters that fall into these main_categories "
   ]
  },
  {
   "cell_type": "code",
   "execution_count": 155,
   "metadata": {},
   "outputs": [
    {
     "data": {
      "text/plain": [
       "main_category\n",
       "Film & Video    16.792065\n",
       "Music           13.710945\n",
       "Publishing      10.530263\n",
       "Games            9.304101\n",
       "Technology       8.601097\n",
       "Design           7.941140\n",
       "Art              7.434882\n",
       "Food             6.497104\n",
       "Fashion          6.025442\n",
       "Theater          2.881997\n",
       "Comics           2.857173\n",
       "Photography      2.846610\n",
       "Crafts           2.326355\n",
       "Journalism       1.255741\n",
       "Dance            0.995085\n",
       "Name: state, dtype: float64"
      ]
     },
     "execution_count": 155,
     "metadata": {},
     "output_type": "execute_result"
    }
   ],
   "source": [
    "sum_of_states_per_category = category_states.groupby([\"main_category\"]).state.sum()\n",
    "percent_of_kickstarters = (sum_of_states_per_category.sort_values(ascending=False) / len(ks)) * 100\n",
    "percent_of_kickstarters"
   ]
  },
  {
   "cell_type": "code",
   "execution_count": 156,
   "metadata": {},
   "outputs": [
    {
     "ename": "TypeError",
     "evalue": "unsupported operand type(s) for -: 'str' and 'float'",
     "output_type": "error",
     "traceback": [
      "\u001b[0;31m---------------------------------------------------------------------------\u001b[0m",
      "\u001b[0;31mTypeError\u001b[0m                                 Traceback (most recent call last)",
      "\u001b[0;32m<ipython-input-156-0f4e142a9f09>\u001b[0m in \u001b[0;36m<module>\u001b[0;34m()\u001b[0m\n\u001b[1;32m      1\u001b[0m \u001b[0mplt\u001b[0m\u001b[0;34m.\u001b[0m\u001b[0mstyle\u001b[0m\u001b[0;34m.\u001b[0m\u001b[0muse\u001b[0m\u001b[0;34m(\u001b[0m\u001b[0;34m'fivethirtyeight'\u001b[0m\u001b[0;34m)\u001b[0m\u001b[0;34m\u001b[0m\u001b[0m\n\u001b[0;32m----> 2\u001b[0;31m \u001b[0mplt\u001b[0m\u001b[0;34m.\u001b[0m\u001b[0mbar\u001b[0m\u001b[0;34m(\u001b[0m\u001b[0mpercent_of_kickstarters\u001b[0m\u001b[0;34m.\u001b[0m\u001b[0mindex\u001b[0m\u001b[0;34m,\u001b[0m \u001b[0mpercent_of_kickstarters\u001b[0m\u001b[0;34m,\u001b[0m \u001b[0mcolor\u001b[0m \u001b[0;34m=\u001b[0m \u001b[0;34m\"green\"\u001b[0m\u001b[0;34m)\u001b[0m\u001b[0;34m\u001b[0m\u001b[0m\n\u001b[0m\u001b[1;32m      3\u001b[0m \u001b[0mplt\u001b[0m\u001b[0;34m.\u001b[0m\u001b[0mxticks\u001b[0m\u001b[0;34m(\u001b[0m\u001b[0mrotation\u001b[0m\u001b[0;34m=\u001b[0m\u001b[0;36m90\u001b[0m\u001b[0;34m)\u001b[0m\u001b[0;34m\u001b[0m\u001b[0m\n\u001b[1;32m      4\u001b[0m \u001b[0mplt\u001b[0m\u001b[0;34m.\u001b[0m\u001b[0mxlabel\u001b[0m\u001b[0;34m(\u001b[0m\u001b[0;34m\"Main Categories\"\u001b[0m\u001b[0;34m)\u001b[0m\u001b[0;34m\u001b[0m\u001b[0m\n\u001b[1;32m      5\u001b[0m \u001b[0mplt\u001b[0m\u001b[0;34m.\u001b[0m\u001b[0mylabel\u001b[0m\u001b[0;34m(\u001b[0m\u001b[0;34m'Percentage of all kickstarters'\u001b[0m\u001b[0;34m)\u001b[0m\u001b[0;34m\u001b[0m\u001b[0m\n",
      "\u001b[0;32m/Users/MattWaismann/anaconda/lib/python3.6/site-packages/matplotlib/pyplot.py\u001b[0m in \u001b[0;36mbar\u001b[0;34m(left, height, width, bottom, hold, data, **kwargs)\u001b[0m\n\u001b[1;32m   2702\u001b[0m     \u001b[0;32mtry\u001b[0m\u001b[0;34m:\u001b[0m\u001b[0;34m\u001b[0m\u001b[0m\n\u001b[1;32m   2703\u001b[0m         ret = ax.bar(left, height, width=width, bottom=bottom, data=data,\n\u001b[0;32m-> 2704\u001b[0;31m                      **kwargs)\n\u001b[0m\u001b[1;32m   2705\u001b[0m     \u001b[0;32mfinally\u001b[0m\u001b[0;34m:\u001b[0m\u001b[0;34m\u001b[0m\u001b[0m\n\u001b[1;32m   2706\u001b[0m         \u001b[0max\u001b[0m\u001b[0;34m.\u001b[0m\u001b[0m_hold\u001b[0m \u001b[0;34m=\u001b[0m \u001b[0mwashold\u001b[0m\u001b[0;34m\u001b[0m\u001b[0m\n",
      "\u001b[0;32m/Users/MattWaismann/anaconda/lib/python3.6/site-packages/matplotlib/__init__.py\u001b[0m in \u001b[0;36minner\u001b[0;34m(ax, *args, **kwargs)\u001b[0m\n\u001b[1;32m   1896\u001b[0m                     warnings.warn(msg % (label_namer, func.__name__),\n\u001b[1;32m   1897\u001b[0m                                   RuntimeWarning, stacklevel=2)\n\u001b[0;32m-> 1898\u001b[0;31m             \u001b[0;32mreturn\u001b[0m \u001b[0mfunc\u001b[0m\u001b[0;34m(\u001b[0m\u001b[0max\u001b[0m\u001b[0;34m,\u001b[0m \u001b[0;34m*\u001b[0m\u001b[0margs\u001b[0m\u001b[0;34m,\u001b[0m \u001b[0;34m**\u001b[0m\u001b[0mkwargs\u001b[0m\u001b[0;34m)\u001b[0m\u001b[0;34m\u001b[0m\u001b[0m\n\u001b[0m\u001b[1;32m   1899\u001b[0m         \u001b[0mpre_doc\u001b[0m \u001b[0;34m=\u001b[0m \u001b[0minner\u001b[0m\u001b[0;34m.\u001b[0m\u001b[0m__doc__\u001b[0m\u001b[0;34m\u001b[0m\u001b[0m\n\u001b[1;32m   1900\u001b[0m         \u001b[0;32mif\u001b[0m \u001b[0mpre_doc\u001b[0m \u001b[0;32mis\u001b[0m \u001b[0;32mNone\u001b[0m\u001b[0;34m:\u001b[0m\u001b[0;34m\u001b[0m\u001b[0m\n",
      "\u001b[0;32m/Users/MattWaismann/anaconda/lib/python3.6/site-packages/matplotlib/axes/_axes.py\u001b[0m in \u001b[0;36mbar\u001b[0;34m(self, left, height, width, bottom, **kwargs)\u001b[0m\n\u001b[1;32m   2103\u001b[0m         \u001b[0;32mif\u001b[0m \u001b[0malign\u001b[0m \u001b[0;34m==\u001b[0m \u001b[0;34m'center'\u001b[0m\u001b[0;34m:\u001b[0m\u001b[0;34m\u001b[0m\u001b[0m\n\u001b[1;32m   2104\u001b[0m             \u001b[0;32mif\u001b[0m \u001b[0morientation\u001b[0m \u001b[0;34m==\u001b[0m \u001b[0;34m'vertical'\u001b[0m\u001b[0;34m:\u001b[0m\u001b[0;34m\u001b[0m\u001b[0m\n\u001b[0;32m-> 2105\u001b[0;31m                 \u001b[0mleft\u001b[0m \u001b[0;34m=\u001b[0m \u001b[0;34m[\u001b[0m\u001b[0mleft\u001b[0m\u001b[0;34m[\u001b[0m\u001b[0mi\u001b[0m\u001b[0;34m]\u001b[0m \u001b[0;34m-\u001b[0m \u001b[0mwidth\u001b[0m\u001b[0;34m[\u001b[0m\u001b[0mi\u001b[0m\u001b[0;34m]\u001b[0m \u001b[0;34m/\u001b[0m \u001b[0;36m2.\u001b[0m \u001b[0;32mfor\u001b[0m \u001b[0mi\u001b[0m \u001b[0;32min\u001b[0m \u001b[0mxrange\u001b[0m\u001b[0;34m(\u001b[0m\u001b[0mlen\u001b[0m\u001b[0;34m(\u001b[0m\u001b[0mleft\u001b[0m\u001b[0;34m)\u001b[0m\u001b[0;34m)\u001b[0m\u001b[0;34m]\u001b[0m\u001b[0;34m\u001b[0m\u001b[0m\n\u001b[0m\u001b[1;32m   2106\u001b[0m             \u001b[0;32melif\u001b[0m \u001b[0morientation\u001b[0m \u001b[0;34m==\u001b[0m \u001b[0;34m'horizontal'\u001b[0m\u001b[0;34m:\u001b[0m\u001b[0;34m\u001b[0m\u001b[0m\n\u001b[1;32m   2107\u001b[0m                 bottom = [bottom[i] - height[i] / 2.\n",
      "\u001b[0;32m/Users/MattWaismann/anaconda/lib/python3.6/site-packages/matplotlib/axes/_axes.py\u001b[0m in \u001b[0;36m<listcomp>\u001b[0;34m(.0)\u001b[0m\n\u001b[1;32m   2103\u001b[0m         \u001b[0;32mif\u001b[0m \u001b[0malign\u001b[0m \u001b[0;34m==\u001b[0m \u001b[0;34m'center'\u001b[0m\u001b[0;34m:\u001b[0m\u001b[0;34m\u001b[0m\u001b[0m\n\u001b[1;32m   2104\u001b[0m             \u001b[0;32mif\u001b[0m \u001b[0morientation\u001b[0m \u001b[0;34m==\u001b[0m \u001b[0;34m'vertical'\u001b[0m\u001b[0;34m:\u001b[0m\u001b[0;34m\u001b[0m\u001b[0m\n\u001b[0;32m-> 2105\u001b[0;31m                 \u001b[0mleft\u001b[0m \u001b[0;34m=\u001b[0m \u001b[0;34m[\u001b[0m\u001b[0mleft\u001b[0m\u001b[0;34m[\u001b[0m\u001b[0mi\u001b[0m\u001b[0;34m]\u001b[0m \u001b[0;34m-\u001b[0m \u001b[0mwidth\u001b[0m\u001b[0;34m[\u001b[0m\u001b[0mi\u001b[0m\u001b[0;34m]\u001b[0m \u001b[0;34m/\u001b[0m \u001b[0;36m2.\u001b[0m \u001b[0;32mfor\u001b[0m \u001b[0mi\u001b[0m \u001b[0;32min\u001b[0m \u001b[0mxrange\u001b[0m\u001b[0;34m(\u001b[0m\u001b[0mlen\u001b[0m\u001b[0;34m(\u001b[0m\u001b[0mleft\u001b[0m\u001b[0;34m)\u001b[0m\u001b[0;34m)\u001b[0m\u001b[0;34m]\u001b[0m\u001b[0;34m\u001b[0m\u001b[0m\n\u001b[0m\u001b[1;32m   2106\u001b[0m             \u001b[0;32melif\u001b[0m \u001b[0morientation\u001b[0m \u001b[0;34m==\u001b[0m \u001b[0;34m'horizontal'\u001b[0m\u001b[0;34m:\u001b[0m\u001b[0;34m\u001b[0m\u001b[0m\n\u001b[1;32m   2107\u001b[0m                 bottom = [bottom[i] - height[i] / 2.\n",
      "\u001b[0;31mTypeError\u001b[0m: unsupported operand type(s) for -: 'str' and 'float'"
     ]
    },
    {
     "data": {
      "image/png": "[encoded data removed]",
      "text/plain": [
       "<matplotlib.figure.Figure at 0x117cf71d0>"
      ]
     },
     "metadata": {},
     "output_type": "display_data"
    }
   ],
   "source": [
    "plt.style.use('fivethirtyeight')\n",
    "plt.bar(percent_of_kickstarters.index, percent_of_kickstarters, color = \"green\")\n",
    "plt.xticks(rotation=90)\n",
    "plt.xlabel(\"Main Categories\")\n",
    "plt.ylabel('Percentage of all kickstarters')\n",
    "plt.show()"
   ]
  },
  {
   "cell_type": "markdown",
   "metadata": {},
   "source": [
    "## Overall demographics for projects"
   ]
  },
  {
   "cell_type": "code",
   "execution_count": 157,
   "metadata": {},
   "outputs": [
    {
     "data": {
      "text/html": [
       "<div>\n",
       "<style>\n",
       "    .dataframe thead tr:only-child th {\n",
       "        text-align: right;\n",
       "    }\n",
       "\n",
       "    .dataframe thead th {\n",
       "        text-align: left;\n",
       "    }\n",
       "\n",
       "    .dataframe tbody tr th {\n",
       "        vertical-align: top;\n",
       "    }\n",
       "</style>\n",
       "<table border=\"1\" class=\"dataframe\">\n",
       "  <thead>\n",
       "    <tr>\n",
       "      <th></th>\n",
       "      <th colspan=\"6\" halign=\"left\">state</th>\n",
       "    </tr>\n",
       "    <tr>\n",
       "      <th>state</th>\n",
       "      <th>canceled</th>\n",
       "      <th>failed</th>\n",
       "      <th>live</th>\n",
       "      <th>successful</th>\n",
       "      <th>suspended</th>\n",
       "      <th>undefined</th>\n",
       "    </tr>\n",
       "    <tr>\n",
       "      <th>main_category</th>\n",
       "      <th></th>\n",
       "      <th></th>\n",
       "      <th></th>\n",
       "      <th></th>\n",
       "      <th></th>\n",
       "      <th></th>\n",
       "    </tr>\n",
       "  </thead>\n",
       "  <tbody>\n",
       "    <tr>\n",
       "      <th>Art</th>\n",
       "      <td>0.078926</td>\n",
       "      <td>0.501936</td>\n",
       "      <td>0.006891</td>\n",
       "      <td>0.408837</td>\n",
       "      <td>0.003410</td>\n",
       "      <td>NaN</td>\n",
       "    </tr>\n",
       "    <tr>\n",
       "      <th>Comics</th>\n",
       "      <td>0.077826</td>\n",
       "      <td>0.373047</td>\n",
       "      <td>0.007025</td>\n",
       "      <td>0.539976</td>\n",
       "      <td>0.002126</td>\n",
       "      <td>NaN</td>\n",
       "    </tr>\n",
       "    <tr>\n",
       "      <th>Crafts</th>\n",
       "      <td>0.095698</td>\n",
       "      <td>0.647406</td>\n",
       "      <td>0.008628</td>\n",
       "      <td>0.240095</td>\n",
       "      <td>0.008173</td>\n",
       "      <td>NaN</td>\n",
       "    </tr>\n",
       "    <tr>\n",
       "      <th>Dance</th>\n",
       "      <td>0.043259</td>\n",
       "      <td>0.327760</td>\n",
       "      <td>0.004777</td>\n",
       "      <td>0.620488</td>\n",
       "      <td>0.003450</td>\n",
       "      <td>0.000265</td>\n",
       "    </tr>\n",
       "    <tr>\n",
       "      <th>Design</th>\n",
       "      <td>0.138078</td>\n",
       "      <td>0.492650</td>\n",
       "      <td>0.010143</td>\n",
       "      <td>0.350848</td>\n",
       "      <td>0.008214</td>\n",
       "      <td>0.000067</td>\n",
       "    </tr>\n",
       "    <tr>\n",
       "      <th>Fashion</th>\n",
       "      <td>0.116147</td>\n",
       "      <td>0.621581</td>\n",
       "      <td>0.010957</td>\n",
       "      <td>0.245135</td>\n",
       "      <td>0.006048</td>\n",
       "      <td>0.000131</td>\n",
       "    </tr>\n",
       "    <tr>\n",
       "      <th>Film &amp; Video</th>\n",
       "      <td>0.090509</td>\n",
       "      <td>0.517481</td>\n",
       "      <td>0.005221</td>\n",
       "      <td>0.371518</td>\n",
       "      <td>0.001840</td>\n",
       "      <td>0.013431</td>\n",
       "    </tr>\n",
       "    <tr>\n",
       "      <th>Food</th>\n",
       "      <td>0.089871</td>\n",
       "      <td>0.649094</td>\n",
       "      <td>0.007479</td>\n",
       "      <td>0.247338</td>\n",
       "      <td>0.006219</td>\n",
       "      <td>NaN</td>\n",
       "    </tr>\n",
       "    <tr>\n",
       "      <th>Games</th>\n",
       "      <td>0.176038</td>\n",
       "      <td>0.454231</td>\n",
       "      <td>0.008146</td>\n",
       "      <td>0.355312</td>\n",
       "      <td>0.006245</td>\n",
       "      <td>0.000028</td>\n",
       "    </tr>\n",
       "    <tr>\n",
       "      <th>Journalism</th>\n",
       "      <td>0.109989</td>\n",
       "      <td>0.659727</td>\n",
       "      <td>0.006519</td>\n",
       "      <td>0.212829</td>\n",
       "      <td>0.010936</td>\n",
       "      <td>NaN</td>\n",
       "    </tr>\n",
       "    <tr>\n",
       "      <th>Music</th>\n",
       "      <td>0.063658</td>\n",
       "      <td>0.418968</td>\n",
       "      <td>0.005412</td>\n",
       "      <td>0.466062</td>\n",
       "      <td>0.002870</td>\n",
       "      <td>0.043029</td>\n",
       "    </tr>\n",
       "    <tr>\n",
       "      <th>Photography</th>\n",
       "      <td>0.091474</td>\n",
       "      <td>0.592263</td>\n",
       "      <td>0.004453</td>\n",
       "      <td>0.306615</td>\n",
       "      <td>0.005103</td>\n",
       "      <td>0.000093</td>\n",
       "    </tr>\n",
       "    <tr>\n",
       "      <th>Publishing</th>\n",
       "      <td>0.090335</td>\n",
       "      <td>0.580453</td>\n",
       "      <td>0.007499</td>\n",
       "      <td>0.308472</td>\n",
       "      <td>0.001655</td>\n",
       "      <td>0.011586</td>\n",
       "    </tr>\n",
       "    <tr>\n",
       "      <th>Technology</th>\n",
       "      <td>0.144770</td>\n",
       "      <td>0.632995</td>\n",
       "      <td>0.011575</td>\n",
       "      <td>0.197550</td>\n",
       "      <td>0.013019</td>\n",
       "      <td>0.000092</td>\n",
       "    </tr>\n",
       "    <tr>\n",
       "      <th>Theater</th>\n",
       "      <td>0.055713</td>\n",
       "      <td>0.339778</td>\n",
       "      <td>0.003757</td>\n",
       "      <td>0.598735</td>\n",
       "      <td>0.001924</td>\n",
       "      <td>0.000092</td>\n",
       "    </tr>\n",
       "  </tbody>\n",
       "</table>\n",
       "</div>"
      ],
      "text/plain": [
       "                  state                                                   \n",
       "state          canceled    failed      live successful suspended undefined\n",
       "main_category                                                             \n",
       "Art            0.078926  0.501936  0.006891   0.408837  0.003410       NaN\n",
       "Comics         0.077826  0.373047  0.007025   0.539976  0.002126       NaN\n",
       "Crafts         0.095698  0.647406  0.008628   0.240095  0.008173       NaN\n",
       "Dance          0.043259  0.327760  0.004777   0.620488  0.003450  0.000265\n",
       "Design         0.138078  0.492650  0.010143   0.350848  0.008214  0.000067\n",
       "Fashion        0.116147  0.621581  0.010957   0.245135  0.006048  0.000131\n",
       "Film & Video   0.090509  0.517481  0.005221   0.371518  0.001840  0.013431\n",
       "Food           0.089871  0.649094  0.007479   0.247338  0.006219       NaN\n",
       "Games          0.176038  0.454231  0.008146   0.355312  0.006245  0.000028\n",
       "Journalism     0.109989  0.659727  0.006519   0.212829  0.010936       NaN\n",
       "Music          0.063658  0.418968  0.005412   0.466062  0.002870  0.043029\n",
       "Photography    0.091474  0.592263  0.004453   0.306615  0.005103  0.000093\n",
       "Publishing     0.090335  0.580453  0.007499   0.308472  0.001655  0.011586\n",
       "Technology     0.144770  0.632995  0.011575   0.197550  0.013019  0.000092\n",
       "Theater        0.055713  0.339778  0.003757   0.598735  0.001924  0.000092"
      ]
     },
     "execution_count": 157,
     "metadata": {},
     "output_type": "execute_result"
    }
   ],
   "source": [
    "category_state_rates = pd.DataFrame(category_states.state / sum_of_states_per_category)\n",
    "category_state_rates = category_state_rates.unstack()\n",
    "category_state_rates "
   ]
  },
  {
   "cell_type": "code",
   "execution_count": 158,
   "metadata": {},
   "outputs": [
    {
     "data": {
      "text/plain": [
       "main_category\n",
       "Dance           0.620488\n",
       "Theater         0.598735\n",
       "Comics          0.539976\n",
       "Music           0.466062\n",
       "Art             0.408837\n",
       "Film & Video    0.371518\n",
       "Games           0.355312\n",
       "Design          0.350848\n",
       "Publishing      0.308472\n",
       "Photography     0.306615\n",
       "Food            0.247338\n",
       "Fashion         0.245135\n",
       "Crafts          0.240095\n",
       "Journalism      0.212829\n",
       "Technology      0.197550\n",
       "Name: successful, dtype: float64"
      ]
     },
     "execution_count": 158,
     "metadata": {},
     "output_type": "execute_result"
    }
   ],
   "source": [
    "cat_s_rate = category_state_rates.state.successful.sort_values(ascending=False)\n",
    "cat_s_rate "
   ]
  },
  {
   "cell_type": "markdown",
   "metadata": {},
   "source": [
    "Dance, theater, and comics often do well (> 50% chance of success).\n",
    "Tech, Journalism, and Crafts don't do well at all (20% success), however, part of this is due to the sizes of these categories."
   ]
  },
  {
   "cell_type": "code",
   "execution_count": 159,
   "metadata": {},
   "outputs": [
    {
     "data": {
      "text/plain": [
       "main_category\n",
       "Music           24197.0\n",
       "Film & Video    23623.0\n",
       "Games           12518.0\n",
       "Publishing      12300.0\n",
       "Art             11510.0\n",
       "Design          10550.0\n",
       "Theater          6534.0\n",
       "Technology       6434.0\n",
       "Food             6085.0\n",
       "Comics           5842.0\n",
       "Fashion          5593.0\n",
       "Photography      3305.0\n",
       "Dance            2338.0\n",
       "Crafts           2115.0\n",
       "Journalism       1012.0\n",
       "dtype: float64"
      ]
     },
     "execution_count": 159,
     "metadata": {},
     "output_type": "execute_result"
    }
   ],
   "source": [
    "num_successful_proj_per_cat = ((category_state_rates.state.successful) * (sum_of_states_per_category)).sort_values(ascending=False)\n",
    "num_successful_proj_per_cat"
   ]
  },
  {
   "cell_type": "markdown",
   "metadata": {},
   "source": [
    "As a proportion of all kickstarters in their category, Music, Film & Video, and Games still hold out strong. \n",
    "Categories, Music, Film & Video, Games, and Publishing do the best when fixed for the volume of their category. "
   ]
  },
  {
   "cell_type": "markdown",
   "metadata": {},
   "source": [
    "category_state_rates.state.failed.sort_values(ascending=False)\n",
    "    "
   ]
  },
  {
   "cell_type": "markdown",
   "metadata": {},
   "source": [
    "\n",
    "Journalism , Food, and Crafts don't do well"
   ]
  },
  {
   "cell_type": "markdown",
   "metadata": {},
   "source": [
    "Film & Video , music, publishing, and games and tech are popular and more succesptible to high failure rates "
   ]
  },
  {
   "cell_type": "code",
   "execution_count": 160,
   "metadata": {},
   "outputs": [
    {
     "data": {
      "text/plain": [
       "main_category\n",
       "Film & Video    63585\n",
       "Music           51918\n",
       "Publishing      39874\n",
       "Games           35231\n",
       "Technology      32569\n",
       "Design          30070\n",
       "Art             28153\n",
       "Food            24602\n",
       "Fashion         22816\n",
       "Theater         10913\n",
       "Comics          10819\n",
       "Photography     10779\n",
       "Crafts           8809\n",
       "Journalism       4755\n",
       "Dance            3768\n",
       "Name: state, dtype: int64"
      ]
     },
     "execution_count": 160,
     "metadata": {},
     "output_type": "execute_result"
    }
   ],
   "source": [
    "total_projects_per_cat = sum_of_states_per_category.sort_values(ascending=False)\n",
    "total_projects_per_cat"
   ]
  },
  {
   "cell_type": "code",
   "execution_count": 161,
   "metadata": {},
   "outputs": [
    {
     "ename": "TypeError",
     "evalue": "unsupported operand type(s) for -: 'str' and 'float'",
     "output_type": "error",
     "traceback": [
      "\u001b[0;31m---------------------------------------------------------------------------\u001b[0m",
      "\u001b[0;31mTypeError\u001b[0m                                 Traceback (most recent call last)",
      "\u001b[0;32m<ipython-input-161-3ab218186ba9>\u001b[0m in \u001b[0;36m<module>\u001b[0;34m()\u001b[0m\n\u001b[1;32m      1\u001b[0m \u001b[0mplt\u001b[0m\u001b[0;34m.\u001b[0m\u001b[0mstyle\u001b[0m\u001b[0;34m.\u001b[0m\u001b[0muse\u001b[0m\u001b[0;34m(\u001b[0m\u001b[0;34m'fivethirtyeight'\u001b[0m\u001b[0;34m)\u001b[0m\u001b[0;34m\u001b[0m\u001b[0m\n\u001b[0;32m----> 2\u001b[0;31m \u001b[0mplt\u001b[0m\u001b[0;34m.\u001b[0m\u001b[0mbar\u001b[0m\u001b[0;34m(\u001b[0m\u001b[0mtotal_projects_per_cat\u001b[0m\u001b[0;34m.\u001b[0m\u001b[0mindex\u001b[0m\u001b[0;34m,\u001b[0m \u001b[0mtotal_projects_per_cat\u001b[0m\u001b[0;34m,\u001b[0m \u001b[0mcolor\u001b[0m \u001b[0;34m=\u001b[0m \u001b[0;34m\"red\"\u001b[0m\u001b[0;34m)\u001b[0m\u001b[0;34m\u001b[0m\u001b[0m\n\u001b[0m\u001b[1;32m      3\u001b[0m \u001b[0mplt\u001b[0m\u001b[0;34m.\u001b[0m\u001b[0mbar\u001b[0m\u001b[0;34m(\u001b[0m\u001b[0mnum_successful_proj_per_cat\u001b[0m\u001b[0;34m.\u001b[0m\u001b[0mindex\u001b[0m\u001b[0;34m,\u001b[0m \u001b[0mnum_successful_proj_per_cat\u001b[0m\u001b[0;34m,\u001b[0m \u001b[0mcolor\u001b[0m \u001b[0;34m=\u001b[0m \u001b[0;34m\"blue\"\u001b[0m\u001b[0;34m)\u001b[0m\u001b[0;34m\u001b[0m\u001b[0m\n\u001b[1;32m      4\u001b[0m \u001b[0mplt\u001b[0m\u001b[0;34m.\u001b[0m\u001b[0mxticks\u001b[0m\u001b[0;34m(\u001b[0m\u001b[0mrotation\u001b[0m\u001b[0;34m=\u001b[0m\u001b[0;36m90\u001b[0m\u001b[0;34m)\u001b[0m\u001b[0;34m\u001b[0m\u001b[0m\n\u001b[1;32m      5\u001b[0m \u001b[0mplt\u001b[0m\u001b[0;34m.\u001b[0m\u001b[0mxlabel\u001b[0m\u001b[0;34m(\u001b[0m\u001b[0;34m\"Main Categories\"\u001b[0m\u001b[0;34m)\u001b[0m\u001b[0;34m\u001b[0m\u001b[0m\n",
      "\u001b[0;32m/Users/MattWaismann/anaconda/lib/python3.6/site-packages/matplotlib/pyplot.py\u001b[0m in \u001b[0;36mbar\u001b[0;34m(left, height, width, bottom, hold, data, **kwargs)\u001b[0m\n\u001b[1;32m   2702\u001b[0m     \u001b[0;32mtry\u001b[0m\u001b[0;34m:\u001b[0m\u001b[0;34m\u001b[0m\u001b[0m\n\u001b[1;32m   2703\u001b[0m         ret = ax.bar(left, height, width=width, bottom=bottom, data=data,\n\u001b[0;32m-> 2704\u001b[0;31m                      **kwargs)\n\u001b[0m\u001b[1;32m   2705\u001b[0m     \u001b[0;32mfinally\u001b[0m\u001b[0;34m:\u001b[0m\u001b[0;34m\u001b[0m\u001b[0m\n\u001b[1;32m   2706\u001b[0m         \u001b[0max\u001b[0m\u001b[0;34m.\u001b[0m\u001b[0m_hold\u001b[0m \u001b[0;34m=\u001b[0m \u001b[0mwashold\u001b[0m\u001b[0;34m\u001b[0m\u001b[0m\n",
      "\u001b[0;32m/Users/MattWaismann/anaconda/lib/python3.6/site-packages/matplotlib/__init__.py\u001b[0m in \u001b[0;36minner\u001b[0;34m(ax, *args, **kwargs)\u001b[0m\n\u001b[1;32m   1896\u001b[0m                     warnings.warn(msg % (label_namer, func.__name__),\n\u001b[1;32m   1897\u001b[0m                                   RuntimeWarning, stacklevel=2)\n\u001b[0;32m-> 1898\u001b[0;31m             \u001b[0;32mreturn\u001b[0m \u001b[0mfunc\u001b[0m\u001b[0;34m(\u001b[0m\u001b[0max\u001b[0m\u001b[0;34m,\u001b[0m \u001b[0;34m*\u001b[0m\u001b[0margs\u001b[0m\u001b[0;34m,\u001b[0m \u001b[0;34m**\u001b[0m\u001b[0mkwargs\u001b[0m\u001b[0;34m)\u001b[0m\u001b[0;34m\u001b[0m\u001b[0m\n\u001b[0m\u001b[1;32m   1899\u001b[0m         \u001b[0mpre_doc\u001b[0m \u001b[0;34m=\u001b[0m \u001b[0minner\u001b[0m\u001b[0;34m.\u001b[0m\u001b[0m__doc__\u001b[0m\u001b[0;34m\u001b[0m\u001b[0m\n\u001b[1;32m   1900\u001b[0m         \u001b[0;32mif\u001b[0m \u001b[0mpre_doc\u001b[0m \u001b[0;32mis\u001b[0m \u001b[0;32mNone\u001b[0m\u001b[0;34m:\u001b[0m\u001b[0;34m\u001b[0m\u001b[0m\n",
      "\u001b[0;32m/Users/MattWaismann/anaconda/lib/python3.6/site-packages/matplotlib/axes/_axes.py\u001b[0m in \u001b[0;36mbar\u001b[0;34m(self, left, height, width, bottom, **kwargs)\u001b[0m\n\u001b[1;32m   2103\u001b[0m         \u001b[0;32mif\u001b[0m \u001b[0malign\u001b[0m \u001b[0;34m==\u001b[0m \u001b[0;34m'center'\u001b[0m\u001b[0;34m:\u001b[0m\u001b[0;34m\u001b[0m\u001b[0m\n\u001b[1;32m   2104\u001b[0m             \u001b[0;32mif\u001b[0m \u001b[0morientation\u001b[0m \u001b[0;34m==\u001b[0m \u001b[0;34m'vertical'\u001b[0m\u001b[0;34m:\u001b[0m\u001b[0;34m\u001b[0m\u001b[0m\n\u001b[0;32m-> 2105\u001b[0;31m                 \u001b[0mleft\u001b[0m \u001b[0;34m=\u001b[0m \u001b[0;34m[\u001b[0m\u001b[0mleft\u001b[0m\u001b[0;34m[\u001b[0m\u001b[0mi\u001b[0m\u001b[0;34m]\u001b[0m \u001b[0;34m-\u001b[0m \u001b[0mwidth\u001b[0m\u001b[0;34m[\u001b[0m\u001b[0mi\u001b[0m\u001b[0;34m]\u001b[0m \u001b[0;34m/\u001b[0m \u001b[0;36m2.\u001b[0m \u001b[0;32mfor\u001b[0m \u001b[0mi\u001b[0m \u001b[0;32min\u001b[0m \u001b[0mxrange\u001b[0m\u001b[0;34m(\u001b[0m\u001b[0mlen\u001b[0m\u001b[0;34m(\u001b[0m\u001b[0mleft\u001b[0m\u001b[0;34m)\u001b[0m\u001b[0;34m)\u001b[0m\u001b[0;34m]\u001b[0m\u001b[0;34m\u001b[0m\u001b[0m\n\u001b[0m\u001b[1;32m   2106\u001b[0m             \u001b[0;32melif\u001b[0m \u001b[0morientation\u001b[0m \u001b[0;34m==\u001b[0m \u001b[0;34m'horizontal'\u001b[0m\u001b[0;34m:\u001b[0m\u001b[0;34m\u001b[0m\u001b[0m\n\u001b[1;32m   2107\u001b[0m                 bottom = [bottom[i] - height[i] / 2.\n",
      "\u001b[0;32m/Users/MattWaismann/anaconda/lib/python3.6/site-packages/matplotlib/axes/_axes.py\u001b[0m in \u001b[0;36m<listcomp>\u001b[0;34m(.0)\u001b[0m\n\u001b[1;32m   2103\u001b[0m         \u001b[0;32mif\u001b[0m \u001b[0malign\u001b[0m \u001b[0;34m==\u001b[0m \u001b[0;34m'center'\u001b[0m\u001b[0;34m:\u001b[0m\u001b[0;34m\u001b[0m\u001b[0m\n\u001b[1;32m   2104\u001b[0m             \u001b[0;32mif\u001b[0m \u001b[0morientation\u001b[0m \u001b[0;34m==\u001b[0m \u001b[0;34m'vertical'\u001b[0m\u001b[0;34m:\u001b[0m\u001b[0;34m\u001b[0m\u001b[0m\n\u001b[0;32m-> 2105\u001b[0;31m                 \u001b[0mleft\u001b[0m \u001b[0;34m=\u001b[0m \u001b[0;34m[\u001b[0m\u001b[0mleft\u001b[0m\u001b[0;34m[\u001b[0m\u001b[0mi\u001b[0m\u001b[0;34m]\u001b[0m \u001b[0;34m-\u001b[0m \u001b[0mwidth\u001b[0m\u001b[0;34m[\u001b[0m\u001b[0mi\u001b[0m\u001b[0;34m]\u001b[0m \u001b[0;34m/\u001b[0m \u001b[0;36m2.\u001b[0m \u001b[0;32mfor\u001b[0m \u001b[0mi\u001b[0m \u001b[0;32min\u001b[0m \u001b[0mxrange\u001b[0m\u001b[0;34m(\u001b[0m\u001b[0mlen\u001b[0m\u001b[0;34m(\u001b[0m\u001b[0mleft\u001b[0m\u001b[0;34m)\u001b[0m\u001b[0;34m)\u001b[0m\u001b[0;34m]\u001b[0m\u001b[0;34m\u001b[0m\u001b[0m\n\u001b[0m\u001b[1;32m   2106\u001b[0m             \u001b[0;32melif\u001b[0m \u001b[0morientation\u001b[0m \u001b[0;34m==\u001b[0m \u001b[0;34m'horizontal'\u001b[0m\u001b[0;34m:\u001b[0m\u001b[0;34m\u001b[0m\u001b[0m\n\u001b[1;32m   2107\u001b[0m                 bottom = [bottom[i] - height[i] / 2.\n",
      "\u001b[0;31mTypeError\u001b[0m: unsupported operand type(s) for -: 'str' and 'float'"
     ]
    },
    {
     "data": {
      "image/png": "[encoded data removed]",
      "text/plain": [
       "<matplotlib.figure.Figure at 0x11791b6a0>"
      ]
     },
     "metadata": {},
     "output_type": "display_data"
    }
   ],
   "source": [
    "plt.style.use('fivethirtyeight')\n",
    "plt.bar(total_projects_per_cat.index, total_projects_per_cat, color = \"red\")\n",
    "plt.bar(num_successful_proj_per_cat.index, num_successful_proj_per_cat, color = \"blue\")\n",
    "plt.xticks(rotation=90)\n",
    "plt.xlabel(\"Main Categories\")\n",
    "plt.ylabel('Projects Per Main Category')\n",
    "plt.legend(('Total', 'Successful'))\n",
    "plt.show()"
   ]
  },
  {
   "cell_type": "markdown",
   "metadata": {},
   "source": [
    "## Main Category Median Goals "
   ]
  },
  {
   "cell_type": "code",
   "execution_count": 162,
   "metadata": {},
   "outputs": [
    {
     "data": {
      "text/plain": [
       "main_category\n",
       "Technology      20000.00\n",
       "Food            10000.00\n",
       "Design          10000.00\n",
       "Games            8000.00\n",
       "Film & Video     6597.87\n",
       "Fashion          5938.52\n",
       "Publishing       5000.00\n",
       "Journalism       5000.00\n",
       "Photography      4000.00\n",
       "Music            4000.00\n",
       "Comics           3500.00\n",
       "Theater          3300.00\n",
       "Dance            3300.00\n",
       "Art              3000.00\n",
       "Crafts           2345.00\n",
       "Name: usd_goal_real, dtype: float64"
      ]
     },
     "execution_count": 162,
     "metadata": {},
     "output_type": "execute_result"
    }
   ],
   "source": [
    "cat_goal_medians = ks.groupby(['main_category']).usd_goal_real.median().sort_values(ascending=False)\n",
    "cat_goal_medians"
   ]
  },
  {
   "cell_type": "code",
   "execution_count": 163,
   "metadata": {},
   "outputs": [
    {
     "ename": "TypeError",
     "evalue": "unsupported operand type(s) for -: 'str' and 'float'",
     "output_type": "error",
     "traceback": [
      "\u001b[0;31m---------------------------------------------------------------------------\u001b[0m",
      "\u001b[0;31mTypeError\u001b[0m                                 Traceback (most recent call last)",
      "\u001b[0;32m<ipython-input-163-49d8eac95004>\u001b[0m in \u001b[0;36m<module>\u001b[0;34m()\u001b[0m\n\u001b[1;32m      1\u001b[0m \u001b[0mplt\u001b[0m\u001b[0;34m.\u001b[0m\u001b[0mstyle\u001b[0m\u001b[0;34m.\u001b[0m\u001b[0muse\u001b[0m\u001b[0;34m(\u001b[0m\u001b[0;34m'fivethirtyeight'\u001b[0m\u001b[0;34m)\u001b[0m\u001b[0;34m\u001b[0m\u001b[0m\n\u001b[1;32m      2\u001b[0m \u001b[0mmain_category\u001b[0m \u001b[0;34m=\u001b[0m \u001b[0mks\u001b[0m\u001b[0;34m.\u001b[0m\u001b[0mmain_category\u001b[0m\u001b[0;34m.\u001b[0m\u001b[0munique\u001b[0m\u001b[0;34m(\u001b[0m\u001b[0;34m)\u001b[0m\u001b[0;34m\u001b[0m\u001b[0m\n\u001b[0;32m----> 3\u001b[0;31m \u001b[0mplt\u001b[0m\u001b[0;34m.\u001b[0m\u001b[0mbar\u001b[0m\u001b[0;34m(\u001b[0m\u001b[0mmain_category\u001b[0m\u001b[0;34m,\u001b[0m \u001b[0mcat_goal_medians\u001b[0m\u001b[0;34m)\u001b[0m\u001b[0;34m\u001b[0m\u001b[0m\n\u001b[0m\u001b[1;32m      4\u001b[0m \u001b[0mplt\u001b[0m\u001b[0;34m.\u001b[0m\u001b[0mxticks\u001b[0m\u001b[0;34m(\u001b[0m\u001b[0mrotation\u001b[0m\u001b[0;34m=\u001b[0m\u001b[0;36m90\u001b[0m\u001b[0;34m)\u001b[0m\u001b[0;34m\u001b[0m\u001b[0m\n\u001b[1;32m      5\u001b[0m \u001b[0mplt\u001b[0m\u001b[0;34m.\u001b[0m\u001b[0mxlabel\u001b[0m\u001b[0;34m(\u001b[0m\u001b[0;34m\"Main Categories\"\u001b[0m\u001b[0;34m)\u001b[0m\u001b[0;34m\u001b[0m\u001b[0m\n",
      "\u001b[0;32m/Users/MattWaismann/anaconda/lib/python3.6/site-packages/matplotlib/pyplot.py\u001b[0m in \u001b[0;36mbar\u001b[0;34m(left, height, width, bottom, hold, data, **kwargs)\u001b[0m\n\u001b[1;32m   2702\u001b[0m     \u001b[0;32mtry\u001b[0m\u001b[0;34m:\u001b[0m\u001b[0;34m\u001b[0m\u001b[0m\n\u001b[1;32m   2703\u001b[0m         ret = ax.bar(left, height, width=width, bottom=bottom, data=data,\n\u001b[0;32m-> 2704\u001b[0;31m                      **kwargs)\n\u001b[0m\u001b[1;32m   2705\u001b[0m     \u001b[0;32mfinally\u001b[0m\u001b[0;34m:\u001b[0m\u001b[0;34m\u001b[0m\u001b[0m\n\u001b[1;32m   2706\u001b[0m         \u001b[0max\u001b[0m\u001b[0;34m.\u001b[0m\u001b[0m_hold\u001b[0m \u001b[0;34m=\u001b[0m \u001b[0mwashold\u001b[0m\u001b[0;34m\u001b[0m\u001b[0m\n",
      "\u001b[0;32m/Users/MattWaismann/anaconda/lib/python3.6/site-packages/matplotlib/__init__.py\u001b[0m in \u001b[0;36minner\u001b[0;34m(ax, *args, **kwargs)\u001b[0m\n\u001b[1;32m   1896\u001b[0m                     warnings.warn(msg % (label_namer, func.__name__),\n\u001b[1;32m   1897\u001b[0m                                   RuntimeWarning, stacklevel=2)\n\u001b[0;32m-> 1898\u001b[0;31m             \u001b[0;32mreturn\u001b[0m \u001b[0mfunc\u001b[0m\u001b[0;34m(\u001b[0m\u001b[0max\u001b[0m\u001b[0;34m,\u001b[0m \u001b[0;34m*\u001b[0m\u001b[0margs\u001b[0m\u001b[0;34m,\u001b[0m \u001b[0;34m**\u001b[0m\u001b[0mkwargs\u001b[0m\u001b[0;34m)\u001b[0m\u001b[0;34m\u001b[0m\u001b[0m\n\u001b[0m\u001b[1;32m   1899\u001b[0m         \u001b[0mpre_doc\u001b[0m \u001b[0;34m=\u001b[0m \u001b[0minner\u001b[0m\u001b[0;34m.\u001b[0m\u001b[0m__doc__\u001b[0m\u001b[0;34m\u001b[0m\u001b[0m\n\u001b[1;32m   1900\u001b[0m         \u001b[0;32mif\u001b[0m \u001b[0mpre_doc\u001b[0m \u001b[0;32mis\u001b[0m \u001b[0;32mNone\u001b[0m\u001b[0;34m:\u001b[0m\u001b[0;34m\u001b[0m\u001b[0m\n",
      "\u001b[0;32m/Users/MattWaismann/anaconda/lib/python3.6/site-packages/matplotlib/axes/_axes.py\u001b[0m in \u001b[0;36mbar\u001b[0;34m(self, left, height, width, bottom, **kwargs)\u001b[0m\n\u001b[1;32m   2103\u001b[0m         \u001b[0;32mif\u001b[0m \u001b[0malign\u001b[0m \u001b[0;34m==\u001b[0m \u001b[0;34m'center'\u001b[0m\u001b[0;34m:\u001b[0m\u001b[0;34m\u001b[0m\u001b[0m\n\u001b[1;32m   2104\u001b[0m             \u001b[0;32mif\u001b[0m \u001b[0morientation\u001b[0m \u001b[0;34m==\u001b[0m \u001b[0;34m'vertical'\u001b[0m\u001b[0;34m:\u001b[0m\u001b[0;34m\u001b[0m\u001b[0m\n\u001b[0;32m-> 2105\u001b[0;31m                 \u001b[0mleft\u001b[0m \u001b[0;34m=\u001b[0m \u001b[0;34m[\u001b[0m\u001b[0mleft\u001b[0m\u001b[0;34m[\u001b[0m\u001b[0mi\u001b[0m\u001b[0;34m]\u001b[0m \u001b[0;34m-\u001b[0m \u001b[0mwidth\u001b[0m\u001b[0;34m[\u001b[0m\u001b[0mi\u001b[0m\u001b[0;34m]\u001b[0m \u001b[0;34m/\u001b[0m \u001b[0;36m2.\u001b[0m \u001b[0;32mfor\u001b[0m \u001b[0mi\u001b[0m \u001b[0;32min\u001b[0m \u001b[0mxrange\u001b[0m\u001b[0;34m(\u001b[0m\u001b[0mlen\u001b[0m\u001b[0;34m(\u001b[0m\u001b[0mleft\u001b[0m\u001b[0;34m)\u001b[0m\u001b[0;34m)\u001b[0m\u001b[0;34m]\u001b[0m\u001b[0;34m\u001b[0m\u001b[0m\n\u001b[0m\u001b[1;32m   2106\u001b[0m             \u001b[0;32melif\u001b[0m \u001b[0morientation\u001b[0m \u001b[0;34m==\u001b[0m \u001b[0;34m'horizontal'\u001b[0m\u001b[0;34m:\u001b[0m\u001b[0;34m\u001b[0m\u001b[0m\n\u001b[1;32m   2107\u001b[0m                 bottom = [bottom[i] - height[i] / 2.\n",
      "\u001b[0;32m/Users/MattWaismann/anaconda/lib/python3.6/site-packages/matplotlib/axes/_axes.py\u001b[0m in \u001b[0;36m<listcomp>\u001b[0;34m(.0)\u001b[0m\n\u001b[1;32m   2103\u001b[0m         \u001b[0;32mif\u001b[0m \u001b[0malign\u001b[0m \u001b[0;34m==\u001b[0m \u001b[0;34m'center'\u001b[0m\u001b[0;34m:\u001b[0m\u001b[0;34m\u001b[0m\u001b[0m\n\u001b[1;32m   2104\u001b[0m             \u001b[0;32mif\u001b[0m \u001b[0morientation\u001b[0m \u001b[0;34m==\u001b[0m \u001b[0;34m'vertical'\u001b[0m\u001b[0;34m:\u001b[0m\u001b[0;34m\u001b[0m\u001b[0m\n\u001b[0;32m-> 2105\u001b[0;31m                 \u001b[0mleft\u001b[0m \u001b[0;34m=\u001b[0m \u001b[0;34m[\u001b[0m\u001b[0mleft\u001b[0m\u001b[0;34m[\u001b[0m\u001b[0mi\u001b[0m\u001b[0;34m]\u001b[0m \u001b[0;34m-\u001b[0m \u001b[0mwidth\u001b[0m\u001b[0;34m[\u001b[0m\u001b[0mi\u001b[0m\u001b[0;34m]\u001b[0m \u001b[0;34m/\u001b[0m \u001b[0;36m2.\u001b[0m \u001b[0;32mfor\u001b[0m \u001b[0mi\u001b[0m \u001b[0;32min\u001b[0m \u001b[0mxrange\u001b[0m\u001b[0;34m(\u001b[0m\u001b[0mlen\u001b[0m\u001b[0;34m(\u001b[0m\u001b[0mleft\u001b[0m\u001b[0;34m)\u001b[0m\u001b[0;34m)\u001b[0m\u001b[0;34m]\u001b[0m\u001b[0;34m\u001b[0m\u001b[0m\n\u001b[0m\u001b[1;32m   2106\u001b[0m             \u001b[0;32melif\u001b[0m \u001b[0morientation\u001b[0m \u001b[0;34m==\u001b[0m \u001b[0;34m'horizontal'\u001b[0m\u001b[0;34m:\u001b[0m\u001b[0;34m\u001b[0m\u001b[0m\n\u001b[1;32m   2107\u001b[0m                 bottom = [bottom[i] - height[i] / 2.\n",
      "\u001b[0;31mTypeError\u001b[0m: unsupported operand type(s) for -: 'str' and 'float'"
     ]
    },
    {
     "data": {
      "image/png": "[encoded data removed]",
      "text/plain": [
       "<matplotlib.figure.Figure at 0x117cf70f0>"
      ]
     },
     "metadata": {},
     "output_type": "display_data"
    }
   ],
   "source": [
    "plt.style.use('fivethirtyeight')\n",
    "main_category = ks.main_category.unique()\n",
    "plt.bar(main_category, cat_goal_medians)\n",
    "plt.xticks(rotation=90)\n",
    "plt.xlabel(\"Main Categories\")\n",
    "plt.ylabel('Category Median Goal Values')\n",
    "plt.show()"
   ]
  },
  {
   "cell_type": "markdown",
   "metadata": {},
   "source": [
    "## Sub categories per main_category "
   ]
  },
  {
   "cell_type": "code",
   "execution_count": 164,
   "metadata": {},
   "outputs": [
    {
     "data": {
      "text/plain": [
       "main_category\n",
       "Art             [Public Art, Illustration, Art, Painting, Perf...\n",
       "Comics          [Comic Books, Comics, Anthologies, Graphic Nov...\n",
       "Crafts          [Crafts, DIY, Weaving, Stationery, Knitting, E...\n",
       "Dance           [Dance, Performances, Spaces, Workshops, Resid...\n",
       "Design          [Product Design, Design, Architecture, Graphic...\n",
       "Fashion         [Fashion, Childrenswear, Accessories, Ready-to...\n",
       "Film & Video    [Narrative Film, Film & Video, Documentary, We...\n",
       "Food            [Restaurants, Food, Drinks, Food Trucks, Cookb...\n",
       "Games           [Games, Tabletop Games, Video Games, Mobile Ga...\n",
       "Journalism          [Audio, Print, Journalism, Video, Web, Photo]\n",
       "Music           [Music, Indie Rock, Pop, Rock, Jazz, Electroni...\n",
       "Photography     [Photography, People, Photobooks, Fine Art, An...\n",
       "Publishing      [Poetry, Nonfiction, Art Books, Fiction, Publi...\n",
       "Technology      [Hardware, Software, Gadgets, Web, Apps, Techn...\n",
       "Theater         [Theater, Festivals, Experimental, Plays, Musi...\n",
       "Name: category, dtype: object"
      ]
     },
     "execution_count": 164,
     "metadata": {},
     "output_type": "execute_result"
    }
   ],
   "source": [
    "ks.groupby([\"main_category\"]).category.unique()"
   ]
  },
  {
   "cell_type": "code",
   "execution_count": 165,
   "metadata": {},
   "outputs": [
    {
     "ename": "TypeError",
     "evalue": "unsupported operand type(s) for -: 'str' and 'float'",
     "output_type": "error",
     "traceback": [
      "\u001b[0;31m---------------------------------------------------------------------------\u001b[0m",
      "\u001b[0;31mTypeError\u001b[0m                                 Traceback (most recent call last)",
      "\u001b[0;32m<ipython-input-165-eec3cfda680c>\u001b[0m in \u001b[0;36m<module>\u001b[0;34m()\u001b[0m\n\u001b[1;32m      1\u001b[0m \u001b[0mnum_sub_cats\u001b[0m \u001b[0;34m=\u001b[0m \u001b[0mks\u001b[0m\u001b[0;34m.\u001b[0m\u001b[0mgroupby\u001b[0m\u001b[0;34m(\u001b[0m\u001b[0;34m[\u001b[0m\u001b[0;34m\"main_category\"\u001b[0m\u001b[0;34m]\u001b[0m\u001b[0;34m)\u001b[0m\u001b[0;34m.\u001b[0m\u001b[0mcategory\u001b[0m\u001b[0;34m.\u001b[0m\u001b[0mnunique\u001b[0m\u001b[0;34m(\u001b[0m\u001b[0;34m)\u001b[0m\u001b[0;34m.\u001b[0m\u001b[0msort_values\u001b[0m\u001b[0;34m(\u001b[0m\u001b[0mascending\u001b[0m\u001b[0;34m=\u001b[0m\u001b[0;32mFalse\u001b[0m\u001b[0;34m)\u001b[0m\u001b[0;34m\u001b[0m\u001b[0m\n\u001b[1;32m      2\u001b[0m \u001b[0mplt\u001b[0m\u001b[0;34m.\u001b[0m\u001b[0mstyle\u001b[0m\u001b[0;34m.\u001b[0m\u001b[0muse\u001b[0m\u001b[0;34m(\u001b[0m\u001b[0;34m'fivethirtyeight'\u001b[0m\u001b[0;34m)\u001b[0m\u001b[0;34m\u001b[0m\u001b[0m\n\u001b[0;32m----> 3\u001b[0;31m \u001b[0mplt\u001b[0m\u001b[0;34m.\u001b[0m\u001b[0mbar\u001b[0m\u001b[0;34m(\u001b[0m\u001b[0mnum_sub_cats\u001b[0m\u001b[0;34m.\u001b[0m\u001b[0mindex\u001b[0m\u001b[0;34m,\u001b[0m \u001b[0mnum_sub_cats\u001b[0m\u001b[0;34m,\u001b[0m \u001b[0mcolor\u001b[0m \u001b[0;34m=\u001b[0m \u001b[0;34m\"purple\"\u001b[0m\u001b[0;34m)\u001b[0m\u001b[0;34m\u001b[0m\u001b[0m\n\u001b[0m\u001b[1;32m      4\u001b[0m \u001b[0mplt\u001b[0m\u001b[0;34m.\u001b[0m\u001b[0mxticks\u001b[0m\u001b[0;34m(\u001b[0m\u001b[0mrotation\u001b[0m\u001b[0;34m=\u001b[0m\u001b[0;36m90\u001b[0m\u001b[0;34m)\u001b[0m\u001b[0;34m\u001b[0m\u001b[0m\n\u001b[1;32m      5\u001b[0m \u001b[0mplt\u001b[0m\u001b[0;34m.\u001b[0m\u001b[0mxlabel\u001b[0m\u001b[0;34m(\u001b[0m\u001b[0;34m\"Main Categories\"\u001b[0m\u001b[0;34m)\u001b[0m\u001b[0;34m\u001b[0m\u001b[0m\n",
      "\u001b[0;32m/Users/MattWaismann/anaconda/lib/python3.6/site-packages/matplotlib/pyplot.py\u001b[0m in \u001b[0;36mbar\u001b[0;34m(left, height, width, bottom, hold, data, **kwargs)\u001b[0m\n\u001b[1;32m   2702\u001b[0m     \u001b[0;32mtry\u001b[0m\u001b[0;34m:\u001b[0m\u001b[0;34m\u001b[0m\u001b[0m\n\u001b[1;32m   2703\u001b[0m         ret = ax.bar(left, height, width=width, bottom=bottom, data=data,\n\u001b[0;32m-> 2704\u001b[0;31m                      **kwargs)\n\u001b[0m\u001b[1;32m   2705\u001b[0m     \u001b[0;32mfinally\u001b[0m\u001b[0;34m:\u001b[0m\u001b[0;34m\u001b[0m\u001b[0m\n\u001b[1;32m   2706\u001b[0m         \u001b[0max\u001b[0m\u001b[0;34m.\u001b[0m\u001b[0m_hold\u001b[0m \u001b[0;34m=\u001b[0m \u001b[0mwashold\u001b[0m\u001b[0;34m\u001b[0m\u001b[0m\n",
      "\u001b[0;32m/Users/MattWaismann/anaconda/lib/python3.6/site-packages/matplotlib/__init__.py\u001b[0m in \u001b[0;36minner\u001b[0;34m(ax, *args, **kwargs)\u001b[0m\n\u001b[1;32m   1896\u001b[0m                     warnings.warn(msg % (label_namer, func.__name__),\n\u001b[1;32m   1897\u001b[0m                                   RuntimeWarning, stacklevel=2)\n\u001b[0;32m-> 1898\u001b[0;31m             \u001b[0;32mreturn\u001b[0m \u001b[0mfunc\u001b[0m\u001b[0;34m(\u001b[0m\u001b[0max\u001b[0m\u001b[0;34m,\u001b[0m \u001b[0;34m*\u001b[0m\u001b[0margs\u001b[0m\u001b[0;34m,\u001b[0m \u001b[0;34m**\u001b[0m\u001b[0mkwargs\u001b[0m\u001b[0;34m)\u001b[0m\u001b[0;34m\u001b[0m\u001b[0m\n\u001b[0m\u001b[1;32m   1899\u001b[0m         \u001b[0mpre_doc\u001b[0m \u001b[0;34m=\u001b[0m \u001b[0minner\u001b[0m\u001b[0;34m.\u001b[0m\u001b[0m__doc__\u001b[0m\u001b[0;34m\u001b[0m\u001b[0m\n\u001b[1;32m   1900\u001b[0m         \u001b[0;32mif\u001b[0m \u001b[0mpre_doc\u001b[0m \u001b[0;32mis\u001b[0m \u001b[0;32mNone\u001b[0m\u001b[0;34m:\u001b[0m\u001b[0;34m\u001b[0m\u001b[0m\n",
      "\u001b[0;32m/Users/MattWaismann/anaconda/lib/python3.6/site-packages/matplotlib/axes/_axes.py\u001b[0m in \u001b[0;36mbar\u001b[0;34m(self, left, height, width, bottom, **kwargs)\u001b[0m\n\u001b[1;32m   2103\u001b[0m         \u001b[0;32mif\u001b[0m \u001b[0malign\u001b[0m \u001b[0;34m==\u001b[0m \u001b[0;34m'center'\u001b[0m\u001b[0;34m:\u001b[0m\u001b[0;34m\u001b[0m\u001b[0m\n\u001b[1;32m   2104\u001b[0m             \u001b[0;32mif\u001b[0m \u001b[0morientation\u001b[0m \u001b[0;34m==\u001b[0m \u001b[0;34m'vertical'\u001b[0m\u001b[0;34m:\u001b[0m\u001b[0;34m\u001b[0m\u001b[0m\n\u001b[0;32m-> 2105\u001b[0;31m                 \u001b[0mleft\u001b[0m \u001b[0;34m=\u001b[0m \u001b[0;34m[\u001b[0m\u001b[0mleft\u001b[0m\u001b[0;34m[\u001b[0m\u001b[0mi\u001b[0m\u001b[0;34m]\u001b[0m \u001b[0;34m-\u001b[0m \u001b[0mwidth\u001b[0m\u001b[0;34m[\u001b[0m\u001b[0mi\u001b[0m\u001b[0;34m]\u001b[0m \u001b[0;34m/\u001b[0m \u001b[0;36m2.\u001b[0m \u001b[0;32mfor\u001b[0m \u001b[0mi\u001b[0m \u001b[0;32min\u001b[0m \u001b[0mxrange\u001b[0m\u001b[0;34m(\u001b[0m\u001b[0mlen\u001b[0m\u001b[0;34m(\u001b[0m\u001b[0mleft\u001b[0m\u001b[0;34m)\u001b[0m\u001b[0;34m)\u001b[0m\u001b[0;34m]\u001b[0m\u001b[0;34m\u001b[0m\u001b[0m\n\u001b[0m\u001b[1;32m   2106\u001b[0m             \u001b[0;32melif\u001b[0m \u001b[0morientation\u001b[0m \u001b[0;34m==\u001b[0m \u001b[0;34m'horizontal'\u001b[0m\u001b[0;34m:\u001b[0m\u001b[0;34m\u001b[0m\u001b[0m\n\u001b[1;32m   2107\u001b[0m                 bottom = [bottom[i] - height[i] / 2.\n",
      "\u001b[0;32m/Users/MattWaismann/anaconda/lib/python3.6/site-packages/matplotlib/axes/_axes.py\u001b[0m in \u001b[0;36m<listcomp>\u001b[0;34m(.0)\u001b[0m\n\u001b[1;32m   2103\u001b[0m         \u001b[0;32mif\u001b[0m \u001b[0malign\u001b[0m \u001b[0;34m==\u001b[0m \u001b[0;34m'center'\u001b[0m\u001b[0;34m:\u001b[0m\u001b[0;34m\u001b[0m\u001b[0m\n\u001b[1;32m   2104\u001b[0m             \u001b[0;32mif\u001b[0m \u001b[0morientation\u001b[0m \u001b[0;34m==\u001b[0m \u001b[0;34m'vertical'\u001b[0m\u001b[0;34m:\u001b[0m\u001b[0;34m\u001b[0m\u001b[0m\n\u001b[0;32m-> 2105\u001b[0;31m                 \u001b[0mleft\u001b[0m \u001b[0;34m=\u001b[0m \u001b[0;34m[\u001b[0m\u001b[0mleft\u001b[0m\u001b[0;34m[\u001b[0m\u001b[0mi\u001b[0m\u001b[0;34m]\u001b[0m \u001b[0;34m-\u001b[0m \u001b[0mwidth\u001b[0m\u001b[0;34m[\u001b[0m\u001b[0mi\u001b[0m\u001b[0;34m]\u001b[0m \u001b[0;34m/\u001b[0m \u001b[0;36m2.\u001b[0m \u001b[0;32mfor\u001b[0m \u001b[0mi\u001b[0m \u001b[0;32min\u001b[0m \u001b[0mxrange\u001b[0m\u001b[0;34m(\u001b[0m\u001b[0mlen\u001b[0m\u001b[0;34m(\u001b[0m\u001b[0mleft\u001b[0m\u001b[0;34m)\u001b[0m\u001b[0;34m)\u001b[0m\u001b[0;34m]\u001b[0m\u001b[0;34m\u001b[0m\u001b[0m\n\u001b[0m\u001b[1;32m   2106\u001b[0m             \u001b[0;32melif\u001b[0m \u001b[0morientation\u001b[0m \u001b[0;34m==\u001b[0m \u001b[0;34m'horizontal'\u001b[0m\u001b[0;34m:\u001b[0m\u001b[0;34m\u001b[0m\u001b[0m\n\u001b[1;32m   2107\u001b[0m                 bottom = [bottom[i] - height[i] / 2.\n",
      "\u001b[0;31mTypeError\u001b[0m: unsupported operand type(s) for -: 'str' and 'float'"
     ]
    },
    {
     "data": {
      "image/png": "[encoded data removed]",
      "text/plain": [
       "<matplotlib.figure.Figure at 0x118dd4b00>"
      ]
     },
     "metadata": {},
     "output_type": "display_data"
    }
   ],
   "source": [
    "num_sub_cats = ks.groupby([\"main_category\"]).category.nunique().sort_values(ascending=False)\n",
    "plt.style.use('fivethirtyeight')\n",
    "plt.bar(num_sub_cats.index, num_sub_cats, color = \"purple\")\n",
    "plt.xticks(rotation=90)\n",
    "plt.xlabel(\"Main Categories\")\n",
    "plt.ylabel('Number of Sub_categories')\n",
    "plt.show()"
   ]
  },
  {
   "cell_type": "markdown",
   "metadata": {},
   "source": [
    "## What sort of funding scheme makes for a successful kickstarter \n",
    "### (small amounts from many or large amounts from a few)\n",
    "   "
   ]
  },
  {
   "cell_type": "code",
   "execution_count": 166,
   "metadata": {},
   "outputs": [
    {
     "data": {
      "text/html": [
       "<div>\n",
       "<style>\n",
       "    .dataframe thead tr:only-child th {\n",
       "        text-align: right;\n",
       "    }\n",
       "\n",
       "    .dataframe thead th {\n",
       "        text-align: left;\n",
       "    }\n",
       "\n",
       "    .dataframe tbody tr th {\n",
       "        vertical-align: top;\n",
       "    }\n",
       "</style>\n",
       "<table border=\"1\" class=\"dataframe\">\n",
       "  <thead>\n",
       "    <tr style=\"text-align: right;\">\n",
       "      <th></th>\n",
       "      <th>usd_goal_real</th>\n",
       "      <th>usd_pledged_real</th>\n",
       "      <th>backers</th>\n",
       "      <th>average_backed_amount</th>\n",
       "      <th>pledge_goal_diff</th>\n",
       "    </tr>\n",
       "    <tr>\n",
       "      <th>state</th>\n",
       "      <th></th>\n",
       "      <th></th>\n",
       "      <th></th>\n",
       "      <th></th>\n",
       "      <th></th>\n",
       "    </tr>\n",
       "  </thead>\n",
       "  <tbody>\n",
       "    <tr>\n",
       "      <th>canceled</th>\n",
       "      <td>10000.000</td>\n",
       "      <td>87.00</td>\n",
       "      <td>3</td>\n",
       "      <td>25.000000</td>\n",
       "      <td>-9051.000</td>\n",
       "    </tr>\n",
       "    <tr>\n",
       "      <th>failed</th>\n",
       "      <td>7500.000</td>\n",
       "      <td>100.00</td>\n",
       "      <td>3</td>\n",
       "      <td>25.000000</td>\n",
       "      <td>-6435.560</td>\n",
       "    </tr>\n",
       "    <tr>\n",
       "      <th>live</th>\n",
       "      <td>6547.090</td>\n",
       "      <td>259.16</td>\n",
       "      <td>5</td>\n",
       "      <td>32.859545</td>\n",
       "      <td>-4295.540</td>\n",
       "    </tr>\n",
       "    <tr>\n",
       "      <th>successful</th>\n",
       "      <td>3837.740</td>\n",
       "      <td>5107.25</td>\n",
       "      <td>71</td>\n",
       "      <td>63.347307</td>\n",
       "      <td>545.845</td>\n",
       "    </tr>\n",
       "    <tr>\n",
       "      <th>suspended</th>\n",
       "      <td>5000.000</td>\n",
       "      <td>37.00</td>\n",
       "      <td>2</td>\n",
       "      <td>15.116429</td>\n",
       "      <td>-2934.455</td>\n",
       "    </tr>\n",
       "    <tr>\n",
       "      <th>undefined</th>\n",
       "      <td>3530.425</td>\n",
       "      <td>580.00</td>\n",
       "      <td>0</td>\n",
       "      <td>inf</td>\n",
       "      <td>-1223.490</td>\n",
       "    </tr>\n",
       "  </tbody>\n",
       "</table>\n",
       "</div>"
      ],
      "text/plain": [
       "            usd_goal_real  usd_pledged_real  backers  average_backed_amount  \\\n",
       "state                                                                         \n",
       "canceled        10000.000             87.00        3              25.000000   \n",
       "failed           7500.000            100.00        3              25.000000   \n",
       "live             6547.090            259.16        5              32.859545   \n",
       "successful       3837.740           5107.25       71              63.347307   \n",
       "suspended        5000.000             37.00        2              15.116429   \n",
       "undefined        3530.425            580.00        0                    inf   \n",
       "\n",
       "            pledge_goal_diff  \n",
       "state                         \n",
       "canceled           -9051.000  \n",
       "failed             -6435.560  \n",
       "live               -4295.540  \n",
       "successful           545.845  \n",
       "suspended          -2934.455  \n",
       "undefined          -1223.490  "
      ]
     },
     "execution_count": 166,
     "metadata": {},
     "output_type": "execute_result"
    }
   ],
   "source": [
    "ks[\"average_backed_amount\"] = (ks.usd_pledged_real / ks.backers)\n",
    "ks[\"average_backed_amount\"].fillna(0,inplace=True)\n",
    "ks[\"pledge_goal_diff\"] = (ks.usd_pledged_real - ks.usd_goal_real) # by how much are failing kickstarters missing their goals \n",
    "ks.groupby([\"state\"])[\"usd_goal_real\", \"usd_pledged_real\",\"backers\",\"average_backed_amount\",\"pledge_goal_diff\"].median()"
   ]
  },
  {
   "cell_type": "markdown",
   "metadata": {},
   "source": [
    "Successful kickstarters have many backers, smaller goals than failed projects by over $3500, and usually are good enough to go over their goal, typically because of demand for the product. Canceled and suspended projects have high goals that get no traction and can't continue, and failed projects are similar to canceled projects but have smaller goals and slightly more pledged."
   ]
  },
  {
   "cell_type": "code",
   "execution_count": 167,
   "metadata": {},
   "outputs": [
    {
     "data": {
      "text/plain": [
       "array([[ 1.        ,  0.12910883],\n",
       "       [ 0.12910883,  1.        ]])"
      ]
     },
     "execution_count": 167,
     "metadata": {},
     "output_type": "execute_result"
    }
   ],
   "source": [
    "ks[\"success\"] = np.where(ks['state'] == 'successful', True, False)\n",
    "success = pd.to_numeric(ks[\"success\"])\n",
    "num_backers = pd.to_numeric(ks['backers'])\n",
    "\n",
    "backers_corr = np.corrcoef(num_backers, success)\n",
    "backers_corr # not the best predictor of success but still decent "
   ]
  },
  {
   "cell_type": "markdown",
   "metadata": {},
   "source": [
    "Having more backers obviously makes for a better kickstarter, out data concludes "
   ]
  },
  {
   "cell_type": "code",
   "execution_count": null,
   "metadata": {
    "collapsed": true
   },
   "outputs": [],
   "source": []
  },
  {
   "cell_type": "code",
   "execution_count": null,
   "metadata": {
    "collapsed": true
   },
   "outputs": [],
   "source": []
  },
  {
   "cell_type": "markdown",
   "metadata": {},
   "source": [
    "## Timeline Analysis"
   ]
  },
  {
   "cell_type": "code",
   "execution_count": 168,
   "metadata": {
    "collapsed": true
   },
   "outputs": [],
   "source": [
    "ks['launched'] = pd.to_datetime(ks['launched'])\n",
    "ks['deadline'] = pd.to_datetime(ks['deadline'])\n",
    "ks['campaign_length']= (ks.deadline - ks.launched).astype(str).str.slice(0,2).astype(int)"
   ]
  },
  {
   "cell_type": "code",
   "execution_count": 171,
   "metadata": {},
   "outputs": [
    {
     "data": {
      "image/png": "[encoded data removed]",
      "text/plain": [
       "<matplotlib.figure.Figure at 0x117271cf8>"
      ]
     },
     "metadata": {},
     "output_type": "display_data"
    }
   ],
   "source": [
    "plt.style.use('fivethirtyeight')\n",
    "plt.hist(ks.campaign_length, bins = 15, color = 'c')\n",
    "plt.title('Lengths of Kickstarter Campaigns')\n",
    "plt.axvline(ks.campaign_length.median(), color='red', linestyle='dashed', linewidth=1)\n",
    "plt.xlabel('Length of Kickstarter Campaign')\n",
    "plt.ylabel('Count')\n",
    "plt.show()"
   ]
  },
  {
   "cell_type": "markdown",
   "metadata": {},
   "source": [
    "Kickstarter campaigns are restricted to be 1-60 days long. However, Kickstarter reccommends its users do a 30 day campaign to maximize the likelihood of success. "
   ]
  },
  {
   "cell_type": "markdown",
   "metadata": {},
   "source": [
    "#### Mean campaign length by category"
   ]
  },
  {
   "cell_type": "code",
   "execution_count": 172,
   "metadata": {},
   "outputs": [
    {
     "data": {
      "text/plain": [
       "main_category\n",
       "Art             13.338905\n",
       "Comics          12.142851\n",
       "Crafts          11.213663\n",
       "Dance           13.067910\n",
       "Design          10.897575\n",
       "Fashion         10.943326\n",
       "Film & Video    14.433437\n",
       "Food            12.058595\n",
       "Games           10.808805\n",
       "Journalism      14.337122\n",
       "Music           13.882049\n",
       "Photography     13.852310\n",
       "Publishing      12.353095\n",
       "Technology      11.819242\n",
       "Theater         14.221852\n",
       "Name: campaign_length, dtype: float64"
      ]
     },
     "execution_count": 172,
     "metadata": {},
     "output_type": "execute_result"
    }
   ],
   "source": [
    "ks.groupby(['main_category']).campaign_length.mean()\n"
   ]
  },
  {
   "cell_type": "markdown",
   "metadata": {},
   "source": [
    "#### standard deviation of campaign length by category"
   ]
  },
  {
   "cell_type": "code",
   "execution_count": 173,
   "metadata": {},
   "outputs": [
    {
     "data": {
      "text/plain": [
       "main_category\n",
       "Art             13.338905\n",
       "Comics          12.142851\n",
       "Crafts          11.213663\n",
       "Dance           13.067910\n",
       "Design          10.897575\n",
       "Fashion         10.943326\n",
       "Film & Video    14.433437\n",
       "Food            12.058595\n",
       "Games           10.808805\n",
       "Journalism      14.337122\n",
       "Music           13.882049\n",
       "Photography     13.852310\n",
       "Publishing      12.353095\n",
       "Technology      11.819242\n",
       "Theater         14.221852\n",
       "Name: campaign_length, dtype: float64"
      ]
     },
     "execution_count": 173,
     "metadata": {},
     "output_type": "execute_result"
    }
   ],
   "source": [
    "ks.groupby(['main_category']).campaign_length.std()"
   ]
  },
  {
   "cell_type": "markdown",
   "metadata": {},
   "source": [
    "#### Create a Season of Launch variable"
   ]
  },
  {
   "cell_type": "code",
   "execution_count": 175,
   "metadata": {
    "collapsed": true
   },
   "outputs": [],
   "source": [
    "ks['SeasonOfLaunch'] = pd.cut(\n",
    "    (ks.launched.dt.dayofyear + 11) % 366,\n",
    "    [0, 91, 183, 275, 366],\n",
    "    labels=['Winter', 'Spring', 'Summer', 'Fall']\n",
    ")\n"
   ]
  },
  {
   "cell_type": "markdown",
   "metadata": {},
   "source": [
    "#### Pie chart of most popular seasons to start a campaign"
   ]
  },
  {
   "cell_type": "code",
   "execution_count": 177,
   "metadata": {},
   "outputs": [
    {
     "data": {
      "image/png": "[encoded data removed]",
      "text/plain": [
       "<matplotlib.figure.Figure at 0x11607a3c8>"
      ]
     },
     "metadata": {},
     "output_type": "display_data"
    }
   ],
   "source": [
    "ks.SeasonOfLaunch.value_counts(dropna=True)\n",
    "values = [92820,98734,100248,86191]\n",
    "def make_autopct(values):\n",
    "    def my_autopct(pct):\n",
    "        total = sum(values)\n",
    "        val = int(round(pct*total/100.0))\n",
    "        return '{p:.2f}%  ({v:d})'.format(p=pct,v=val)\n",
    "    return my_autopct\n",
    "\n",
    "plt.style.use('fivethirtyeight')\n",
    "plt.pie([750,707,515,550], labels = ['Fall','Spring','Summer', 'Winter'], autopct=make_autopct(values), )\n",
    "plt.axis('equal')\n",
    "plt.title('Kickstarter Campaign Launch Season')\n",
    "plt.show()"
   ]
  },
  {
   "cell_type": "code",
   "execution_count": 178,
   "metadata": {
    "collapsed": true
   },
   "outputs": [],
   "source": [
    "ks['TimeOfDayOfLaunch'] = pd.cut(\n",
    "    (ks.launched.dt.hour),\n",
    "    [-1 ,5, 10, 17, 24],\n",
    "    labels=['Late Night','Morning', 'Afternoon', 'Evening']\n",
    ")"
   ]
  },
  {
   "cell_type": "code",
   "execution_count": 179,
   "metadata": {
    "collapsed": true
   },
   "outputs": [],
   "source": [
    "def prop_successful(x_list):\n",
    "    print(x_list.value_counts().astype(int)[1])\n",
    "    return;"
   ]
  },
  {
   "cell_type": "markdown",
   "metadata": {},
   "source": [
    "#### How does the time of day of launch affect goals and pledged amounts?"
   ]
  },
  {
   "cell_type": "code",
   "execution_count": 182,
   "metadata": {},
   "outputs": [
    {
     "data": {
      "text/plain": [
       "TimeOfDayOfLaunch\n",
       "Afternoon     7000.0\n",
       "Evening       5000.0\n",
       "Late Night    5000.0\n",
       "Morning       6000.0\n",
       "Name: usd_goal_real, dtype: float64"
      ]
     },
     "execution_count": 182,
     "metadata": {},
     "output_type": "execute_result"
    }
   ],
   "source": [
    "ks.groupby(['TimeOfDayOfLaunch']).usd_goal_real.median()"
   ]
  },
  {
   "cell_type": "code",
   "execution_count": 183,
   "metadata": {},
   "outputs": [
    {
     "data": {
      "text/plain": [
       "TimeOfDayOfLaunch\n",
       "Afternoon     1215.0\n",
       "Evening        500.0\n",
       "Late Night     454.0\n",
       "Morning        775.0\n",
       "Name: usd_pledged_real, dtype: float64"
      ]
     },
     "execution_count": 183,
     "metadata": {},
     "output_type": "execute_result"
    }
   ],
   "source": [
    "ks.groupby(['TimeOfDayOfLaunch']).usd_pledged_real.median()\n"
   ]
  },
  {
   "cell_type": "markdown",
   "metadata": {},
   "source": [
    "We see a strong relationship between time of day of launch and the amount pledged on average"
   ]
  },
  {
   "cell_type": "markdown",
   "metadata": {},
   "source": [
    "#### To better understand the different times these campaigns are launched, let's compare countries across the world:"
   ]
  },
  {
   "cell_type": "code",
   "execution_count": 198,
   "metadata": {
    "collapsed": true
   },
   "outputs": [],
   "source": [
    "ks['hourofday'] = ks.launched.dt.hour"
   ]
  },
  {
   "cell_type": "code",
   "execution_count": 217,
   "metadata": {},
   "outputs": [
    {
     "data": {
      "image/png": "[encoded data removed]",
      "text/plain": [
       "<matplotlib.figure.Figure at 0x1172715f8>"
      ]
     },
     "metadata": {},
     "output_type": "display_data"
    }
   ],
   "source": [
    "plt.plot(ks.loc[ks.country == 'US',:].groupby(['hourofday']).usd_pledged_real.median())\n",
    "plt.title(\"Hour of Day of Launch Plotted Against Median Pledged Amount in USA\")\n",
    "plt.xlabel(\"Hour of Day of Launch\")\n",
    "plt.ylabel(\"Median Pledged Amount (USD)\")\n",
    "plt.show()"
   ]
  },
  {
   "cell_type": "code",
   "execution_count": 218,
   "metadata": {},
   "outputs": [
    {
     "data": {
      "image/png": "[encoded data removed]",
      "text/plain": [
       "<matplotlib.figure.Figure at 0x117cf7908>"
      ]
     },
     "metadata": {},
     "output_type": "display_data"
    }
   ],
   "source": [
    "plt.plot(ks.loc[ks.country == 'GB',:].groupby(['hourofday']).usd_pledged_real.median())\n",
    "plt.title(\"Hour of Day of Launch Plotted Against Median Pledged Amount in Great Britian\")\n",
    "plt.xlabel(\"Hour of Day of Launch\")\n",
    "plt.ylabel(\"Median Pledged Amount (USD)\")\n",
    "plt.show()"
   ]
  },
  {
   "cell_type": "code",
   "execution_count": 219,
   "metadata": {},
   "outputs": [
    {
     "data": {
      "image/png": "[encoded data removed]",
      "text/plain": [
       "<matplotlib.figure.Figure at 0x11955c390>"
      ]
     },
     "metadata": {},
     "output_type": "display_data"
    }
   ],
   "source": [
    "plt.plot(ks.loc[ks.country == 'HK',:].groupby(['hourofday']).usd_pledged_real.median())\n",
    "plt.title(\"Hour of Day of Launch Plotted Against Median Pledged Amount in Hong Kong\")\n",
    "plt.xlabel(\"Hour of Day of Launch\")\n",
    "plt.ylabel(\"Median Pledged Amount (USD)\")\n",
    "plt.show()"
   ]
  },
  {
   "cell_type": "code",
   "execution_count": 220,
   "metadata": {},
   "outputs": [
    {
     "data": {
      "image/png": "[encoded data removed]",
      "text/plain": [
       "<matplotlib.figure.Figure at 0x119052550>"
      ]
     },
     "metadata": {},
     "output_type": "display_data"
    }
   ],
   "source": [
    "plt.plot(ks.loc[ks.country == 'AU',:].groupby(['hourofday']).usd_pledged_real.median())\n",
    "plt.title(\"Hour of Day of Launch Plotted Against Median Pledged Amount in Australia\")\n",
    "plt.xlabel(\"Hour of Day of Launch\")\n",
    "plt.ylabel(\"Median Pledged Amount (USD)\")\n",
    "plt.show()"
   ]
  },
  {
   "cell_type": "markdown",
   "metadata": {},
   "source": [
    "This is fascinating! Although these campaigns start all over the world, it's clear that those launched near midday Eastern Time (ET) recieved the highest pledge amounts!"
   ]
  },
  {
   "cell_type": "markdown",
   "metadata": {},
   "source": [
    "#### How has kickstarter been doing over the years?"
   ]
  },
  {
   "cell_type": "code",
   "execution_count": 184,
   "metadata": {},
   "outputs": [
    {
     "data": {
      "text/plain": [
       "year\n",
       "1970       0.00\n",
       "2009     580.00\n",
       "2010     780.00\n",
       "2011    1021.00\n",
       "2012    1128.00\n",
       "2013    1453.00\n",
       "2014     420.00\n",
       "2015     222.00\n",
       "2016     501.00\n",
       "2017     632.00\n",
       "2018      54.28\n",
       "Name: usd_pledged_real, dtype: float64"
      ]
     },
     "execution_count": 184,
     "metadata": {},
     "output_type": "execute_result"
    }
   ],
   "source": [
    "ks['year'] = ks.launched.dt.year\n",
    "ks.groupby(['year']).usd_pledged_real.median()"
   ]
  },
  {
   "cell_type": "markdown",
   "metadata": {},
   "source": [
    "It appears median pledged amounts for each campaign has gone down signficantly since 2013. Is this because kickstarter is becoming less popular? Or are there simply more campaigns dragging down the median? To explore this, let's look only at the top 2% of kickstarters and compare those."
   ]
  },
  {
   "cell_type": "markdown",
   "metadata": {},
   "source": [
    "## Top 2% of Kickstarter Campaigns"
   ]
  },
  {
   "cell_type": "code",
   "execution_count": 188,
   "metadata": {
    "collapsed": true
   },
   "outputs": [],
   "source": [
    "ks_top = ks.sort_values('usd_pledged_real', ascending = False).iloc[1:60000,]"
   ]
  },
  {
   "cell_type": "code",
   "execution_count": 189,
   "metadata": {},
   "outputs": [
    {
     "data": {
      "text/plain": [
       "year\n",
       "2009    11015.000\n",
       "2010    11263.000\n",
       "2011    13234.050\n",
       "2012    15715.000\n",
       "2013    17337.050\n",
       "2014    17861.500\n",
       "2015    18919.160\n",
       "2016    19430.975\n",
       "2017    19894.450\n",
       "2018    10847.000\n",
       "Name: usd_pledged_real, dtype: float64"
      ]
     },
     "execution_count": 189,
     "metadata": {},
     "output_type": "execute_result"
    }
   ],
   "source": [
    "ks_top.groupby(['year']).usd_pledged_real.median()\n"
   ]
  },
  {
   "cell_type": "markdown",
   "metadata": {},
   "source": [
    "We see that pledge amounts for top campaigns seem to be consistetly growing since 2013. It appears kickstarter is still a growing site."
   ]
  },
  {
   "cell_type": "code",
   "execution_count": 190,
   "metadata": {},
   "outputs": [
    {
     "data": {
      "text/plain": [
       "TimeOfDayOfLaunch\n",
       "Afternoon     20234.00\n",
       "Evening       16750.00\n",
       "Late Night    15614.00\n",
       "Morning       18019.28\n",
       "Name: usd_pledged_real, dtype: float64"
      ]
     },
     "execution_count": 190,
     "metadata": {},
     "output_type": "execute_result"
    }
   ],
   "source": [
    "ks_top.groupby(['TimeOfDayOfLaunch']).usd_pledged_real.median()\n"
   ]
  },
  {
   "cell_type": "markdown",
   "metadata": {},
   "source": [
    "We still see that average pledge amounts are highest for those campaigns launched in the afternoon"
   ]
  },
  {
   "cell_type": "code",
   "execution_count": 191,
   "metadata": {},
   "outputs": [
    {
     "data": {
      "image/png": "[encoded data removed]",
      "text/plain": [
       "<matplotlib.figure.Figure at 0x11729e4a8>"
      ]
     },
     "metadata": {},
     "output_type": "display_data"
    }
   ],
   "source": [
    "plt.hist(ks_top.campaign_length, bins = 15, color = 'c')\n",
    "plt.axvline(ks_top.campaign_length.median(), color='red', linestyle='dashed', linewidth=1)\n",
    "plt.xlabel('Length of Kickstarter Campaign for top 2%')\n",
    "plt.ylabel('Count')\n",
    "plt.show()"
   ]
  },
  {
   "cell_type": "markdown",
   "metadata": {},
   "source": [
    "# THE MODEL "
   ]
  },
  {
   "cell_type": "code",
   "execution_count": 223,
   "metadata": {
    "collapsed": true
   },
   "outputs": [],
   "source": [
    "ks = pd.read_csv(\"~/Desktop/dataforgood/data/ks-projects-201801.csv\")"
   ]
  },
  {
   "cell_type": "code",
   "execution_count": 224,
   "metadata": {
    "collapsed": true
   },
   "outputs": [],
   "source": [
    "ks[\"success\"] = np.where(ks['state'] == 'successful', True, False)\n",
    "ks['launched'] = pd.to_datetime(ks['launched'])\n",
    "ks['deadline'] = pd.to_datetime(ks['deadline'])\n",
    "ks['campaign_length']= (ks.deadline -ks.launched).astype(str).str.slice(0,2).astype(int)\n",
    "ks['SeasonOfLaunch'] = pd.cut(\n",
    "    (ks.launched.dt.dayofyear + 11) % 366,\n",
    "    [0, 91, 183, 275, 366],\n",
    "    labels=['Winter', 'Spring', 'Summer', 'Fall']\n",
    ")\n",
    "ks['TimeOfDayOfLaunch'] = pd.cut(\n",
    "    (ks.launched.dt.hour),\n",
    "    [-1 ,5, 10, 17, 24],\n",
    "    labels=['Late Night','Morning', 'Afternoon', 'Evening']\n",
    ")\n",
    "ks['year'] = ks.launched.dt.year\n",
    "ks['hourofday'] = ks.launched.dt.hour\n",
    "ks['length_chars'] = ks.name.str.len()\n",
    "ks['word_count'] = ks['name'].str.split().str.len()\n",
    "ks['contains_!'] = pd.get_dummies(ks.name.str.contains('!'), drop_first=True)\n",
    "ks['contains_title'] = pd.get_dummies(ks.name.str.istitle(), drop_first=True)"
   ]
  },
  {
   "cell_type": "markdown",
   "metadata": {},
   "source": [
    "## Clean and subset data set for prediction "
   ]
  },
  {
   "cell_type": "code",
   "execution_count": 225,
   "metadata": {
    "collapsed": true
   },
   "outputs": [],
   "source": [
    "ks = ks.reset_index(drop=True)\n",
    "ks.dropna(inplace = True) # REMOVE NAS\n",
    "features = ks.drop(['success'],axis=1) # remove prediction column\n",
    "# drop features we can not use in prediction \n",
    "features = features.drop(['pledged','ID','name','deadline','launched','backers',\n",
    "                          'usd pledged', 'usd_pledged_real','state'],axis=1)"
   ]
  },
  {
   "cell_type": "code",
   "execution_count": 226,
   "metadata": {},
   "outputs": [
    {
     "data": {
      "text/html": [
       "<div>\n",
       "<style>\n",
       "    .dataframe thead tr:only-child th {\n",
       "        text-align: right;\n",
       "    }\n",
       "\n",
       "    .dataframe thead th {\n",
       "        text-align: left;\n",
       "    }\n",
       "\n",
       "    .dataframe tbody tr th {\n",
       "        vertical-align: top;\n",
       "    }\n",
       "</style>\n",
       "<table border=\"1\" class=\"dataframe\">\n",
       "  <thead>\n",
       "    <tr style=\"text-align: right;\">\n",
       "      <th></th>\n",
       "      <th>category</th>\n",
       "      <th>main_category</th>\n",
       "      <th>currency</th>\n",
       "      <th>goal</th>\n",
       "      <th>country</th>\n",
       "      <th>usd_goal_real</th>\n",
       "      <th>campaign_length</th>\n",
       "      <th>SeasonOfLaunch</th>\n",
       "      <th>TimeOfDayOfLaunch</th>\n",
       "      <th>year</th>\n",
       "      <th>hourofday</th>\n",
       "      <th>length_chars</th>\n",
       "      <th>word_count</th>\n",
       "      <th>contains_!</th>\n",
       "      <th>contains_title</th>\n",
       "    </tr>\n",
       "  </thead>\n",
       "  <tbody>\n",
       "    <tr>\n",
       "      <th>0</th>\n",
       "      <td>108</td>\n",
       "      <td>12</td>\n",
       "      <td>5</td>\n",
       "      <td>1000.0</td>\n",
       "      <td>9</td>\n",
       "      <td>1533.95</td>\n",
       "      <td>58</td>\n",
       "      <td>2</td>\n",
       "      <td>0</td>\n",
       "      <td>2015</td>\n",
       "      <td>12</td>\n",
       "      <td>30</td>\n",
       "      <td>5</td>\n",
       "      <td>0</td>\n",
       "      <td>0</td>\n",
       "    </tr>\n",
       "    <tr>\n",
       "      <th>1</th>\n",
       "      <td>93</td>\n",
       "      <td>6</td>\n",
       "      <td>13</td>\n",
       "      <td>30000.0</td>\n",
       "      <td>21</td>\n",
       "      <td>30000.00</td>\n",
       "      <td>59</td>\n",
       "      <td>2</td>\n",
       "      <td>2</td>\n",
       "      <td>2017</td>\n",
       "      <td>4</td>\n",
       "      <td>44</td>\n",
       "      <td>7</td>\n",
       "      <td>0</td>\n",
       "      <td>0</td>\n",
       "    </tr>\n",
       "    <tr>\n",
       "      <th>2</th>\n",
       "      <td>93</td>\n",
       "      <td>6</td>\n",
       "      <td>13</td>\n",
       "      <td>45000.0</td>\n",
       "      <td>21</td>\n",
       "      <td>45000.00</td>\n",
       "      <td>44</td>\n",
       "      <td>3</td>\n",
       "      <td>2</td>\n",
       "      <td>2013</td>\n",
       "      <td>0</td>\n",
       "      <td>13</td>\n",
       "      <td>2</td>\n",
       "      <td>0</td>\n",
       "      <td>0</td>\n",
       "    </tr>\n",
       "  </tbody>\n",
       "</table>\n",
       "</div>"
      ],
      "text/plain": [
       "   category  main_category  currency     goal  country  usd_goal_real  \\\n",
       "0       108             12         5   1000.0        9        1533.95   \n",
       "1        93              6        13  30000.0       21       30000.00   \n",
       "2        93              6        13  45000.0       21       45000.00   \n",
       "\n",
       "   campaign_length  SeasonOfLaunch  TimeOfDayOfLaunch  year  hourofday  \\\n",
       "0               58               2                  0  2015         12   \n",
       "1               59               2                  2  2017          4   \n",
       "2               44               3                  2  2013          0   \n",
       "\n",
       "   length_chars  word_count  contains_!  contains_title  \n",
       "0            30           5           0               0  \n",
       "1            44           7           0               0  \n",
       "2            13           2           0               0  "
      ]
     },
     "execution_count": 226,
     "metadata": {},
     "output_type": "execute_result"
    }
   ],
   "source": [
    "label_encoder = LabelEncoder()\n",
    "features[\"main_category\"] = label_encoder.fit_transform(array(features[\"main_category\"]))\n",
    "features[\"category\"] = label_encoder.fit_transform(array(features[\"category\"]))\n",
    "features[\"currency\"] = label_encoder.fit_transform(array(features[\"currency\"]))\n",
    "features[\"country\"] = label_encoder.fit_transform(array(features[\"country\"]))\n",
    "features[\"SeasonOfLaunch\"] = label_encoder.fit_transform(array(features[\"SeasonOfLaunch\"]))\n",
    "features[\"TimeOfDayOfLaunch\"] = label_encoder.fit_transform(array(features[\"TimeOfDayOfLaunch\"]))\n",
    "features[\"length_chars\"] = label_encoder.fit_transform(array(features[\"length_chars\"]))\n",
    "features[\"contains_!\"] = label_encoder.fit_transform(array(features[\"contains_!\"]))\n",
    "features[\"contains_title\"] = label_encoder.fit_transform(array(features[\"contains_title\"]))\n",
    "features[\"word_count\"] = label_encoder.fit_transform(array(features[\"word_count\"]))\n",
    "# Saving feature names for later use\n",
    "feature_list = list(features.columns)\n",
    "features.head(3)"
   ]
  },
  {
   "cell_type": "markdown",
   "metadata": {},
   "source": [
    "## Split data into test and training sets \n",
    "###  70% training and 30% test"
   ]
  },
  {
   "cell_type": "code",
   "execution_count": 227,
   "metadata": {
    "collapsed": true
   },
   "outputs": [],
   "source": [
    "X_train,X_test,Y_train,Y_test = train_test_split(features,ks.success, test_size=0.3, random_state = 22)"
   ]
  },
  {
   "cell_type": "markdown",
   "metadata": {},
   "source": [
    "## Build Random Forrest Classifier\n",
    "After multiple attempts with models, we decided upon using a Random Forrest to predict success. "
   ]
  },
  {
   "cell_type": "code",
   "execution_count": 228,
   "metadata": {
    "collapsed": true
   },
   "outputs": [],
   "source": [
    "rf = RandomForestClassifier(n_estimators = 100)"
   ]
  },
  {
   "cell_type": "code",
   "execution_count": 229,
   "metadata": {},
   "outputs": [
    {
     "data": {
      "text/plain": [
       "RandomForestClassifier(bootstrap=True, class_weight=None, criterion='gini',\n",
       "            max_depth=None, max_features='auto', max_leaf_nodes=None,\n",
       "            min_impurity_split=1e-07, min_samples_leaf=1,\n",
       "            min_samples_split=2, min_weight_fraction_leaf=0.0,\n",
       "            n_estimators=100, n_jobs=1, oob_score=False, random_state=None,\n",
       "            verbose=0, warm_start=False)"
      ]
     },
     "execution_count": 229,
     "metadata": {},
     "output_type": "execute_result"
    }
   ],
   "source": [
    "rf.fit(X_train, Y_train)"
   ]
  },
  {
   "cell_type": "code",
   "execution_count": 230,
   "metadata": {
    "collapsed": true
   },
   "outputs": [],
   "source": [
    "Y_pred=rf.predict(X_test)"
   ]
  },
  {
   "cell_type": "markdown",
   "metadata": {},
   "source": [
    "## Model Accuracy, how often is the classifier correct?"
   ]
  },
  {
   "cell_type": "code",
   "execution_count": 231,
   "metadata": {},
   "outputs": [
    {
     "name": "stdout",
     "output_type": "stream",
     "text": [
      "Accuracy: 0.695326070496\n"
     ]
    }
   ],
   "source": [
    "print(\"Accuracy:\",metrics.accuracy_score(Y_test, Y_pred))"
   ]
  },
  {
   "cell_type": "markdown",
   "metadata": {},
   "source": [
    "## Feature Importance\n",
    "Our models originally had a few more feature variables that did little to help with prediction. This final model demonstrates a middle ground where we used features that had at least a 1% importance value for prediction. \n"
   ]
  },
  {
   "cell_type": "code",
   "execution_count": 232,
   "metadata": {},
   "outputs": [
    {
     "data": {
      "text/plain": [
       "length_chars         0.124741\n",
       "usd_goal_real        0.117145\n",
       "category             0.113959\n",
       "goal                 0.108652\n",
       "campaign_length      0.093043\n",
       "hourofday            0.091314\n",
       "main_category        0.074053\n",
       "word_count           0.070674\n",
       "year                 0.066141\n",
       "SeasonOfLaunch       0.053727\n",
       "TimeOfDayOfLaunch    0.026618\n",
       "contains_title       0.021463\n",
       "country              0.014473\n",
       "currency             0.012972\n",
       "contains_!           0.011024\n",
       "dtype: float64"
      ]
     },
     "execution_count": 232,
     "metadata": {},
     "output_type": "execute_result"
    }
   ],
   "source": [
    "feature_imp = pd.Series(rf.feature_importances_,index=features.columns).sort_values(ascending=False)\n",
    "feature_imp"
   ]
  },
  {
   "cell_type": "code",
   "execution_count": 233,
   "metadata": {},
   "outputs": [
    {
     "name": "stderr",
     "output_type": "stream",
     "text": [
      "/Users/MattWaismann/anaconda/lib/python3.6/site-packages/matplotlib/axes/_axes.py:545: UserWarning: No labelled objects found. Use label='...' kwarg on individual plots.\n",
      "  warnings.warn(\"No labelled objects found. \"\n"
     ]
    },
    {
     "data": {
      "image/png": "[encoded data removed]",
      "text/plain": [
       "<matplotlib.figure.Figure at 0x1160afba8>"
      ]
     },
     "metadata": {},
     "output_type": "display_data"
    }
   ],
   "source": [
    "sns.barplot(x=feature_imp, y=feature_imp.index)\n",
    "plt.xlabel('Feature Importance Score')\n",
    "plt.ylabel('Features')\n",
    "plt.title(\"Visualizing Important Features\")\n",
    "plt.legend()\n",
    "plt.show()"
   ]
  },
  {
   "cell_type": "markdown",
   "metadata": {},
   "source": [
    "## Cross Validation and Model Assessment \n"
   ]
  },
  {
   "cell_type": "code",
   "execution_count": 237,
   "metadata": {},
   "outputs": [
    {
     "name": "stdout",
     "output_type": "stream",
     "text": [
      "[ 0.69680126  0.69597285  0.69358632  0.69708712  0.69484233  0.69652592\n",
      "  0.69444148  0.69251737  0.69363976  0.6960449 ]\n",
      "\n",
      "Average: 0.695145930588\n"
     ]
    }
   ],
   "source": [
    "scores = cross_val_score(rf, features, ks.success, cv=10)\n",
    "print(scores)\n",
    "print()\n",
    "print('Average:', np.mean(scores))"
   ]
  },
  {
   "cell_type": "markdown",
   "metadata": {},
   "source": [
    "Average fold of 69% "
   ]
  },
  {
   "cell_type": "code",
   "execution_count": 235,
   "metadata": {},
   "outputs": [
    {
     "name": "stdout",
     "output_type": "stream",
     "text": [
      "[[61725 10478]\n",
      " [23725 16333]]\n"
     ]
    }
   ],
   "source": [
    "print(confusion_matrix(Y_test, Y_pred))"
   ]
  },
  {
   "cell_type": "code",
   "execution_count": 236,
   "metadata": {},
   "outputs": [
    {
     "name": "stdout",
     "output_type": "stream",
     "text": [
      "             precision    recall  f1-score   support\n",
      "\n",
      "      False       0.72      0.85      0.78     72203\n",
      "       True       0.61      0.41      0.49     40058\n",
      "\n",
      "avg / total       0.68      0.70      0.68    112261\n",
      "\n"
     ]
    }
   ],
   "source": [
    "print(classification_report(Y_test, Y_pred))"
   ]
  },
  {
   "cell_type": "markdown",
   "metadata": {},
   "source": [
    "Our model has a great rate of predicting failing kickstarters (85%), and a poor rate of predicting successful kickstarters (41%)¶\n",
    "This means that it is easy to help kickstarters know whether or not they will fail at the start, but not if they will succeed in the long run. Its up to chance and a good product!\n",
    "\n",
    "​\n"
   ]
  },
  {
   "cell_type": "markdown",
   "metadata": {},
   "source": [
    "## The End, Thank You!"
   ]
  },
  {
   "cell_type": "code",
   "execution_count": null,
   "metadata": {
    "collapsed": true
   },
   "outputs": [],
   "source": []
  }
 ],
 "metadata": {
  "kernelspec": {
   "display_name": "Python 3",
   "language": "python",
   "name": "python3"
  },
  "language_info": {
   "codemirror_mode": {
    "name": "ipython",
    "version": 3
   },
   "file_extension": ".py",
   "mimetype": "text/x-python",
   "name": "python",
   "nbconvert_exporter": "python",
   "pygments_lexer": "ipython3",
   "version": "3.6.1"
  }
 },
 "nbformat": 4,
 "nbformat_minor": 2
}
