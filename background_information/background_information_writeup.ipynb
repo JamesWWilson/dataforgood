{
 "cells": [
  {
   "cell_type": "markdown",
   "metadata": {},
   "source": [
    "Amid recent efforts to fundraise for Camp Kesem, a campus organization that provides two free weeks of camp to children affected by a parents cancer, we explored many crowdfunding platforms and became captivated by Kickstarter and its impressive history of campaigns. Due to Kickstarter regulations that restrict campaigns from exclusively raising funds to donate to charitable projects, Kickstarter was ultimately not a sufficient platform for our organizations fundraising mission. However, when we were on the website in the process of fielding candidate fundraising platforms, we caught ourselves speculating about which of the many Kickstarter campaigns on the website would succeed in reaching their fundraising goal. Especially as we began to fundraise for our own campaign, we were curious about what trends in Kickstarter’s online altruistic behaviors we could leverage for our own fundraising campaign. We sought to analyze Kickstarter campaign data with the hopes of understanding the dynamics of online altruistic behavior, and with intention of identifying qualities of a campaign that help it become successful.\n",
    "\n",
    "Kickstarter is an online crowdfunding campaign platform for creative project makers seeking pledger support to pursue projects for categories like film, music, books, technology, and design. Many recognizable products and companies that we know today began as Kickstarter projects. the most famous of which includes Occulus, a virtual reality company acquired by Facebook in 2014 for $2 Billion (after raising $2.4 million on Kickstarter). Unlike other crowdfunding campaigns like gofundme.com, Kickstarter is unique because if the fundraising goal for a campaign is not met, then all pledged donations will be returned to the donors. Kickstarter differentiates itself from other crowdfunding sights in this regard because it prevents projects that fundraise for charity. Rather, projects must create something to share with others. While nonprofits can launch projects, the project can’t merely promise to raise funds to donate. This is contrary to other campaigns like gofundme.com where all donations get received by the project administrator regardless of whether or not the set goal is met. Furthermore, Kickstarter has stricter regulations about what its platform can and can not be used for. While gofundme.com will let people raise funds for almost anything, Kickstarter has stricter regulations about what constitutes an allowed project; for example, projects can not fundraise for charity, nor can they involve prohibited items, offer equity to backers, or use photorealistic renderings of prototypes. [\n",
    "\n",
    "insert story about not allowed campaigns] [ find a fraudulent campaign on kickstarter and then on go fundme] . Kickstarter collects payments from backers through Amazon, and Kickstarter does not take any cut of the funds raised if the creators do not reach their goal. If the creators do reach their goal amount, however, then Kickstarter takes 5% of the funds raised which is used to support necessary operations for sustaining the platform. \n",
    "\n",
    "Kickstarter campaigns involve primarily two parties: the creators, and the backers. The creators are the party who is seeking financial support in order to execute their specified goal. This goal may be anything from a creative endeavor like a documentary film, to a business endeavor like a technology start up. The ability to provide a service that captures the needs and excitement of backers is key to the creators ability to gain backer support. The creators are responsible for declaring a set goal amount that is needed in order to fund their ideas. Unless the creators are able to raise their goal amount within their specified time frame, Kickstarter returns all the pledged money to the campaign’s backers. In exchange for backer pledges, the Kickstarter campaign creators may choose to repay backers with interest on their pledge, or free products, but they may not repay their backers with equity.\n",
    "\n",
    "The backers are individuals who pledge donation amounts to campaigns in order to help the projects reach fruition.  In return for their pledges, backers receive reward promises that are determined by the terms of the Kickstarter campaigns’s creators. \n",
    "\n",
    "In our data set, we have ____ rows, where each observational unit is a Kickstarter campaign project (ask! from 2018???). Each Kickstarter project has 15 variables associated with it. \n",
    "Each project has a unique ID, which is its internal Kickstarter ID, and a name which is the name of the project that the campaign creators have made. The project name is a title with a clear goal for what the projects intends to do and/or provide. Category is …..   Main category is …..  Currency is the currency used to support the project. Since projects are supported in various currencies, all pledged donations are converted to USD currency for comparison purposes. Deadline is the day by which aggregate pledges must meet or exceed a projects set goal amount, otherwise all pledges are returned to donors and the creators do not get any of the pledged funds. Each campaign’s Goal is the fundraising goal reflecting the amount of money that a creator has determined that they need to complete their project. This is the amount of money that a project must obtain by the deadline in order to be successful. Launched is another variable the date that the creator’s launched the Kickstarter campaign on the platform. Pledged is the amount pledged by the ‘crowd’, and state is the current condition the project is in. If the pledged value for a project meets or exceeds the projects goal amount, then the project is a success. If the pledged amount is less than the goal amount, then the project has failed. In addition to failed and successful, there are also possible states like canceled, undefined, live, and suspended. Canceled projects are campaigns which were canceled by the creators, live campaigns are those that are still going, so even if pledged amounts are less than the goal amounts, they are not neccessarily failures because the end date deadline has not been reached yet. Suspended projects are those that get canceled by Kickstarter for fraudulent or otherwise unacceptable behavior. Each project also has a backers feature which records the number of backers that a project has. This is the number of unique pledges that a campaign received. Country is the country that the pledges come from. We expect that the country that pledges come from should corroborate the currency that a projects pledges are in. While 9% of pledges are in Great Britain Pound currency, only 8% of pledges are from Great Britain country because more countries than Great Britain use the Pound. USD pledged is the amount of money pledged in us dollar, goal amount USD is the project’s goal amount converted to USD, USD pledged real, and USD goal real **** add.  Goal is in the currency in which the projects received pledges in, e.g.: a project in great britains goal amount would be in great britians currency, However, USD Goal real is the projects goal amount converted into USD. We expect that for campaigns in the US that goal amount and USD goal real amounts are the same. However, for countries that use currencies other than USD, we expect that its goal amount and its USD goal real amount are different.\n",
    "\n",
    "usd pledged is different than use pledge real is different than use goal real. use pledged is the US dollar conversion amount of the pledged column. This use pledged column is converted by kickstarter. use pledge real is the conversion in us dollars of the pledged column, except here it is converted from Fixer.io API. The difference between these pletwo pledged amounts is the conversion rates; rather done by kickstarter or done from Fixer.io API\n",
    "use goal real is the conversion in US dollars of the goal column converted from fixer.io APi.\n",
    "\n",
    "\n",
    "risks!  kpop foods — discuss!!\n",
    "Kickstart is inherently risky because crowdfunding sights can not promise that the projects funded will come to fruition., for both the backers and the creators, the proposals are not foolproof. The backers may have someone take their money without any guarantee that they will get their money back. Similarly, creators may ultimately realize that they need more money than they initially projected so despite receiving the funds that they asked for, they will not be able to meet the promises they made for refunding their backers.\n",
    "To ease risks, Kickstarter has policies in place to prevent fraudulent behavior. For example, in order for creators to offer backers physical rewards for pledged donations, the creators need to have a working prototype. \n",
    "success story: OCCULUS!!!\n",
    "\n",
    "certainly there is information about the kickstarter campaigns that we would like to have but do not have access to. For example, we are curious to see if including a video on a campaign page influences the success rate of Kickstarters, however this is not a feature included in our data set. Similarly, we \n",
    "\n",
    "c. A discussion of each of the variables included in the dataset, and what the observational unit is \n",
    "\n",
    "i. Explain what a hit is, how it differs from base-on-balls, etc. \n",
    "c. \n",
    "ii. Explain the difference between batting-average, and on-base-percentage, slugging, etc. \n",
    "ii. \n",
    "iii. Each row is an observational unit: One row for each player for each year. Thus a player who has played for 6 years (seasons) will have 6 rows in the dataset. \n",
    "iii. Each row is a unique kickstarter campaign (ask:: from 2018??) .\n",
    "\n",
    "d. Discussion of how the data is collected: i. Baseball data is recorded officially at every game. \n",
    "ask: so how was data recorded, is it frozen or is it from end of year>????? \n",
    "\n",
    "ii. The data was compiled by … \n",
    "\n",
    "\n",
    "e. “Common knowledge” shared among baseball fans. For example: i. There are 30 teams \n",
    "\n",
    "ii. A batting average that is over 0.300 is considered good. \n",
    "ii. Typically, about % of Kickstarter campaigns succeed.\n",
    "\n",
    "iii. A pitcher with an ERA of 3 or under is good. \n",
    "\n",
    "iv. Average age of players is in their late twenties. \n",
    "iv. Successful campaigns are thought to have both large numbers of pledgers and large pledge amounts.\n",
    "\n",
    "f. A review of other baseball research or studies that have been done. \n",
    "\n",
    "For our project, we’ve decided to analyze data for a crowdfunding platform that we have all engaged with, supported, and leaned on; kickstarter. Unlike other crowdfunding platforms, like gofundme, and indiegogo, Kickstarter is focused on supporting creative ambitions of its users. \n",
    "\n"
   ]
  },
  {
   "cell_type": "code",
   "execution_count": null,
   "metadata": {},
   "outputs": [],
   "source": []
  }
 ],
 "metadata": {
  "kernelspec": {
   "display_name": "Python 3",
   "language": "python",
   "name": "python3"
  },
  "language_info": {
   "codemirror_mode": {
    "name": "ipython",
    "version": 3
   },
   "file_extension": ".py",
   "mimetype": "text/x-python",
   "name": "python",
   "nbconvert_exporter": "python",
   "pygments_lexer": "ipython3",
   "version": "3.7.0"
  }
 },
 "nbformat": 4,
 "nbformat_minor": 2
}
