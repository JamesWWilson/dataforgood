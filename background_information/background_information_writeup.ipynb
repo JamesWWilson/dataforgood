{
 "cells": [
  {
   "cell_type": "markdown",
   "metadata": {},
   "source": [
    "Kickstarter is an online crowdfunding campaign platform for creative project makers seeking pledger support to pursue projects for categories like film, music, books, technology, and design. Many recognizable products and companies that we know today began as Kickstarter projects; the most famous of which includes Occulus, a virtual reality company acquired by Facebook in 2014 for $ 2 Billion (after raising $2.4 million on Kickstarter). Unlike other crowdfunding campaigns like gofundme.com, Kickstarter is unique because if the fundraising goal for a campaign is not met, then all pledged donations to the campaign will be returned to the donors. Kickstarter differentiates itself from other crowdfunding sites in this regard because it doesn't allow projects that fundraise for charity. Rather, projects must create something to share with others. While nonprofits can launch projects, the project can’t merely promise to raise funds to donate. Furthermore differntiating Kickstarter from other crowdfuning platforms is how Kickstarter has stricter regulations about what its platform can and can not be used for. While gofundme.com will let people raise funds for almost anything, Kickstarter has stricter regulations about what constitutes an allowed project; for example, projects can not fundraise for charity, nor can they involve prohibited items, offer equity to backers, or use photorealistic renderings of prototypes. \n",
    "\n",
    "insert story about not allowed campaigns] [ find a fraudulent campaign on kickstarter and then on go fundme] . Kickstarter does not take any cut of the funds raised if the creators do not reach their goal. If the creators do reach their goal amount, however, then Kickstarter takes 5% of the funds raised which is used to support necessary operations for sustaining the platform. \n",
    "\n",
    "Kickstarter campaigns involve primarily two parties: the creators, and the backers. The creators are the party who is seeking financial support in order to execute their specified goal. This goal may be anything from a creative endeavor like a documentary film, to a business endeavor like a technology start up. The ability to provide a service that captures the needs and excitement of backers is key to the creators ability to gain backer support. The creators are responsible for declaring a set goal amount that is needed in order to fund their ideas. Unless the creators are able to raise their goal amount within their specified time frame, Kickstarter returns all the pledged money to the campaign’s backers. In exchange for backer pledges, the Kickstarter campaign creators may choose to repay backers with interest on their pledge, or free products, but they may not repay their backers with equity.\n",
    "\n",
    "The backers are individuals who pledge donation amounts to campaigns in order to help the projects reach fruition.  In return for their pledges, backers receive reward promises that are determined by the terms of the Kickstarter campaigns’s creators. \n",
    "\n",
    "Our data set contains all Kickstarter projects since its founding in 2009. In our data set, each observational unit is a Kickstarter campaign project. Each Kickstarter project has 15 variables associated with it. Each project has a unique ID, which is its internal Kickstarter ID, and a name which is the name of the project that the campaign creators have made. This project name is a title that creators are advised to make such that it contains a clear goal for what the projects intends to do and/or provide. The Main Category variable is a broad category that the project belongs to like Publishing, Food, Art, and Fashion. Category is a more narrow category for what the project belongs to like Comic Books, Art Books, and Drinks. Currency is the currency used to support the project. Since projects are supported in various currencies, all pledged donations are converted to USD currency for comparison purposes. Deadline is the date that the campaign ends on. It is by this date that aggregate pledges must meet or exceed a projects set goal amount in order for the project to be a 'success'; otherwise, the project is a 'failure' all pledges are returned to donors and the creators do not get any of the pledged funds. If the project is terminated before it reaches its deadline date, then the project's status is defined as 'canceled'. Each campaign’s Goal is the fundraising goal reflecting the amount of money that a creator has determined that they need to complete their project. This is the amount of money that a project must obtain by the deadline in order to be successful. Launched is another variable the date that the creator’s launched the Kickstarter campaign on the platform. Pledged is the amount pledged by the ‘crowd’, and state is the current condition the project is in. If the pledged value for a project meets or exceeds the projects goal amount, then the project is a success. If the pledged amount is less than the goal amount, then the project has failed. In addition to failed and successful, there are also possible states like canceled, undefined, live, and suspended. Live conveys that the project is currently still in progress, and suspended projects are those that get canceled by Kickstarter for fraudulent or otherwise unacceptable behavior. Each observation also has a backers feature which records the number of backers that a project has. This is the number of unique pledges that a campaign receives. Country is the country in which the campaign is created in. We expect that the country that a project is created in should align with the currency that the campaign's pledges are in. We found an exception to this where 9% of pledges are in Great Britain Pound currency, yet only 8% of pledges are from Great Britain country. This is because there are countries outside of the United Kingdom that use the Pound. USD pledged is the amount of money pledged in US dollars, goal amount USD is the project’s goal amount converted to USD. Goal is in the currency in which the projects received pledges in, e.g.: a project in Great Britains actual goal amount would be in Great Britian's currency, however, USD Goal real is the projects goal amount converted into USD currency. We expect that for campaigns in the US that goal amount and USD goal real amounts are the same. However, for countries that use currencies other than USD, we expect that its goal amount and its USD goal real amount are different.\n",
    "\n",
    "USD pledged is different than USD pledged real because of how the conversions were calculated. USD pledged is the US dollar conversion amount of the pledged column as converted by kickstarter. USD pledged real is the conversion in US dollars of the pledged column as converted with Fixer.io API. \n",
    "\n",
    "\n",
    "talk about variables WE created!!\n",
    "In addition to these variables, we also derived our own for exploratory and modeling purposes. One of the variables that we created was Season denoting the season (Fall, Winter, Spring, Summer). We expected that campagins would be more successful in Winter due to the giving and philanthropic holiday season. We also derived time of day from the initial launch variable in order to see how the timing of a campaign's launch influenced its success. This variable had levels of mid-day, evening, late night, and morning. We suspected that campaigns launched on Kickstarter in the Morning would have more success because they would be checked by more people who check the site in throughout the day. From the launch variable and the deadline variable, we derived a campaign length variable that conveys how long the campaign is. Kickstarter's maximum length limit is 60 days, however Kickstarter advises creators to limit their campaign length to 30 days. For modelign purposes, we derived a year of launch variable from launch date to pursue our suspicion that as Kickstarter as a platform became more popular that its campaigns would become more successful.******* ( or actually this could ean more failures too because just more on the platform to tank)\n",
    "We derived an hour of day variable from the launch feature which describes the hour in which the campaign was launched. Also for modeling purposes, we created boolean variables for whether or not the project name contains an exclamation point, and whether or not the project name contained title capitalization. We expect that projects with exclamation points would be more successful due to the jarring psychological influence of exclamation points, and the prevalence of exclamation points in spam to get viewer attention. Lastly, we created a word cout variable for the number of words in the project name, and a length of characters variable counting the number of characters in project names. Certainly there is additional information about Kickstarter campaigns that we would like to have access to, however we could not consider due to limitations in our dataset. For example, we were curious to see if including a video on a campaign page influences the success rate of the project, but we did not have access to this such information.\n",
    "\n",
    "The data set is compiled from Kaggle \n",
    "\n",
    "\n",
    "risks!  kpop foods — discuss!!\n",
    "Kickstart is inherently risky because crowdfunding sights can not promise that the projects funded will come to fruition., for both the backers and the creators, the proposals are not foolproof. The backers may have someone take their money without any guarantee that they will get their money back. Similarly, creators may ultimately realize that they need more money than they initially projected so despite receiving the funds that they asked for, they will not be able to meet the promises they made for refunding their backers.\n",
    "To ease risks, Kickstarter has policies in place to prevent fraudulent behavior. For example, in order for creators to offer backers physical rewards for pledged donations, the creators need to have a working prototype. \n",
    "success story: OCCULUS!!!\n",
    "\n",
    "WE EXPECTED:\n",
    "TECH TO BE A BIGGER FEATURES AND MORE SUCCESSFUL BUT ACTUALLY LES SUCESSFUL \n",
    "\n",
    " Similarly, we \n",
    "\n",
    "c. A discussion of each of the variables included in the dataset, and what the observational unit is \n",
    "\n",
    "iii. Each row is a unique kickstarter campaign (ask:: from 2018??) .\n",
    "\n",
    "d. Discussion of how the data is collected: \n",
    "i. data is recorded ask: so how was data recorded, is it frozen or is it from end of year>????? \n",
    "\n",
    "ii. The data was compiled by … \n",
    "\n",
    "e. “Common knowledge” shared among baseball fans. For example: i. There are 30 teams \n",
    "\n",
    "ii. Typically, about % of Kickstarter campaigns succeed.\n",
    "\n",
    "iv. Average age of players is in their late twenties. \n",
    "\n",
    "iv. Successful campaigns are thought to have both large numbers of pledgers and large pledge amounts.\n",
    "\n",
    "f. A review of other baseball research or studies that have been done. \n",
    "\n",
    "\n",
    "Amid recent efforts to fundraise for Camp Kesem, a campus organization that provides two free weeks of camp to children affected by a parents cancer, we explored many crowdfunding platforms and became captivated by Kickstarter and its impressive history of campaigns. Due to Kickstarter regulations that restrict campaigns from exclusively raising funds to donate to charitable projects, Kickstarter was ultimately not a sufficient platform for our organizations fundraising mission. However, when we were on the website in the process of fielding candidate fundraising platforms, we caught ourselves speculating about which of the many Kickstarter campaigns on the website would succeed in reaching their fundraising goal. Especially as we began to fundraise for our own campaign, we were curious about what trends lurking in Kickstarter’s online altruistic behavior data we could leverage for our own fundraising projects. We sought to analyze Kickstarter campaign data with the hopes of understanding the dynamics of online altruism, and with intention of identifying qualities of a campaign that help it become successful. In order to do this, we first had to clarify what we meant by \"successful\". In order to be successful, a Kickstarter project must meet reach its fundraising goal amount before the project's declared deadline date. For our analysis project, we were curious to see how qualities of a campaign like its start date, country of origin, and project category influence its ability to succeed. Given the limitations of our dataset, we were unable to analyze the traffic of each campaign's fundraising over time, instead we were only able to consider a projects aggregate amount of donations. Furthermore, do to limitations in the data set, were were unable to analyze certain curious campaign features like the influence of having a video on the campaign webpage, and the gender of the campaign creators.\n"
   ]
  },
  {
   "cell_type": "code",
   "execution_count": null,
   "metadata": {},
   "outputs": [],
   "source": []
  }
 ],
 "metadata": {
  "kernelspec": {
   "display_name": "Python 3",
   "language": "python",
   "name": "python3"
  },
  "language_info": {
   "codemirror_mode": {
    "name": "ipython",
    "version": 3
   },
   "file_extension": ".py",
   "mimetype": "text/x-python",
   "name": "python",
   "nbconvert_exporter": "python",
   "pygments_lexer": "ipython3",
   "version": "3.7.0"
  }
 },
 "nbformat": 4,
 "nbformat_minor": 2
}
