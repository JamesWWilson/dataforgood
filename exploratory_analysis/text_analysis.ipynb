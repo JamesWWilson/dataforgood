{
 "cells": [
  {
   "cell_type": "markdown",
   "metadata": {},
   "source": [
    "# Import neccessary packags like nltk, pandas, numpy and read in data\n",
    "\n"
   ]
  },
  {
   "cell_type": "code",
   "execution_count": 316,
   "metadata": {},
   "outputs": [],
   "source": [
    "import pandas as pd\n",
    "import numpy as np\n",
    "from wordcloud import WordCloud, STOPWORDS\n",
    "import matplotlib.pyplot as plt\n",
    "import nltk\n",
    "from nltk import word_tokenize\n",
    "import nltk\n",
    "import nltk, re, pprint"
   ]
  },
  {
   "cell_type": "code",
   "execution_count": 252,
   "metadata": {},
   "outputs": [],
   "source": [
    "ks = pd.read_csv('/Users/hannah1ross/Desktop/dataforgood/data/ks-projects-201801.csv')"
   ]
  },
  {
   "cell_type": "code",
   "execution_count": 253,
   "metadata": {},
   "outputs": [
    {
     "data": {
      "text/html": [
       "<div>\n",
       "<style scoped>\n",
       "    .dataframe tbody tr th:only-of-type {\n",
       "        vertical-align: middle;\n",
       "    }\n",
       "\n",
       "    .dataframe tbody tr th {\n",
       "        vertical-align: top;\n",
       "    }\n",
       "\n",
       "    .dataframe thead th {\n",
       "        text-align: right;\n",
       "    }\n",
       "</style>\n",
       "<table border=\"1\" class=\"dataframe\">\n",
       "  <thead>\n",
       "    <tr style=\"text-align: right;\">\n",
       "      <th></th>\n",
       "      <th>ID</th>\n",
       "      <th>name</th>\n",
       "      <th>category</th>\n",
       "      <th>main_category</th>\n",
       "      <th>currency</th>\n",
       "      <th>deadline</th>\n",
       "      <th>goal</th>\n",
       "      <th>launched</th>\n",
       "      <th>pledged</th>\n",
       "      <th>state</th>\n",
       "      <th>backers</th>\n",
       "      <th>country</th>\n",
       "      <th>usd pledged</th>\n",
       "      <th>usd_pledged_real</th>\n",
       "      <th>usd_goal_real</th>\n",
       "    </tr>\n",
       "  </thead>\n",
       "  <tbody>\n",
       "    <tr>\n",
       "      <th>0</th>\n",
       "      <td>1000002330</td>\n",
       "      <td>The Songs of Adelaide &amp; Abullah</td>\n",
       "      <td>Poetry</td>\n",
       "      <td>Publishing</td>\n",
       "      <td>GBP</td>\n",
       "      <td>2015-10-09</td>\n",
       "      <td>1000.0</td>\n",
       "      <td>2015-08-11 12:12:28</td>\n",
       "      <td>0.0</td>\n",
       "      <td>failed</td>\n",
       "      <td>0</td>\n",
       "      <td>GB</td>\n",
       "      <td>0.0</td>\n",
       "      <td>0.0</td>\n",
       "      <td>1533.95</td>\n",
       "    </tr>\n",
       "    <tr>\n",
       "      <th>1</th>\n",
       "      <td>1000003930</td>\n",
       "      <td>Greeting From Earth: ZGAC Arts Capsule For ET</td>\n",
       "      <td>Narrative Film</td>\n",
       "      <td>Film &amp; Video</td>\n",
       "      <td>USD</td>\n",
       "      <td>2017-11-01</td>\n",
       "      <td>30000.0</td>\n",
       "      <td>2017-09-02 04:43:57</td>\n",
       "      <td>2421.0</td>\n",
       "      <td>failed</td>\n",
       "      <td>15</td>\n",
       "      <td>US</td>\n",
       "      <td>100.0</td>\n",
       "      <td>2421.0</td>\n",
       "      <td>30000.00</td>\n",
       "    </tr>\n",
       "    <tr>\n",
       "      <th>2</th>\n",
       "      <td>1000004038</td>\n",
       "      <td>Where is Hank?</td>\n",
       "      <td>Narrative Film</td>\n",
       "      <td>Film &amp; Video</td>\n",
       "      <td>USD</td>\n",
       "      <td>2013-02-26</td>\n",
       "      <td>45000.0</td>\n",
       "      <td>2013-01-12 00:20:50</td>\n",
       "      <td>220.0</td>\n",
       "      <td>failed</td>\n",
       "      <td>3</td>\n",
       "      <td>US</td>\n",
       "      <td>220.0</td>\n",
       "      <td>220.0</td>\n",
       "      <td>45000.00</td>\n",
       "    </tr>\n",
       "    <tr>\n",
       "      <th>3</th>\n",
       "      <td>1000007540</td>\n",
       "      <td>ToshiCapital Rekordz Needs Help to Complete Album</td>\n",
       "      <td>Music</td>\n",
       "      <td>Music</td>\n",
       "      <td>USD</td>\n",
       "      <td>2012-04-16</td>\n",
       "      <td>5000.0</td>\n",
       "      <td>2012-03-17 03:24:11</td>\n",
       "      <td>1.0</td>\n",
       "      <td>failed</td>\n",
       "      <td>1</td>\n",
       "      <td>US</td>\n",
       "      <td>1.0</td>\n",
       "      <td>1.0</td>\n",
       "      <td>5000.00</td>\n",
       "    </tr>\n",
       "    <tr>\n",
       "      <th>4</th>\n",
       "      <td>1000011046</td>\n",
       "      <td>Community Film Project: The Art of Neighborhoo...</td>\n",
       "      <td>Film &amp; Video</td>\n",
       "      <td>Film &amp; Video</td>\n",
       "      <td>USD</td>\n",
       "      <td>2015-08-29</td>\n",
       "      <td>19500.0</td>\n",
       "      <td>2015-07-04 08:35:03</td>\n",
       "      <td>1283.0</td>\n",
       "      <td>canceled</td>\n",
       "      <td>14</td>\n",
       "      <td>US</td>\n",
       "      <td>1283.0</td>\n",
       "      <td>1283.0</td>\n",
       "      <td>19500.00</td>\n",
       "    </tr>\n",
       "  </tbody>\n",
       "</table>\n",
       "</div>"
      ],
      "text/plain": [
       "           ID                                               name  \\\n",
       "0  1000002330                    The Songs of Adelaide & Abullah   \n",
       "1  1000003930      Greeting From Earth: ZGAC Arts Capsule For ET   \n",
       "2  1000004038                                     Where is Hank?   \n",
       "3  1000007540  ToshiCapital Rekordz Needs Help to Complete Album   \n",
       "4  1000011046  Community Film Project: The Art of Neighborhoo...   \n",
       "\n",
       "         category main_category currency    deadline     goal  \\\n",
       "0          Poetry    Publishing      GBP  2015-10-09   1000.0   \n",
       "1  Narrative Film  Film & Video      USD  2017-11-01  30000.0   \n",
       "2  Narrative Film  Film & Video      USD  2013-02-26  45000.0   \n",
       "3           Music         Music      USD  2012-04-16   5000.0   \n",
       "4    Film & Video  Film & Video      USD  2015-08-29  19500.0   \n",
       "\n",
       "              launched  pledged     state  backers country  usd pledged  \\\n",
       "0  2015-08-11 12:12:28      0.0    failed        0      GB          0.0   \n",
       "1  2017-09-02 04:43:57   2421.0    failed       15      US        100.0   \n",
       "2  2013-01-12 00:20:50    220.0    failed        3      US        220.0   \n",
       "3  2012-03-17 03:24:11      1.0    failed        1      US          1.0   \n",
       "4  2015-07-04 08:35:03   1283.0  canceled       14      US       1283.0   \n",
       "\n",
       "   usd_pledged_real  usd_goal_real  \n",
       "0               0.0        1533.95  \n",
       "1            2421.0       30000.00  \n",
       "2             220.0       45000.00  \n",
       "3               1.0        5000.00  \n",
       "4            1283.0       19500.00  "
      ]
     },
     "execution_count": 253,
     "metadata": {},
     "output_type": "execute_result"
    }
   ],
   "source": [
    "ks.head()"
   ]
  },
  {
   "cell_type": "markdown",
   "metadata": {},
   "source": [
    "# Make a word cloud for project names (excluse prepositions and articles)"
   ]
  },
  {
   "cell_type": "code",
   "execution_count": 254,
   "metadata": {},
   "outputs": [
    {
     "data": {
      "text/plain": [
       "Int64Index([166851, 307234, 309991, 338931], dtype='int64')"
      ]
     },
     "execution_count": 254,
     "metadata": {},
     "output_type": "execute_result"
    }
   ],
   "source": [
    "ks[ks.name.isna()].index # only four have missing values"
   ]
  },
  {
   "cell_type": "code",
   "execution_count": 255,
   "metadata": {},
   "outputs": [],
   "source": [
    "todrop = ks[ks.name.isna()].index # extract th eindices of rows with missing valus for the project name"
   ]
  },
  {
   "cell_type": "code",
   "execution_count": 256,
   "metadata": {},
   "outputs": [],
   "source": [
    "ks=ks.drop(todrop)"
   ]
  },
  {
   "cell_type": "code",
   "execution_count": 257,
   "metadata": {},
   "outputs": [
    {
     "data": {
      "text/html": [
       "<div>\n",
       "<style scoped>\n",
       "    .dataframe tbody tr th:only-of-type {\n",
       "        vertical-align: middle;\n",
       "    }\n",
       "\n",
       "    .dataframe tbody tr th {\n",
       "        vertical-align: top;\n",
       "    }\n",
       "\n",
       "    .dataframe thead th {\n",
       "        text-align: right;\n",
       "    }\n",
       "</style>\n",
       "<table border=\"1\" class=\"dataframe\">\n",
       "  <thead>\n",
       "    <tr style=\"text-align: right;\">\n",
       "      <th></th>\n",
       "      <th>ID</th>\n",
       "      <th>name</th>\n",
       "      <th>category</th>\n",
       "      <th>main_category</th>\n",
       "      <th>currency</th>\n",
       "      <th>deadline</th>\n",
       "      <th>goal</th>\n",
       "      <th>launched</th>\n",
       "      <th>pledged</th>\n",
       "      <th>state</th>\n",
       "      <th>backers</th>\n",
       "      <th>country</th>\n",
       "      <th>usd pledged</th>\n",
       "      <th>usd_pledged_real</th>\n",
       "      <th>usd_goal_real</th>\n",
       "    </tr>\n",
       "  </thead>\n",
       "  <tbody>\n",
       "  </tbody>\n",
       "</table>\n",
       "</div>"
      ],
      "text/plain": [
       "Empty DataFrame\n",
       "Columns: [ID, name, category, main_category, currency, deadline, goal, launched, pledged, state, backers, country, usd pledged, usd_pledged_real, usd_goal_real]\n",
       "Index: []"
      ]
     },
     "execution_count": 257,
     "metadata": {},
     "output_type": "execute_result"
    }
   ],
   "source": [
    "ks[ks.name.isna()] # now we have removed all project rows with missing names"
   ]
  },
  {
   "cell_type": "code",
   "execution_count": 258,
   "metadata": {},
   "outputs": [],
   "source": [
    "names_list = [title for title in ks['name']]\n"
   ]
  },
  {
   "cell_type": "code",
   "execution_count": 259,
   "metadata": {},
   "outputs": [
    {
     "data": {
      "text/plain": [
       "378657"
      ]
     },
     "execution_count": 259,
     "metadata": {},
     "output_type": "execute_result"
    }
   ],
   "source": [
    "len(names_list)"
   ]
  },
  {
   "cell_type": "code",
   "execution_count": 260,
   "metadata": {},
   "outputs": [
    {
     "data": {
      "text/plain": [
       "False"
      ]
     },
     "execution_count": 260,
     "metadata": {},
     "output_type": "execute_result"
    }
   ],
   "source": [
    "'@' in names_list # good so use @ as a marker to end a name in giant text body of names"
   ]
  },
  {
   "cell_type": "code",
   "execution_count": 348,
   "metadata": {},
   "outputs": [],
   "source": [
    "onetext = ' '.join(names_list)"
   ]
  },
  {
   "cell_type": "code",
   "execution_count": 349,
   "metadata": {},
   "outputs": [
    {
     "data": {
      "text/plain": [
       "'The Songs of Adelaide & Abullah Greeting From Earth: ZGAC Arts Capsule For ET Where is Hank? ToshiCapital Rekordz Needs Help to Complete Album Community Film Project: The Art of Neighborhood Filmmaking Monarch Espresso Bar Support Solar Roasted Coffee & Green Energy!  SolarCoffee.co Chaser Strips. Our Strips make Shots their B*tch!'"
      ]
     },
     "execution_count": 349,
     "metadata": {},
     "output_type": "execute_result"
    }
   ],
   "source": [
    "onetext[0:333]"
   ]
  },
  {
   "cell_type": "code",
   "execution_count": 263,
   "metadata": {},
   "outputs": [],
   "source": [
    "def generate_wordcloud(text): # optionally add: stopwords=STOPWORDS and change the arg below\n",
    "    wordcloud = WordCloud(font_path='/Library/Fonts/Verdana.ttf',\n",
    "                          relative_scaling = 1.0,\n",
    "                          stopwords = {'to', 'of','the','for','in','and','a','an'} # set or space-separated string\n",
    "                          ).generate(text)\n",
    "    plt.imshow(wordcloud)\n",
    "    plt.axis(\"off\")\n",
    "    plt.show()\n"
   ]
  },
  {
   "cell_type": "code",
   "execution_count": 264,
   "metadata": {},
   "outputs": [
    {
     "data": {
      "image/png": "[encoded data removed]",
      "text/plain": [
       "<Figure size 432x288 with 1 Axes>"
      ]
     },
     "metadata": {
      "needs_background": "light"
     },
     "output_type": "display_data"
    }
   ],
   "source": [
    "generate_wordcloud(onetext) # word cloud for all names of projects"
   ]
  },
  {
   "cell_type": "markdown",
   "metadata": {},
   "source": [
    "# We see that canceled is large. show all senteces that have the word 'Canceled' in them"
   ]
  },
  {
   "cell_type": "code",
   "execution_count": 265,
   "metadata": {},
   "outputs": [
    {
     "name": "stderr",
     "output_type": "stream",
     "text": [
      "IOPub data rate exceeded.\n",
      "The notebook server will temporarily stop sending output\n",
      "to the client in order to avoid crashing it.\n",
      "To change this limit, set the config variable\n",
      "`--NotebookApp.iopub_data_rate_limit`.\n",
      "\n",
      "Current values:\n",
      "NotebookApp.iopub_data_rate_limit=1000000.0 (bytes/sec)\n",
      "NotebookApp.rate_limit_window=3.0 (secs)\n",
      "\n"
     ]
    }
   ],
   "source": [
    "sents = nltk.sent_tokenize(onetext)    \n",
    "keep = []\n",
    "#print \"part b) Print  all  the  sentences  in  which  the  word  “point”  appears.\\n\"\n",
    "for i in range(len(sents)):\n",
    "    sent_words = word_tokenize(sents[i])\n",
    "    if \"Canceled\" in sent_words:\n",
    "        keep.append(sents[i])\n",
    "print(keep)"
   ]
  },
  {
   "cell_type": "code",
   "execution_count": 266,
   "metadata": {},
   "outputs": [
    {
     "data": {
      "image/png": "[encoded data removed]",
      "text/plain": [
       "<Figure size 432x288 with 1 Axes>"
      ]
     },
     "metadata": {
      "needs_background": "light"
     },
     "output_type": "display_data"
    }
   ],
   "source": [
    "def generate_wordcloud(text): # optionally add: stopwords=STOPWORDS and change the arg below\n",
    "    wordcloud = WordCloud(font_path='/Library/Fonts/Verdana.ttf',\n",
    "                          relative_scaling = 1.0,\n",
    "                          stopwords = {'to', 'of','the','for','in','and','a','an','Canceled'} # set or space-separated string\n",
    "                          ).generate(text)\n",
    "    plt.imshow(wordcloud)\n",
    "    plt.axis(\"off\")\n",
    "    plt.show()\n",
    "\n",
    "generate_wordcloud(onetext)"
   ]
  },
  {
   "cell_type": "code",
   "execution_count": 267,
   "metadata": {},
   "outputs": [
    {
     "data": {
      "text/plain": [
       "13947910"
      ]
     },
     "execution_count": 267,
     "metadata": {},
     "output_type": "execute_result"
    }
   ],
   "source": [
    "len(onetext)"
   ]
  },
  {
   "cell_type": "code",
   "execution_count": 268,
   "metadata": {},
   "outputs": [
    {
     "data": {
      "text/plain": [
       "'The Songs of Adelaide & Abullah@ '"
      ]
     },
     "execution_count": 268,
     "metadata": {},
     "output_type": "execute_result"
    }
   ],
   "source": [
    "onetext[0:33]"
   ]
  },
  {
   "cell_type": "code",
   "execution_count": 269,
   "metadata": {},
   "outputs": [],
   "source": [
    "sents = nltk.sent_tokenize(onetext) "
   ]
  },
  {
   "cell_type": "code",
   "execution_count": 270,
   "metadata": {},
   "outputs": [
    {
     "data": {
      "text/plain": [
       "62129"
      ]
     },
     "execution_count": 270,
     "metadata": {},
     "output_type": "execute_result"
    }
   ],
   "source": [
    "len(sents)"
   ]
  },
  {
   "cell_type": "code",
   "execution_count": 271,
   "metadata": {},
   "outputs": [
    {
     "data": {
      "text/plain": [
       "['The Songs of Adelaide & Abullah@ Greeting From Earth: ZGAC Arts Capsule For ET@ Where is Hank?',\n",
       " '@ ToshiCapital Rekordz Needs Help to Complete Album@ Community Film Project: The Art of Neighborhood Filmmaking@ Monarch Espresso Bar@ Support Solar Roasted Coffee & Green Energy!']"
      ]
     },
     "execution_count": 271,
     "metadata": {},
     "output_type": "execute_result"
    }
   ],
   "source": [
    "sents[0:2]"
   ]
  },
  {
   "cell_type": "code",
   "execution_count": 272,
   "metadata": {},
   "outputs": [],
   "source": [
    "sent_word = word_tokenize(sents[0])"
   ]
  },
  {
   "cell_type": "code",
   "execution_count": 273,
   "metadata": {},
   "outputs": [
    {
     "data": {
      "text/plain": [
       "['The',\n",
       " 'Songs',\n",
       " 'of',\n",
       " 'Adelaide',\n",
       " '&',\n",
       " 'Abullah',\n",
       " '@',\n",
       " 'Greeting',\n",
       " 'From',\n",
       " 'Earth',\n",
       " ':',\n",
       " 'ZGAC',\n",
       " 'Arts',\n",
       " 'Capsule',\n",
       " 'For',\n",
       " 'ET',\n",
       " '@',\n",
       " 'Where',\n",
       " 'is',\n",
       " 'Hank',\n",
       " '?']"
      ]
     },
     "execution_count": 273,
     "metadata": {},
     "output_type": "execute_result"
    }
   ],
   "source": [
    "sent_word"
   ]
  },
  {
   "cell_type": "code",
   "execution_count": 274,
   "metadata": {},
   "outputs": [
    {
     "data": {
      "text/plain": [
       "['The Songs of Adelaide & Abullah',\n",
       " 'Greeting From Earth: ZGAC Arts Capsule For ET',\n",
       " 'Where is Hank?']"
      ]
     },
     "execution_count": 274,
     "metadata": {},
     "output_type": "execute_result"
    }
   ],
   "source": [
    "names_list[0:3] # so text is ctually was sent is!!!! use text as snet words"
   ]
  },
  {
   "cell_type": "code",
   "execution_count": 275,
   "metadata": {},
   "outputs": [],
   "source": [
    "keep = []\n",
    "for i in range(len(names_list)):\n",
    "    sent_words = word_tokenize(names_list[i])\n",
    "    if \"Canceled\" in sent_words:\n",
    "        keep.append(names_list[i])"
   ]
  },
  {
   "cell_type": "code",
   "execution_count": 276,
   "metadata": {},
   "outputs": [
    {
     "data": {
      "text/plain": [
       "['STUDIO IN THE SKY - A Documentary Feature Film (Canceled)',\n",
       " 'Raise the Woof, expanding the love (Canceled)',\n",
       " 'Glyscian Debut Album Recording (Canceled)',\n",
       " 'Fishtacular - The Ultimate Fishing Tool (Canceled)']"
      ]
     },
     "execution_count": 276,
     "metadata": {},
     "output_type": "execute_result"
    }
   ],
   "source": [
    "keep[0:4] ## we see that canceled si included becacuse when the project gets canceled the name gets changed"
   ]
  },
  {
   "cell_type": "markdown",
   "metadata": {},
   "source": [
    "# so now we will remove canceled from the word cloud because it appears when projects get canceled"
   ]
  },
  {
   "cell_type": "code",
   "execution_count": 277,
   "metadata": {},
   "outputs": [
    {
     "data": {
      "text/plain": [
       "23104"
      ]
     },
     "execution_count": 277,
     "metadata": {},
     "output_type": "execute_result"
    }
   ],
   "source": [
    "len(keep)"
   ]
  },
  {
   "cell_type": "code",
   "execution_count": 278,
   "metadata": {},
   "outputs": [
    {
     "data": {
      "text/plain": [
       "38779"
      ]
     },
     "execution_count": 278,
     "metadata": {},
     "output_type": "execute_result"
    }
   ],
   "source": [
    "sum(ks.state == 'canceled')"
   ]
  },
  {
   "cell_type": "code",
   "execution_count": 279,
   "metadata": {},
   "outputs": [
    {
     "data": {
      "text/plain": [
       "378657"
      ]
     },
     "execution_count": 279,
     "metadata": {},
     "output_type": "execute_result"
    }
   ],
   "source": [
    "len(names_list)"
   ]
  },
  {
   "cell_type": "code",
   "execution_count": 280,
   "metadata": {},
   "outputs": [
    {
     "data": {
      "text/plain": [
       "378657"
      ]
     },
     "execution_count": 280,
     "metadata": {},
     "output_type": "execute_result"
    }
   ],
   "source": [
    "len(ks.name)"
   ]
  },
  {
   "cell_type": "markdown",
   "metadata": {},
   "source": [
    "# now make a distribution of the rarest words and see the title they appear in"
   ]
  },
  {
   "cell_type": "code",
   "execution_count": 281,
   "metadata": {},
   "outputs": [],
   "source": [
    "fdist = nltk.FreqDist(names_list)"
   ]
  },
  {
   "cell_type": "code",
   "execution_count": 282,
   "metadata": {},
   "outputs": [
    {
     "data": {
      "text/plain": [
       "['The Songs of Adelaide & Abullah',\n",
       " 'Greeting From Earth: ZGAC Arts Capsule For ET',\n",
       " 'Where is Hank?']"
      ]
     },
     "execution_count": 282,
     "metadata": {},
     "output_type": "execute_result"
    }
   ],
   "source": [
    "names_list[0:3] # text is a list where each item si the name of a project"
   ]
  },
  {
   "cell_type": "code",
   "execution_count": 283,
   "metadata": {},
   "outputs": [
    {
     "data": {
      "text/plain": [
       "'The Songs of Adelaide & Abullah@ '"
      ]
     },
     "execution_count": 283,
     "metadata": {},
     "output_type": "execute_result"
    }
   ],
   "source": [
    "onetext[0:33] # onetext is a paragraph of every single project name strung together in a giant string"
   ]
  },
  {
   "cell_type": "code",
   "execution_count": 317,
   "metadata": {},
   "outputs": [
    {
     "data": {
      "text/plain": [
       "[('New EP/Music Development', 41),\n",
       " ('Canceled (Canceled)', 13),\n",
       " ('Music Video', 11),\n",
       " ('N/A (Canceled)', 11),\n",
       " ('Cancelled (Canceled)', 10),\n",
       " ('New EP / Music Development', 10),\n",
       " ('Debut Album', 10),\n",
       " ('The Journey', 9),\n",
       " ('Reflections', 9),\n",
       " ('The Other Side', 8),\n",
       " (\"A Midsummer Night's Dream\", 8),\n",
       " ('Pizza', 8),\n",
       " ('The Awakening', 8),\n",
       " ('Choices', 7),\n",
       " ('Pasta Salad', 7),\n",
       " ('Karma', 6),\n",
       " ('Project (Canceled)', 6),\n",
       " ('Alone', 6),\n",
       " ('The Wall', 6),\n",
       " ('Guacamole', 6),\n",
       " ('Broken', 6),\n",
       " ('Home', 6),\n",
       " ('Chocolate Chip Cookies', 6),\n",
       " ('Through My Eyes', 6),\n",
       " ('Romeo & Juliet', 6),\n",
       " ('The Mission', 6),\n",
       " ('a (Canceled)', 6),\n",
       " ('Redemption', 5),\n",
       " ('Nocturne', 5),\n",
       " ('Egg Salad', 5),\n",
       " ('My Debut Album', 5),\n",
       " ('Perception', 5),\n",
       " ('Homemade Pizza', 5),\n",
       " ('My First Album', 5),\n",
       " ('The Hive', 5),\n",
       " ('Macaroni Salad', 5),\n",
       " ('A New Beginning', 5),\n",
       " ('The Bridge', 5),\n",
       " ('Forget Me Not', 5),\n",
       " ('LOVE', 5),\n",
       " ('Memento Mori', 5),\n",
       " ('Bacon', 5),\n",
       " ('United We Stand', 5),\n",
       " ('Wonderland', 5),\n",
       " ('New Album', 5),\n",
       " ('Test (Canceled)', 5),\n",
       " ('The Woods', 5),\n",
       " ('Untitled', 5),\n",
       " ('Artist Residency at the Vermont Studio Center', 5),\n",
       " ('Aftermath', 5)]"
      ]
     },
     "execution_count": 317,
     "metadata": {},
     "output_type": "execute_result"
    }
   ],
   "source": [
    "fdist.most_common(50) # most common phrases occuring in the names"
   ]
  },
  {
   "cell_type": "code",
   "execution_count": 285,
   "metadata": {},
   "outputs": [],
   "source": [
    "tokens = nltk.word_tokenize(onetext)"
   ]
  },
  {
   "cell_type": "code",
   "execution_count": 286,
   "metadata": {},
   "outputs": [
    {
     "name": "stdout",
     "output_type": "stream",
     "text": [
      "[\"princess viola's amazing forest journey by g.s. coltman\", \"princess viola's amazing forest journey by g.s. coltman\", \"princess viola's amazing forest journey by g.s. coltman\"]\n"
     ]
    }
   ],
   "source": [
    "print([word.lower() for title in text[0:3] ] )#if word.isalpha() ])"
   ]
  },
  {
   "cell_type": "markdown",
   "metadata": {},
   "source": [
    "# To fix redundency, make every project name lower case, and remove names that include the word canceled. "
   ]
  },
  {
   "cell_type": "code",
   "execution_count": 321,
   "metadata": {},
   "outputs": [],
   "source": [
    "lower_names=[name.lower() for name in names_list ]#for word in name ]"
   ]
  },
  {
   "cell_type": "code",
   "execution_count": 322,
   "metadata": {},
   "outputs": [],
   "source": [
    "lower_names_no_cancel = [name for name in lower_names if 'cancel' not in name]"
   ]
  },
  {
   "cell_type": "code",
   "execution_count": 324,
   "metadata": {},
   "outputs": [
    {
     "data": {
      "text/plain": [
       "['the songs of adelaide & abullah',\n",
       " 'greeting from earth: zgac arts capsule for et',\n",
       " 'where is hank?',\n",
       " 'toshicapital rekordz needs help to complete album']"
      ]
     },
     "execution_count": 324,
     "metadata": {},
     "output_type": "execute_result"
    }
   ],
   "source": [
    "lower_names_no_cancel[0:4]"
   ]
  },
  {
   "cell_type": "code",
   "execution_count": 327,
   "metadata": {},
   "outputs": [],
   "source": [
    "fdist2 = nltk.FreqDist(lower_names_no_cancel)"
   ]
  },
  {
   "cell_type": "code",
   "execution_count": 331,
   "metadata": {},
   "outputs": [
    {
     "data": {
      "text/plain": [
       "378657"
      ]
     },
     "execution_count": 331,
     "metadata": {},
     "output_type": "execute_result"
    }
   ],
   "source": [
    "len(ks.name)"
   ]
  },
  {
   "cell_type": "code",
   "execution_count": 333,
   "metadata": {},
   "outputs": [
    {
     "data": {
      "text/plain": [
       "351823"
      ]
     },
     "execution_count": 333,
     "metadata": {},
     "output_type": "execute_result"
    }
   ],
   "source": [
    "len(fdist2.most_common())"
   ]
  },
  {
   "cell_type": "code",
   "execution_count": 337,
   "metadata": {},
   "outputs": [
    {
     "data": {
      "text/plain": [
       "[('new ep/music development', 41),\n",
       " ('music video', 12),\n",
       " ('debut album', 11),\n",
       " ('the journey', 10),\n",
       " ('new ep / music development', 10),\n",
       " ('my first album', 10),\n",
       " ('the other side', 9),\n",
       " ('choices', 9),\n",
       " (\"a midsummer night's dream\", 9),\n",
       " ('reflections', 9),\n",
       " ('pizza', 9),\n",
       " ('run', 8),\n",
       " ('home', 8),\n",
       " ('the awakening', 8),\n",
       " ('karma', 7),\n",
       " ('love', 7),\n",
       " ('eden', 7),\n",
       " ('the wall', 7),\n",
       " ('limbo', 7),\n",
       " ('new album', 7)]"
      ]
     },
     "execution_count": 337,
     "metadata": {},
     "output_type": "execute_result"
    }
   ],
   "source": [
    "fdist2.most_common(20)"
   ]
  },
  {
   "cell_type": "markdown",
   "metadata": {},
   "source": [
    "# now look at some of the least common phrases in project names"
   ]
  },
  {
   "cell_type": "code",
   "execution_count": 340,
   "metadata": {},
   "outputs": [
    {
     "data": {
      "text/plain": [
       "[('eminent domain: our first album (25 years after the fact)', 1),\n",
       " ('wild times', 1),\n",
       " ('serialboxtv: pilot episode featuring noah gundersen', 1),\n",
       " (\"jackie's art. help to protect, preserve, and exhibit it!\", 1),\n",
       " ('tapper quest for the cherry - an android app video game', 1),\n",
       " ('death by scrabble', 1),\n",
       " ('devoted shirts', 1),\n",
       " ('publishing an eco-adventure book to educate children', 1),\n",
       " ('me & the single married man', 1),\n",
       " ('piratinies: a fast paced game of pirates and dice', 1),\n",
       " ('the new young fogies cd!', 1),\n",
       " (\"lachlan whyte's kickstarter - 1st album - music, tour, art\", 1),\n",
       " ('hell awaits... wave 1', 1),\n",
       " ('posh imirror', 1),\n",
       " ('camels, gifts and 3 wise men : keeping christ in christmas', 1),\n",
       " ('\"the unknown son\" feature film', 1),\n",
       " ('luxurious leather bags 70% below usual retail prices.', 1),\n",
       " ('65th. a supernatural thriller based on a true story', 1),\n",
       " ('empty handed', 1),\n",
       " ('cool the inside of your vehicle down before you get in.', 1),\n",
       " (\"freedom's first principles\", 1),\n",
       " ('the great white vication', 1),\n",
       " ('salt administrator in song dynasty', 1),\n",
       " ('theatre for life, youth theatre company, southampton uk', 1),\n",
       " ('airtogo high output air compressor for camping/emergencies', 1),\n",
       " ('transgender mtf. transition and the release of my journal.', 1),\n",
       " ('ternary computer system', 1),\n",
       " ('renegade darlings', 1),\n",
       " ('panic era e.p. fundraiser', 1),\n",
       " ('beatz industry', 1),\n",
       " ('sky & signal ep!!!', 1),\n",
       " ('a picture is worth a bunch of words', 1),\n",
       " ('#commonlanguage', 1),\n",
       " (\"the skin i'm in\", 1),\n",
       " (\"the film your mind doesn't want you to see\", 1),\n",
       " ('matthew stephens music', 1),\n",
       " ('courtney jones - new record; \"slow heart, fast car\"', 1),\n",
       " ('following five but preceding seven', 1),\n",
       " ('eminent domain: battlecruisers & exotica', 1),\n",
       " ('pierre duc | a brand for the people', 1),\n",
       " (\"wild blue road / i'm off to write a book with your help\", 1),\n",
       " (\"'wild men' - a found-footage feature comedy/horror film\", 1),\n",
       " ('bedtime doggy: apparel for moms & dogs', 1),\n",
       " (\"help fulfill wonder city's musical dreams (no joke!)\", 1),\n",
       " (\"leslie's craft corner's start to success\", 1),\n",
       " ('timmy brown studio time for recordings and first ep', 1),\n",
       " ('vinyl records pressing machine by ennebi srl - italy', 1),\n",
       " ('inspirational poetry ~ journal & family register', 1),\n",
       " ('sex a.k.a. wieners and boobs - a holiday remount', 1),\n",
       " ('maxwell hughes is gearing up for his 3rd full length album!', 1),\n",
       " ('a piece of heaven 1998 - 2008', 1),\n",
       " ('jetpack canada inc.', 1),\n",
       " ('the fonda/stevens group 20th anniversary recording', 1),\n",
       " ('oneunder tour & merch', 1),\n",
       " ('whale magazine', 1),\n",
       " ('\"so amazing\" produced at the kraine theater nyc', 1),\n",
       " ('\"lyric suite\" for rdte', 1),\n",
       " ('help fund 2 of our outdoor survival/adventure youtube shows', 1),\n",
       " ('bully music video', 1),\n",
       " ('the watchmaker', 1),\n",
       " ('louisianna flood relief', 1),\n",
       " ('radiant revolution apparel', 1),\n",
       " ('moon.stone', 1),\n",
       " ('doria roberts & \"the blackeyed susan\" odetta tribute cd project- ', 1),\n",
       " ('the aspecd shirt: outstanding fit, styles, and service', 1),\n",
       " ('sheila and shang aka the changes', 1),\n",
       " ('teaching millenials how to drive manual cars!', 1),\n",
       " (\"aaron unthank's solo recording project\", 1),\n",
       " ('\"breaking glass\"', 1),\n",
       " ('vinegar album vinyl pressing and tour', 1),\n",
       " ('resistance stickers - calling all nasty women & harpies', 1),\n",
       " ('unidentified floating objects, kinetic water sculpture ', 1),\n",
       " (\"let's make art relevant!\", 1),\n",
       " ('dirty sex tactics', 1),\n",
       " ('suburban guerilla productions, occupy for a dollar', 1),\n",
       " ('up country | a film about a maine fishing trip gone horribly wrong', 1),\n",
       " ('project move my mom', 1),\n",
       " ('sketxpro reinvents how you work on a surface 4 or ipad pro', 1),\n",
       " ('zeide - short film', 1),\n",
       " ('hellcats inc.', 1),\n",
       " ('split fountain hieroglyphics 2.0', 1),\n",
       " ('panacea\\'s new album \"12 step program\" deserves a proper vinyl pressing. make it so.',\n",
       "  1),\n",
       " ('3g flux planner', 1),\n",
       " ('pyramid one international radio network', 1),\n",
       " ('in the ring', 1),\n",
       " (\"it's time for tea\", 1),\n",
       " ('where is zog? - a graphic novel of sci-fi misadventure!', 1),\n",
       " ('kuña: documental sobre la mujer paraguaya', 1),\n",
       " ('how birds got their color - a japanese creation myth', 1),\n",
       " ('investigating the alaskan pyramid', 1),\n",
       " ('actors shakespeare company at njcu: season of rough magic', 1),\n",
       " ('kev adams / tim prow oldhammer goblin miniatures', 1),\n",
       " ('the road to redemption-debut ep', 1),\n",
       " ('case with amplifier', 1),\n",
       " ('sound off', 1),\n",
       " ('disposable urinal covers for faulty out of order urinals', 1),\n",
       " ('doctor who: the beginning', 1),\n",
       " ('make 100 / \"do something\" art prints', 1),\n",
       " ('creating the bon bon dance space for #heartdance poledance', 1),\n",
       " ('el diario. / the diary.', 1),\n",
       " ('pillaging marauders board game.', 1),\n",
       " ('nanana (suspended)', 1),\n",
       " ('float: the levitating hot air balloon light', 1),\n",
       " ('pics for earth', 1),\n",
       " ('recklezz music', 1),\n",
       " ('faithworks/food factory, sauce, and seasoning bottling', 1),\n",
       " ('sayno anti-drug educational game', 1),\n",
       " ('tourismo: the automotive inspired watch', 1),\n",
       " ('our little story - discover romania', 1),\n",
       " ('help us send afterlife to film festivals!', 1),\n",
       " ('silverline needs you! help us record our new album!', 1),\n",
       " ('lovemybootboots a handmade boot company making boots for men', 1),\n",
       " ('planning on medical school? afraid of the mcat physics?', 1),\n",
       " ('the space hobo bottlecap divination board', 1),\n",
       " ('in shadow', 1),\n",
       " ('contra lügenpresse: internet nachrichtenmagazin', 1),\n",
       " ('obama t-shirt project (suspended)', 1),\n",
       " ('nuju -diseño en madera/design in wood-', 1),\n",
       " ('cotopaxi connect—custom gear, co-designed', 1),\n",
       " ('the roos', 1),\n",
       " ('all me', 1),\n",
       " ('sherlock holmes re-imagined', 1),\n",
       " ('i love', 1),\n",
       " ('red ruin - a short film', 1),\n",
       " ('create fully working products with your 3d printer', 1),\n",
       " ('alina kiryayeva\\'s debut album \"sonatas\"', 1),\n",
       " ('a celebration of brass instruments - concert in sedona az', 1),\n",
       " ('white mountain lions: season to remember', 1),\n",
       " ('enz', 1),\n",
       " ('please help me create a healthy cooking club at wyhs!', 1),\n",
       " ('vann the artist paints a necklace', 1),\n",
       " ('country music', 1),\n",
       " ('project: boyfriend material', 1),\n",
       " ('kodiak leather - classic weekender duffel', 1),\n",
       " ('greenspirit arts re-launch of limited-edition book project ', 1),\n",
       " ('an original country music ep from the weal and woe', 1),\n",
       " ('\"the bear\" an a2 media film', 1),\n",
       " ('how to create a wordpress website in 2017', 1),\n",
       " ('snowdonia gastropub - coming soon to astoria, ny!', 1),\n",
       " ('canterbury', 1),\n",
       " ('put bakelite 78-what the moon has done on vinyl!!', 1),\n",
       " (\"ebenezer scrooge's eggnog dash tabletop game\", 1),\n",
       " ('greenplay project: the smarter way to putt like a golf pro', 1),\n",
       " ('pinball road trip: a photo documentary', 1),\n",
       " ('phaxanation & the dust kickers: our full length record', 1),\n",
       " (\"the kissing bandit: children's book & puppet...with a twist!\", 1),\n",
       " ('stepped recliners', 1),\n",
       " ('new album from blue paper project. cassette + read along', 1),\n",
       " ('when age has no leash.    lessons learned from senior dogs.', 1),\n",
       " ('blade of marmora (voltron: legendary defender) enamel pins', 1),\n",
       " ('a new venture, needs a new wheel.', 1),\n",
       " ('not my president t-shirt multilingual text, american apparel', 1),\n",
       " ('hybrid a local art productions group art show', 1),\n",
       " ('cidery tasting room buildout', 1),\n",
       " ('cnc bt15/iso15 atc spindle cartridge and spindle shaft kit', 1),\n",
       " ('warlords of terra - btcg', 1),\n",
       " (\"cthulhu's chaos - unique dice towers\", 1),\n",
       " ('appcarz', 1),\n",
       " (\"invitation to debate - martin luther's 95 theses\", 1),\n",
       " ('truly gently presents theatorium', 1),\n",
       " ('smartnanny®. the world’s first smart nanny.', 1),\n",
       " ('fathers of cosplay', 1),\n",
       " ('an island on the page', 1),\n",
       " ('pin-up pastries wants to be your cupcake shop on wheels!', 1),\n",
       " ('art culture and development. building an art/music studio', 1),\n",
       " ('the pilot for ....the harmony of being', 1),\n",
       " ('bean bites lunchbox', 1),\n",
       " ('help unrb go on tour!', 1),\n",
       " ('slushengine stepper motor driver - by roboteurs', 1),\n",
       " (\"l'arbalète  (surface lift ski)\", 1),\n",
       " ('central illinois youth symphony 50th anniversary commission', 1),\n",
       " ('fluxpanel', 1),\n",
       " ('arcane sally & mr. steam #2', 1),\n",
       " ('subpos ranger: indoor positioning system', 1),\n",
       " ('lady vendredi: afrofuturist concept 12 inch ep', 1),\n",
       " ('hayes short film', 1),\n",
       " ('cloud game hosting', 1),\n",
       " ('jeune auteur a besoin de vous!', 1),\n",
       " ('cat people posters and stickers: presidential edition', 1),\n",
       " ('no.1 fan, a community connecting people through interests', 1),\n",
       " (\"kicking pimp's tail\", 1),\n",
       " (\"onit saves the world! let's make this game one for the ages!\", 1),\n",
       " ('cat in water', 1),\n",
       " ('my project is to complete my cd. from studio to market.', 1),\n",
       " ('the diagram decades of the new york city subway map', 1),\n",
       " (\"let's pretend we're christians and play in the snow\", 1),\n",
       " ('just be mean holiday cards!', 1),\n",
       " ('reese and reeves 2: a new novel', 1),\n",
       " ('objects attack!', 1),\n",
       " ('eggbeater- an independant horror/comedy film', 1),\n",
       " ('narcos: webseries / tv pilot', 1),\n",
       " ('doozy: the ep', 1),\n",
       " ('claude-philippe benoit monograph', 1),\n",
       " ('help us launch our new custom boot line!', 1),\n",
       " ('the panic of 2008 documentary', 1),\n",
       " ('the mangled (re-launch)', 1),\n",
       " ('corporeal', 1),\n",
       " ('parti bash mobile app & technology', 1),\n",
       " ('31•13: thesis exhibition', 1),\n",
       " ('traverse city dance project 2012', 1),\n",
       " ('kronos: under 30 project / #5', 1),\n",
       " ('bully for you!!!  giving birth to the \"awww\" factor!', 1),\n",
       " ('county blues', 1),\n",
       " ('language of love -  a new cd from lisa deveaux', 1),\n",
       " ('michael & jeanne \"peace and sunshine\"', 1),\n",
       " ('green city times', 1),\n",
       " (\"join the fearless movement, andre leneal's debut album\", 1),\n",
       " ('m a v a r i', 1),\n",
       " ('the hollywood kills on tour', 1),\n",
       " ('better desperate', 1),\n",
       " ('competition finalist', 1),\n",
       " ('\"100 photographs for our liberties\"', 1),\n",
       " ('pug life - inspired by the pug', 1),\n",
       " ('collinwood needs coffee!!!', 1),\n",
       " ('pookiecat rune cards - funny oracle cards for all ages', 1),\n",
       " ('monstrocards- a creative drawing game of horrific hilarity', 1),\n",
       " ('\"loreto\"', 1),\n",
       " (\"state of g - men's blazer jacket & women's cardigan\", 1),\n",
       " ('transcaucasia', 1),\n",
       " (\"you're not cis, you just think you are: my enby epiphany\", 1),\n",
       " (\"little saturday's debut album\", 1),\n",
       " ('ways to look at the moon', 1),\n",
       " ('terminal uniqueness', 1),\n",
       " ('superette tea - boldly caffeinated loose leaf tea', 1),\n",
       " ('here is the oasis for the youngest in the world.', 1),\n",
       " ('épouvantails : 28mm figurines de jeux pour kings of war', 1),\n",
       " ('the manual bar blade', 1),\n",
       " ('the chronicles of erinoth - a graphic novel', 1),\n",
       " ('the dog coffee book', 1),\n",
       " ('the cease is increase', 1),\n",
       " ('colorado international activism film festival', 1),\n",
       " ('date seat - boston ios app', 1),\n",
       " ('at the beach', 1),\n",
       " ('beach wrestling documentary', 1),\n",
       " ('islanda', 1),\n",
       " ('homemade fresh dog food, cleveland oh', 1),\n",
       " ('the tribe', 1),\n",
       " ('walls of remedy- new lesbian romantic comedy feature unlike any other!!',\n",
       "  1),\n",
       " ('biodefense education kit', 1),\n",
       " ('nou renmen ayiti!  we love haiti!', 1)]"
      ]
     },
     "execution_count": 340,
     "metadata": {},
     "output_type": "execute_result"
    }
   ],
   "source": [
    "fdist2.most_common()[-240:]"
   ]
  },
  {
   "cell_type": "markdown",
   "metadata": {},
   "source": [
    "# we see most of it is punctuation, so remove all puncutation from all the list of project names in 'onetext'"
   ]
  },
  {
   "cell_type": "code",
   "execution_count": 291,
   "metadata": {},
   "outputs": [],
   "source": [
    "words = nltk.word_tokenize(onetext)\n",
    "\n",
    "words=[word.lower() for word in words if word.isalpha()] # now words is all the words in the names"
   ]
  },
  {
   "cell_type": "code",
   "execution_count": 292,
   "metadata": {},
   "outputs": [
    {
     "data": {
      "text/plain": [
       "['the', 'songs', 'of']"
      ]
     },
     "execution_count": 292,
     "metadata": {},
     "output_type": "execute_result"
    }
   ],
   "source": [
    "words[0:3]"
   ]
  },
  {
   "cell_type": "code",
   "execution_count": 341,
   "metadata": {},
   "outputs": [],
   "source": [
    "fdist3 = nltk.FreqDist(words)"
   ]
  },
  {
   "cell_type": "markdown",
   "metadata": {},
   "source": [
    "# check to see how analyzing a giant string of names as connected words differs from a list of names"
   ]
  },
  {
   "cell_type": "code",
   "execution_count": 351,
   "metadata": {},
   "outputs": [],
   "source": [
    "words_in_names = nltk.word_tokenize(onetext)"
   ]
  },
  {
   "cell_type": "markdown",
   "metadata": {},
   "source": [
    "# now make sure all words in the names are lower case to compare just by word for a dist of words -- not phrases"
   ]
  },
  {
   "cell_type": "code",
   "execution_count": 363,
   "metadata": {},
   "outputs": [],
   "source": [
    "words_in_names_lower = [word.lower() for word in words_in_names]"
   ]
  },
  {
   "cell_type": "code",
   "execution_count": 364,
   "metadata": {},
   "outputs": [],
   "source": [
    "words_in_names_lower_alpha = [word for word in words_in_names_lower if word.isalpha()]"
   ]
  },
  {
   "cell_type": "code",
   "execution_count": 365,
   "metadata": {},
   "outputs": [],
   "source": [
    "check_dist = nltk.FreqDist(words_in_names_lower_alpha)"
   ]
  },
  {
   "cell_type": "markdown",
   "metadata": {},
   "source": [
    "## HERE ARE JUST THE DISTRIBUTIONS OF WORDS IN THE PROJECT NAMES "
   ]
  },
  {
   "cell_type": "code",
   "execution_count": 414,
   "metadata": {},
   "outputs": [
    {
     "data": {
      "text/plain": [
       "[('the', 104909),\n",
       " ('a', 51301),\n",
       " ('of', 37586),\n",
       " ('and', 25597),\n",
       " ('for', 24165),\n",
       " ('canceled', 23149),\n",
       " ('to', 20839),\n",
       " ('in', 17890),\n",
       " ('album', 14033),\n",
       " ('new', 13845),\n",
       " ('film', 11624),\n",
       " ('project', 11615),\n",
       " ('by', 10027),\n",
       " ('book', 9795),\n",
       " ('your', 9497),\n",
       " ('game', 9139),\n",
       " ('with', 8693),\n",
       " ('art', 8057),\n",
       " ('music', 7496),\n",
       " ('on', 7439),\n",
       " ('an', 7334),\n",
       " ('first', 6599),\n",
       " ('help', 6542),\n",
       " ('my', 6539),\n",
       " ('world', 6420),\n",
       " ('you', 6148),\n",
       " ('from', 5605),\n",
       " ('short', 5429),\n",
       " ('debut', 4993),\n",
       " ('life', 4946),\n",
       " ('is', 4725),\n",
       " ('ep', 4696),\n",
       " ('i', 4469),\n",
       " ('series', 4403),\n",
       " ('documentary', 4214),\n",
       " ('video', 4001),\n",
       " ('love', 3976),\n",
       " ('at', 3890),\n",
       " ('it', 3840),\n",
       " ('one', 3809)]"
      ]
     },
     "execution_count": 414,
     "metadata": {},
     "output_type": "execute_result"
    }
   ],
   "source": [
    "check_dist.most_common(40) "
   ]
  },
  {
   "cell_type": "code",
   "execution_count": 367,
   "metadata": {},
   "outputs": [
    {
     "data": {
      "text/plain": [
       "[('phaxanation', 1),\n",
       " ('recliners', 1),\n",
       " ('marmora', 1),\n",
       " ('btcg', 1),\n",
       " ('appcarz', 1),\n",
       " ('theatorium', 1),\n",
       " ('unrb', 1),\n",
       " ('slushengine', 1),\n",
       " ('roboteurs', 1),\n",
       " ('fluxpanel', 1),\n",
       " ('thrombosis', 1),\n",
       " ('clot', 1),\n",
       " ('subpos', 1),\n",
       " ('vendredi', 1),\n",
       " ('onit', 1),\n",
       " ('narcos', 1),\n",
       " ('leneal', 1),\n",
       " ('liberties', 1),\n",
       " ('collinwood', 1),\n",
       " ('loreto', 1),\n",
       " ('transcaucasia', 1),\n",
       " ('cis', 1),\n",
       " ('enby', 1),\n",
       " ('superette', 1),\n",
       " ('épouvantails', 1),\n",
       " ('erinoth', 1),\n",
       " ('islanda', 1),\n",
       " ('chkntruk', 1),\n",
       " ('biodefense', 1),\n",
       " ('ayiti', 1)]"
      ]
     },
     "execution_count": 367,
     "metadata": {},
     "output_type": "execute_result"
    }
   ],
   "source": [
    "check_dist.most_common()[-30:] "
   ]
  },
  {
   "cell_type": "markdown",
   "metadata": {},
   "source": [
    "# see the most common words that appear in all of the project names"
   ]
  },
  {
   "cell_type": "code",
   "execution_count": 368,
   "metadata": {},
   "outputs": [],
   "source": [
    "freq_list = check_dist.most_common(10)"
   ]
  },
  {
   "cell_type": "code",
   "execution_count": 370,
   "metadata": {},
   "outputs": [
    {
     "data": {
      "image/png": "[encoded data removed]",
      "text/plain": [
       "<Figure size 432x288 with 1 Axes>"
      ]
     },
     "metadata": {
      "needs_background": "light"
     },
     "output_type": "display_data"
    }
   ],
   "source": [
    "plt.scatter(*zip(*freq_list))\n",
    "plt.show()"
   ]
  },
  {
   "cell_type": "code",
   "execution_count": 374,
   "metadata": {},
   "outputs": [
    {
     "data": {
      "image/png": "[encoded data removed]",
      "text/plain": [
       "<Figure size 432x288 with 1 Axes>"
      ]
     },
     "metadata": {
      "needs_background": "light"
     },
     "output_type": "display_data"
    }
   ],
   "source": [
    "low_freq_list = check_dist.most_common()[-10:]\n",
    "plt.scatter(*zip(*low_freq_list))\n",
    "plt.show()"
   ]
  },
  {
   "cell_type": "code",
   "execution_count": 383,
   "metadata": {},
   "outputs": [
    {
     "data": {
      "text/plain": [
       "104909"
      ]
     },
     "execution_count": 383,
     "metadata": {},
     "output_type": "execute_result"
    }
   ],
   "source": [
    "check_dist['the']"
   ]
  },
  {
   "cell_type": "code",
   "execution_count": 385,
   "metadata": {},
   "outputs": [
    {
     "data": {
      "text/plain": [
       "565"
      ]
     },
     "execution_count": 385,
     "metadata": {},
     "output_type": "execute_result"
    }
   ],
   "source": [
    "check_dist['happy']"
   ]
  },
  {
   "cell_type": "code",
   "execution_count": 394,
   "metadata": {},
   "outputs": [
    {
     "data": {
      "text/plain": [
       "9"
      ]
     },
     "execution_count": 394,
     "metadata": {},
     "output_type": "execute_result"
    }
   ],
   "source": [
    "check_dist['ucla'] # UCLA APPEARS IN 9 TITLES"
   ]
  },
  {
   "cell_type": "code",
   "execution_count": 400,
   "metadata": {},
   "outputs": [
    {
     "data": {
      "text/plain": [
       "66"
      ]
     },
     "execution_count": 400,
     "metadata": {},
     "output_type": "execute_result"
    }
   ],
   "source": [
    "check_dist['usc'] # usc appears in 66 titles :("
   ]
  },
  {
   "cell_type": "code",
   "execution_count": 410,
   "metadata": {},
   "outputs": [],
   "source": [
    "usc_in_name = []\n",
    "for i in range(len(names_list)):\n",
    "    sent_words = word_tokenize(names_list[i])\n",
    "    sent_words = [w.lower() for w in sent_words]\n",
    "    if \"usc\" in sent_words:\n",
    "        usc_in_name.append(names_list[i])"
   ]
  },
  {
   "cell_type": "markdown",
   "metadata": {},
   "source": [
    "# FIND THE TITLES THAT INCLUDE THE WORD USC AND COMPARE TO TITLES THAT INCLUDE THE WORD UCLA"
   ]
  },
  {
   "cell_type": "code",
   "execution_count": 411,
   "metadata": {},
   "outputs": [
    {
     "data": {
      "text/plain": [
       "['The Process - A USC Thesis Film',\n",
       " 'The History Boys at USC',\n",
       " \"It's Better In Italian - A USC Documentary Thesis\",\n",
       " 'USC Alumnus, Robert Amerson: Making Waves (A Studio Album)',\n",
       " 'Lonely as God - A USC Thesis Film',\n",
       " 'TEN THOUSAND MILES - A USC Thesis Film',\n",
       " 'USC Korean Culture Night 2012',\n",
       " 'Reunion: A USC Thesis Film',\n",
       " 'M for Mediocrity : a USC Student Short Film',\n",
       " 'Pocketful of Posy USC Grad Film',\n",
       " \"I'll Be Seeing You (A USC Student Production)\",\n",
       " 'Mammoth - a USC Thesis Film',\n",
       " 'Francis - A USC Thesis Film',\n",
       " '\"DAD\" - A USC Short Film',\n",
       " 'Faith Need Not Change Her Gown - A USC MFA Thesis Film',\n",
       " 'ROYA - A USC MFA Thesis Film',\n",
       " 'Lark, a USC Short Film',\n",
       " 'CHICAGO The Musical at USC',\n",
       " 'Dante Falls - A USC MFA Thesis Film',\n",
       " 'PROTOTYPE - An Afrofuturist USC Thesis Film',\n",
       " 'Solo exhibitions & Research at UCLA Medical Center & USC',\n",
       " 'The Best and the Loneliest Days, a USC thesis film',\n",
       " 'The Party Dress - A USC Graduate Thesis Film',\n",
       " 'The Three Play Repertory of the USC MFA Class of 2013',\n",
       " 'The Magic Shoes - A USC Thesis Film',\n",
       " \"Nzara '76 - An Alfred P. Sloan and USC Thesis Film\",\n",
       " 'Off Track - a USC thesis film',\n",
       " 'RENT at USC',\n",
       " 'Obscured: a short film by USC Graduate Film Students',\n",
       " 'USC Short Film \"Gerty\"',\n",
       " 'A curse awaits in \"Room 731,\" a USC thesis film',\n",
       " 'In The Box - An Independent USC Short Film',\n",
       " \"JODY'S BRA  a USC thesis film\",\n",
       " 'Elwood Takes a Lover - A USC Thesis Film',\n",
       " 'Avenue Q at USC',\n",
       " 'When Pigs Fly - A USC Thesis Film',\n",
       " \"Occam's Razor - A USC Thesis Film\",\n",
       " 'A Made Man: a USC Student short film',\n",
       " '\"Love and Laundry\"- A USC Short Film',\n",
       " 'Diamond Street - A USC Thesis Film',\n",
       " 'TSUYAKO - A USC Thesis Film',\n",
       " '\"In The Basement\" - A USC Graduate Thesis Film',\n",
       " 'Maruta - A USC Thesis Film Based on True Events',\n",
       " 'USC Student Documentary \"Run to Live\"',\n",
       " '\"Falling\" - A USC Student Film',\n",
       " '\"THOSE KIDS\" - a USC Student Film for Film Festival Circuit!',\n",
       " 'Tentpole - A USC Graduate Film',\n",
       " 'No Comets in the Sky - A USC Thesis Film',\n",
       " '\"BUCKLEY\"-- A USC Produced TV Pilot',\n",
       " 'The Odd Essay - A USC Feature-Length Thesis',\n",
       " 'DUVALL ET AL. - A USC Thesis Film',\n",
       " '\"Vicious\" a USC thesis film',\n",
       " 'Roubado ( A USC Thesis Film )',\n",
       " 'Wyrm - a USC Thesis Film',\n",
       " 'i am not a hipster - a film by future USC film students!',\n",
       " 'Expiration Date – A USC Thesis Film',\n",
       " \"David's Reverie - A Musical Drama (USC Thesis)\",\n",
       " 'Billy in Motion - a USC thesis film',\n",
       " 'Dulce USC Village | Feel Good. Enjoy Slowly. Fight On.',\n",
       " 'Visual Art Meets Music: USC Southern Exposure!',\n",
       " 'Believe a USC Thesis Film (Canceled)',\n",
       " 'Dog Sees God - Presented by USC Upstate',\n",
       " 'Asia A - USC Thesis Film',\n",
       " 'USC Advanced Project: Cyber Drone',\n",
       " \"Scalio's Big Tip : a USC Student Short Film (Grandmothers Included)\",\n",
       " 'Faith Need Not Change Her Gown: A USC MFA Thesis Film']"
      ]
     },
     "execution_count": 411,
     "metadata": {},
     "output_type": "execute_result"
    }
   ],
   "source": [
    "usc_in_name "
   ]
  },
  {
   "cell_type": "code",
   "execution_count": 412,
   "metadata": {},
   "outputs": [],
   "source": [
    "ucla_in_name = []\n",
    "for i in range(len(names_list)):\n",
    "    sent_words = word_tokenize(names_list[i])\n",
    "    sent_words = [w.lower() for w in sent_words]\n",
    "    if \"ucla\" in sent_words:\n",
    "        ucla_in_name.append(names_list[i])"
   ]
  },
  {
   "cell_type": "code",
   "execution_count": 413,
   "metadata": {},
   "outputs": [
    {
     "data": {
      "text/plain": [
       "['C.O.N.C.A. Go to UCLA',\n",
       " 'Solo exhibitions & Research at UCLA Medical Center & USC',\n",
       " '\"A Long Day\"- A UCLA Graduate Thesis Film',\n",
       " 'UCLA Bruin Harmony takes on another album!',\n",
       " 'Shakespeare at UCLA presents Twelfth Night: Or What You Will',\n",
       " 'UCLA Thesis Preview, Berlin Debut!',\n",
       " \"Scottie's UCLA Thesis Production\",\n",
       " 'UCLA RT3DA and VR Games Showcase',\n",
       " 'The Martyr - UCLA 35mm Thesis Film tackling Islamophobia']"
      ]
     },
     "execution_count": 413,
     "metadata": {},
     "output_type": "execute_result"
    }
   ],
   "source": [
    "ucla_in_name"
   ]
  },
  {
   "cell_type": "markdown",
   "metadata": {},
   "source": [
    "# see what the title are that have these least common"
   ]
  },
  {
   "cell_type": "code",
   "execution_count": 314,
   "metadata": {},
   "outputs": [],
   "source": [
    "testList3 = fdist3.most_common()[-20:] # note these all occur just once"
   ]
  },
  {
   "cell_type": "code",
   "execution_count": 315,
   "metadata": {},
   "outputs": [
    {
     "data": {
      "text/plain": [
       "[('thrombosis', 1),\n",
       " ('clot', 1),\n",
       " ('subpos', 1),\n",
       " ('vendredi', 1),\n",
       " ('onit', 1),\n",
       " ('narcos', 1),\n",
       " ('leneal', 1),\n",
       " ('liberties', 1),\n",
       " ('collinwood', 1),\n",
       " ('loreto', 1),\n",
       " ('transcaucasia', 1),\n",
       " ('cis', 1),\n",
       " ('enby', 1),\n",
       " ('superette', 1),\n",
       " ('épouvantails', 1),\n",
       " ('erinoth', 1),\n",
       " ('islanda', 1),\n",
       " ('chkntruk', 1),\n",
       " ('biodefense', 1),\n",
       " ('ayiti', 1)]"
      ]
     },
     "execution_count": 315,
     "metadata": {},
     "output_type": "execute_result"
    }
   ],
   "source": [
    "testList3"
   ]
  },
  {
   "cell_type": "code",
   "execution_count": 313,
   "metadata": {},
   "outputs": [
    {
     "data": {
      "image/png": "[encoded data removed]",
      "text/plain": [
       "<Figure size 432x288 with 1 Axes>"
      ]
     },
     "metadata": {
      "needs_background": "light"
     },
     "output_type": "display_data"
    }
   ],
   "source": [
    "plt.scatter(*zip(*testList3))\n",
    "plt.show()"
   ]
  },
  {
   "cell_type": "markdown",
   "metadata": {},
   "source": [
    "# now do word analysis but remove excesss words with less meaning\n",
    "\n",
    "### now the words we consider are all lowercase, are only alphabetic, and do not have stop words or preposition filler words"
   ]
  },
  {
   "cell_type": "code",
   "execution_count": 416,
   "metadata": {},
   "outputs": [],
   "source": [
    "from stop_words import get_stop_words\n",
    "from nltk.corpus import stopwords\n",
    "\n",
    "stop_words = list(get_stop_words('en'))         #Have around 900 stopwords\n",
    "nltk_words = list(stopwords.words('english'))   #Have around 150 stopwords\n",
    "stop_words.extend(nltk_words)\n",
    "\n",
    "meaningful_words_cleaned = []\n",
    "for words in words_in_names_lower_alpha:\n",
    "    if not words in stop_words:\n",
    "        meaningful_words_cleaned.append(words)"
   ]
  },
  {
   "cell_type": "code",
   "execution_count": 418,
   "metadata": {},
   "outputs": [],
   "source": [
    "meaningful_fdist = nltk.FreqDist(meaningful_words_cleaned)"
   ]
  },
  {
   "cell_type": "code",
   "execution_count": 419,
   "metadata": {},
   "outputs": [
    {
     "data": {
      "text/plain": [
       "[('canceled', 23149),\n",
       " ('album', 14033),\n",
       " ('new', 13845),\n",
       " ('film', 11624),\n",
       " ('project', 11615),\n",
       " ('book', 9795),\n",
       " ('game', 9139),\n",
       " ('art', 8057),\n",
       " ('music', 7496),\n",
       " ('first', 6599),\n",
       " ('help', 6542),\n",
       " ('world', 6420),\n",
       " ('short', 5429),\n",
       " ('debut', 4993),\n",
       " ('life', 4946),\n",
       " ('ep', 4696),\n",
       " ('series', 4403),\n",
       " ('documentary', 4214),\n",
       " ('video', 4001),\n",
       " ('love', 3976),\n",
       " ('one', 3809),\n",
       " ('tour', 3350),\n",
       " ('story', 3328),\n",
       " ('novel', 3293),\n",
       " ('app', 3212),\n",
       " ('make', 3076),\n",
       " ('cd', 2974),\n",
       " ('show', 2826),\n",
       " ('food', 2776),\n",
       " ('cards', 2743)]"
      ]
     },
     "execution_count": 419,
     "metadata": {},
     "output_type": "execute_result"
    }
   ],
   "source": [
    "meaningful_fdist.most_common(30)"
   ]
  },
  {
   "cell_type": "code",
   "execution_count": 421,
   "metadata": {},
   "outputs": [
    {
     "data": {
      "text/plain": [
       "[('phaxanation', 1),\n",
       " ('recliners', 1),\n",
       " ('marmora', 1),\n",
       " ('btcg', 1),\n",
       " ('appcarz', 1),\n",
       " ('theatorium', 1),\n",
       " ('unrb', 1),\n",
       " ('slushengine', 1),\n",
       " ('roboteurs', 1),\n",
       " ('fluxpanel', 1),\n",
       " ('thrombosis', 1),\n",
       " ('clot', 1),\n",
       " ('subpos', 1),\n",
       " ('vendredi', 1),\n",
       " ('onit', 1),\n",
       " ('narcos', 1),\n",
       " ('leneal', 1),\n",
       " ('liberties', 1),\n",
       " ('collinwood', 1),\n",
       " ('loreto', 1),\n",
       " ('transcaucasia', 1),\n",
       " ('cis', 1),\n",
       " ('enby', 1),\n",
       " ('superette', 1),\n",
       " ('épouvantails', 1),\n",
       " ('erinoth', 1),\n",
       " ('islanda', 1),\n",
       " ('chkntruk', 1),\n",
       " ('biodefense', 1),\n",
       " ('ayiti', 1)]"
      ]
     },
     "execution_count": 421,
     "metadata": {},
     "output_type": "execute_result"
    }
   ],
   "source": [
    "meaningful_fdist.most_common()[-30:]"
   ]
  },
  {
   "cell_type": "code",
   "execution_count": null,
   "metadata": {},
   "outputs": [],
   "source": []
  }
 ],
 "metadata": {
  "kernelspec": {
   "display_name": "Python 3",
   "language": "python",
   "name": "python3"
  },
  "language_info": {
   "codemirror_mode": {
    "name": "ipython",
    "version": 3
   },
   "file_extension": ".py",
   "mimetype": "text/x-python",
   "name": "python",
   "nbconvert_exporter": "python",
   "pygments_lexer": "ipython3",
   "version": "3.7.0"
  }
 },
 "nbformat": 4,
 "nbformat_minor": 2
}
